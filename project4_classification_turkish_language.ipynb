{
  "nbformat": 4,
  "nbformat_minor": 0,
  "metadata": {
    "colab": {
      "name": "project4 - classification turkish language.ipynb",
      "provenance": [],
      "toc_visible": true,
      "machine_shape": "hm",
      "mount_file_id": "1JQ5YJk-IX1sn6fiup7Ge20dDY04shNu_",
      "authorship_tag": "ABX9TyNjvdK7gA/mgxUmb5J4gQhs",
      "include_colab_link": true
    },
    "kernelspec": {
      "name": "python3",
      "display_name": "Python 3"
    },
    "language_info": {
      "name": "python"
    },
    "accelerator": "GPU",
    "widgets": {
      "application/vnd.jupyter.widget-state+json": {
        "ad886459895e487d92b286f77b281198": {
          "model_module": "@jupyter-widgets/controls",
          "model_name": "HBoxModel",
          "model_module_version": "1.5.0",
          "state": {
            "_view_name": "HBoxView",
            "_dom_classes": [],
            "_model_name": "HBoxModel",
            "_view_module": "@jupyter-widgets/controls",
            "_model_module_version": "1.5.0",
            "_view_count": null,
            "_view_module_version": "1.5.0",
            "box_style": "",
            "layout": "IPY_MODEL_b219fcba70cc40a9bc252de45b68a89c",
            "_model_module": "@jupyter-widgets/controls",
            "children": [
              "IPY_MODEL_a4388df4fb074cdca15cfbd56a67d7a8",
              "IPY_MODEL_c2a087e6f9d34de0a785c2fa8686227b",
              "IPY_MODEL_a8bcaad471984653a7dcd00a3706ac07"
            ]
          }
        },
        "b219fcba70cc40a9bc252de45b68a89c": {
          "model_module": "@jupyter-widgets/base",
          "model_name": "LayoutModel",
          "model_module_version": "1.2.0",
          "state": {
            "_view_name": "LayoutView",
            "grid_template_rows": null,
            "right": null,
            "justify_content": null,
            "_view_module": "@jupyter-widgets/base",
            "overflow": null,
            "_model_module_version": "1.2.0",
            "_view_count": null,
            "flex_flow": null,
            "width": null,
            "min_width": null,
            "border": null,
            "align_items": null,
            "bottom": null,
            "_model_module": "@jupyter-widgets/base",
            "top": null,
            "grid_column": null,
            "overflow_y": null,
            "overflow_x": null,
            "grid_auto_flow": null,
            "grid_area": null,
            "grid_template_columns": null,
            "flex": null,
            "_model_name": "LayoutModel",
            "justify_items": null,
            "grid_row": null,
            "max_height": null,
            "align_content": null,
            "visibility": null,
            "align_self": null,
            "height": null,
            "min_height": null,
            "padding": null,
            "grid_auto_rows": null,
            "grid_gap": null,
            "max_width": null,
            "order": null,
            "_view_module_version": "1.2.0",
            "grid_template_areas": null,
            "object_position": null,
            "object_fit": null,
            "grid_auto_columns": null,
            "margin": null,
            "display": null,
            "left": null
          }
        },
        "a4388df4fb074cdca15cfbd56a67d7a8": {
          "model_module": "@jupyter-widgets/controls",
          "model_name": "HTMLModel",
          "model_module_version": "1.5.0",
          "state": {
            "_view_name": "HTMLView",
            "style": "IPY_MODEL_923bef1c91ff4e4e9476f1a48a3d075c",
            "_dom_classes": [],
            "description": "",
            "_model_name": "HTMLModel",
            "placeholder": "​",
            "_view_module": "@jupyter-widgets/controls",
            "_model_module_version": "1.5.0",
            "value": "Downloading: 100%",
            "_view_count": null,
            "_view_module_version": "1.5.0",
            "description_tooltip": null,
            "_model_module": "@jupyter-widgets/controls",
            "layout": "IPY_MODEL_d5e69f2a8e0545d7b5b2c2f9d463c570"
          }
        },
        "c2a087e6f9d34de0a785c2fa8686227b": {
          "model_module": "@jupyter-widgets/controls",
          "model_name": "FloatProgressModel",
          "model_module_version": "1.5.0",
          "state": {
            "_view_name": "ProgressView",
            "style": "IPY_MODEL_6206c78339be4cd699f2a76478e67359",
            "_dom_classes": [],
            "description": "",
            "_model_name": "FloatProgressModel",
            "bar_style": "success",
            "max": 385,
            "_view_module": "@jupyter-widgets/controls",
            "_model_module_version": "1.5.0",
            "value": 385,
            "_view_count": null,
            "_view_module_version": "1.5.0",
            "orientation": "horizontal",
            "min": 0,
            "description_tooltip": null,
            "_model_module": "@jupyter-widgets/controls",
            "layout": "IPY_MODEL_0040fac355be4b45a59e511eea64bce8"
          }
        },
        "a8bcaad471984653a7dcd00a3706ac07": {
          "model_module": "@jupyter-widgets/controls",
          "model_name": "HTMLModel",
          "model_module_version": "1.5.0",
          "state": {
            "_view_name": "HTMLView",
            "style": "IPY_MODEL_0858235d450d4debb1c9511674ed70b9",
            "_dom_classes": [],
            "description": "",
            "_model_name": "HTMLModel",
            "placeholder": "​",
            "_view_module": "@jupyter-widgets/controls",
            "_model_module_version": "1.5.0",
            "value": " 385/385 [00:00&lt;00:00, 15.0kB/s]",
            "_view_count": null,
            "_view_module_version": "1.5.0",
            "description_tooltip": null,
            "_model_module": "@jupyter-widgets/controls",
            "layout": "IPY_MODEL_6533d7ec668044bd911e0b8c867c7458"
          }
        },
        "923bef1c91ff4e4e9476f1a48a3d075c": {
          "model_module": "@jupyter-widgets/controls",
          "model_name": "DescriptionStyleModel",
          "model_module_version": "1.5.0",
          "state": {
            "_view_name": "StyleView",
            "_model_name": "DescriptionStyleModel",
            "description_width": "",
            "_view_module": "@jupyter-widgets/base",
            "_model_module_version": "1.5.0",
            "_view_count": null,
            "_view_module_version": "1.2.0",
            "_model_module": "@jupyter-widgets/controls"
          }
        },
        "d5e69f2a8e0545d7b5b2c2f9d463c570": {
          "model_module": "@jupyter-widgets/base",
          "model_name": "LayoutModel",
          "model_module_version": "1.2.0",
          "state": {
            "_view_name": "LayoutView",
            "grid_template_rows": null,
            "right": null,
            "justify_content": null,
            "_view_module": "@jupyter-widgets/base",
            "overflow": null,
            "_model_module_version": "1.2.0",
            "_view_count": null,
            "flex_flow": null,
            "width": null,
            "min_width": null,
            "border": null,
            "align_items": null,
            "bottom": null,
            "_model_module": "@jupyter-widgets/base",
            "top": null,
            "grid_column": null,
            "overflow_y": null,
            "overflow_x": null,
            "grid_auto_flow": null,
            "grid_area": null,
            "grid_template_columns": null,
            "flex": null,
            "_model_name": "LayoutModel",
            "justify_items": null,
            "grid_row": null,
            "max_height": null,
            "align_content": null,
            "visibility": null,
            "align_self": null,
            "height": null,
            "min_height": null,
            "padding": null,
            "grid_auto_rows": null,
            "grid_gap": null,
            "max_width": null,
            "order": null,
            "_view_module_version": "1.2.0",
            "grid_template_areas": null,
            "object_position": null,
            "object_fit": null,
            "grid_auto_columns": null,
            "margin": null,
            "display": null,
            "left": null
          }
        },
        "6206c78339be4cd699f2a76478e67359": {
          "model_module": "@jupyter-widgets/controls",
          "model_name": "ProgressStyleModel",
          "model_module_version": "1.5.0",
          "state": {
            "_view_name": "StyleView",
            "_model_name": "ProgressStyleModel",
            "description_width": "",
            "_view_module": "@jupyter-widgets/base",
            "_model_module_version": "1.5.0",
            "_view_count": null,
            "_view_module_version": "1.2.0",
            "bar_color": null,
            "_model_module": "@jupyter-widgets/controls"
          }
        },
        "0040fac355be4b45a59e511eea64bce8": {
          "model_module": "@jupyter-widgets/base",
          "model_name": "LayoutModel",
          "model_module_version": "1.2.0",
          "state": {
            "_view_name": "LayoutView",
            "grid_template_rows": null,
            "right": null,
            "justify_content": null,
            "_view_module": "@jupyter-widgets/base",
            "overflow": null,
            "_model_module_version": "1.2.0",
            "_view_count": null,
            "flex_flow": null,
            "width": null,
            "min_width": null,
            "border": null,
            "align_items": null,
            "bottom": null,
            "_model_module": "@jupyter-widgets/base",
            "top": null,
            "grid_column": null,
            "overflow_y": null,
            "overflow_x": null,
            "grid_auto_flow": null,
            "grid_area": null,
            "grid_template_columns": null,
            "flex": null,
            "_model_name": "LayoutModel",
            "justify_items": null,
            "grid_row": null,
            "max_height": null,
            "align_content": null,
            "visibility": null,
            "align_self": null,
            "height": null,
            "min_height": null,
            "padding": null,
            "grid_auto_rows": null,
            "grid_gap": null,
            "max_width": null,
            "order": null,
            "_view_module_version": "1.2.0",
            "grid_template_areas": null,
            "object_position": null,
            "object_fit": null,
            "grid_auto_columns": null,
            "margin": null,
            "display": null,
            "left": null
          }
        },
        "0858235d450d4debb1c9511674ed70b9": {
          "model_module": "@jupyter-widgets/controls",
          "model_name": "DescriptionStyleModel",
          "model_module_version": "1.5.0",
          "state": {
            "_view_name": "StyleView",
            "_model_name": "DescriptionStyleModel",
            "description_width": "",
            "_view_module": "@jupyter-widgets/base",
            "_model_module_version": "1.5.0",
            "_view_count": null,
            "_view_module_version": "1.2.0",
            "_model_module": "@jupyter-widgets/controls"
          }
        },
        "6533d7ec668044bd911e0b8c867c7458": {
          "model_module": "@jupyter-widgets/base",
          "model_name": "LayoutModel",
          "model_module_version": "1.2.0",
          "state": {
            "_view_name": "LayoutView",
            "grid_template_rows": null,
            "right": null,
            "justify_content": null,
            "_view_module": "@jupyter-widgets/base",
            "overflow": null,
            "_model_module_version": "1.2.0",
            "_view_count": null,
            "flex_flow": null,
            "width": null,
            "min_width": null,
            "border": null,
            "align_items": null,
            "bottom": null,
            "_model_module": "@jupyter-widgets/base",
            "top": null,
            "grid_column": null,
            "overflow_y": null,
            "overflow_x": null,
            "grid_auto_flow": null,
            "grid_area": null,
            "grid_template_columns": null,
            "flex": null,
            "_model_name": "LayoutModel",
            "justify_items": null,
            "grid_row": null,
            "max_height": null,
            "align_content": null,
            "visibility": null,
            "align_self": null,
            "height": null,
            "min_height": null,
            "padding": null,
            "grid_auto_rows": null,
            "grid_gap": null,
            "max_width": null,
            "order": null,
            "_view_module_version": "1.2.0",
            "grid_template_areas": null,
            "object_position": null,
            "object_fit": null,
            "grid_auto_columns": null,
            "margin": null,
            "display": null,
            "left": null
          }
        },
        "ef0e20c2af6a444d8cbb64db3bcc3bb0": {
          "model_module": "@jupyter-widgets/controls",
          "model_name": "HBoxModel",
          "model_module_version": "1.5.0",
          "state": {
            "_view_name": "HBoxView",
            "_dom_classes": [],
            "_model_name": "HBoxModel",
            "_view_module": "@jupyter-widgets/controls",
            "_model_module_version": "1.5.0",
            "_view_count": null,
            "_view_module_version": "1.5.0",
            "box_style": "",
            "layout": "IPY_MODEL_df25beb4af554be7af7440a5b1da31bc",
            "_model_module": "@jupyter-widgets/controls",
            "children": [
              "IPY_MODEL_4fcc2931e1b2467085140257dfdb0840",
              "IPY_MODEL_428eb5aab45e45b8afb823cc137b8e63",
              "IPY_MODEL_97f9f72bbeaa41eeb0e6181a69f26f0e"
            ]
          }
        },
        "df25beb4af554be7af7440a5b1da31bc": {
          "model_module": "@jupyter-widgets/base",
          "model_name": "LayoutModel",
          "model_module_version": "1.2.0",
          "state": {
            "_view_name": "LayoutView",
            "grid_template_rows": null,
            "right": null,
            "justify_content": null,
            "_view_module": "@jupyter-widgets/base",
            "overflow": null,
            "_model_module_version": "1.2.0",
            "_view_count": null,
            "flex_flow": null,
            "width": null,
            "min_width": null,
            "border": null,
            "align_items": null,
            "bottom": null,
            "_model_module": "@jupyter-widgets/base",
            "top": null,
            "grid_column": null,
            "overflow_y": null,
            "overflow_x": null,
            "grid_auto_flow": null,
            "grid_area": null,
            "grid_template_columns": null,
            "flex": null,
            "_model_name": "LayoutModel",
            "justify_items": null,
            "grid_row": null,
            "max_height": null,
            "align_content": null,
            "visibility": null,
            "align_self": null,
            "height": null,
            "min_height": null,
            "padding": null,
            "grid_auto_rows": null,
            "grid_gap": null,
            "max_width": null,
            "order": null,
            "_view_module_version": "1.2.0",
            "grid_template_areas": null,
            "object_position": null,
            "object_fit": null,
            "grid_auto_columns": null,
            "margin": null,
            "display": null,
            "left": null
          }
        },
        "4fcc2931e1b2467085140257dfdb0840": {
          "model_module": "@jupyter-widgets/controls",
          "model_name": "HTMLModel",
          "model_module_version": "1.5.0",
          "state": {
            "_view_name": "HTMLView",
            "style": "IPY_MODEL_f40004c25ec84d90a096dad0933b5134",
            "_dom_classes": [],
            "description": "",
            "_model_name": "HTMLModel",
            "placeholder": "​",
            "_view_module": "@jupyter-widgets/controls",
            "_model_module_version": "1.5.0",
            "value": "Downloading: 100%",
            "_view_count": null,
            "_view_module_version": "1.5.0",
            "description_tooltip": null,
            "_model_module": "@jupyter-widgets/controls",
            "layout": "IPY_MODEL_1ccd649a68a34d208ae0e8897c3e4089"
          }
        },
        "428eb5aab45e45b8afb823cc137b8e63": {
          "model_module": "@jupyter-widgets/controls",
          "model_name": "FloatProgressModel",
          "model_module_version": "1.5.0",
          "state": {
            "_view_name": "ProgressView",
            "style": "IPY_MODEL_8a6808b609db42bc87b6da63b9f29366",
            "_dom_classes": [],
            "description": "",
            "_model_name": "FloatProgressModel",
            "bar_style": "success",
            "max": 445018749,
            "_view_module": "@jupyter-widgets/controls",
            "_model_module_version": "1.5.0",
            "value": 445018749,
            "_view_count": null,
            "_view_module_version": "1.5.0",
            "orientation": "horizontal",
            "min": 0,
            "description_tooltip": null,
            "_model_module": "@jupyter-widgets/controls",
            "layout": "IPY_MODEL_9814cc1cbeb74dd9a5983a4a43bf2174"
          }
        },
        "97f9f72bbeaa41eeb0e6181a69f26f0e": {
          "model_module": "@jupyter-widgets/controls",
          "model_name": "HTMLModel",
          "model_module_version": "1.5.0",
          "state": {
            "_view_name": "HTMLView",
            "style": "IPY_MODEL_88a2b0f3565c4a61887a82971a94c0d3",
            "_dom_classes": [],
            "description": "",
            "_model_name": "HTMLModel",
            "placeholder": "​",
            "_view_module": "@jupyter-widgets/controls",
            "_model_module_version": "1.5.0",
            "value": " 445M/445M [00:15&lt;00:00, 35.1MB/s]",
            "_view_count": null,
            "_view_module_version": "1.5.0",
            "description_tooltip": null,
            "_model_module": "@jupyter-widgets/controls",
            "layout": "IPY_MODEL_9c93878becd44f7294718b19f5f70f95"
          }
        },
        "f40004c25ec84d90a096dad0933b5134": {
          "model_module": "@jupyter-widgets/controls",
          "model_name": "DescriptionStyleModel",
          "model_module_version": "1.5.0",
          "state": {
            "_view_name": "StyleView",
            "_model_name": "DescriptionStyleModel",
            "description_width": "",
            "_view_module": "@jupyter-widgets/base",
            "_model_module_version": "1.5.0",
            "_view_count": null,
            "_view_module_version": "1.2.0",
            "_model_module": "@jupyter-widgets/controls"
          }
        },
        "1ccd649a68a34d208ae0e8897c3e4089": {
          "model_module": "@jupyter-widgets/base",
          "model_name": "LayoutModel",
          "model_module_version": "1.2.0",
          "state": {
            "_view_name": "LayoutView",
            "grid_template_rows": null,
            "right": null,
            "justify_content": null,
            "_view_module": "@jupyter-widgets/base",
            "overflow": null,
            "_model_module_version": "1.2.0",
            "_view_count": null,
            "flex_flow": null,
            "width": null,
            "min_width": null,
            "border": null,
            "align_items": null,
            "bottom": null,
            "_model_module": "@jupyter-widgets/base",
            "top": null,
            "grid_column": null,
            "overflow_y": null,
            "overflow_x": null,
            "grid_auto_flow": null,
            "grid_area": null,
            "grid_template_columns": null,
            "flex": null,
            "_model_name": "LayoutModel",
            "justify_items": null,
            "grid_row": null,
            "max_height": null,
            "align_content": null,
            "visibility": null,
            "align_self": null,
            "height": null,
            "min_height": null,
            "padding": null,
            "grid_auto_rows": null,
            "grid_gap": null,
            "max_width": null,
            "order": null,
            "_view_module_version": "1.2.0",
            "grid_template_areas": null,
            "object_position": null,
            "object_fit": null,
            "grid_auto_columns": null,
            "margin": null,
            "display": null,
            "left": null
          }
        },
        "8a6808b609db42bc87b6da63b9f29366": {
          "model_module": "@jupyter-widgets/controls",
          "model_name": "ProgressStyleModel",
          "model_module_version": "1.5.0",
          "state": {
            "_view_name": "StyleView",
            "_model_name": "ProgressStyleModel",
            "description_width": "",
            "_view_module": "@jupyter-widgets/base",
            "_model_module_version": "1.5.0",
            "_view_count": null,
            "_view_module_version": "1.2.0",
            "bar_color": null,
            "_model_module": "@jupyter-widgets/controls"
          }
        },
        "9814cc1cbeb74dd9a5983a4a43bf2174": {
          "model_module": "@jupyter-widgets/base",
          "model_name": "LayoutModel",
          "model_module_version": "1.2.0",
          "state": {
            "_view_name": "LayoutView",
            "grid_template_rows": null,
            "right": null,
            "justify_content": null,
            "_view_module": "@jupyter-widgets/base",
            "overflow": null,
            "_model_module_version": "1.2.0",
            "_view_count": null,
            "flex_flow": null,
            "width": null,
            "min_width": null,
            "border": null,
            "align_items": null,
            "bottom": null,
            "_model_module": "@jupyter-widgets/base",
            "top": null,
            "grid_column": null,
            "overflow_y": null,
            "overflow_x": null,
            "grid_auto_flow": null,
            "grid_area": null,
            "grid_template_columns": null,
            "flex": null,
            "_model_name": "LayoutModel",
            "justify_items": null,
            "grid_row": null,
            "max_height": null,
            "align_content": null,
            "visibility": null,
            "align_self": null,
            "height": null,
            "min_height": null,
            "padding": null,
            "grid_auto_rows": null,
            "grid_gap": null,
            "max_width": null,
            "order": null,
            "_view_module_version": "1.2.0",
            "grid_template_areas": null,
            "object_position": null,
            "object_fit": null,
            "grid_auto_columns": null,
            "margin": null,
            "display": null,
            "left": null
          }
        },
        "88a2b0f3565c4a61887a82971a94c0d3": {
          "model_module": "@jupyter-widgets/controls",
          "model_name": "DescriptionStyleModel",
          "model_module_version": "1.5.0",
          "state": {
            "_view_name": "StyleView",
            "_model_name": "DescriptionStyleModel",
            "description_width": "",
            "_view_module": "@jupyter-widgets/base",
            "_model_module_version": "1.5.0",
            "_view_count": null,
            "_view_module_version": "1.2.0",
            "_model_module": "@jupyter-widgets/controls"
          }
        },
        "9c93878becd44f7294718b19f5f70f95": {
          "model_module": "@jupyter-widgets/base",
          "model_name": "LayoutModel",
          "model_module_version": "1.2.0",
          "state": {
            "_view_name": "LayoutView",
            "grid_template_rows": null,
            "right": null,
            "justify_content": null,
            "_view_module": "@jupyter-widgets/base",
            "overflow": null,
            "_model_module_version": "1.2.0",
            "_view_count": null,
            "flex_flow": null,
            "width": null,
            "min_width": null,
            "border": null,
            "align_items": null,
            "bottom": null,
            "_model_module": "@jupyter-widgets/base",
            "top": null,
            "grid_column": null,
            "overflow_y": null,
            "overflow_x": null,
            "grid_auto_flow": null,
            "grid_area": null,
            "grid_template_columns": null,
            "flex": null,
            "_model_name": "LayoutModel",
            "justify_items": null,
            "grid_row": null,
            "max_height": null,
            "align_content": null,
            "visibility": null,
            "align_self": null,
            "height": null,
            "min_height": null,
            "padding": null,
            "grid_auto_rows": null,
            "grid_gap": null,
            "max_width": null,
            "order": null,
            "_view_module_version": "1.2.0",
            "grid_template_areas": null,
            "object_position": null,
            "object_fit": null,
            "grid_auto_columns": null,
            "margin": null,
            "display": null,
            "left": null
          }
        },
        "dde7dc418d844c37984cd4624abf12d4": {
          "model_module": "@jupyter-widgets/controls",
          "model_name": "HBoxModel",
          "model_module_version": "1.5.0",
          "state": {
            "_view_name": "HBoxView",
            "_dom_classes": [],
            "_model_name": "HBoxModel",
            "_view_module": "@jupyter-widgets/controls",
            "_model_module_version": "1.5.0",
            "_view_count": null,
            "_view_module_version": "1.5.0",
            "box_style": "",
            "layout": "IPY_MODEL_edc3a40dfd854dbf8957a71c2e29c6a5",
            "_model_module": "@jupyter-widgets/controls",
            "children": [
              "IPY_MODEL_57702afb88f84aae857325c108ebd672",
              "IPY_MODEL_0e16b3a77ac34a41b1a23034c43b1259",
              "IPY_MODEL_1b18cdcd27a94511a71f2bd2e6a5745b"
            ]
          }
        },
        "edc3a40dfd854dbf8957a71c2e29c6a5": {
          "model_module": "@jupyter-widgets/base",
          "model_name": "LayoutModel",
          "model_module_version": "1.2.0",
          "state": {
            "_view_name": "LayoutView",
            "grid_template_rows": null,
            "right": null,
            "justify_content": null,
            "_view_module": "@jupyter-widgets/base",
            "overflow": null,
            "_model_module_version": "1.2.0",
            "_view_count": null,
            "flex_flow": null,
            "width": null,
            "min_width": null,
            "border": null,
            "align_items": null,
            "bottom": null,
            "_model_module": "@jupyter-widgets/base",
            "top": null,
            "grid_column": null,
            "overflow_y": null,
            "overflow_x": null,
            "grid_auto_flow": null,
            "grid_area": null,
            "grid_template_columns": null,
            "flex": null,
            "_model_name": "LayoutModel",
            "justify_items": null,
            "grid_row": null,
            "max_height": null,
            "align_content": null,
            "visibility": null,
            "align_self": null,
            "height": null,
            "min_height": null,
            "padding": null,
            "grid_auto_rows": null,
            "grid_gap": null,
            "max_width": null,
            "order": null,
            "_view_module_version": "1.2.0",
            "grid_template_areas": null,
            "object_position": null,
            "object_fit": null,
            "grid_auto_columns": null,
            "margin": null,
            "display": null,
            "left": null
          }
        },
        "57702afb88f84aae857325c108ebd672": {
          "model_module": "@jupyter-widgets/controls",
          "model_name": "HTMLModel",
          "model_module_version": "1.5.0",
          "state": {
            "_view_name": "HTMLView",
            "style": "IPY_MODEL_884da55aabc644cfae42956901ac91de",
            "_dom_classes": [],
            "description": "",
            "_model_name": "HTMLModel",
            "placeholder": "​",
            "_view_module": "@jupyter-widgets/controls",
            "_model_module_version": "1.5.0",
            "value": "Downloading: 100%",
            "_view_count": null,
            "_view_module_version": "1.5.0",
            "description_tooltip": null,
            "_model_module": "@jupyter-widgets/controls",
            "layout": "IPY_MODEL_a9118dfd87674479b22e145da69901b7"
          }
        },
        "0e16b3a77ac34a41b1a23034c43b1259": {
          "model_module": "@jupyter-widgets/controls",
          "model_name": "FloatProgressModel",
          "model_module_version": "1.5.0",
          "state": {
            "_view_name": "ProgressView",
            "style": "IPY_MODEL_c0fa59435c7d4a76844ddb75d911b9b7",
            "_dom_classes": [],
            "description": "",
            "_model_name": "FloatProgressModel",
            "bar_style": "success",
            "max": 262620,
            "_view_module": "@jupyter-widgets/controls",
            "_model_module_version": "1.5.0",
            "value": 262620,
            "_view_count": null,
            "_view_module_version": "1.5.0",
            "orientation": "horizontal",
            "min": 0,
            "description_tooltip": null,
            "_model_module": "@jupyter-widgets/controls",
            "layout": "IPY_MODEL_5d7aca4ef08844a3b59b3266645cf984"
          }
        },
        "1b18cdcd27a94511a71f2bd2e6a5745b": {
          "model_module": "@jupyter-widgets/controls",
          "model_name": "HTMLModel",
          "model_module_version": "1.5.0",
          "state": {
            "_view_name": "HTMLView",
            "style": "IPY_MODEL_4d1b0e3149a6419a87b7de5b1b0fc761",
            "_dom_classes": [],
            "description": "",
            "_model_name": "HTMLModel",
            "placeholder": "​",
            "_view_module": "@jupyter-widgets/controls",
            "_model_module_version": "1.5.0",
            "value": " 263k/263k [00:00&lt;00:00, 880kB/s]",
            "_view_count": null,
            "_view_module_version": "1.5.0",
            "description_tooltip": null,
            "_model_module": "@jupyter-widgets/controls",
            "layout": "IPY_MODEL_bd03f8095f084bfd8a8cecbadf253a94"
          }
        },
        "884da55aabc644cfae42956901ac91de": {
          "model_module": "@jupyter-widgets/controls",
          "model_name": "DescriptionStyleModel",
          "model_module_version": "1.5.0",
          "state": {
            "_view_name": "StyleView",
            "_model_name": "DescriptionStyleModel",
            "description_width": "",
            "_view_module": "@jupyter-widgets/base",
            "_model_module_version": "1.5.0",
            "_view_count": null,
            "_view_module_version": "1.2.0",
            "_model_module": "@jupyter-widgets/controls"
          }
        },
        "a9118dfd87674479b22e145da69901b7": {
          "model_module": "@jupyter-widgets/base",
          "model_name": "LayoutModel",
          "model_module_version": "1.2.0",
          "state": {
            "_view_name": "LayoutView",
            "grid_template_rows": null,
            "right": null,
            "justify_content": null,
            "_view_module": "@jupyter-widgets/base",
            "overflow": null,
            "_model_module_version": "1.2.0",
            "_view_count": null,
            "flex_flow": null,
            "width": null,
            "min_width": null,
            "border": null,
            "align_items": null,
            "bottom": null,
            "_model_module": "@jupyter-widgets/base",
            "top": null,
            "grid_column": null,
            "overflow_y": null,
            "overflow_x": null,
            "grid_auto_flow": null,
            "grid_area": null,
            "grid_template_columns": null,
            "flex": null,
            "_model_name": "LayoutModel",
            "justify_items": null,
            "grid_row": null,
            "max_height": null,
            "align_content": null,
            "visibility": null,
            "align_self": null,
            "height": null,
            "min_height": null,
            "padding": null,
            "grid_auto_rows": null,
            "grid_gap": null,
            "max_width": null,
            "order": null,
            "_view_module_version": "1.2.0",
            "grid_template_areas": null,
            "object_position": null,
            "object_fit": null,
            "grid_auto_columns": null,
            "margin": null,
            "display": null,
            "left": null
          }
        },
        "c0fa59435c7d4a76844ddb75d911b9b7": {
          "model_module": "@jupyter-widgets/controls",
          "model_name": "ProgressStyleModel",
          "model_module_version": "1.5.0",
          "state": {
            "_view_name": "StyleView",
            "_model_name": "ProgressStyleModel",
            "description_width": "",
            "_view_module": "@jupyter-widgets/base",
            "_model_module_version": "1.5.0",
            "_view_count": null,
            "_view_module_version": "1.2.0",
            "bar_color": null,
            "_model_module": "@jupyter-widgets/controls"
          }
        },
        "5d7aca4ef08844a3b59b3266645cf984": {
          "model_module": "@jupyter-widgets/base",
          "model_name": "LayoutModel",
          "model_module_version": "1.2.0",
          "state": {
            "_view_name": "LayoutView",
            "grid_template_rows": null,
            "right": null,
            "justify_content": null,
            "_view_module": "@jupyter-widgets/base",
            "overflow": null,
            "_model_module_version": "1.2.0",
            "_view_count": null,
            "flex_flow": null,
            "width": null,
            "min_width": null,
            "border": null,
            "align_items": null,
            "bottom": null,
            "_model_module": "@jupyter-widgets/base",
            "top": null,
            "grid_column": null,
            "overflow_y": null,
            "overflow_x": null,
            "grid_auto_flow": null,
            "grid_area": null,
            "grid_template_columns": null,
            "flex": null,
            "_model_name": "LayoutModel",
            "justify_items": null,
            "grid_row": null,
            "max_height": null,
            "align_content": null,
            "visibility": null,
            "align_self": null,
            "height": null,
            "min_height": null,
            "padding": null,
            "grid_auto_rows": null,
            "grid_gap": null,
            "max_width": null,
            "order": null,
            "_view_module_version": "1.2.0",
            "grid_template_areas": null,
            "object_position": null,
            "object_fit": null,
            "grid_auto_columns": null,
            "margin": null,
            "display": null,
            "left": null
          }
        },
        "4d1b0e3149a6419a87b7de5b1b0fc761": {
          "model_module": "@jupyter-widgets/controls",
          "model_name": "DescriptionStyleModel",
          "model_module_version": "1.5.0",
          "state": {
            "_view_name": "StyleView",
            "_model_name": "DescriptionStyleModel",
            "description_width": "",
            "_view_module": "@jupyter-widgets/base",
            "_model_module_version": "1.5.0",
            "_view_count": null,
            "_view_module_version": "1.2.0",
            "_model_module": "@jupyter-widgets/controls"
          }
        },
        "bd03f8095f084bfd8a8cecbadf253a94": {
          "model_module": "@jupyter-widgets/base",
          "model_name": "LayoutModel",
          "model_module_version": "1.2.0",
          "state": {
            "_view_name": "LayoutView",
            "grid_template_rows": null,
            "right": null,
            "justify_content": null,
            "_view_module": "@jupyter-widgets/base",
            "overflow": null,
            "_model_module_version": "1.2.0",
            "_view_count": null,
            "flex_flow": null,
            "width": null,
            "min_width": null,
            "border": null,
            "align_items": null,
            "bottom": null,
            "_model_module": "@jupyter-widgets/base",
            "top": null,
            "grid_column": null,
            "overflow_y": null,
            "overflow_x": null,
            "grid_auto_flow": null,
            "grid_area": null,
            "grid_template_columns": null,
            "flex": null,
            "_model_name": "LayoutModel",
            "justify_items": null,
            "grid_row": null,
            "max_height": null,
            "align_content": null,
            "visibility": null,
            "align_self": null,
            "height": null,
            "min_height": null,
            "padding": null,
            "grid_auto_rows": null,
            "grid_gap": null,
            "max_width": null,
            "order": null,
            "_view_module_version": "1.2.0",
            "grid_template_areas": null,
            "object_position": null,
            "object_fit": null,
            "grid_auto_columns": null,
            "margin": null,
            "display": null,
            "left": null
          }
        },
        "b5d304407b1a47c8a099410382549c94": {
          "model_module": "@jupyter-widgets/controls",
          "model_name": "HBoxModel",
          "model_module_version": "1.5.0",
          "state": {
            "_view_name": "HBoxView",
            "_dom_classes": [],
            "_model_name": "HBoxModel",
            "_view_module": "@jupyter-widgets/controls",
            "_model_module_version": "1.5.0",
            "_view_count": null,
            "_view_module_version": "1.5.0",
            "box_style": "",
            "layout": "IPY_MODEL_d911012b90694df6a49133ec8f41ed0d",
            "_model_module": "@jupyter-widgets/controls",
            "children": [
              "IPY_MODEL_4d7a277022dd464bb954c71474f97b11",
              "IPY_MODEL_fd61b306de144553944a7fcffdd943eb",
              "IPY_MODEL_6693577f4bf04be9a7f58a1406a93364"
            ]
          }
        },
        "d911012b90694df6a49133ec8f41ed0d": {
          "model_module": "@jupyter-widgets/base",
          "model_name": "LayoutModel",
          "model_module_version": "1.2.0",
          "state": {
            "_view_name": "LayoutView",
            "grid_template_rows": null,
            "right": null,
            "justify_content": null,
            "_view_module": "@jupyter-widgets/base",
            "overflow": null,
            "_model_module_version": "1.2.0",
            "_view_count": null,
            "flex_flow": null,
            "width": null,
            "min_width": null,
            "border": null,
            "align_items": null,
            "bottom": null,
            "_model_module": "@jupyter-widgets/base",
            "top": null,
            "grid_column": null,
            "overflow_y": null,
            "overflow_x": null,
            "grid_auto_flow": null,
            "grid_area": null,
            "grid_template_columns": null,
            "flex": null,
            "_model_name": "LayoutModel",
            "justify_items": null,
            "grid_row": null,
            "max_height": null,
            "align_content": null,
            "visibility": null,
            "align_self": null,
            "height": null,
            "min_height": null,
            "padding": null,
            "grid_auto_rows": null,
            "grid_gap": null,
            "max_width": null,
            "order": null,
            "_view_module_version": "1.2.0",
            "grid_template_areas": null,
            "object_position": null,
            "object_fit": null,
            "grid_auto_columns": null,
            "margin": null,
            "display": null,
            "left": null
          }
        },
        "4d7a277022dd464bb954c71474f97b11": {
          "model_module": "@jupyter-widgets/controls",
          "model_name": "HTMLModel",
          "model_module_version": "1.5.0",
          "state": {
            "_view_name": "HTMLView",
            "style": "IPY_MODEL_12aad23672ef4bb2917689fd45531490",
            "_dom_classes": [],
            "description": "",
            "_model_name": "HTMLModel",
            "placeholder": "​",
            "_view_module": "@jupyter-widgets/controls",
            "_model_module_version": "1.5.0",
            "value": "Downloading: 100%",
            "_view_count": null,
            "_view_module_version": "1.5.0",
            "description_tooltip": null,
            "_model_module": "@jupyter-widgets/controls",
            "layout": "IPY_MODEL_8bdebe4122a14d59b58cc6ce9d41bbd4"
          }
        },
        "fd61b306de144553944a7fcffdd943eb": {
          "model_module": "@jupyter-widgets/controls",
          "model_name": "FloatProgressModel",
          "model_module_version": "1.5.0",
          "state": {
            "_view_name": "ProgressView",
            "style": "IPY_MODEL_7b6b6a5b1e19490d9ca89677abd97e9e",
            "_dom_classes": [],
            "description": "",
            "_model_name": "FloatProgressModel",
            "bar_style": "success",
            "max": 59,
            "_view_module": "@jupyter-widgets/controls",
            "_model_module_version": "1.5.0",
            "value": 59,
            "_view_count": null,
            "_view_module_version": "1.5.0",
            "orientation": "horizontal",
            "min": 0,
            "description_tooltip": null,
            "_model_module": "@jupyter-widgets/controls",
            "layout": "IPY_MODEL_097a95c498d84b86a24ee5f00327808d"
          }
        },
        "6693577f4bf04be9a7f58a1406a93364": {
          "model_module": "@jupyter-widgets/controls",
          "model_name": "HTMLModel",
          "model_module_version": "1.5.0",
          "state": {
            "_view_name": "HTMLView",
            "style": "IPY_MODEL_95df894f591848bba51bc302c2d5900a",
            "_dom_classes": [],
            "description": "",
            "_model_name": "HTMLModel",
            "placeholder": "​",
            "_view_module": "@jupyter-widgets/controls",
            "_model_module_version": "1.5.0",
            "value": " 59.0/59.0 [00:00&lt;00:00, 2.59kB/s]",
            "_view_count": null,
            "_view_module_version": "1.5.0",
            "description_tooltip": null,
            "_model_module": "@jupyter-widgets/controls",
            "layout": "IPY_MODEL_f194487c34ab4ffeb57de799c2e4abb6"
          }
        },
        "12aad23672ef4bb2917689fd45531490": {
          "model_module": "@jupyter-widgets/controls",
          "model_name": "DescriptionStyleModel",
          "model_module_version": "1.5.0",
          "state": {
            "_view_name": "StyleView",
            "_model_name": "DescriptionStyleModel",
            "description_width": "",
            "_view_module": "@jupyter-widgets/base",
            "_model_module_version": "1.5.0",
            "_view_count": null,
            "_view_module_version": "1.2.0",
            "_model_module": "@jupyter-widgets/controls"
          }
        },
        "8bdebe4122a14d59b58cc6ce9d41bbd4": {
          "model_module": "@jupyter-widgets/base",
          "model_name": "LayoutModel",
          "model_module_version": "1.2.0",
          "state": {
            "_view_name": "LayoutView",
            "grid_template_rows": null,
            "right": null,
            "justify_content": null,
            "_view_module": "@jupyter-widgets/base",
            "overflow": null,
            "_model_module_version": "1.2.0",
            "_view_count": null,
            "flex_flow": null,
            "width": null,
            "min_width": null,
            "border": null,
            "align_items": null,
            "bottom": null,
            "_model_module": "@jupyter-widgets/base",
            "top": null,
            "grid_column": null,
            "overflow_y": null,
            "overflow_x": null,
            "grid_auto_flow": null,
            "grid_area": null,
            "grid_template_columns": null,
            "flex": null,
            "_model_name": "LayoutModel",
            "justify_items": null,
            "grid_row": null,
            "max_height": null,
            "align_content": null,
            "visibility": null,
            "align_self": null,
            "height": null,
            "min_height": null,
            "padding": null,
            "grid_auto_rows": null,
            "grid_gap": null,
            "max_width": null,
            "order": null,
            "_view_module_version": "1.2.0",
            "grid_template_areas": null,
            "object_position": null,
            "object_fit": null,
            "grid_auto_columns": null,
            "margin": null,
            "display": null,
            "left": null
          }
        },
        "7b6b6a5b1e19490d9ca89677abd97e9e": {
          "model_module": "@jupyter-widgets/controls",
          "model_name": "ProgressStyleModel",
          "model_module_version": "1.5.0",
          "state": {
            "_view_name": "StyleView",
            "_model_name": "ProgressStyleModel",
            "description_width": "",
            "_view_module": "@jupyter-widgets/base",
            "_model_module_version": "1.5.0",
            "_view_count": null,
            "_view_module_version": "1.2.0",
            "bar_color": null,
            "_model_module": "@jupyter-widgets/controls"
          }
        },
        "097a95c498d84b86a24ee5f00327808d": {
          "model_module": "@jupyter-widgets/base",
          "model_name": "LayoutModel",
          "model_module_version": "1.2.0",
          "state": {
            "_view_name": "LayoutView",
            "grid_template_rows": null,
            "right": null,
            "justify_content": null,
            "_view_module": "@jupyter-widgets/base",
            "overflow": null,
            "_model_module_version": "1.2.0",
            "_view_count": null,
            "flex_flow": null,
            "width": null,
            "min_width": null,
            "border": null,
            "align_items": null,
            "bottom": null,
            "_model_module": "@jupyter-widgets/base",
            "top": null,
            "grid_column": null,
            "overflow_y": null,
            "overflow_x": null,
            "grid_auto_flow": null,
            "grid_area": null,
            "grid_template_columns": null,
            "flex": null,
            "_model_name": "LayoutModel",
            "justify_items": null,
            "grid_row": null,
            "max_height": null,
            "align_content": null,
            "visibility": null,
            "align_self": null,
            "height": null,
            "min_height": null,
            "padding": null,
            "grid_auto_rows": null,
            "grid_gap": null,
            "max_width": null,
            "order": null,
            "_view_module_version": "1.2.0",
            "grid_template_areas": null,
            "object_position": null,
            "object_fit": null,
            "grid_auto_columns": null,
            "margin": null,
            "display": null,
            "left": null
          }
        },
        "95df894f591848bba51bc302c2d5900a": {
          "model_module": "@jupyter-widgets/controls",
          "model_name": "DescriptionStyleModel",
          "model_module_version": "1.5.0",
          "state": {
            "_view_name": "StyleView",
            "_model_name": "DescriptionStyleModel",
            "description_width": "",
            "_view_module": "@jupyter-widgets/base",
            "_model_module_version": "1.5.0",
            "_view_count": null,
            "_view_module_version": "1.2.0",
            "_model_module": "@jupyter-widgets/controls"
          }
        },
        "f194487c34ab4ffeb57de799c2e4abb6": {
          "model_module": "@jupyter-widgets/base",
          "model_name": "LayoutModel",
          "model_module_version": "1.2.0",
          "state": {
            "_view_name": "LayoutView",
            "grid_template_rows": null,
            "right": null,
            "justify_content": null,
            "_view_module": "@jupyter-widgets/base",
            "overflow": null,
            "_model_module_version": "1.2.0",
            "_view_count": null,
            "flex_flow": null,
            "width": null,
            "min_width": null,
            "border": null,
            "align_items": null,
            "bottom": null,
            "_model_module": "@jupyter-widgets/base",
            "top": null,
            "grid_column": null,
            "overflow_y": null,
            "overflow_x": null,
            "grid_auto_flow": null,
            "grid_area": null,
            "grid_template_columns": null,
            "flex": null,
            "_model_name": "LayoutModel",
            "justify_items": null,
            "grid_row": null,
            "max_height": null,
            "align_content": null,
            "visibility": null,
            "align_self": null,
            "height": null,
            "min_height": null,
            "padding": null,
            "grid_auto_rows": null,
            "grid_gap": null,
            "max_width": null,
            "order": null,
            "_view_module_version": "1.2.0",
            "grid_template_areas": null,
            "object_position": null,
            "object_fit": null,
            "grid_auto_columns": null,
            "margin": null,
            "display": null,
            "left": null
          }
        },
        "f13cc960006a4a5fa7205948d629f7b5": {
          "model_module": "@jupyter-widgets/controls",
          "model_name": "HBoxModel",
          "model_module_version": "1.5.0",
          "state": {
            "_view_name": "HBoxView",
            "_dom_classes": [],
            "_model_name": "HBoxModel",
            "_view_module": "@jupyter-widgets/controls",
            "_model_module_version": "1.5.0",
            "_view_count": null,
            "_view_module_version": "1.5.0",
            "box_style": "",
            "layout": "IPY_MODEL_ce96ce413ae14c47a57bad29f860a3f4",
            "_model_module": "@jupyter-widgets/controls",
            "children": [
              "IPY_MODEL_7d10b7dc352249838a68d83aa8a54d7f",
              "IPY_MODEL_e81fec30c79d451e8d0cc2d9d7129cf8",
              "IPY_MODEL_2361e2262c414029807cfc14759fd1a2"
            ]
          }
        },
        "ce96ce413ae14c47a57bad29f860a3f4": {
          "model_module": "@jupyter-widgets/base",
          "model_name": "LayoutModel",
          "model_module_version": "1.2.0",
          "state": {
            "_view_name": "LayoutView",
            "grid_template_rows": null,
            "right": null,
            "justify_content": null,
            "_view_module": "@jupyter-widgets/base",
            "overflow": null,
            "_model_module_version": "1.2.0",
            "_view_count": null,
            "flex_flow": null,
            "width": null,
            "min_width": null,
            "border": null,
            "align_items": null,
            "bottom": null,
            "_model_module": "@jupyter-widgets/base",
            "top": null,
            "grid_column": null,
            "overflow_y": null,
            "overflow_x": null,
            "grid_auto_flow": null,
            "grid_area": null,
            "grid_template_columns": null,
            "flex": null,
            "_model_name": "LayoutModel",
            "justify_items": null,
            "grid_row": null,
            "max_height": null,
            "align_content": null,
            "visibility": null,
            "align_self": null,
            "height": null,
            "min_height": null,
            "padding": null,
            "grid_auto_rows": null,
            "grid_gap": null,
            "max_width": null,
            "order": null,
            "_view_module_version": "1.2.0",
            "grid_template_areas": null,
            "object_position": null,
            "object_fit": null,
            "grid_auto_columns": null,
            "margin": null,
            "display": null,
            "left": null
          }
        },
        "7d10b7dc352249838a68d83aa8a54d7f": {
          "model_module": "@jupyter-widgets/controls",
          "model_name": "HTMLModel",
          "model_module_version": "1.5.0",
          "state": {
            "_view_name": "HTMLView",
            "style": "IPY_MODEL_19d672f60ced46c8aaf77a995e9556ff",
            "_dom_classes": [],
            "description": "",
            "_model_name": "HTMLModel",
            "placeholder": "​",
            "_view_module": "@jupyter-widgets/controls",
            "_model_module_version": "1.5.0",
            "value": "  0%",
            "_view_count": null,
            "_view_module_version": "1.5.0",
            "description_tooltip": null,
            "_model_module": "@jupyter-widgets/controls",
            "layout": "IPY_MODEL_17964e19c16542029a1c0bc083d9dcdb"
          }
        },
        "e81fec30c79d451e8d0cc2d9d7129cf8": {
          "model_module": "@jupyter-widgets/controls",
          "model_name": "FloatProgressModel",
          "model_module_version": "1.5.0",
          "state": {
            "_view_name": "ProgressView",
            "style": "IPY_MODEL_ce3c1a411a954b93925c559840c3c2f0",
            "_dom_classes": [],
            "description": "",
            "_model_name": "FloatProgressModel",
            "bar_style": "danger",
            "max": 3632,
            "_view_module": "@jupyter-widgets/controls",
            "_model_module_version": "1.5.0",
            "value": 8,
            "_view_count": null,
            "_view_module_version": "1.5.0",
            "orientation": "horizontal",
            "min": 0,
            "description_tooltip": null,
            "_model_module": "@jupyter-widgets/controls",
            "layout": "IPY_MODEL_183cc1c4b2594cc183d4ec224ca9db8a"
          }
        },
        "2361e2262c414029807cfc14759fd1a2": {
          "model_module": "@jupyter-widgets/controls",
          "model_name": "HTMLModel",
          "model_module_version": "1.5.0",
          "state": {
            "_view_name": "HTMLView",
            "style": "IPY_MODEL_2f8056c1027f426c8e2a2324825ebcef",
            "_dom_classes": [],
            "description": "",
            "_model_name": "HTMLModel",
            "placeholder": "​",
            "_view_module": "@jupyter-widgets/controls",
            "_model_module_version": "1.5.0",
            "value": " 8/3632 [00:01&lt;10:02,  6.02it/s]",
            "_view_count": null,
            "_view_module_version": "1.5.0",
            "description_tooltip": null,
            "_model_module": "@jupyter-widgets/controls",
            "layout": "IPY_MODEL_dc0f386d277045ce8f98f19b58ed024b"
          }
        },
        "19d672f60ced46c8aaf77a995e9556ff": {
          "model_module": "@jupyter-widgets/controls",
          "model_name": "DescriptionStyleModel",
          "model_module_version": "1.5.0",
          "state": {
            "_view_name": "StyleView",
            "_model_name": "DescriptionStyleModel",
            "description_width": "",
            "_view_module": "@jupyter-widgets/base",
            "_model_module_version": "1.5.0",
            "_view_count": null,
            "_view_module_version": "1.2.0",
            "_model_module": "@jupyter-widgets/controls"
          }
        },
        "17964e19c16542029a1c0bc083d9dcdb": {
          "model_module": "@jupyter-widgets/base",
          "model_name": "LayoutModel",
          "model_module_version": "1.2.0",
          "state": {
            "_view_name": "LayoutView",
            "grid_template_rows": null,
            "right": null,
            "justify_content": null,
            "_view_module": "@jupyter-widgets/base",
            "overflow": null,
            "_model_module_version": "1.2.0",
            "_view_count": null,
            "flex_flow": null,
            "width": null,
            "min_width": null,
            "border": null,
            "align_items": null,
            "bottom": null,
            "_model_module": "@jupyter-widgets/base",
            "top": null,
            "grid_column": null,
            "overflow_y": null,
            "overflow_x": null,
            "grid_auto_flow": null,
            "grid_area": null,
            "grid_template_columns": null,
            "flex": null,
            "_model_name": "LayoutModel",
            "justify_items": null,
            "grid_row": null,
            "max_height": null,
            "align_content": null,
            "visibility": null,
            "align_self": null,
            "height": null,
            "min_height": null,
            "padding": null,
            "grid_auto_rows": null,
            "grid_gap": null,
            "max_width": null,
            "order": null,
            "_view_module_version": "1.2.0",
            "grid_template_areas": null,
            "object_position": null,
            "object_fit": null,
            "grid_auto_columns": null,
            "margin": null,
            "display": null,
            "left": null
          }
        },
        "ce3c1a411a954b93925c559840c3c2f0": {
          "model_module": "@jupyter-widgets/controls",
          "model_name": "ProgressStyleModel",
          "model_module_version": "1.5.0",
          "state": {
            "_view_name": "StyleView",
            "_model_name": "ProgressStyleModel",
            "description_width": "",
            "_view_module": "@jupyter-widgets/base",
            "_model_module_version": "1.5.0",
            "_view_count": null,
            "_view_module_version": "1.2.0",
            "bar_color": null,
            "_model_module": "@jupyter-widgets/controls"
          }
        },
        "183cc1c4b2594cc183d4ec224ca9db8a": {
          "model_module": "@jupyter-widgets/base",
          "model_name": "LayoutModel",
          "model_module_version": "1.2.0",
          "state": {
            "_view_name": "LayoutView",
            "grid_template_rows": null,
            "right": null,
            "justify_content": null,
            "_view_module": "@jupyter-widgets/base",
            "overflow": null,
            "_model_module_version": "1.2.0",
            "_view_count": null,
            "flex_flow": null,
            "width": null,
            "min_width": null,
            "border": null,
            "align_items": null,
            "bottom": null,
            "_model_module": "@jupyter-widgets/base",
            "top": null,
            "grid_column": null,
            "overflow_y": null,
            "overflow_x": null,
            "grid_auto_flow": null,
            "grid_area": null,
            "grid_template_columns": null,
            "flex": null,
            "_model_name": "LayoutModel",
            "justify_items": null,
            "grid_row": null,
            "max_height": null,
            "align_content": null,
            "visibility": null,
            "align_self": null,
            "height": null,
            "min_height": null,
            "padding": null,
            "grid_auto_rows": null,
            "grid_gap": null,
            "max_width": null,
            "order": null,
            "_view_module_version": "1.2.0",
            "grid_template_areas": null,
            "object_position": null,
            "object_fit": null,
            "grid_auto_columns": null,
            "margin": null,
            "display": null,
            "left": null
          }
        },
        "2f8056c1027f426c8e2a2324825ebcef": {
          "model_module": "@jupyter-widgets/controls",
          "model_name": "DescriptionStyleModel",
          "model_module_version": "1.5.0",
          "state": {
            "_view_name": "StyleView",
            "_model_name": "DescriptionStyleModel",
            "description_width": "",
            "_view_module": "@jupyter-widgets/base",
            "_model_module_version": "1.5.0",
            "_view_count": null,
            "_view_module_version": "1.2.0",
            "_model_module": "@jupyter-widgets/controls"
          }
        },
        "dc0f386d277045ce8f98f19b58ed024b": {
          "model_module": "@jupyter-widgets/base",
          "model_name": "LayoutModel",
          "model_module_version": "1.2.0",
          "state": {
            "_view_name": "LayoutView",
            "grid_template_rows": null,
            "right": null,
            "justify_content": null,
            "_view_module": "@jupyter-widgets/base",
            "overflow": null,
            "_model_module_version": "1.2.0",
            "_view_count": null,
            "flex_flow": null,
            "width": null,
            "min_width": null,
            "border": null,
            "align_items": null,
            "bottom": null,
            "_model_module": "@jupyter-widgets/base",
            "top": null,
            "grid_column": null,
            "overflow_y": null,
            "overflow_x": null,
            "grid_auto_flow": null,
            "grid_area": null,
            "grid_template_columns": null,
            "flex": null,
            "_model_name": "LayoutModel",
            "justify_items": null,
            "grid_row": null,
            "max_height": null,
            "align_content": null,
            "visibility": null,
            "align_self": null,
            "height": null,
            "min_height": null,
            "padding": null,
            "grid_auto_rows": null,
            "grid_gap": null,
            "max_width": null,
            "order": null,
            "_view_module_version": "1.2.0",
            "grid_template_areas": null,
            "object_position": null,
            "object_fit": null,
            "grid_auto_columns": null,
            "margin": null,
            "display": null,
            "left": null
          }
        },
        "90e8f7e2cec74b4d81eff20562f6a6d7": {
          "model_module": "@jupyter-widgets/controls",
          "model_name": "HBoxModel",
          "model_module_version": "1.5.0",
          "state": {
            "_view_name": "HBoxView",
            "_dom_classes": [],
            "_model_name": "HBoxModel",
            "_view_module": "@jupyter-widgets/controls",
            "_model_module_version": "1.5.0",
            "_view_count": null,
            "_view_module_version": "1.5.0",
            "box_style": "",
            "layout": "IPY_MODEL_e7ccc70bc93c41a98de26c677a1f3050",
            "_model_module": "@jupyter-widgets/controls",
            "children": [
              "IPY_MODEL_8a71e4b80032449d899e6ec25736756a",
              "IPY_MODEL_ab6525d9a4354402adadbbff0524281d",
              "IPY_MODEL_8b961d8bf76349ef9b5878a9de468f4b"
            ]
          }
        },
        "e7ccc70bc93c41a98de26c677a1f3050": {
          "model_module": "@jupyter-widgets/base",
          "model_name": "LayoutModel",
          "model_module_version": "1.2.0",
          "state": {
            "_view_name": "LayoutView",
            "grid_template_rows": null,
            "right": null,
            "justify_content": null,
            "_view_module": "@jupyter-widgets/base",
            "overflow": null,
            "_model_module_version": "1.2.0",
            "_view_count": null,
            "flex_flow": null,
            "width": null,
            "min_width": null,
            "border": null,
            "align_items": null,
            "bottom": null,
            "_model_module": "@jupyter-widgets/base",
            "top": null,
            "grid_column": null,
            "overflow_y": null,
            "overflow_x": null,
            "grid_auto_flow": null,
            "grid_area": null,
            "grid_template_columns": null,
            "flex": null,
            "_model_name": "LayoutModel",
            "justify_items": null,
            "grid_row": null,
            "max_height": null,
            "align_content": null,
            "visibility": null,
            "align_self": null,
            "height": null,
            "min_height": null,
            "padding": null,
            "grid_auto_rows": null,
            "grid_gap": null,
            "max_width": null,
            "order": null,
            "_view_module_version": "1.2.0",
            "grid_template_areas": null,
            "object_position": null,
            "object_fit": null,
            "grid_auto_columns": null,
            "margin": null,
            "display": null,
            "left": null
          }
        },
        "8a71e4b80032449d899e6ec25736756a": {
          "model_module": "@jupyter-widgets/controls",
          "model_name": "HTMLModel",
          "model_module_version": "1.5.0",
          "state": {
            "_view_name": "HTMLView",
            "style": "IPY_MODEL_c8d1906ab8e949eb9542a5879ecdbf85",
            "_dom_classes": [],
            "description": "",
            "_model_name": "HTMLModel",
            "placeholder": "​",
            "_view_module": "@jupyter-widgets/controls",
            "_model_module_version": "1.5.0",
            "value": "Epoch 3 of 3: 100%",
            "_view_count": null,
            "_view_module_version": "1.5.0",
            "description_tooltip": null,
            "_model_module": "@jupyter-widgets/controls",
            "layout": "IPY_MODEL_448fbc15d316450984ae1eb9881151de"
          }
        },
        "ab6525d9a4354402adadbbff0524281d": {
          "model_module": "@jupyter-widgets/controls",
          "model_name": "FloatProgressModel",
          "model_module_version": "1.5.0",
          "state": {
            "_view_name": "ProgressView",
            "style": "IPY_MODEL_5531409b630f4bb4b3b2cbf8251a366c",
            "_dom_classes": [],
            "description": "",
            "_model_name": "FloatProgressModel",
            "bar_style": "success",
            "max": 3,
            "_view_module": "@jupyter-widgets/controls",
            "_model_module_version": "1.5.0",
            "value": 3,
            "_view_count": null,
            "_view_module_version": "1.5.0",
            "orientation": "horizontal",
            "min": 0,
            "description_tooltip": null,
            "_model_module": "@jupyter-widgets/controls",
            "layout": "IPY_MODEL_61799b5078a041b59fd341afd10fdaca"
          }
        },
        "8b961d8bf76349ef9b5878a9de468f4b": {
          "model_module": "@jupyter-widgets/controls",
          "model_name": "HTMLModel",
          "model_module_version": "1.5.0",
          "state": {
            "_view_name": "HTMLView",
            "style": "IPY_MODEL_9b3db29d07534ba9b2cf652e69533021",
            "_dom_classes": [],
            "description": "",
            "_model_name": "HTMLModel",
            "placeholder": "​",
            "_view_module": "@jupyter-widgets/controls",
            "_model_module_version": "1.5.0",
            "value": " 3/3 [1:02:38&lt;00:00, 1250.37s/it]",
            "_view_count": null,
            "_view_module_version": "1.5.0",
            "description_tooltip": null,
            "_model_module": "@jupyter-widgets/controls",
            "layout": "IPY_MODEL_ca5653117a2f4b8f9133fa1a99e71986"
          }
        },
        "c8d1906ab8e949eb9542a5879ecdbf85": {
          "model_module": "@jupyter-widgets/controls",
          "model_name": "DescriptionStyleModel",
          "model_module_version": "1.5.0",
          "state": {
            "_view_name": "StyleView",
            "_model_name": "DescriptionStyleModel",
            "description_width": "",
            "_view_module": "@jupyter-widgets/base",
            "_model_module_version": "1.5.0",
            "_view_count": null,
            "_view_module_version": "1.2.0",
            "_model_module": "@jupyter-widgets/controls"
          }
        },
        "448fbc15d316450984ae1eb9881151de": {
          "model_module": "@jupyter-widgets/base",
          "model_name": "LayoutModel",
          "model_module_version": "1.2.0",
          "state": {
            "_view_name": "LayoutView",
            "grid_template_rows": null,
            "right": null,
            "justify_content": null,
            "_view_module": "@jupyter-widgets/base",
            "overflow": null,
            "_model_module_version": "1.2.0",
            "_view_count": null,
            "flex_flow": null,
            "width": null,
            "min_width": null,
            "border": null,
            "align_items": null,
            "bottom": null,
            "_model_module": "@jupyter-widgets/base",
            "top": null,
            "grid_column": null,
            "overflow_y": null,
            "overflow_x": null,
            "grid_auto_flow": null,
            "grid_area": null,
            "grid_template_columns": null,
            "flex": null,
            "_model_name": "LayoutModel",
            "justify_items": null,
            "grid_row": null,
            "max_height": null,
            "align_content": null,
            "visibility": null,
            "align_self": null,
            "height": null,
            "min_height": null,
            "padding": null,
            "grid_auto_rows": null,
            "grid_gap": null,
            "max_width": null,
            "order": null,
            "_view_module_version": "1.2.0",
            "grid_template_areas": null,
            "object_position": null,
            "object_fit": null,
            "grid_auto_columns": null,
            "margin": null,
            "display": null,
            "left": null
          }
        },
        "5531409b630f4bb4b3b2cbf8251a366c": {
          "model_module": "@jupyter-widgets/controls",
          "model_name": "ProgressStyleModel",
          "model_module_version": "1.5.0",
          "state": {
            "_view_name": "StyleView",
            "_model_name": "ProgressStyleModel",
            "description_width": "",
            "_view_module": "@jupyter-widgets/base",
            "_model_module_version": "1.5.0",
            "_view_count": null,
            "_view_module_version": "1.2.0",
            "bar_color": null,
            "_model_module": "@jupyter-widgets/controls"
          }
        },
        "61799b5078a041b59fd341afd10fdaca": {
          "model_module": "@jupyter-widgets/base",
          "model_name": "LayoutModel",
          "model_module_version": "1.2.0",
          "state": {
            "_view_name": "LayoutView",
            "grid_template_rows": null,
            "right": null,
            "justify_content": null,
            "_view_module": "@jupyter-widgets/base",
            "overflow": null,
            "_model_module_version": "1.2.0",
            "_view_count": null,
            "flex_flow": null,
            "width": null,
            "min_width": null,
            "border": null,
            "align_items": null,
            "bottom": null,
            "_model_module": "@jupyter-widgets/base",
            "top": null,
            "grid_column": null,
            "overflow_y": null,
            "overflow_x": null,
            "grid_auto_flow": null,
            "grid_area": null,
            "grid_template_columns": null,
            "flex": null,
            "_model_name": "LayoutModel",
            "justify_items": null,
            "grid_row": null,
            "max_height": null,
            "align_content": null,
            "visibility": null,
            "align_self": null,
            "height": null,
            "min_height": null,
            "padding": null,
            "grid_auto_rows": null,
            "grid_gap": null,
            "max_width": null,
            "order": null,
            "_view_module_version": "1.2.0",
            "grid_template_areas": null,
            "object_position": null,
            "object_fit": null,
            "grid_auto_columns": null,
            "margin": null,
            "display": null,
            "left": null
          }
        },
        "9b3db29d07534ba9b2cf652e69533021": {
          "model_module": "@jupyter-widgets/controls",
          "model_name": "DescriptionStyleModel",
          "model_module_version": "1.5.0",
          "state": {
            "_view_name": "StyleView",
            "_model_name": "DescriptionStyleModel",
            "description_width": "",
            "_view_module": "@jupyter-widgets/base",
            "_model_module_version": "1.5.0",
            "_view_count": null,
            "_view_module_version": "1.2.0",
            "_model_module": "@jupyter-widgets/controls"
          }
        },
        "ca5653117a2f4b8f9133fa1a99e71986": {
          "model_module": "@jupyter-widgets/base",
          "model_name": "LayoutModel",
          "model_module_version": "1.2.0",
          "state": {
            "_view_name": "LayoutView",
            "grid_template_rows": null,
            "right": null,
            "justify_content": null,
            "_view_module": "@jupyter-widgets/base",
            "overflow": null,
            "_model_module_version": "1.2.0",
            "_view_count": null,
            "flex_flow": null,
            "width": null,
            "min_width": null,
            "border": null,
            "align_items": null,
            "bottom": null,
            "_model_module": "@jupyter-widgets/base",
            "top": null,
            "grid_column": null,
            "overflow_y": null,
            "overflow_x": null,
            "grid_auto_flow": null,
            "grid_area": null,
            "grid_template_columns": null,
            "flex": null,
            "_model_name": "LayoutModel",
            "justify_items": null,
            "grid_row": null,
            "max_height": null,
            "align_content": null,
            "visibility": null,
            "align_self": null,
            "height": null,
            "min_height": null,
            "padding": null,
            "grid_auto_rows": null,
            "grid_gap": null,
            "max_width": null,
            "order": null,
            "_view_module_version": "1.2.0",
            "grid_template_areas": null,
            "object_position": null,
            "object_fit": null,
            "grid_auto_columns": null,
            "margin": null,
            "display": null,
            "left": null
          }
        },
        "4bbe03aaf71140529e3f81570aa24a29": {
          "model_module": "@jupyter-widgets/controls",
          "model_name": "HBoxModel",
          "model_module_version": "1.5.0",
          "state": {
            "_view_name": "HBoxView",
            "_dom_classes": [],
            "_model_name": "HBoxModel",
            "_view_module": "@jupyter-widgets/controls",
            "_model_module_version": "1.5.0",
            "_view_count": null,
            "_view_module_version": "1.5.0",
            "box_style": "",
            "layout": "IPY_MODEL_de81dbeb16c240e4806537d74bc6b392",
            "_model_module": "@jupyter-widgets/controls",
            "children": [
              "IPY_MODEL_2c976612dda74a1c9496e76af6029eeb",
              "IPY_MODEL_0fd84e3bd7d5405fa1668364ee6871b3",
              "IPY_MODEL_21e87f5bf69b443dafba22d3404bce5e"
            ]
          }
        },
        "de81dbeb16c240e4806537d74bc6b392": {
          "model_module": "@jupyter-widgets/base",
          "model_name": "LayoutModel",
          "model_module_version": "1.2.0",
          "state": {
            "_view_name": "LayoutView",
            "grid_template_rows": null,
            "right": null,
            "justify_content": null,
            "_view_module": "@jupyter-widgets/base",
            "overflow": null,
            "_model_module_version": "1.2.0",
            "_view_count": null,
            "flex_flow": null,
            "width": null,
            "min_width": null,
            "border": null,
            "align_items": null,
            "bottom": null,
            "_model_module": "@jupyter-widgets/base",
            "top": null,
            "grid_column": null,
            "overflow_y": null,
            "overflow_x": null,
            "grid_auto_flow": null,
            "grid_area": null,
            "grid_template_columns": null,
            "flex": null,
            "_model_name": "LayoutModel",
            "justify_items": null,
            "grid_row": null,
            "max_height": null,
            "align_content": null,
            "visibility": null,
            "align_self": null,
            "height": null,
            "min_height": null,
            "padding": null,
            "grid_auto_rows": null,
            "grid_gap": null,
            "max_width": null,
            "order": null,
            "_view_module_version": "1.2.0",
            "grid_template_areas": null,
            "object_position": null,
            "object_fit": null,
            "grid_auto_columns": null,
            "margin": null,
            "display": null,
            "left": null
          }
        },
        "2c976612dda74a1c9496e76af6029eeb": {
          "model_module": "@jupyter-widgets/controls",
          "model_name": "HTMLModel",
          "model_module_version": "1.5.0",
          "state": {
            "_view_name": "HTMLView",
            "style": "IPY_MODEL_0436a2afec184078ab7f2f071b3241df",
            "_dom_classes": [],
            "description": "",
            "_model_name": "HTMLModel",
            "placeholder": "​",
            "_view_module": "@jupyter-widgets/controls",
            "_model_module_version": "1.5.0",
            "value": "Epochs 0/3. Running Loss:    0.2631: 100%",
            "_view_count": null,
            "_view_module_version": "1.5.0",
            "description_tooltip": null,
            "_model_module": "@jupyter-widgets/controls",
            "layout": "IPY_MODEL_af8556c26838441abaeec588b261c9ab"
          }
        },
        "0fd84e3bd7d5405fa1668364ee6871b3": {
          "model_module": "@jupyter-widgets/controls",
          "model_name": "FloatProgressModel",
          "model_module_version": "1.5.0",
          "state": {
            "_view_name": "ProgressView",
            "style": "IPY_MODEL_b4b06a2b12ed4563871e8d17baf401d4",
            "_dom_classes": [],
            "description": "",
            "_model_name": "FloatProgressModel",
            "bar_style": "success",
            "max": 57,
            "_view_module": "@jupyter-widgets/controls",
            "_model_module_version": "1.5.0",
            "value": 57,
            "_view_count": null,
            "_view_module_version": "1.5.0",
            "orientation": "horizontal",
            "min": 0,
            "description_tooltip": null,
            "_model_module": "@jupyter-widgets/controls",
            "layout": "IPY_MODEL_672318c2cd4f4fa89993db9477fc0dfe"
          }
        },
        "21e87f5bf69b443dafba22d3404bce5e": {
          "model_module": "@jupyter-widgets/controls",
          "model_name": "HTMLModel",
          "model_module_version": "1.5.0",
          "state": {
            "_view_name": "HTMLView",
            "style": "IPY_MODEL_34ab61bc2dd143b3b125d956bc93f3fb",
            "_dom_classes": [],
            "description": "",
            "_model_name": "HTMLModel",
            "placeholder": "​",
            "_view_module": "@jupyter-widgets/controls",
            "_model_module_version": "1.5.0",
            "value": " 57/57 [20:57&lt;00:00, 20.41s/it]",
            "_view_count": null,
            "_view_module_version": "1.5.0",
            "description_tooltip": null,
            "_model_module": "@jupyter-widgets/controls",
            "layout": "IPY_MODEL_16388420ee8845fc9c4a007f66c2f941"
          }
        },
        "0436a2afec184078ab7f2f071b3241df": {
          "model_module": "@jupyter-widgets/controls",
          "model_name": "DescriptionStyleModel",
          "model_module_version": "1.5.0",
          "state": {
            "_view_name": "StyleView",
            "_model_name": "DescriptionStyleModel",
            "description_width": "",
            "_view_module": "@jupyter-widgets/base",
            "_model_module_version": "1.5.0",
            "_view_count": null,
            "_view_module_version": "1.2.0",
            "_model_module": "@jupyter-widgets/controls"
          }
        },
        "af8556c26838441abaeec588b261c9ab": {
          "model_module": "@jupyter-widgets/base",
          "model_name": "LayoutModel",
          "model_module_version": "1.2.0",
          "state": {
            "_view_name": "LayoutView",
            "grid_template_rows": null,
            "right": null,
            "justify_content": null,
            "_view_module": "@jupyter-widgets/base",
            "overflow": null,
            "_model_module_version": "1.2.0",
            "_view_count": null,
            "flex_flow": null,
            "width": null,
            "min_width": null,
            "border": null,
            "align_items": null,
            "bottom": null,
            "_model_module": "@jupyter-widgets/base",
            "top": null,
            "grid_column": null,
            "overflow_y": null,
            "overflow_x": null,
            "grid_auto_flow": null,
            "grid_area": null,
            "grid_template_columns": null,
            "flex": null,
            "_model_name": "LayoutModel",
            "justify_items": null,
            "grid_row": null,
            "max_height": null,
            "align_content": null,
            "visibility": null,
            "align_self": null,
            "height": null,
            "min_height": null,
            "padding": null,
            "grid_auto_rows": null,
            "grid_gap": null,
            "max_width": null,
            "order": null,
            "_view_module_version": "1.2.0",
            "grid_template_areas": null,
            "object_position": null,
            "object_fit": null,
            "grid_auto_columns": null,
            "margin": null,
            "display": null,
            "left": null
          }
        },
        "b4b06a2b12ed4563871e8d17baf401d4": {
          "model_module": "@jupyter-widgets/controls",
          "model_name": "ProgressStyleModel",
          "model_module_version": "1.5.0",
          "state": {
            "_view_name": "StyleView",
            "_model_name": "ProgressStyleModel",
            "description_width": "",
            "_view_module": "@jupyter-widgets/base",
            "_model_module_version": "1.5.0",
            "_view_count": null,
            "_view_module_version": "1.2.0",
            "bar_color": null,
            "_model_module": "@jupyter-widgets/controls"
          }
        },
        "672318c2cd4f4fa89993db9477fc0dfe": {
          "model_module": "@jupyter-widgets/base",
          "model_name": "LayoutModel",
          "model_module_version": "1.2.0",
          "state": {
            "_view_name": "LayoutView",
            "grid_template_rows": null,
            "right": null,
            "justify_content": null,
            "_view_module": "@jupyter-widgets/base",
            "overflow": null,
            "_model_module_version": "1.2.0",
            "_view_count": null,
            "flex_flow": null,
            "width": null,
            "min_width": null,
            "border": null,
            "align_items": null,
            "bottom": null,
            "_model_module": "@jupyter-widgets/base",
            "top": null,
            "grid_column": null,
            "overflow_y": null,
            "overflow_x": null,
            "grid_auto_flow": null,
            "grid_area": null,
            "grid_template_columns": null,
            "flex": null,
            "_model_name": "LayoutModel",
            "justify_items": null,
            "grid_row": null,
            "max_height": null,
            "align_content": null,
            "visibility": null,
            "align_self": null,
            "height": null,
            "min_height": null,
            "padding": null,
            "grid_auto_rows": null,
            "grid_gap": null,
            "max_width": null,
            "order": null,
            "_view_module_version": "1.2.0",
            "grid_template_areas": null,
            "object_position": null,
            "object_fit": null,
            "grid_auto_columns": null,
            "margin": null,
            "display": null,
            "left": null
          }
        },
        "34ab61bc2dd143b3b125d956bc93f3fb": {
          "model_module": "@jupyter-widgets/controls",
          "model_name": "DescriptionStyleModel",
          "model_module_version": "1.5.0",
          "state": {
            "_view_name": "StyleView",
            "_model_name": "DescriptionStyleModel",
            "description_width": "",
            "_view_module": "@jupyter-widgets/base",
            "_model_module_version": "1.5.0",
            "_view_count": null,
            "_view_module_version": "1.2.0",
            "_model_module": "@jupyter-widgets/controls"
          }
        },
        "16388420ee8845fc9c4a007f66c2f941": {
          "model_module": "@jupyter-widgets/base",
          "model_name": "LayoutModel",
          "model_module_version": "1.2.0",
          "state": {
            "_view_name": "LayoutView",
            "grid_template_rows": null,
            "right": null,
            "justify_content": null,
            "_view_module": "@jupyter-widgets/base",
            "overflow": null,
            "_model_module_version": "1.2.0",
            "_view_count": null,
            "flex_flow": null,
            "width": null,
            "min_width": null,
            "border": null,
            "align_items": null,
            "bottom": null,
            "_model_module": "@jupyter-widgets/base",
            "top": null,
            "grid_column": null,
            "overflow_y": null,
            "overflow_x": null,
            "grid_auto_flow": null,
            "grid_area": null,
            "grid_template_columns": null,
            "flex": null,
            "_model_name": "LayoutModel",
            "justify_items": null,
            "grid_row": null,
            "max_height": null,
            "align_content": null,
            "visibility": null,
            "align_self": null,
            "height": null,
            "min_height": null,
            "padding": null,
            "grid_auto_rows": null,
            "grid_gap": null,
            "max_width": null,
            "order": null,
            "_view_module_version": "1.2.0",
            "grid_template_areas": null,
            "object_position": null,
            "object_fit": null,
            "grid_auto_columns": null,
            "margin": null,
            "display": null,
            "left": null
          }
        },
        "1578bbf38c4c4d3d85266bddf87e1403": {
          "model_module": "@jupyter-widgets/controls",
          "model_name": "HBoxModel",
          "model_module_version": "1.5.0",
          "state": {
            "_view_name": "HBoxView",
            "_dom_classes": [],
            "_model_name": "HBoxModel",
            "_view_module": "@jupyter-widgets/controls",
            "_model_module_version": "1.5.0",
            "_view_count": null,
            "_view_module_version": "1.5.0",
            "box_style": "",
            "layout": "IPY_MODEL_e7a0341ec6764023afac357e0eebcae3",
            "_model_module": "@jupyter-widgets/controls",
            "children": [
              "IPY_MODEL_115601d2815b4150b66995194cee9791",
              "IPY_MODEL_35d1b71008394b70b49be4ac1690c284",
              "IPY_MODEL_862b635031d74779a7ea7567685ccd33"
            ]
          }
        },
        "e7a0341ec6764023afac357e0eebcae3": {
          "model_module": "@jupyter-widgets/base",
          "model_name": "LayoutModel",
          "model_module_version": "1.2.0",
          "state": {
            "_view_name": "LayoutView",
            "grid_template_rows": null,
            "right": null,
            "justify_content": null,
            "_view_module": "@jupyter-widgets/base",
            "overflow": null,
            "_model_module_version": "1.2.0",
            "_view_count": null,
            "flex_flow": null,
            "width": null,
            "min_width": null,
            "border": null,
            "align_items": null,
            "bottom": null,
            "_model_module": "@jupyter-widgets/base",
            "top": null,
            "grid_column": null,
            "overflow_y": null,
            "overflow_x": null,
            "grid_auto_flow": null,
            "grid_area": null,
            "grid_template_columns": null,
            "flex": null,
            "_model_name": "LayoutModel",
            "justify_items": null,
            "grid_row": null,
            "max_height": null,
            "align_content": null,
            "visibility": null,
            "align_self": null,
            "height": null,
            "min_height": null,
            "padding": null,
            "grid_auto_rows": null,
            "grid_gap": null,
            "max_width": null,
            "order": null,
            "_view_module_version": "1.2.0",
            "grid_template_areas": null,
            "object_position": null,
            "object_fit": null,
            "grid_auto_columns": null,
            "margin": null,
            "display": null,
            "left": null
          }
        },
        "115601d2815b4150b66995194cee9791": {
          "model_module": "@jupyter-widgets/controls",
          "model_name": "HTMLModel",
          "model_module_version": "1.5.0",
          "state": {
            "_view_name": "HTMLView",
            "style": "IPY_MODEL_5dcf3580af0f4b63bd50038d449391ba",
            "_dom_classes": [],
            "description": "",
            "_model_name": "HTMLModel",
            "placeholder": "​",
            "_view_module": "@jupyter-widgets/controls",
            "_model_module_version": "1.5.0",
            "value": "Epochs 1/3. Running Loss:    0.1447: 100%",
            "_view_count": null,
            "_view_module_version": "1.5.0",
            "description_tooltip": null,
            "_model_module": "@jupyter-widgets/controls",
            "layout": "IPY_MODEL_cb1d324597494f79be94f3ec5d857806"
          }
        },
        "35d1b71008394b70b49be4ac1690c284": {
          "model_module": "@jupyter-widgets/controls",
          "model_name": "FloatProgressModel",
          "model_module_version": "1.5.0",
          "state": {
            "_view_name": "ProgressView",
            "style": "IPY_MODEL_1196c74fe3f546d2aa09c9ba8340a8d4",
            "_dom_classes": [],
            "description": "",
            "_model_name": "FloatProgressModel",
            "bar_style": "success",
            "max": 57,
            "_view_module": "@jupyter-widgets/controls",
            "_model_module_version": "1.5.0",
            "value": 57,
            "_view_count": null,
            "_view_module_version": "1.5.0",
            "orientation": "horizontal",
            "min": 0,
            "description_tooltip": null,
            "_model_module": "@jupyter-widgets/controls",
            "layout": "IPY_MODEL_dac3e79c1bfe424fa2f1ae5551bed4f5"
          }
        },
        "862b635031d74779a7ea7567685ccd33": {
          "model_module": "@jupyter-widgets/controls",
          "model_name": "HTMLModel",
          "model_module_version": "1.5.0",
          "state": {
            "_view_name": "HTMLView",
            "style": "IPY_MODEL_9aa6f0591200422ba2a7ba330d78318b",
            "_dom_classes": [],
            "description": "",
            "_model_name": "HTMLModel",
            "placeholder": "​",
            "_view_module": "@jupyter-widgets/controls",
            "_model_module_version": "1.5.0",
            "value": " 57/57 [20:53&lt;00:00, 20.51s/it]",
            "_view_count": null,
            "_view_module_version": "1.5.0",
            "description_tooltip": null,
            "_model_module": "@jupyter-widgets/controls",
            "layout": "IPY_MODEL_ea32b487efdf46a38862bf4f9a1b9cee"
          }
        },
        "5dcf3580af0f4b63bd50038d449391ba": {
          "model_module": "@jupyter-widgets/controls",
          "model_name": "DescriptionStyleModel",
          "model_module_version": "1.5.0",
          "state": {
            "_view_name": "StyleView",
            "_model_name": "DescriptionStyleModel",
            "description_width": "",
            "_view_module": "@jupyter-widgets/base",
            "_model_module_version": "1.5.0",
            "_view_count": null,
            "_view_module_version": "1.2.0",
            "_model_module": "@jupyter-widgets/controls"
          }
        },
        "cb1d324597494f79be94f3ec5d857806": {
          "model_module": "@jupyter-widgets/base",
          "model_name": "LayoutModel",
          "model_module_version": "1.2.0",
          "state": {
            "_view_name": "LayoutView",
            "grid_template_rows": null,
            "right": null,
            "justify_content": null,
            "_view_module": "@jupyter-widgets/base",
            "overflow": null,
            "_model_module_version": "1.2.0",
            "_view_count": null,
            "flex_flow": null,
            "width": null,
            "min_width": null,
            "border": null,
            "align_items": null,
            "bottom": null,
            "_model_module": "@jupyter-widgets/base",
            "top": null,
            "grid_column": null,
            "overflow_y": null,
            "overflow_x": null,
            "grid_auto_flow": null,
            "grid_area": null,
            "grid_template_columns": null,
            "flex": null,
            "_model_name": "LayoutModel",
            "justify_items": null,
            "grid_row": null,
            "max_height": null,
            "align_content": null,
            "visibility": null,
            "align_self": null,
            "height": null,
            "min_height": null,
            "padding": null,
            "grid_auto_rows": null,
            "grid_gap": null,
            "max_width": null,
            "order": null,
            "_view_module_version": "1.2.0",
            "grid_template_areas": null,
            "object_position": null,
            "object_fit": null,
            "grid_auto_columns": null,
            "margin": null,
            "display": null,
            "left": null
          }
        },
        "1196c74fe3f546d2aa09c9ba8340a8d4": {
          "model_module": "@jupyter-widgets/controls",
          "model_name": "ProgressStyleModel",
          "model_module_version": "1.5.0",
          "state": {
            "_view_name": "StyleView",
            "_model_name": "ProgressStyleModel",
            "description_width": "",
            "_view_module": "@jupyter-widgets/base",
            "_model_module_version": "1.5.0",
            "_view_count": null,
            "_view_module_version": "1.2.0",
            "bar_color": null,
            "_model_module": "@jupyter-widgets/controls"
          }
        },
        "dac3e79c1bfe424fa2f1ae5551bed4f5": {
          "model_module": "@jupyter-widgets/base",
          "model_name": "LayoutModel",
          "model_module_version": "1.2.0",
          "state": {
            "_view_name": "LayoutView",
            "grid_template_rows": null,
            "right": null,
            "justify_content": null,
            "_view_module": "@jupyter-widgets/base",
            "overflow": null,
            "_model_module_version": "1.2.0",
            "_view_count": null,
            "flex_flow": null,
            "width": null,
            "min_width": null,
            "border": null,
            "align_items": null,
            "bottom": null,
            "_model_module": "@jupyter-widgets/base",
            "top": null,
            "grid_column": null,
            "overflow_y": null,
            "overflow_x": null,
            "grid_auto_flow": null,
            "grid_area": null,
            "grid_template_columns": null,
            "flex": null,
            "_model_name": "LayoutModel",
            "justify_items": null,
            "grid_row": null,
            "max_height": null,
            "align_content": null,
            "visibility": null,
            "align_self": null,
            "height": null,
            "min_height": null,
            "padding": null,
            "grid_auto_rows": null,
            "grid_gap": null,
            "max_width": null,
            "order": null,
            "_view_module_version": "1.2.0",
            "grid_template_areas": null,
            "object_position": null,
            "object_fit": null,
            "grid_auto_columns": null,
            "margin": null,
            "display": null,
            "left": null
          }
        },
        "9aa6f0591200422ba2a7ba330d78318b": {
          "model_module": "@jupyter-widgets/controls",
          "model_name": "DescriptionStyleModel",
          "model_module_version": "1.5.0",
          "state": {
            "_view_name": "StyleView",
            "_model_name": "DescriptionStyleModel",
            "description_width": "",
            "_view_module": "@jupyter-widgets/base",
            "_model_module_version": "1.5.0",
            "_view_count": null,
            "_view_module_version": "1.2.0",
            "_model_module": "@jupyter-widgets/controls"
          }
        },
        "ea32b487efdf46a38862bf4f9a1b9cee": {
          "model_module": "@jupyter-widgets/base",
          "model_name": "LayoutModel",
          "model_module_version": "1.2.0",
          "state": {
            "_view_name": "LayoutView",
            "grid_template_rows": null,
            "right": null,
            "justify_content": null,
            "_view_module": "@jupyter-widgets/base",
            "overflow": null,
            "_model_module_version": "1.2.0",
            "_view_count": null,
            "flex_flow": null,
            "width": null,
            "min_width": null,
            "border": null,
            "align_items": null,
            "bottom": null,
            "_model_module": "@jupyter-widgets/base",
            "top": null,
            "grid_column": null,
            "overflow_y": null,
            "overflow_x": null,
            "grid_auto_flow": null,
            "grid_area": null,
            "grid_template_columns": null,
            "flex": null,
            "_model_name": "LayoutModel",
            "justify_items": null,
            "grid_row": null,
            "max_height": null,
            "align_content": null,
            "visibility": null,
            "align_self": null,
            "height": null,
            "min_height": null,
            "padding": null,
            "grid_auto_rows": null,
            "grid_gap": null,
            "max_width": null,
            "order": null,
            "_view_module_version": "1.2.0",
            "grid_template_areas": null,
            "object_position": null,
            "object_fit": null,
            "grid_auto_columns": null,
            "margin": null,
            "display": null,
            "left": null
          }
        },
        "92c0d95143734c79a1675350087ab649": {
          "model_module": "@jupyter-widgets/controls",
          "model_name": "HBoxModel",
          "model_module_version": "1.5.0",
          "state": {
            "_view_name": "HBoxView",
            "_dom_classes": [],
            "_model_name": "HBoxModel",
            "_view_module": "@jupyter-widgets/controls",
            "_model_module_version": "1.5.0",
            "_view_count": null,
            "_view_module_version": "1.5.0",
            "box_style": "",
            "layout": "IPY_MODEL_7594a851b0a54fdbb81eec3a121f1254",
            "_model_module": "@jupyter-widgets/controls",
            "children": [
              "IPY_MODEL_7855d3db88f0423e830d0fa3ff8f1861",
              "IPY_MODEL_10de60b67d944713a50384fb26763fbd",
              "IPY_MODEL_eb9e3b247d394ccd96d573d5f642ec7d"
            ]
          }
        },
        "7594a851b0a54fdbb81eec3a121f1254": {
          "model_module": "@jupyter-widgets/base",
          "model_name": "LayoutModel",
          "model_module_version": "1.2.0",
          "state": {
            "_view_name": "LayoutView",
            "grid_template_rows": null,
            "right": null,
            "justify_content": null,
            "_view_module": "@jupyter-widgets/base",
            "overflow": null,
            "_model_module_version": "1.2.0",
            "_view_count": null,
            "flex_flow": null,
            "width": null,
            "min_width": null,
            "border": null,
            "align_items": null,
            "bottom": null,
            "_model_module": "@jupyter-widgets/base",
            "top": null,
            "grid_column": null,
            "overflow_y": null,
            "overflow_x": null,
            "grid_auto_flow": null,
            "grid_area": null,
            "grid_template_columns": null,
            "flex": null,
            "_model_name": "LayoutModel",
            "justify_items": null,
            "grid_row": null,
            "max_height": null,
            "align_content": null,
            "visibility": null,
            "align_self": null,
            "height": null,
            "min_height": null,
            "padding": null,
            "grid_auto_rows": null,
            "grid_gap": null,
            "max_width": null,
            "order": null,
            "_view_module_version": "1.2.0",
            "grid_template_areas": null,
            "object_position": null,
            "object_fit": null,
            "grid_auto_columns": null,
            "margin": null,
            "display": null,
            "left": null
          }
        },
        "7855d3db88f0423e830d0fa3ff8f1861": {
          "model_module": "@jupyter-widgets/controls",
          "model_name": "HTMLModel",
          "model_module_version": "1.5.0",
          "state": {
            "_view_name": "HTMLView",
            "style": "IPY_MODEL_90431eb33a214c109b485f9a3b700c39",
            "_dom_classes": [],
            "description": "",
            "_model_name": "HTMLModel",
            "placeholder": "​",
            "_view_module": "@jupyter-widgets/controls",
            "_model_module_version": "1.5.0",
            "value": "Epochs 2/3. Running Loss:    0.0402: 100%",
            "_view_count": null,
            "_view_module_version": "1.5.0",
            "description_tooltip": null,
            "_model_module": "@jupyter-widgets/controls",
            "layout": "IPY_MODEL_95d89115f7544355ab50b698473dff8f"
          }
        },
        "10de60b67d944713a50384fb26763fbd": {
          "model_module": "@jupyter-widgets/controls",
          "model_name": "FloatProgressModel",
          "model_module_version": "1.5.0",
          "state": {
            "_view_name": "ProgressView",
            "style": "IPY_MODEL_269a0003112a4f31b481a6de87c39dec",
            "_dom_classes": [],
            "description": "",
            "_model_name": "FloatProgressModel",
            "bar_style": "success",
            "max": 57,
            "_view_module": "@jupyter-widgets/controls",
            "_model_module_version": "1.5.0",
            "value": 57,
            "_view_count": null,
            "_view_module_version": "1.5.0",
            "orientation": "horizontal",
            "min": 0,
            "description_tooltip": null,
            "_model_module": "@jupyter-widgets/controls",
            "layout": "IPY_MODEL_43b040b7269345328f3e34264493169e"
          }
        },
        "eb9e3b247d394ccd96d573d5f642ec7d": {
          "model_module": "@jupyter-widgets/controls",
          "model_name": "HTMLModel",
          "model_module_version": "1.5.0",
          "state": {
            "_view_name": "HTMLView",
            "style": "IPY_MODEL_91fdcc846b134d9bb0f97bcab94ea484",
            "_dom_classes": [],
            "description": "",
            "_model_name": "HTMLModel",
            "placeholder": "​",
            "_view_module": "@jupyter-widgets/controls",
            "_model_module_version": "1.5.0",
            "value": " 57/57 [20:36&lt;00:00, 20.16s/it]",
            "_view_count": null,
            "_view_module_version": "1.5.0",
            "description_tooltip": null,
            "_model_module": "@jupyter-widgets/controls",
            "layout": "IPY_MODEL_1a5bb3e01ecb4194b7c9022ad72995bd"
          }
        },
        "90431eb33a214c109b485f9a3b700c39": {
          "model_module": "@jupyter-widgets/controls",
          "model_name": "DescriptionStyleModel",
          "model_module_version": "1.5.0",
          "state": {
            "_view_name": "StyleView",
            "_model_name": "DescriptionStyleModel",
            "description_width": "",
            "_view_module": "@jupyter-widgets/base",
            "_model_module_version": "1.5.0",
            "_view_count": null,
            "_view_module_version": "1.2.0",
            "_model_module": "@jupyter-widgets/controls"
          }
        },
        "95d89115f7544355ab50b698473dff8f": {
          "model_module": "@jupyter-widgets/base",
          "model_name": "LayoutModel",
          "model_module_version": "1.2.0",
          "state": {
            "_view_name": "LayoutView",
            "grid_template_rows": null,
            "right": null,
            "justify_content": null,
            "_view_module": "@jupyter-widgets/base",
            "overflow": null,
            "_model_module_version": "1.2.0",
            "_view_count": null,
            "flex_flow": null,
            "width": null,
            "min_width": null,
            "border": null,
            "align_items": null,
            "bottom": null,
            "_model_module": "@jupyter-widgets/base",
            "top": null,
            "grid_column": null,
            "overflow_y": null,
            "overflow_x": null,
            "grid_auto_flow": null,
            "grid_area": null,
            "grid_template_columns": null,
            "flex": null,
            "_model_name": "LayoutModel",
            "justify_items": null,
            "grid_row": null,
            "max_height": null,
            "align_content": null,
            "visibility": null,
            "align_self": null,
            "height": null,
            "min_height": null,
            "padding": null,
            "grid_auto_rows": null,
            "grid_gap": null,
            "max_width": null,
            "order": null,
            "_view_module_version": "1.2.0",
            "grid_template_areas": null,
            "object_position": null,
            "object_fit": null,
            "grid_auto_columns": null,
            "margin": null,
            "display": null,
            "left": null
          }
        },
        "269a0003112a4f31b481a6de87c39dec": {
          "model_module": "@jupyter-widgets/controls",
          "model_name": "ProgressStyleModel",
          "model_module_version": "1.5.0",
          "state": {
            "_view_name": "StyleView",
            "_model_name": "ProgressStyleModel",
            "description_width": "",
            "_view_module": "@jupyter-widgets/base",
            "_model_module_version": "1.5.0",
            "_view_count": null,
            "_view_module_version": "1.2.0",
            "bar_color": null,
            "_model_module": "@jupyter-widgets/controls"
          }
        },
        "43b040b7269345328f3e34264493169e": {
          "model_module": "@jupyter-widgets/base",
          "model_name": "LayoutModel",
          "model_module_version": "1.2.0",
          "state": {
            "_view_name": "LayoutView",
            "grid_template_rows": null,
            "right": null,
            "justify_content": null,
            "_view_module": "@jupyter-widgets/base",
            "overflow": null,
            "_model_module_version": "1.2.0",
            "_view_count": null,
            "flex_flow": null,
            "width": null,
            "min_width": null,
            "border": null,
            "align_items": null,
            "bottom": null,
            "_model_module": "@jupyter-widgets/base",
            "top": null,
            "grid_column": null,
            "overflow_y": null,
            "overflow_x": null,
            "grid_auto_flow": null,
            "grid_area": null,
            "grid_template_columns": null,
            "flex": null,
            "_model_name": "LayoutModel",
            "justify_items": null,
            "grid_row": null,
            "max_height": null,
            "align_content": null,
            "visibility": null,
            "align_self": null,
            "height": null,
            "min_height": null,
            "padding": null,
            "grid_auto_rows": null,
            "grid_gap": null,
            "max_width": null,
            "order": null,
            "_view_module_version": "1.2.0",
            "grid_template_areas": null,
            "object_position": null,
            "object_fit": null,
            "grid_auto_columns": null,
            "margin": null,
            "display": null,
            "left": null
          }
        },
        "91fdcc846b134d9bb0f97bcab94ea484": {
          "model_module": "@jupyter-widgets/controls",
          "model_name": "DescriptionStyleModel",
          "model_module_version": "1.5.0",
          "state": {
            "_view_name": "StyleView",
            "_model_name": "DescriptionStyleModel",
            "description_width": "",
            "_view_module": "@jupyter-widgets/base",
            "_model_module_version": "1.5.0",
            "_view_count": null,
            "_view_module_version": "1.2.0",
            "_model_module": "@jupyter-widgets/controls"
          }
        },
        "1a5bb3e01ecb4194b7c9022ad72995bd": {
          "model_module": "@jupyter-widgets/base",
          "model_name": "LayoutModel",
          "model_module_version": "1.2.0",
          "state": {
            "_view_name": "LayoutView",
            "grid_template_rows": null,
            "right": null,
            "justify_content": null,
            "_view_module": "@jupyter-widgets/base",
            "overflow": null,
            "_model_module_version": "1.2.0",
            "_view_count": null,
            "flex_flow": null,
            "width": null,
            "min_width": null,
            "border": null,
            "align_items": null,
            "bottom": null,
            "_model_module": "@jupyter-widgets/base",
            "top": null,
            "grid_column": null,
            "overflow_y": null,
            "overflow_x": null,
            "grid_auto_flow": null,
            "grid_area": null,
            "grid_template_columns": null,
            "flex": null,
            "_model_name": "LayoutModel",
            "justify_items": null,
            "grid_row": null,
            "max_height": null,
            "align_content": null,
            "visibility": null,
            "align_self": null,
            "height": null,
            "min_height": null,
            "padding": null,
            "grid_auto_rows": null,
            "grid_gap": null,
            "max_width": null,
            "order": null,
            "_view_module_version": "1.2.0",
            "grid_template_areas": null,
            "object_position": null,
            "object_fit": null,
            "grid_auto_columns": null,
            "margin": null,
            "display": null,
            "left": null
          }
        },
        "bbd973f903df47ed92b3f9f6368568d9": {
          "model_module": "@jupyter-widgets/controls",
          "model_name": "HBoxModel",
          "model_module_version": "1.5.0",
          "state": {
            "_view_name": "HBoxView",
            "_dom_classes": [],
            "_model_name": "HBoxModel",
            "_view_module": "@jupyter-widgets/controls",
            "_model_module_version": "1.5.0",
            "_view_count": null,
            "_view_module_version": "1.5.0",
            "box_style": "",
            "layout": "IPY_MODEL_ae478cf821f54be8a26b41eab3cb0324",
            "_model_module": "@jupyter-widgets/controls",
            "children": [
              "IPY_MODEL_075f35e1932345a9821214284ec38aa5",
              "IPY_MODEL_09580763d7d14c79a50582165e65c018",
              "IPY_MODEL_21133c2d424b425aa1e78771a028d49f"
            ]
          }
        },
        "ae478cf821f54be8a26b41eab3cb0324": {
          "model_module": "@jupyter-widgets/base",
          "model_name": "LayoutModel",
          "model_module_version": "1.2.0",
          "state": {
            "_view_name": "LayoutView",
            "grid_template_rows": null,
            "right": null,
            "justify_content": null,
            "_view_module": "@jupyter-widgets/base",
            "overflow": null,
            "_model_module_version": "1.2.0",
            "_view_count": null,
            "flex_flow": null,
            "width": null,
            "min_width": null,
            "border": null,
            "align_items": null,
            "bottom": null,
            "_model_module": "@jupyter-widgets/base",
            "top": null,
            "grid_column": null,
            "overflow_y": null,
            "overflow_x": null,
            "grid_auto_flow": null,
            "grid_area": null,
            "grid_template_columns": null,
            "flex": null,
            "_model_name": "LayoutModel",
            "justify_items": null,
            "grid_row": null,
            "max_height": null,
            "align_content": null,
            "visibility": null,
            "align_self": null,
            "height": null,
            "min_height": null,
            "padding": null,
            "grid_auto_rows": null,
            "grid_gap": null,
            "max_width": null,
            "order": null,
            "_view_module_version": "1.2.0",
            "grid_template_areas": null,
            "object_position": null,
            "object_fit": null,
            "grid_auto_columns": null,
            "margin": null,
            "display": null,
            "left": null
          }
        },
        "075f35e1932345a9821214284ec38aa5": {
          "model_module": "@jupyter-widgets/controls",
          "model_name": "HTMLModel",
          "model_module_version": "1.5.0",
          "state": {
            "_view_name": "HTMLView",
            "style": "IPY_MODEL_7f30062560e947f18cb3bbe5bbc7ae8f",
            "_dom_classes": [],
            "description": "",
            "_model_name": "HTMLModel",
            "placeholder": "​",
            "_view_module": "@jupyter-widgets/controls",
            "_model_module_version": "1.5.0",
            "value": "  0%",
            "_view_count": null,
            "_view_module_version": "1.5.0",
            "description_tooltip": null,
            "_model_module": "@jupyter-widgets/controls",
            "layout": "IPY_MODEL_33e0c6ab66a24536b71b1dbcb2bf4761"
          }
        },
        "09580763d7d14c79a50582165e65c018": {
          "model_module": "@jupyter-widgets/controls",
          "model_name": "FloatProgressModel",
          "model_module_version": "1.5.0",
          "state": {
            "_view_name": "ProgressView",
            "style": "IPY_MODEL_1bef7361ac9743e4b327e401efa24da8",
            "_dom_classes": [],
            "description": "",
            "_model_name": "FloatProgressModel",
            "bar_style": "danger",
            "max": 908,
            "_view_module": "@jupyter-widgets/controls",
            "_model_module_version": "1.5.0",
            "value": 2,
            "_view_count": null,
            "_view_module_version": "1.5.0",
            "orientation": "horizontal",
            "min": 0,
            "description_tooltip": null,
            "_model_module": "@jupyter-widgets/controls",
            "layout": "IPY_MODEL_76d8bb97456942668dd6168487510de1"
          }
        },
        "21133c2d424b425aa1e78771a028d49f": {
          "model_module": "@jupyter-widgets/controls",
          "model_name": "HTMLModel",
          "model_module_version": "1.5.0",
          "state": {
            "_view_name": "HTMLView",
            "style": "IPY_MODEL_b96cc612e7fa4c47ad578999cee2c3f5",
            "_dom_classes": [],
            "description": "",
            "_model_name": "HTMLModel",
            "placeholder": "​",
            "_view_module": "@jupyter-widgets/controls",
            "_model_module_version": "1.5.0",
            "value": " 2/908 [00:00&lt;10:21,  1.46it/s]",
            "_view_count": null,
            "_view_module_version": "1.5.0",
            "description_tooltip": null,
            "_model_module": "@jupyter-widgets/controls",
            "layout": "IPY_MODEL_1f2afda63c1b48f69670adff71b4f1ea"
          }
        },
        "7f30062560e947f18cb3bbe5bbc7ae8f": {
          "model_module": "@jupyter-widgets/controls",
          "model_name": "DescriptionStyleModel",
          "model_module_version": "1.5.0",
          "state": {
            "_view_name": "StyleView",
            "_model_name": "DescriptionStyleModel",
            "description_width": "",
            "_view_module": "@jupyter-widgets/base",
            "_model_module_version": "1.5.0",
            "_view_count": null,
            "_view_module_version": "1.2.0",
            "_model_module": "@jupyter-widgets/controls"
          }
        },
        "33e0c6ab66a24536b71b1dbcb2bf4761": {
          "model_module": "@jupyter-widgets/base",
          "model_name": "LayoutModel",
          "model_module_version": "1.2.0",
          "state": {
            "_view_name": "LayoutView",
            "grid_template_rows": null,
            "right": null,
            "justify_content": null,
            "_view_module": "@jupyter-widgets/base",
            "overflow": null,
            "_model_module_version": "1.2.0",
            "_view_count": null,
            "flex_flow": null,
            "width": null,
            "min_width": null,
            "border": null,
            "align_items": null,
            "bottom": null,
            "_model_module": "@jupyter-widgets/base",
            "top": null,
            "grid_column": null,
            "overflow_y": null,
            "overflow_x": null,
            "grid_auto_flow": null,
            "grid_area": null,
            "grid_template_columns": null,
            "flex": null,
            "_model_name": "LayoutModel",
            "justify_items": null,
            "grid_row": null,
            "max_height": null,
            "align_content": null,
            "visibility": null,
            "align_self": null,
            "height": null,
            "min_height": null,
            "padding": null,
            "grid_auto_rows": null,
            "grid_gap": null,
            "max_width": null,
            "order": null,
            "_view_module_version": "1.2.0",
            "grid_template_areas": null,
            "object_position": null,
            "object_fit": null,
            "grid_auto_columns": null,
            "margin": null,
            "display": null,
            "left": null
          }
        },
        "1bef7361ac9743e4b327e401efa24da8": {
          "model_module": "@jupyter-widgets/controls",
          "model_name": "ProgressStyleModel",
          "model_module_version": "1.5.0",
          "state": {
            "_view_name": "StyleView",
            "_model_name": "ProgressStyleModel",
            "description_width": "",
            "_view_module": "@jupyter-widgets/base",
            "_model_module_version": "1.5.0",
            "_view_count": null,
            "_view_module_version": "1.2.0",
            "bar_color": null,
            "_model_module": "@jupyter-widgets/controls"
          }
        },
        "76d8bb97456942668dd6168487510de1": {
          "model_module": "@jupyter-widgets/base",
          "model_name": "LayoutModel",
          "model_module_version": "1.2.0",
          "state": {
            "_view_name": "LayoutView",
            "grid_template_rows": null,
            "right": null,
            "justify_content": null,
            "_view_module": "@jupyter-widgets/base",
            "overflow": null,
            "_model_module_version": "1.2.0",
            "_view_count": null,
            "flex_flow": null,
            "width": null,
            "min_width": null,
            "border": null,
            "align_items": null,
            "bottom": null,
            "_model_module": "@jupyter-widgets/base",
            "top": null,
            "grid_column": null,
            "overflow_y": null,
            "overflow_x": null,
            "grid_auto_flow": null,
            "grid_area": null,
            "grid_template_columns": null,
            "flex": null,
            "_model_name": "LayoutModel",
            "justify_items": null,
            "grid_row": null,
            "max_height": null,
            "align_content": null,
            "visibility": null,
            "align_self": null,
            "height": null,
            "min_height": null,
            "padding": null,
            "grid_auto_rows": null,
            "grid_gap": null,
            "max_width": null,
            "order": null,
            "_view_module_version": "1.2.0",
            "grid_template_areas": null,
            "object_position": null,
            "object_fit": null,
            "grid_auto_columns": null,
            "margin": null,
            "display": null,
            "left": null
          }
        },
        "b96cc612e7fa4c47ad578999cee2c3f5": {
          "model_module": "@jupyter-widgets/controls",
          "model_name": "DescriptionStyleModel",
          "model_module_version": "1.5.0",
          "state": {
            "_view_name": "StyleView",
            "_model_name": "DescriptionStyleModel",
            "description_width": "",
            "_view_module": "@jupyter-widgets/base",
            "_model_module_version": "1.5.0",
            "_view_count": null,
            "_view_module_version": "1.2.0",
            "_model_module": "@jupyter-widgets/controls"
          }
        },
        "1f2afda63c1b48f69670adff71b4f1ea": {
          "model_module": "@jupyter-widgets/base",
          "model_name": "LayoutModel",
          "model_module_version": "1.2.0",
          "state": {
            "_view_name": "LayoutView",
            "grid_template_rows": null,
            "right": null,
            "justify_content": null,
            "_view_module": "@jupyter-widgets/base",
            "overflow": null,
            "_model_module_version": "1.2.0",
            "_view_count": null,
            "flex_flow": null,
            "width": null,
            "min_width": null,
            "border": null,
            "align_items": null,
            "bottom": null,
            "_model_module": "@jupyter-widgets/base",
            "top": null,
            "grid_column": null,
            "overflow_y": null,
            "overflow_x": null,
            "grid_auto_flow": null,
            "grid_area": null,
            "grid_template_columns": null,
            "flex": null,
            "_model_name": "LayoutModel",
            "justify_items": null,
            "grid_row": null,
            "max_height": null,
            "align_content": null,
            "visibility": null,
            "align_self": null,
            "height": null,
            "min_height": null,
            "padding": null,
            "grid_auto_rows": null,
            "grid_gap": null,
            "max_width": null,
            "order": null,
            "_view_module_version": "1.2.0",
            "grid_template_areas": null,
            "object_position": null,
            "object_fit": null,
            "grid_auto_columns": null,
            "margin": null,
            "display": null,
            "left": null
          }
        },
        "11eed1cfd94947e3abbbe02691a75ccf": {
          "model_module": "@jupyter-widgets/controls",
          "model_name": "HBoxModel",
          "model_module_version": "1.5.0",
          "state": {
            "_view_name": "HBoxView",
            "_dom_classes": [],
            "_model_name": "HBoxModel",
            "_view_module": "@jupyter-widgets/controls",
            "_model_module_version": "1.5.0",
            "_view_count": null,
            "_view_module_version": "1.5.0",
            "box_style": "",
            "layout": "IPY_MODEL_7f9451d08d634fe5977783732af6050f",
            "_model_module": "@jupyter-widgets/controls",
            "children": [
              "IPY_MODEL_6cfcc8058d1946819b92d726b4ddf6b7",
              "IPY_MODEL_f58c0994375e45ed8b4b4544d0120039",
              "IPY_MODEL_b6819d5a29b84eb6bef40e5379ed7d2b"
            ]
          }
        },
        "7f9451d08d634fe5977783732af6050f": {
          "model_module": "@jupyter-widgets/base",
          "model_name": "LayoutModel",
          "model_module_version": "1.2.0",
          "state": {
            "_view_name": "LayoutView",
            "grid_template_rows": null,
            "right": null,
            "justify_content": null,
            "_view_module": "@jupyter-widgets/base",
            "overflow": null,
            "_model_module_version": "1.2.0",
            "_view_count": null,
            "flex_flow": null,
            "width": null,
            "min_width": null,
            "border": null,
            "align_items": null,
            "bottom": null,
            "_model_module": "@jupyter-widgets/base",
            "top": null,
            "grid_column": null,
            "overflow_y": null,
            "overflow_x": null,
            "grid_auto_flow": null,
            "grid_area": null,
            "grid_template_columns": null,
            "flex": null,
            "_model_name": "LayoutModel",
            "justify_items": null,
            "grid_row": null,
            "max_height": null,
            "align_content": null,
            "visibility": null,
            "align_self": null,
            "height": null,
            "min_height": null,
            "padding": null,
            "grid_auto_rows": null,
            "grid_gap": null,
            "max_width": null,
            "order": null,
            "_view_module_version": "1.2.0",
            "grid_template_areas": null,
            "object_position": null,
            "object_fit": null,
            "grid_auto_columns": null,
            "margin": null,
            "display": null,
            "left": null
          }
        },
        "6cfcc8058d1946819b92d726b4ddf6b7": {
          "model_module": "@jupyter-widgets/controls",
          "model_name": "HTMLModel",
          "model_module_version": "1.5.0",
          "state": {
            "_view_name": "HTMLView",
            "style": "IPY_MODEL_4de32a5155164f1d96286af1d31d07ea",
            "_dom_classes": [],
            "description": "",
            "_model_name": "HTMLModel",
            "placeholder": "​",
            "_view_module": "@jupyter-widgets/controls",
            "_model_module_version": "1.5.0",
            "value": "Running Evaluation: 100%",
            "_view_count": null,
            "_view_module_version": "1.5.0",
            "description_tooltip": null,
            "_model_module": "@jupyter-widgets/controls",
            "layout": "IPY_MODEL_ab046fda10b349a79dcc8221b38ac194"
          }
        },
        "f58c0994375e45ed8b4b4544d0120039": {
          "model_module": "@jupyter-widgets/controls",
          "model_name": "FloatProgressModel",
          "model_module_version": "1.5.0",
          "state": {
            "_view_name": "ProgressView",
            "style": "IPY_MODEL_6d3baa65bee641379e9b15079890d4d0",
            "_dom_classes": [],
            "description": "",
            "_model_name": "FloatProgressModel",
            "bar_style": "success",
            "max": 114,
            "_view_module": "@jupyter-widgets/controls",
            "_model_module_version": "1.5.0",
            "value": 114,
            "_view_count": null,
            "_view_module_version": "1.5.0",
            "orientation": "horizontal",
            "min": 0,
            "description_tooltip": null,
            "_model_module": "@jupyter-widgets/controls",
            "layout": "IPY_MODEL_8955a0374ff548feb301724d8f4a088f"
          }
        },
        "b6819d5a29b84eb6bef40e5379ed7d2b": {
          "model_module": "@jupyter-widgets/controls",
          "model_name": "HTMLModel",
          "model_module_version": "1.5.0",
          "state": {
            "_view_name": "HTMLView",
            "style": "IPY_MODEL_b66cb5a865564c139d2ab6168cab3f68",
            "_dom_classes": [],
            "description": "",
            "_model_name": "HTMLModel",
            "placeholder": "​",
            "_view_module": "@jupyter-widgets/controls",
            "_model_module_version": "1.5.0",
            "value": " 114/114 [01:44&lt;00:00,  1.29it/s]",
            "_view_count": null,
            "_view_module_version": "1.5.0",
            "description_tooltip": null,
            "_model_module": "@jupyter-widgets/controls",
            "layout": "IPY_MODEL_2435b84cf023430ba2555d92ff5e999e"
          }
        },
        "4de32a5155164f1d96286af1d31d07ea": {
          "model_module": "@jupyter-widgets/controls",
          "model_name": "DescriptionStyleModel",
          "model_module_version": "1.5.0",
          "state": {
            "_view_name": "StyleView",
            "_model_name": "DescriptionStyleModel",
            "description_width": "",
            "_view_module": "@jupyter-widgets/base",
            "_model_module_version": "1.5.0",
            "_view_count": null,
            "_view_module_version": "1.2.0",
            "_model_module": "@jupyter-widgets/controls"
          }
        },
        "ab046fda10b349a79dcc8221b38ac194": {
          "model_module": "@jupyter-widgets/base",
          "model_name": "LayoutModel",
          "model_module_version": "1.2.0",
          "state": {
            "_view_name": "LayoutView",
            "grid_template_rows": null,
            "right": null,
            "justify_content": null,
            "_view_module": "@jupyter-widgets/base",
            "overflow": null,
            "_model_module_version": "1.2.0",
            "_view_count": null,
            "flex_flow": null,
            "width": null,
            "min_width": null,
            "border": null,
            "align_items": null,
            "bottom": null,
            "_model_module": "@jupyter-widgets/base",
            "top": null,
            "grid_column": null,
            "overflow_y": null,
            "overflow_x": null,
            "grid_auto_flow": null,
            "grid_area": null,
            "grid_template_columns": null,
            "flex": null,
            "_model_name": "LayoutModel",
            "justify_items": null,
            "grid_row": null,
            "max_height": null,
            "align_content": null,
            "visibility": null,
            "align_self": null,
            "height": null,
            "min_height": null,
            "padding": null,
            "grid_auto_rows": null,
            "grid_gap": null,
            "max_width": null,
            "order": null,
            "_view_module_version": "1.2.0",
            "grid_template_areas": null,
            "object_position": null,
            "object_fit": null,
            "grid_auto_columns": null,
            "margin": null,
            "display": null,
            "left": null
          }
        },
        "6d3baa65bee641379e9b15079890d4d0": {
          "model_module": "@jupyter-widgets/controls",
          "model_name": "ProgressStyleModel",
          "model_module_version": "1.5.0",
          "state": {
            "_view_name": "StyleView",
            "_model_name": "ProgressStyleModel",
            "description_width": "",
            "_view_module": "@jupyter-widgets/base",
            "_model_module_version": "1.5.0",
            "_view_count": null,
            "_view_module_version": "1.2.0",
            "bar_color": null,
            "_model_module": "@jupyter-widgets/controls"
          }
        },
        "8955a0374ff548feb301724d8f4a088f": {
          "model_module": "@jupyter-widgets/base",
          "model_name": "LayoutModel",
          "model_module_version": "1.2.0",
          "state": {
            "_view_name": "LayoutView",
            "grid_template_rows": null,
            "right": null,
            "justify_content": null,
            "_view_module": "@jupyter-widgets/base",
            "overflow": null,
            "_model_module_version": "1.2.0",
            "_view_count": null,
            "flex_flow": null,
            "width": null,
            "min_width": null,
            "border": null,
            "align_items": null,
            "bottom": null,
            "_model_module": "@jupyter-widgets/base",
            "top": null,
            "grid_column": null,
            "overflow_y": null,
            "overflow_x": null,
            "grid_auto_flow": null,
            "grid_area": null,
            "grid_template_columns": null,
            "flex": null,
            "_model_name": "LayoutModel",
            "justify_items": null,
            "grid_row": null,
            "max_height": null,
            "align_content": null,
            "visibility": null,
            "align_self": null,
            "height": null,
            "min_height": null,
            "padding": null,
            "grid_auto_rows": null,
            "grid_gap": null,
            "max_width": null,
            "order": null,
            "_view_module_version": "1.2.0",
            "grid_template_areas": null,
            "object_position": null,
            "object_fit": null,
            "grid_auto_columns": null,
            "margin": null,
            "display": null,
            "left": null
          }
        },
        "b66cb5a865564c139d2ab6168cab3f68": {
          "model_module": "@jupyter-widgets/controls",
          "model_name": "DescriptionStyleModel",
          "model_module_version": "1.5.0",
          "state": {
            "_view_name": "StyleView",
            "_model_name": "DescriptionStyleModel",
            "description_width": "",
            "_view_module": "@jupyter-widgets/base",
            "_model_module_version": "1.5.0",
            "_view_count": null,
            "_view_module_version": "1.2.0",
            "_model_module": "@jupyter-widgets/controls"
          }
        },
        "2435b84cf023430ba2555d92ff5e999e": {
          "model_module": "@jupyter-widgets/base",
          "model_name": "LayoutModel",
          "model_module_version": "1.2.0",
          "state": {
            "_view_name": "LayoutView",
            "grid_template_rows": null,
            "right": null,
            "justify_content": null,
            "_view_module": "@jupyter-widgets/base",
            "overflow": null,
            "_model_module_version": "1.2.0",
            "_view_count": null,
            "flex_flow": null,
            "width": null,
            "min_width": null,
            "border": null,
            "align_items": null,
            "bottom": null,
            "_model_module": "@jupyter-widgets/base",
            "top": null,
            "grid_column": null,
            "overflow_y": null,
            "overflow_x": null,
            "grid_auto_flow": null,
            "grid_area": null,
            "grid_template_columns": null,
            "flex": null,
            "_model_name": "LayoutModel",
            "justify_items": null,
            "grid_row": null,
            "max_height": null,
            "align_content": null,
            "visibility": null,
            "align_self": null,
            "height": null,
            "min_height": null,
            "padding": null,
            "grid_auto_rows": null,
            "grid_gap": null,
            "max_width": null,
            "order": null,
            "_view_module_version": "1.2.0",
            "grid_template_areas": null,
            "object_position": null,
            "object_fit": null,
            "grid_auto_columns": null,
            "margin": null,
            "display": null,
            "left": null
          }
        }
      }
    }
  },
  "cells": [
    {
      "cell_type": "markdown",
      "metadata": {
        "id": "view-in-github",
        "colab_type": "text"
      },
      "source": [
        "<a href=\"https://colab.research.google.com/github/aytekin827/section4_project/blob/main/project4_classification_turkish_language.ipynb\" target=\"_parent\"><img src=\"https://colab.research.google.com/assets/colab-badge.svg\" alt=\"Open In Colab\"/></a>"
      ]
    },
    {
      "cell_type": "markdown",
      "metadata": {
        "id": "libohEwYx7HY"
      },
      "source": [
        "###필요 라이브러리 설치 및 불러오기\n"
      ]
    },
    {
      "cell_type": "code",
      "metadata": {
        "colab": {
          "base_uri": "https://localhost:8080/"
        },
        "id": "e7v4bsq-QPKo",
        "outputId": "3c80cb36-4636-4583-e90b-3a7a7c27480c"
      },
      "source": [
        "import numpy as np # linear algebra\n",
        "import pandas as pd # data processing, CSV file I/O (e.g. pd.read_csv)\n",
        "import matplotlib.pyplot as plt\n",
        "import seaborn as sns\n",
        "from nltk import word_tokenize,sent_tokenize\n",
        "import re # regular expression libary.\n",
        "import nltk # Natural Language toolkit\n",
        "from sklearn import preprocessing\n",
        "from nltk.corpus import stopwords\n",
        "nltk.download(\"stopwords\")\n",
        "nltk.download('punkt')\n",
        "nltk.download('wordnet')\n",
        "import warnings\n",
        "from sklearn.feature_extraction.text import CountVectorizer, TfidfVectorizer\n",
        "warnings.filterwarnings(action='ignore')"
      ],
      "execution_count": 146,
      "outputs": [
        {
          "output_type": "stream",
          "name": "stdout",
          "text": [
            "[nltk_data] Downloading package stopwords to /root/nltk_data...\n",
            "[nltk_data]   Package stopwords is already up-to-date!\n",
            "[nltk_data] Downloading package punkt to /root/nltk_data...\n",
            "[nltk_data]   Package punkt is already up-to-date!\n",
            "[nltk_data] Downloading package wordnet to /root/nltk_data...\n",
            "[nltk_data]   Package wordnet is already up-to-date!\n"
          ]
        }
      ]
    },
    {
      "cell_type": "code",
      "metadata": {
        "colab": {
          "base_uri": "https://localhost:8080/"
        },
        "id": "ZzvK_fvNSJMM",
        "outputId": "f7164ef7-2ce1-40ab-e874-541b74b0580e"
      },
      "source": [
        "!pip install fasttext"
      ],
      "execution_count": 147,
      "outputs": [
        {
          "output_type": "stream",
          "name": "stdout",
          "text": [
            "Requirement already satisfied: fasttext in /usr/local/lib/python3.7/dist-packages (0.9.2)\n",
            "Requirement already satisfied: numpy in /usr/local/lib/python3.7/dist-packages (from fasttext) (1.19.5)\n",
            "Requirement already satisfied: setuptools>=0.7.0 in /usr/local/lib/python3.7/dist-packages (from fasttext) (57.4.0)\n",
            "Requirement already satisfied: pybind11>=2.2 in /usr/local/lib/python3.7/dist-packages (from fasttext) (2.7.1)\n"
          ]
        }
      ]
    },
    {
      "cell_type": "code",
      "metadata": {
        "id": "0WaUqCyYS0xu"
      },
      "source": [
        "!pip install simpletransformers"
      ],
      "execution_count": null,
      "outputs": []
    },
    {
      "cell_type": "markdown",
      "metadata": {
        "id": "HBboaEFYyKrW"
      },
      "source": [
        "# EDA"
      ]
    },
    {
      "cell_type": "code",
      "metadata": {
        "colab": {
          "base_uri": "https://localhost:8080/",
          "height": 204
        },
        "id": "0cKVw2lfPmaB",
        "outputId": "d217b020-d69b-4e6c-f3d5-778865684483"
      },
      "source": [
        "df = pd.read_csv('/content/drive/MyDrive/dataset/7allV03.csv',encoding='utf-8')\n",
        "print(df.shape)\n",
        "df.head()"
      ],
      "execution_count": 148,
      "outputs": [
        {
          "output_type": "execute_result",
          "data": {
            "text/html": [
              "<div>\n",
              "<style scoped>\n",
              "    .dataframe tbody tr th:only-of-type {\n",
              "        vertical-align: middle;\n",
              "    }\n",
              "\n",
              "    .dataframe tbody tr th {\n",
              "        vertical-align: top;\n",
              "    }\n",
              "\n",
              "    .dataframe thead th {\n",
              "        text-align: right;\n",
              "    }\n",
              "</style>\n",
              "<table border=\"1\" class=\"dataframe\">\n",
              "  <thead>\n",
              "    <tr style=\"text-align: right;\">\n",
              "      <th></th>\n",
              "      <th>category</th>\n",
              "      <th>text</th>\n",
              "    </tr>\n",
              "  </thead>\n",
              "  <tbody>\n",
              "    <tr>\n",
              "      <th>0</th>\n",
              "      <td>siyaset</td>\n",
              "      <td>3 milyon ile ön seçim vaadi mhp nin 10 olağan...</td>\n",
              "    </tr>\n",
              "    <tr>\n",
              "      <th>1</th>\n",
              "      <td>siyaset</td>\n",
              "      <td>mesut_yılmaz yüce_divan da ceza alabilirdi pr...</td>\n",
              "    </tr>\n",
              "    <tr>\n",
              "      <th>2</th>\n",
              "      <td>siyaset</td>\n",
              "      <td>disko lar kaldırılıyor başbakan_yardımcısı ar...</td>\n",
              "    </tr>\n",
              "    <tr>\n",
              "      <th>3</th>\n",
              "      <td>siyaset</td>\n",
              "      <td>sarıgül anayasa_mahkemesi ne gidiyor mustafa_...</td>\n",
              "    </tr>\n",
              "    <tr>\n",
              "      <th>4</th>\n",
              "      <td>siyaset</td>\n",
              "      <td>erdoğan idamın bir haklılık sebebi var demek ...</td>\n",
              "    </tr>\n",
              "  </tbody>\n",
              "</table>\n",
              "</div>"
            ],
            "text/plain": [
              "   category                                               text\n",
              "0  siyaset    3 milyon ile ön seçim vaadi mhp nin 10 olağan...\n",
              "1  siyaset    mesut_yılmaz yüce_divan da ceza alabilirdi pr...\n",
              "2  siyaset    disko lar kaldırılıyor başbakan_yardımcısı ar...\n",
              "3  siyaset    sarıgül anayasa_mahkemesi ne gidiyor mustafa_...\n",
              "4  siyaset    erdoğan idamın bir haklılık sebebi var demek ..."
            ]
          },
          "metadata": {},
          "execution_count": 148
        }
      ]
    },
    {
      "cell_type": "code",
      "metadata": {
        "colab": {
          "base_uri": "https://localhost:8080/"
        },
        "id": "COdm85UYPzTu",
        "outputId": "a3688fbd-8714-4a2c-e564-609dea074d31"
      },
      "source": [
        "# 결측치 제거\n",
        "df.isna().sum()"
      ],
      "execution_count": 149,
      "outputs": [
        {
          "output_type": "execute_result",
          "data": {
            "text/plain": [
              "category    0\n",
              "text        0\n",
              "dtype: int64"
            ]
          },
          "metadata": {},
          "execution_count": 149
        }
      ]
    },
    {
      "cell_type": "code",
      "metadata": {
        "id": "5WSu134F0BN0"
      },
      "source": [
        "# 중복값 제거\n",
        "df.duplicated().sum()\n",
        "df = df.drop_duplicates()"
      ],
      "execution_count": 150,
      "outputs": []
    },
    {
      "cell_type": "code",
      "metadata": {
        "colab": {
          "base_uri": "https://localhost:8080/",
          "height": 331
        },
        "id": "aiaM_E4MyPlf",
        "outputId": "a04ed3ce-5e79-4ed2-f51c-0d7f5997445b"
      },
      "source": [
        "sns.countplot(\"category\",data=df)\n",
        "plt.title('# of labels for each category')\n",
        "plt.show() # balanced label\n",
        "s = df['category'].nunique() # number of labels\n",
        "n = df.shape[0]\n",
        "print(f'총 레이블 수 {s}')\n",
        "print(f'총 데이터 수 {n}')"
      ],
      "execution_count": 151,
      "outputs": [
        {
          "output_type": "display_data",
          "data": {
            "image/png": "[encoded data removed]",
            "text/plain": [
              "<Figure size 432x288 with 1 Axes>"
            ]
          },
          "metadata": {
            "needs_background": "light"
          }
        },
        {
          "output_type": "stream",
          "name": "stdout",
          "text": [
            "총 레이블 수 7\n",
            "총 데이터 수 4540\n"
          ]
        }
      ]
    },
    {
      "cell_type": "markdown",
      "metadata": {
        "id": "IcErxwmnuVyO"
      },
      "source": [
        "# modeling & evalutaion"
      ]
    },
    {
      "cell_type": "markdown",
      "metadata": {
        "id": "a2xPG7K91JeA"
      },
      "source": [
        "## Fasttext"
      ]
    },
    {
      "cell_type": "code",
      "metadata": {
        "id": "wiQswWRTVYRV"
      },
      "source": [
        "#data split for train and test\n",
        "from sklearn.model_selection import train_test_split\n",
        "\n",
        "train, test = train_test_split(data, test_size=0.2, random_state=42)\n",
        "train.reset_index(drop=True, inplace=True)\n",
        "test.reset_index(drop=True, inplace=True)"
      ],
      "execution_count": null,
      "outputs": []
    },
    {
      "cell_type": "code",
      "metadata": {
        "colab": {
          "base_uri": "https://localhost:8080/",
          "height": 204
        },
        "id": "FXng-94AVWlu",
        "outputId": "81fae58d-64d1-4114-a29c-3ce73fe39026"
      },
      "source": [
        "train.head()"
      ],
      "execution_count": 154,
      "outputs": [
        {
          "output_type": "execute_result",
          "data": {
            "text/html": [
              "<div>\n",
              "<style scoped>\n",
              "    .dataframe tbody tr th:only-of-type {\n",
              "        vertical-align: middle;\n",
              "    }\n",
              "\n",
              "    .dataframe tbody tr th {\n",
              "        vertical-align: top;\n",
              "    }\n",
              "\n",
              "    .dataframe thead th {\n",
              "        text-align: right;\n",
              "    }\n",
              "</style>\n",
              "<table border=\"1\" class=\"dataframe\">\n",
              "  <thead>\n",
              "    <tr style=\"text-align: right;\">\n",
              "      <th></th>\n",
              "      <th>category</th>\n",
              "      <th>text</th>\n",
              "      <th>labels</th>\n",
              "    </tr>\n",
              "  </thead>\n",
              "  <tbody>\n",
              "    <tr>\n",
              "      <th>0</th>\n",
              "      <td>kultur</td>\n",
              "      <td>7 yaşındaki mercan a büyük ödül almanya nın e...</td>\n",
              "      <td>3</td>\n",
              "    </tr>\n",
              "    <tr>\n",
              "      <th>1</th>\n",
              "      <td>teknoloji</td>\n",
              "      <td>facebook kullanıcıları dikkat ! facebook un y...</td>\n",
              "      <td>6</td>\n",
              "    </tr>\n",
              "    <tr>\n",
              "      <th>2</th>\n",
              "      <td>saglik</td>\n",
              "      <td>organ bağışı vasiyeti herkesin cebinde olacak...</td>\n",
              "      <td>4</td>\n",
              "    </tr>\n",
              "    <tr>\n",
              "      <th>3</th>\n",
              "      <td>ekonomi</td>\n",
              "      <td>çeyrek altın kaç lira istanbul_kapalıçarşı da...</td>\n",
              "      <td>2</td>\n",
              "    </tr>\n",
              "    <tr>\n",
              "      <th>4</th>\n",
              "      <td>ekonomi</td>\n",
              "      <td>borsa güne yükselişle başladı istanbul_menkul...</td>\n",
              "      <td>2</td>\n",
              "    </tr>\n",
              "  </tbody>\n",
              "</table>\n",
              "</div>"
            ],
            "text/plain": [
              "     category                                               text  labels\n",
              "0     kultur    7 yaşındaki mercan a büyük ödül almanya nın e...       3\n",
              "1  teknoloji    facebook kullanıcıları dikkat ! facebook un y...       6\n",
              "2     saglik    organ bağışı vasiyeti herkesin cebinde olacak...       4\n",
              "3    ekonomi    çeyrek altın kaç lira istanbul_kapalıçarşı da...       2\n",
              "4    ekonomi    borsa güne yükselişle başladı istanbul_menkul...       2"
            ]
          },
          "metadata": {},
          "execution_count": 154
        }
      ]
    },
    {
      "cell_type": "code",
      "metadata": {
        "colab": {
          "base_uri": "https://localhost:8080/",
          "height": 204
        },
        "id": "i1tN3lkrRURc",
        "outputId": "d366fdbd-92ef-4ac4-f39e-2d7b3edc4f8e"
      },
      "source": [
        "test.head()"
      ],
      "execution_count": 126,
      "outputs": [
        {
          "output_type": "execute_result",
          "data": {
            "text/html": [
              "<div>\n",
              "<style scoped>\n",
              "    .dataframe tbody tr th:only-of-type {\n",
              "        vertical-align: middle;\n",
              "    }\n",
              "\n",
              "    .dataframe tbody tr th {\n",
              "        vertical-align: top;\n",
              "    }\n",
              "\n",
              "    .dataframe thead th {\n",
              "        text-align: right;\n",
              "    }\n",
              "</style>\n",
              "<table border=\"1\" class=\"dataframe\">\n",
              "  <thead>\n",
              "    <tr style=\"text-align: right;\">\n",
              "      <th></th>\n",
              "      <th>category</th>\n",
              "      <th>text</th>\n",
              "      <th>labels</th>\n",
              "    </tr>\n",
              "  </thead>\n",
              "  <tbody>\n",
              "    <tr>\n",
              "      <th>0</th>\n",
              "      <td>ekonomi</td>\n",
              "      <td>hollanda türkiye  nin büyümesini kıskanıyoru...</td>\n",
              "      <td>2</td>\n",
              "    </tr>\n",
              "    <tr>\n",
              "      <th>1</th>\n",
              "      <td>ekonomi</td>\n",
              "      <td>komşu türk turist çekmek için camileri bile o...</td>\n",
              "      <td>2</td>\n",
              "    </tr>\n",
              "    <tr>\n",
              "      <th>2</th>\n",
              "      <td>kultur</td>\n",
              "      <td>ünlü eser sakıncalı bulundu izmir il milli_eğ...</td>\n",
              "      <td>3</td>\n",
              "    </tr>\n",
              "    <tr>\n",
              "      <th>3</th>\n",
              "      <td>spor</td>\n",
              "      <td>ronaldo ile kıyaslanmaktan sıkılmış ! dünyanı...</td>\n",
              "      <td>5</td>\n",
              "    </tr>\n",
              "    <tr>\n",
              "      <th>4</th>\n",
              "      <td>dunya</td>\n",
              "      <td>meksika da deprem meksika nın güneyinde şidde...</td>\n",
              "      <td>1</td>\n",
              "    </tr>\n",
              "  </tbody>\n",
              "</table>\n",
              "</div>"
            ],
            "text/plain": [
              "   category                                               text  labels\n",
              "0  ekonomi    hollanda türkiye  nin büyümesini kıskanıyoru...       2\n",
              "1  ekonomi    komşu türk turist çekmek için camileri bile o...       2\n",
              "2   kultur    ünlü eser sakıncalı bulundu izmir il milli_eğ...       3\n",
              "3     spor    ronaldo ile kıyaslanmaktan sıkılmış ! dünyanı...       5\n",
              "4    dunya    meksika da deprem meksika nın güneyinde şidde...       1"
            ]
          },
          "metadata": {},
          "execution_count": 126
        }
      ]
    },
    {
      "cell_type": "code",
      "metadata": {
        "id": "cIZODnPMRnyJ"
      },
      "source": [
        "#Data prepare for fasttext format for train\n",
        "train[\"label_format\"]=0\n",
        "for i in range(len(train)):\n",
        "    train.label_format[i]=\"__label__\"+str(train.category[i])+\" \"+str(train.text[i])"
      ],
      "execution_count": 127,
      "outputs": []
    },
    {
      "cell_type": "code",
      "metadata": {
        "id": "95KBmdZwRqNL"
      },
      "source": [
        "#Data prepare for fasttext format for test\n",
        "test[\"label_format\"]=0\n",
        "for i in range(len(test)):\n",
        "    test.label_format[i]=\"__label__\"+str(test.category[i])+\" \"+str(test.text[i])"
      ],
      "execution_count": 128,
      "outputs": []
    },
    {
      "cell_type": "code",
      "metadata": {
        "colab": {
          "base_uri": "https://localhost:8080/",
          "height": 204
        },
        "id": "rZxMOcdIRq3b",
        "outputId": "0b2651ab-30af-4367-bbd1-8e7006ce1d5e"
      },
      "source": [
        "train.head()"
      ],
      "execution_count": 129,
      "outputs": [
        {
          "output_type": "execute_result",
          "data": {
            "text/html": [
              "<div>\n",
              "<style scoped>\n",
              "    .dataframe tbody tr th:only-of-type {\n",
              "        vertical-align: middle;\n",
              "    }\n",
              "\n",
              "    .dataframe tbody tr th {\n",
              "        vertical-align: top;\n",
              "    }\n",
              "\n",
              "    .dataframe thead th {\n",
              "        text-align: right;\n",
              "    }\n",
              "</style>\n",
              "<table border=\"1\" class=\"dataframe\">\n",
              "  <thead>\n",
              "    <tr style=\"text-align: right;\">\n",
              "      <th></th>\n",
              "      <th>category</th>\n",
              "      <th>text</th>\n",
              "      <th>labels</th>\n",
              "      <th>label_format</th>\n",
              "    </tr>\n",
              "  </thead>\n",
              "  <tbody>\n",
              "    <tr>\n",
              "      <th>0</th>\n",
              "      <td>kultur</td>\n",
              "      <td>7 yaşındaki mercan a büyük ödül almanya nın e...</td>\n",
              "      <td>3</td>\n",
              "      <td>__label__kultur   7 yaşındaki mercan a büyük ö...</td>\n",
              "    </tr>\n",
              "    <tr>\n",
              "      <th>1</th>\n",
              "      <td>teknoloji</td>\n",
              "      <td>facebook kullanıcıları dikkat ! facebook un y...</td>\n",
              "      <td>6</td>\n",
              "      <td>__label__teknoloji   facebook kullanıcıları di...</td>\n",
              "    </tr>\n",
              "    <tr>\n",
              "      <th>2</th>\n",
              "      <td>saglik</td>\n",
              "      <td>organ bağışı vasiyeti herkesin cebinde olacak...</td>\n",
              "      <td>4</td>\n",
              "      <td>__label__saglik   organ bağışı vasiyeti herkes...</td>\n",
              "    </tr>\n",
              "    <tr>\n",
              "      <th>3</th>\n",
              "      <td>ekonomi</td>\n",
              "      <td>çeyrek altın kaç lira istanbul_kapalıçarşı da...</td>\n",
              "      <td>2</td>\n",
              "      <td>__label__ekonomi   çeyrek altın kaç lira istan...</td>\n",
              "    </tr>\n",
              "    <tr>\n",
              "      <th>4</th>\n",
              "      <td>ekonomi</td>\n",
              "      <td>borsa güne yükselişle başladı istanbul_menkul...</td>\n",
              "      <td>2</td>\n",
              "      <td>__label__ekonomi   borsa güne yükselişle başla...</td>\n",
              "    </tr>\n",
              "  </tbody>\n",
              "</table>\n",
              "</div>"
            ],
            "text/plain": [
              "     category  ...                                       label_format\n",
              "0     kultur   ...  __label__kultur   7 yaşındaki mercan a büyük ö...\n",
              "1  teknoloji   ...  __label__teknoloji   facebook kullanıcıları di...\n",
              "2     saglik   ...  __label__saglik   organ bağışı vasiyeti herkes...\n",
              "3    ekonomi   ...  __label__ekonomi   çeyrek altın kaç lira istan...\n",
              "4    ekonomi   ...  __label__ekonomi   borsa güne yükselişle başla...\n",
              "\n",
              "[5 rows x 4 columns]"
            ]
          },
          "metadata": {},
          "execution_count": 129
        }
      ]
    },
    {
      "cell_type": "code",
      "metadata": {
        "colab": {
          "base_uri": "https://localhost:8080/",
          "height": 204
        },
        "id": "xdY-Mvn31Tux",
        "outputId": "f039256e-73f7-4e16-cdfd-6728807a4fae"
      },
      "source": [
        "test.head()"
      ],
      "execution_count": 130,
      "outputs": [
        {
          "output_type": "execute_result",
          "data": {
            "text/html": [
              "<div>\n",
              "<style scoped>\n",
              "    .dataframe tbody tr th:only-of-type {\n",
              "        vertical-align: middle;\n",
              "    }\n",
              "\n",
              "    .dataframe tbody tr th {\n",
              "        vertical-align: top;\n",
              "    }\n",
              "\n",
              "    .dataframe thead th {\n",
              "        text-align: right;\n",
              "    }\n",
              "</style>\n",
              "<table border=\"1\" class=\"dataframe\">\n",
              "  <thead>\n",
              "    <tr style=\"text-align: right;\">\n",
              "      <th></th>\n",
              "      <th>category</th>\n",
              "      <th>text</th>\n",
              "      <th>labels</th>\n",
              "      <th>label_format</th>\n",
              "    </tr>\n",
              "  </thead>\n",
              "  <tbody>\n",
              "    <tr>\n",
              "      <th>0</th>\n",
              "      <td>ekonomi</td>\n",
              "      <td>hollanda türkiye  nin büyümesini kıskanıyoru...</td>\n",
              "      <td>2</td>\n",
              "      <td>__label__ekonomi   hollanda türkiye  nin büyü...</td>\n",
              "    </tr>\n",
              "    <tr>\n",
              "      <th>1</th>\n",
              "      <td>ekonomi</td>\n",
              "      <td>komşu türk turist çekmek için camileri bile o...</td>\n",
              "      <td>2</td>\n",
              "      <td>__label__ekonomi   komşu türk turist çekmek iç...</td>\n",
              "    </tr>\n",
              "    <tr>\n",
              "      <th>2</th>\n",
              "      <td>kultur</td>\n",
              "      <td>ünlü eser sakıncalı bulundu izmir il milli_eğ...</td>\n",
              "      <td>3</td>\n",
              "      <td>__label__kultur   ünlü eser sakıncalı bulundu ...</td>\n",
              "    </tr>\n",
              "    <tr>\n",
              "      <th>3</th>\n",
              "      <td>spor</td>\n",
              "      <td>ronaldo ile kıyaslanmaktan sıkılmış ! dünyanı...</td>\n",
              "      <td>5</td>\n",
              "      <td>__label__spor   ronaldo ile kıyaslanmaktan sık...</td>\n",
              "    </tr>\n",
              "    <tr>\n",
              "      <th>4</th>\n",
              "      <td>dunya</td>\n",
              "      <td>meksika da deprem meksika nın güneyinde şidde...</td>\n",
              "      <td>1</td>\n",
              "      <td>__label__dunya   meksika da deprem meksika nın...</td>\n",
              "    </tr>\n",
              "  </tbody>\n",
              "</table>\n",
              "</div>"
            ],
            "text/plain": [
              "   category  ...                                       label_format\n",
              "0  ekonomi   ...  __label__ekonomi   hollanda türkiye  nin büyü...\n",
              "1  ekonomi   ...  __label__ekonomi   komşu türk turist çekmek iç...\n",
              "2   kultur   ...  __label__kultur   ünlü eser sakıncalı bulundu ...\n",
              "3     spor   ...  __label__spor   ronaldo ile kıyaslanmaktan sık...\n",
              "4    dunya   ...  __label__dunya   meksika da deprem meksika nın...\n",
              "\n",
              "[5 rows x 4 columns]"
            ]
          },
          "metadata": {},
          "execution_count": 130
        }
      ]
    },
    {
      "cell_type": "code",
      "metadata": {
        "id": "KceJgWSrR3YW"
      },
      "source": [
        "train.label_format.to_csv('fasttext_train.txt',index=None,header=None)\n",
        "test.label_format.to_csv('fasttext_test.txt',index=None,header=None)"
      ],
      "execution_count": 106,
      "outputs": []
    },
    {
      "cell_type": "code",
      "metadata": {
        "id": "l7GcccnESDrk"
      },
      "source": [
        "import fasttext\n",
        "#train classifier model\n",
        "model_fasttext = fasttext.train_supervised('fasttext_train.txt',\n",
        "                                           epoch=50,\n",
        "                                           lr=0.05,\n",
        "                                           label_prefix='__label__',\n",
        "                                           dim=1000)"
      ],
      "execution_count": 107,
      "outputs": []
    },
    {
      "cell_type": "code",
      "metadata": {
        "colab": {
          "base_uri": "https://localhost:8080/"
        },
        "id": "NAHXoLOHSRao",
        "outputId": "83f48b74-3c57-402b-e77e-296cbfb6e0fc"
      },
      "source": [
        "result = model_fasttext.test('fasttext_train.txt')\n",
        "validation = model_fasttext.test('fasttext_test.txt')\n",
        "\n",
        "# DISPLAY ACCURACY OF TRAINED MODEL\n",
        "text_line =  \"accuracy:\" + str(result[1])  + \",validation:\" + str(validation[1]) + '\\n' \n",
        "print(text_line)\n",
        "print(\"Accuracy:\"str(result[1]))\n",
        "print(\"Precision:\",str(validation[1]))"
      ],
      "execution_count": 108,
      "outputs": [
        {
          "output_type": "stream",
          "name": "stdout",
          "text": [
            "accuracy:0.9270374449339207,validation:0.8480176211453745\n",
            "\n"
          ]
        }
      ]
    },
    {
      "cell_type": "markdown",
      "metadata": {
        "id": "SWbbakslW8wE"
      },
      "source": [
        "## ML - RandomForest, Randomized Serach CV\n"
      ]
    },
    {
      "cell_type": "code",
      "metadata": {
        "colab": {
          "base_uri": "https://localhost:8080/",
          "height": 222
        },
        "id": "UkdYRKqKQznt",
        "outputId": "15c6e3bb-19c4-4236-e37f-bd73b477e85c"
      },
      "source": [
        "# string label을 integer label로 변환하기\n",
        "df['labels'] = pd.factorize(df.category)[0]\n",
        "print(df.shape)\n",
        "df.head()"
      ],
      "execution_count": 152,
      "outputs": [
        {
          "output_type": "stream",
          "name": "stdout",
          "text": [
            "(4540, 3)\n"
          ]
        },
        {
          "output_type": "execute_result",
          "data": {
            "text/html": [
              "<div>\n",
              "<style scoped>\n",
              "    .dataframe tbody tr th:only-of-type {\n",
              "        vertical-align: middle;\n",
              "    }\n",
              "\n",
              "    .dataframe tbody tr th {\n",
              "        vertical-align: top;\n",
              "    }\n",
              "\n",
              "    .dataframe thead th {\n",
              "        text-align: right;\n",
              "    }\n",
              "</style>\n",
              "<table border=\"1\" class=\"dataframe\">\n",
              "  <thead>\n",
              "    <tr style=\"text-align: right;\">\n",
              "      <th></th>\n",
              "      <th>category</th>\n",
              "      <th>text</th>\n",
              "      <th>labels</th>\n",
              "    </tr>\n",
              "  </thead>\n",
              "  <tbody>\n",
              "    <tr>\n",
              "      <th>0</th>\n",
              "      <td>siyaset</td>\n",
              "      <td>3 milyon ile ön seçim vaadi mhp nin 10 olağan...</td>\n",
              "      <td>0</td>\n",
              "    </tr>\n",
              "    <tr>\n",
              "      <th>1</th>\n",
              "      <td>siyaset</td>\n",
              "      <td>mesut_yılmaz yüce_divan da ceza alabilirdi pr...</td>\n",
              "      <td>0</td>\n",
              "    </tr>\n",
              "    <tr>\n",
              "      <th>2</th>\n",
              "      <td>siyaset</td>\n",
              "      <td>disko lar kaldırılıyor başbakan_yardımcısı ar...</td>\n",
              "      <td>0</td>\n",
              "    </tr>\n",
              "    <tr>\n",
              "      <th>3</th>\n",
              "      <td>siyaset</td>\n",
              "      <td>sarıgül anayasa_mahkemesi ne gidiyor mustafa_...</td>\n",
              "      <td>0</td>\n",
              "    </tr>\n",
              "    <tr>\n",
              "      <th>4</th>\n",
              "      <td>siyaset</td>\n",
              "      <td>erdoğan idamın bir haklılık sebebi var demek ...</td>\n",
              "      <td>0</td>\n",
              "    </tr>\n",
              "  </tbody>\n",
              "</table>\n",
              "</div>"
            ],
            "text/plain": [
              "   category                                               text  labels\n",
              "0  siyaset    3 milyon ile ön seçim vaadi mhp nin 10 olağan...       0\n",
              "1  siyaset    mesut_yılmaz yüce_divan da ceza alabilirdi pr...       0\n",
              "2  siyaset    disko lar kaldırılıyor başbakan_yardımcısı ar...       0\n",
              "3  siyaset    sarıgül anayasa_mahkemesi ne gidiyor mustafa_...       0\n",
              "4  siyaset    erdoğan idamın bir haklılık sebebi var demek ...       0"
            ]
          },
          "metadata": {},
          "execution_count": 152
        }
      ]
    },
    {
      "cell_type": "code",
      "metadata": {
        "id": "jDvdaP8o4qAP"
      },
      "source": [
        "text_list=[]\n",
        "\n",
        "for text in df.text:\n",
        "    text = text.lower()  #Büyük harften -Küçük harfe çevirme\n",
        "    text = re.sub(\"[^abcçdefgğhıijklmnoöprsştuüvyz]\",\" \",text)\n",
        "    text=nltk.word_tokenize(text) # splits the words that are in the sentence from each other.\n",
        "    text =[word for word in text if not word in set(stopwords.words(\"turkish\"))] # remove stopword \n",
        "    lemma=nltk.WordNetLemmatizer()\n",
        "    text=[lemma.lemmatize(word) for word in text] # this code finds the root of the word for a word in the sentence and change them to their root form.\n",
        "    text=\" \".join(text)\n",
        "    text_list.append(text) # store sentences in list"
      ],
      "execution_count": 155,
      "outputs": []
    },
    {
      "cell_type": "code",
      "metadata": {
        "colab": {
          "base_uri": "https://localhost:8080/"
        },
        "id": "2fdXCduoQ17U",
        "outputId": "598c913b-85f4-4035-bd46-7e6c0470b138"
      },
      "source": [
        "from sklearn.feature_extraction.text import CountVectorizer #Bag of Words\n",
        "\n",
        "max_features=500 # most commonly used 500 words in reviews\n",
        "\n",
        "stop_words_turkish = pd.read_csv('stop_words_turkish.txt',sep='\\n',encoding='utf-8',names=['stop_words'])['stop_words'].tolist() \n",
        "# 터키어 불용어 출처 : https://countwordsfree.com/stopwords/turkish\n",
        "\n",
        "count_vectorizer=CountVectorizer(stop_words=stop_words_turkish, max_features=max_features) \n",
        "sparce_matrix=count_vectorizer.fit_transform(text_list).toarray()\n",
        "print(sparce_matrix.shape)\n",
        "sparce_matrix"
      ],
      "execution_count": 156,
      "outputs": [
        {
          "output_type": "stream",
          "name": "stdout",
          "text": [
            "(4540, 500)\n"
          ]
        },
        {
          "output_type": "execute_result",
          "data": {
            "text/plain": [
              "array([[0, 0, 0, ..., 0, 0, 2],\n",
              "       [1, 0, 0, ..., 0, 0, 0],\n",
              "       [0, 0, 0, ..., 0, 0, 0],\n",
              "       ...,\n",
              "       [0, 0, 0, ..., 0, 0, 0],\n",
              "       [0, 0, 0, ..., 0, 0, 0],\n",
              "       [0, 0, 0, ..., 1, 0, 0]])"
            ]
          },
          "metadata": {},
          "execution_count": 156
        }
      ]
    },
    {
      "cell_type": "code",
      "metadata": {
        "colab": {
          "base_uri": "https://localhost:8080/"
        },
        "id": "AOTznqP_SvUQ",
        "outputId": "d4a05746-eaad-4edb-91ef-fbbdc526b209"
      },
      "source": [
        "print(\"Top {} the most used word by reviewers:\\n {}\".format(max_features,count_vectorizer.get_feature_names()))"
      ],
      "execution_count": 157,
      "outputs": [
        {
          "output_type": "stream",
          "name": "stdout",
          "text": [
            "Top 500 the most used word by reviewers:n\\ ['aa', 'ab', 'abd', 'abdullah', 'adet', 'adlı', 'adı', 'adına', 'ahmet', 'aile', 'ait', 'ak', 'akıllı', 'alan', 'aldı', 'aldığı', 'ali', 'almak', 'almanya', 'altın', 'altına', 'altında', 'alınan', 'alıyor', 'amacıyla', 'an', 'ana', 'anadolu', 'anayasa', 'anda', 'ankara', 'anlatan', 'anlattı', 'anne', 'apple', 'aralık', 'arasında', 'arasındaki', 'araya', 'araştırma', 'ardından', 'artık', 'artış', 'arınç', 'askeri', 'avrupa', 'ay', 'aynı', 'ayında', 'açık', 'açıkladı', 'açıklama', 'açıklamada', 'açısından', 'ağır', 'bakan', 'bakanlığı', 'bakanı', 'basın', 'bağlı', 'başarılı', 'başbakan', 'başka', 'başkan', 'başkanlığı', 'başkanı', 'başladı', 'başlayan', 'başta', 'başında', 'bdp', 'belediye', 'belirten', 'belirterek', 'belirtildi', 'belirtti', 'belli', 'beşiktaş', 'bildirdi', 'bildirildi', 'bilgi', 'bilim', 'biraz', 'birlikte', 'birliği', 'boyunca', 'bugün', 'bugüne', 'bulunan', 'bulundu', 'bulunduğu', 'bulunuyor', 'bütün', 'büyük', 'büyükşehir', 'ceza', 'chp', 'ciddi', 'cihan', 'com', 'cumhurbaşkanı', 'dahil', 'daki', 'dan', 'dedi', 'deki', 'den', 'derece', 'destek', 'devam', 'devlet', 'değildir', 'dikkat', 'dikkati', 'dile', 'diyarbakır', 'diyen', 'diş', 'dolar', 'doç', 'doğan', 'doğru', 'doğum', 'dr', 'durum', 'durumda', 'durumunda', 'dönem', 'dönemde', 'döneminde', 'dün', 'dünya', 'dünyada', 'dünyanın', 'düzenlenen', 'düşük', 'dış', 'dışişleri', 'dışı', 'dışında', 'edildi', 'edilen', 'ekim', 'ekonomik', 'el', 'elde', 'ele', 'elektrik', 'enerji', 'erdoğan', 'erken', 'eski', 'etmek', 'euro', 'ev', 'eylül', 'eğitim', 'facebook', 'fakat', 'farklı', 'fazla', 'fenerbahçe', 'filistin', 'film', 'fransa', 'galatasaray', 'gazze', 'geldi', 'gelecek', 'gelen', 'geliyor', 'genel', 'genç', 'gerek', 'gereken', 'gerekiyor', 'gerekli', 'gerektiğini', 'geri', 'gerçek', 'getirdi', 'getiren', 'geçen', 'gol', 'google', 'grubu', 'grup', 'görev', 'göz', 'gül', 'gün', 'güneş', 'günü', 'güvenlik', 'güzel', 'güçlü', 'haber', 'hafta', 'hakkında', 'hale', 'halinde', 'haline', 'halk', 'hareket', 'hasta', 'hastalığı', 'hastanesi', 'hava', 'hayata', 'hayatını', 'hemen', 'herkes', 'hizmet', 'hızlı', 'iddia', 'ifade', 'ikinci', 'il', 'ilaç', 'ileri', 'ilişkin', 'ilk', 'in', 'ingiltere', 'insan', 'internet', 'iphone', 'irak', 'iran', 'israil', 'istanbul', 'isteyen', 'itter', 'iyi', 'izmir', 'iç', 'içerisinde', 'içinde', 'iş', 'işaret', 'kabul', 'kadın', 'kalan', 'kalp', 'kamu', 'kan', 'kapsamında', 'karar', 'kararı', 'karşı', 'kasım', 'katıldı', 'kaydeden', 'kaydetti', 'kemal', 'kitap', 'kişi', 'kişinin', 'komisyonu', 'kontrol', 'konu', 'konuda', 'konusu', 'konusunda', 'konuşan', 'konuştu', 'kredi', 'kullandı', 'kullanılan', 'kurulu', 'kurumu', 'kötü', 'kültür', 'kürt', 'küçük', 'kılıçdaroğlu', 'kısa', 'la', 'lazım', 'le', 'li', 'lig', 'ligi', 'lira', 'maç', 'maçı', 'maçında', 'meclis', 'mehmet', 'merkez', 'merkezi', 'meydana', 'mhp', 'mi', 'milletvekili', 'milli', 'mustafa', 'mutlaka', 'mücadele', 'müdürü', 'mümkün', 'müzik', 'na', 'nato', 'nda', 'ndan', 'nde', 'nden', 'nedeniyle', 'net', 'nin', 'normal', 'nun', 'nın', 'obama', 'ocak', 'olabilir', 'olacak', 'olduğuna', 'olmadığını', 'oluşan', 'oranı', 'oranında', 'organ', 'orta', 'ortak', 'ortaya', 'oyun', 'oyuncu', 'para', 'parti', 'petrol', 'pkk', 'prof', 'puan', 'recep', 'resmi', 'rusya', 'saat', 'sahibi', 'sahip', 'sanat', 'sanayi', 'satın', 'satış', 'savaş', 'savunma', 'sayesinde', 'sayıda', 'sayın', 'sayısı', 'sağlık', 'sağlıklı', 'sezon', 'sigara', 'sistemi', 'siyasi', 'son', 'sonra', 'sonrası', 'sonucu', 'sonunda', 'soru', 'sorun', 'sosyal', 'soğuk', 'spor', 'su', 'suriye', 'söyledi', 'söyleyen', 'söz', 'süper', 'süre', 'sık', 'sıra', 'sırada', 'sırasında', 'ta', 'takip', 'takım', 'talep', 'tam', 'tamamen', 'tan', 'tarihi', 'tayyip', 'tbmm', 'te', 'tedavi', 'tek', 'teknik', 'teknoloji', 'tekrar', 'telefon', 'temel', 'tercih', 'terör', 'tespit', 'the', 'ticaret', 'tl', 'toplam', 'tür', 'türk', 'türkiye', 'tıp', 'uluslararası', 'un', 'uygulama', 'uygun', 'uzun', 'varsa', 'verdi', 'verdiği', 'veren', 'verilen', 'vurguladı', 'vurgulayan', 'yabancı', 'yaklaşık', 'yakın', 'yana', 'yanlış', 'yanı', 'yanında', 'yapan', 'yapılacak', 'yapıldı', 'yardım', 'yardımcısı', 'yatırım', 'yaş', 'yaşanan', 'yaşayan', 'yaşındaki', 'ye', 'yeni', 'yeniden', 'yer', 'yi', 'yok', 'yol', 'yoğun', 'yurt', 'yönelik', 'yönetim', 'yönetimi', 'yüksek', 'yüzde', 'yı', 'yıl', 'yılda', 'yıldır', 'yıldız', 'yıllık', 'yılmaz', 'yılı', 'yılın', 'yılında', 'zaman', 'zamanda', 'zarar', 'ziyaret', 'zor', 'çalışan', 'çalışma', 'çeken', 'çekti', 'çelik', 'çeşitli', 'çin', 'çocuk', 'çıkan', 'çıktı', 'ödülü', 'önce', 'önceki', 'öne', 'önemli', 'önümüzdeki', 'özel', 'özellikle', 'ülke', 'ülkede', 'ülkenin', 'ün', 'üniversitesi', 'ünlü', 'üst', 'üyesi', 'üzerinde', 'üzerinden', 'üzerine', 'üçüncü', 'ın', 'şekilde', 'şeklinde', 'şimdi', 'şubat']\n"
          ]
        }
      ]
    },
    {
      "cell_type": "code",
      "metadata": {
        "colab": {
          "base_uri": "https://localhost:8080/",
          "height": 533
        },
        "id": "tQoIjOuZTBkR",
        "outputId": "36fa2925-a773-450c-b76d-dedd673c324c"
      },
      "source": [
        "from wordcloud import WordCloud \n",
        "import matplotlib.pyplot as plt\n",
        "plt.subplots(figsize=(12,12))\n",
        "data=pd.DataFrame(count_vectorizer.get_feature_names(),columns=[\"Words\"])\n",
        "wordcloud=WordCloud(background_color=\"black\",width=1024,height=768).generate(\" \".join(data.Words[5:]))\n",
        "plt.imshow(wordcloud)\n",
        "plt.axis(\"off\")\n",
        "plt.show()\n",
        "\n",
        "# lemmatization 이 잘 안됬음 \n",
        "# adına adlı adı \n",
        "# aldığı alan  \n",
        "# 두개 모두 같은 의미"
      ],
      "execution_count": 158,
      "outputs": [
        {
          "output_type": "display_data",
          "data": {
            "image/png": "[encoded data removed]",
            "text/plain": [
              "<Figure size 864x864 with 1 Axes>"
            ]
          },
          "metadata": {
            "needs_background": "light"
          }
        }
      ]
    },
    {
      "cell_type": "code",
      "metadata": {
        "id": "iQ7OxZV3TsK1"
      },
      "source": [
        "from sklearn import preprocessing\n",
        "\n",
        "X=sparce_matrix\n",
        "le = preprocessing.LabelEncoder()\n",
        "labels=le.fit_transform(df.category)\n",
        "y=labels"
      ],
      "execution_count": 159,
      "outputs": []
    },
    {
      "cell_type": "code",
      "metadata": {
        "colab": {
          "base_uri": "https://localhost:8080/"
        },
        "id": "SyCmqo7iUOAg",
        "outputId": "03a9e521-7892-4004-9256-992587ba32b2"
      },
      "source": [
        "from sklearn.model_selection import train_test_split\n",
        "X_train,X_test,y_train,y_test = train_test_split(X,y,test_size=0.2,random_state=42,shuffle=True)\n",
        "print(\"x_train\",X_train.shape)\n",
        "print(\"x_test\",X_test.shape)\n",
        "print(\"y_train\",y_train.shape)\n",
        "print(\"y_test\",y_test.shape)"
      ],
      "execution_count": 161,
      "outputs": [
        {
          "output_type": "stream",
          "name": "stdout",
          "text": [
            "x_train (3632, 500)\n",
            "x_test (908, 500)\n",
            "y_train (3632,)\n",
            "y_test (908,)\n"
          ]
        }
      ]
    },
    {
      "cell_type": "code",
      "metadata": {
        "colab": {
          "base_uri": "https://localhost:8080/"
        },
        "id": "EHhoC3ww4Q-D",
        "outputId": "7c6760be-b19d-4f8d-e48b-159621980d1c"
      },
      "source": [
        "# random forest classifier\n",
        "from sklearn.ensemble import RandomForestClassifier\n",
        "\n",
        "rf_model=RandomForestClassifier(random_state=42)\n",
        "rf_model.fit(X_train,y_train)"
      ],
      "execution_count": 217,
      "outputs": [
        {
          "output_type": "execute_result",
          "data": {
            "text/plain": [
              "RandomForestClassifier(bootstrap=True, ccp_alpha=0.0, class_weight=None,\n",
              "                       criterion='gini', max_depth=None, max_features='auto',\n",
              "                       max_leaf_nodes=None, max_samples=None,\n",
              "                       min_impurity_decrease=0.0, min_impurity_split=None,\n",
              "                       min_samples_leaf=1, min_samples_split=2,\n",
              "                       min_weight_fraction_leaf=0.0, n_estimators=100,\n",
              "                       n_jobs=None, oob_score=False, random_state=42, verbose=0,\n",
              "                       warm_start=False)"
            ]
          },
          "metadata": {},
          "execution_count": 217
        }
      ]
    },
    {
      "cell_type": "code",
      "metadata": {
        "colab": {
          "base_uri": "https://localhost:8080/",
          "height": 646
        },
        "id": "tDn_R9-YWjU8",
        "outputId": "423fb71a-cbe0-4cbe-d9dc-0e320448f5dd"
      },
      "source": [
        "# result\n",
        "# RandomForest model - simple\n",
        "from sklearn.metrics import confusion_matrix,accuracy_score,classification_report,precision_score\n",
        "\n",
        "y_pred=rf_model.predict(X_test)\n",
        "\n",
        "print(\"Accuracy:\",accuracy_score(y_test, y_pred))\n",
        "print(\"Precision:\",precision_score(y_test, y_pred,average=\"micro\"))\n",
        "\n",
        "cm=confusion_matrix(y_test,y_pred)\n",
        "\n",
        "plt.figure(figsize=(10,10))\n",
        "sns.heatmap(cm,annot=True,fmt='d') "
      ],
      "execution_count": 218,
      "outputs": [
        {
          "output_type": "stream",
          "name": "stdout",
          "text": [
            "Accuracy: 0.8237885462555066\n",
            "Precision: 0.8237885462555066\n"
          ]
        },
        {
          "output_type": "execute_result",
          "data": {
            "text/plain": [
              "<matplotlib.axes._subplots.AxesSubplot at 0x7f4dcf4ef490>"
            ]
          },
          "metadata": {},
          "execution_count": 218
        },
        {
          "output_type": "display_data",
          "data": {
            "image/png": "[encoded data removed]",
            "text/plain": [
              "<Figure size 720x720 with 2 Axes>"
            ]
          },
          "metadata": {
            "needs_background": "light"
          }
        }
      ]
    },
    {
      "cell_type": "code",
      "metadata": {
        "id": "cT1QhQ6abrnw"
      },
      "source": [
        "# model fine tuning\n",
        "rf_params={\"max_depth\":[2,5,8,10],\n",
        "           \"max_features\":[2,5,8],\n",
        "           \"n_estimators\":[10,500,1000],\n",
        "          \"min_samples_split\":[2,5,10]}"
      ],
      "execution_count": 223,
      "outputs": []
    },
    {
      "cell_type": "code",
      "metadata": {
        "colab": {
          "base_uri": "https://localhost:8080/"
        },
        "id": "_-g2f1s0XiDZ",
        "outputId": "374aefe3-c980-4434-fce3-48c5b8802039"
      },
      "source": [
        "from sklearn.model_selection import RandomizedSearchCV\n",
        "\n",
        "rf=RandomForestClassifier(random_state=42)\n",
        "rf_cv=RandomizedSearchCV(rf,rf_params,cv=10,n_jobs=-1,verbose=2)\n",
        "rf_cv_model=rf_cv.fit(X_train,y_train)"
      ],
      "execution_count": 224,
      "outputs": [
        {
          "output_type": "stream",
          "name": "stdout",
          "text": [
            "Fitting 10 folds for each of 10 candidates, totalling 100 fits\n"
          ]
        },
        {
          "output_type": "stream",
          "name": "stderr",
          "text": [
            "[Parallel(n_jobs=-1)]: Using backend LokyBackend with 4 concurrent workers.\n",
            "[Parallel(n_jobs=-1)]: Done  33 tasks      | elapsed:   24.3s\n",
            "[Parallel(n_jobs=-1)]: Done 100 out of 100 | elapsed:   58.5s finished\n"
          ]
        }
      ]
    },
    {
      "cell_type": "code",
      "metadata": {
        "colab": {
          "base_uri": "https://localhost:8080/"
        },
        "id": "OT2PV0tCXl4a",
        "outputId": "abce3111-faf3-4c1e-de61-609ff022b1fb"
      },
      "source": [
        "print(rf_cv_model.best_params_)\n",
        "print(rf_cv_model.best_score_)"
      ],
      "execution_count": 225,
      "outputs": [
        {
          "output_type": "stream",
          "name": "stdout",
          "text": [
            "{'n_estimators': 1000, 'min_samples_split': 2, 'max_features': 5, 'max_depth': 10}\n",
            "0.7946144764326584\n"
          ]
        }
      ]
    },
    {
      "cell_type": "code",
      "metadata": {
        "colab": {
          "base_uri": "https://localhost:8080/"
        },
        "id": "bgXJVQ-IXqBi",
        "outputId": "92a6b6cf-e461-478b-a129-3b4b042e95e9"
      },
      "source": [
        "rf_tuned_model=RandomForestClassifier(random_state=42,\n",
        "                                      max_depth=10,\n",
        "                                      max_features= 5,\n",
        "                                      min_samples_split= 2,\n",
        "                                      n_estimators= 1000)\n",
        "\n",
        "rf_tuned_model.fit(X_train,y_train)"
      ],
      "execution_count": 226,
      "outputs": [
        {
          "output_type": "execute_result",
          "data": {
            "text/plain": [
              "RandomForestClassifier(bootstrap=True, ccp_alpha=0.0, class_weight=None,\n",
              "                       criterion='gini', max_depth=10, max_features=5,\n",
              "                       max_leaf_nodes=None, max_samples=None,\n",
              "                       min_impurity_decrease=0.0, min_impurity_split=None,\n",
              "                       min_samples_leaf=1, min_samples_split=2,\n",
              "                       min_weight_fraction_leaf=0.0, n_estimators=1000,\n",
              "                       n_jobs=None, oob_score=False, random_state=42, verbose=0,\n",
              "                       warm_start=False)"
            ]
          },
          "metadata": {},
          "execution_count": 226
        }
      ]
    },
    {
      "cell_type": "code",
      "metadata": {
        "colab": {
          "base_uri": "https://localhost:8080/",
          "height": 646
        },
        "id": "9yP30JtUXsAX",
        "outputId": "fbe20ddc-b0c0-4496-8c7e-40fdd81aa035"
      },
      "source": [
        "# result\n",
        "# hyper parameter fine tuning\n",
        "\n",
        "y_pred=rf_tuned_model.predict(X_test)\n",
        "\n",
        "print(\"Accuracy:\",accuracy_score(y_test, y_pred))\n",
        "print(\"Precision:\",precision_score(y_test, y_pred,average=\"micro\"))\n",
        "\n",
        "cm=confusion_matrix(y_test,y_pred)\n",
        "\n",
        "plt.figure(figsize=(10,10))\n",
        "sns.heatmap(cm,annot=True,fmt='d') "
      ],
      "execution_count": 227,
      "outputs": [
        {
          "output_type": "stream",
          "name": "stdout",
          "text": [
            "Accuracy: 0.7940528634361234\n",
            "Precision: 0.7940528634361234\n"
          ]
        },
        {
          "output_type": "execute_result",
          "data": {
            "text/plain": [
              "<matplotlib.axes._subplots.AxesSubplot at 0x7f4dd3f4fd50>"
            ]
          },
          "metadata": {},
          "execution_count": 227
        },
        {
          "output_type": "display_data",
          "data": {
            "image/png": "[encoded data removed]",
            "text/plain": [
              "<Figure size 720x720 with 2 Axes>"
            ]
          },
          "metadata": {
            "needs_background": "light"
          }
        }
      ]
    },
    {
      "cell_type": "markdown",
      "metadata": {
        "id": "2n136U3XcUcs"
      },
      "source": [
        "## Deep learning - LSTM"
      ]
    },
    {
      "cell_type": "code",
      "metadata": {
        "id": "afV0bFNTcrqe"
      },
      "source": [
        "X = df.text\n",
        "X_list=[] # store text in this list\n",
        "\n",
        "for text in X:\n",
        "    text = text.lower()\n",
        "    text = re.sub(\"[^abcçdefgğhıijklmnoöprsştuüvyz]\",\" \",text)\n",
        "    text = text.split()\n",
        "    text =[word for word in text if not word in set(stopwords.words(\"turkish\"))]\n",
        "    text=\" \".join(text)\n",
        "    X_list.append(text) # store sentences in list"
      ],
      "execution_count": 258,
      "outputs": []
    },
    {
      "cell_type": "code",
      "metadata": {
        "id": "YKOkMuHLcXch"
      },
      "source": [
        "y_label=[]\n",
        "\n",
        "for i in labels:\n",
        "    y_label.append(i)"
      ],
      "execution_count": 259,
      "outputs": []
    },
    {
      "cell_type": "code",
      "metadata": {
        "colab": {
          "base_uri": "https://localhost:8080/"
        },
        "id": "zfo7GdEtcewO",
        "outputId": "b16b7b77-a82a-4a7d-87ad-884a61440075"
      },
      "source": [
        "X_train, X_test, y_train, y_test = train_test_split(X_list, y_label, test_size=0.2, random_state=42,shuffle=True)\n",
        "print(len(X_train)) # 3920 sentences\n",
        "print(len(y_train)) #3920 Labels\n",
        "print(len(X_test))  # 980 sentences\n",
        "print(len(y_test)) # 980 labels"
      ],
      "execution_count": 260,
      "outputs": [
        {
          "output_type": "stream",
          "name": "stdout",
          "text": [
            "3632\n",
            "3632\n",
            "908\n",
            "908\n"
          ]
        }
      ]
    },
    {
      "cell_type": "code",
      "metadata": {
        "colab": {
          "base_uri": "https://localhost:8080/"
        },
        "id": "rmTDt9h6c3qV",
        "outputId": "73146298-6993-447a-b01a-ff8bdc286279"
      },
      "source": [
        "from tensorflow.keras.preprocessing.text import Tokenizer\n",
        "from tensorflow.keras.preprocessing.sequence import pad_sequences \n",
        "\n",
        "max_lenght=100\n",
        "\n",
        "tokenizer = Tokenizer() \n",
        "tokenizer.fit_on_texts(X_train)\n",
        "\n",
        "word_index = tokenizer.word_index # creating word dict for words in training\n",
        "\n",
        "sequences = tokenizer.texts_to_sequences(X_train)  # replacing words with the number corresponding to them in the dictionary(word_index)\n",
        "\n",
        "X_train_padded = pad_sequences(sequences, padding='post',maxlen=max_lenght) # padding words\n",
        "\n",
        "print(len(word_index)) # I have 94836 words in my dictionary"
      ],
      "execution_count": 261,
      "outputs": [
        {
          "output_type": "stream",
          "name": "stdout",
          "text": [
            "94781\n"
          ]
        }
      ]
    },
    {
      "cell_type": "code",
      "metadata": {
        "colab": {
          "base_uri": "https://localhost:8080/"
        },
        "id": "Cv8D7OErc4z0",
        "outputId": "a72ca3e2-462c-4c83-a509-0bef87df6f57"
      },
      "source": [
        "print(\"Original Version:\",X_train[0])\n",
        "print(\"\\n---------------------------------\\n\")\n",
        "print(\"Tokenized version:\",sequences[0])  # change words with number that corresponding to word word_index\n",
        "print(\"\\n---------------------------------\\n\")\n",
        "print(\"Padded version\",X_train_padded[0]) \n",
        "print(\"\\n---------------------------------\\n\")\n",
        "print(\"Shape after the padding:\",X_train_padded.shape)"
      ],
      "execution_count": 262,
      "outputs": [
        {
          "output_type": "stream",
          "name": "stdout",
          "text": [
            "Original Version: yaşındaki mercan a büyük ödül almanya nın önemli medya ödülü olarak kabul edilen bambi ödülleri düsseldorf kentinde düzenlenen törenle yılki sahiplerini buldu hubert burda media yayın kuruluşu tarafından düzenlenen törende christian zübert in dreiviertelmond filminde hayat adlı türk kızını canlandıran yaşındaki mercan fatma türkoğlu yetenek bambi ödülüne layık görüldü minik mercan sahneye gelerek anneme okuluma öğretmenlerime bana bugün burada olmama izin verdikleri teşekkür ediyorum dedi mercan fatma türkoğlu ödülünü kendi yaşıtı olan kendisi oyunculuk yapan nina eichinger den aldı geceden kareler foto galeri yeni başlayanlar türkçe adlı film ulusal film kategorisinde bambi ödülü alırken uyum dalındaki ödülü berlin sokak ortasında arap kökenli gençler tarafından dövülen haham daniel alter aldı yeni başlayanlar türkçe adlı filmin başrol oyuncusu adnan maral türkçe yaptığı teşekkür konuşmasında teşekkür ederim dedi alman birinci televizyonu ard tarafından naklen yayınlanan milyona yakın izleyiciyi ekrana kilitleyen törende adnan maral teşekkür ederim burda türkçe burası demektir ben arkadaşlarım burada olduğumuz mutlu sevinçliyiz teşekkürler iyi geceler almanya diyerek konuşmasını tamamladı milenyum dalındaki bambi ödülüne avusturyalı ekstrem sporcu feli baumgartner uluslararası film dalındaki ödüle salma hayek layık görüldü bambi töreninde sunuculuk yapan celine dion eğlence dalında ödüllendirildi yıl üncüsü düzenlenen bambi ödül törenine siyaset spor sanat kültür alanından sayıda kişi katıldı törende çeşitli dallarda ödül alan isimler şöyle uluslararası film yıldızı salma hayek eğlence celine dion yetenek bambi mercan fatma türkoglu film yeni başlayanlar türkçe türkisch für anf nger yaşam boyu onur bambisi joachim fuchsberger milenyum bambi feli baumgartner uluslararası pop one direction sessiz kahraman ruth pfau lepra hastalara yardım ediyor uyum daniel alter kadın oyuncu alina levshin erkek oyuncu ulrich tukur komedi martina hill yılın televizyon filmi der turm pop cro bizim dünyamız steven armstrup kutup ayısı araştırmacısı\n",
            "\n",
            "---------------------------------\n",
            "\n",
            "Tokenized version: [464, 13545, 16, 12, 732, 328, 11, 24, 914, 511, 4, 150, 158, 13546, 1243, 13547, 1674, 214, 4802, 3025, 4486, 1402, 50716, 17008, 11254, 922, 2167, 33, 214, 2383, 7530, 50717, 8, 50718, 3103, 898, 249, 29, 17009, 6407, 464, 13545, 2692, 15152, 6767, 13546, 6116, 1557, 1296, 6117, 13545, 2140, 2626, 22796, 50719, 50720, 583, 121, 243, 15153, 684, 2384, 801, 853, 9, 13545, 2692, 15152, 2249, 76, 35355, 6, 930, 12271, 132, 19475, 50721, 62, 195, 12272, 10387, 3345, 2573, 14, 19476, 637, 249, 180, 560, 180, 2627, 13546, 511, 1917, 2473, 15154, 511, 2141, 2250, 6118, 915, 3716, 2932, 33, 50722, 50723, 3527, 22797, 195, 14, 19476, 637, 249, 1067, 4487, 1254, 2251, 27590, 637, 53, 801, 1313, 801, 4488, 9, 1455, 846, 4349, 2746, 33, 17010, 1215, 2516, 182, 17011, 4350, 50724, 2383, 2251, 27590, 801, 4488, 17008, 637, 3960, 2574, 107, 8495, 243, 2747, 836, 27591, 27592, 36, 22798, 328, 777, 2693, 1701, 35356, 15154, 13546, 6116, 12273, 27593, 2252, 6119, 9023, 135, 180, 15154, 3717, 35357, 35358, 1557, 1296, 13546, 3834, 22799, 132, 35359, 22800, 2079, 3528, 10388, 26, 8496, 214, 13546, 732, 2794, 1403, 193, 477, 259, 22801, 508, 131, 567, 2383, 420, 27594, 732, 80, 1975, 71, 135, 180, 2168, 35357, 35358, 2079, 35359, 22800, 6767, 13546, 13545, 2692, 50725, 180, 14, 19476, 637, 50726, 35360, 35361, 50727, 601, 2142, 1255, 50728, 27595, 50729, 35356, 13546, 6119, 9023, 135, 6408, 4225, 27596, 2694, 6409, 27597, 50730, 50731, 2338, 649, 145, 2473, 3527, 22797, 215, 374, 50732, 50733, 819, 374, 35362, 50734, 4226, 50735, 50736, 176, 869, 607, 9024, 50737, 6408, 17012, 125, 50738, 12274, 50739, 27598, 35363, 50740]\n",
            "\n",
            "---------------------------------\n",
            "\n",
            "Padded version [ 3834 22799   132 35359 22800  2079  3528 10388    26  8496   214 13546\n",
            "   732  2794  1403   193   477   259 22801   508   131   567  2383   420\n",
            " 27594   732    80  1975    71   135   180  2168 35357 35358  2079 35359\n",
            " 22800  6767 13546 13545  2692 50725   180    14 19476   637 50726 35360\n",
            " 35361 50727   601  2142  1255 50728 27595 50729 35356 13546  6119  9023\n",
            "   135  6408  4225 27596  2694  6409 27597 50730 50731  2338   649   145\n",
            "  2473  3527 22797   215   374 50732 50733   819   374 35362 50734  4226\n",
            " 50735 50736   176   869   607  9024 50737  6408 17012   125 50738 12274\n",
            " 50739 27598 35363 50740]\n",
            "\n",
            "---------------------------------\n",
            "\n",
            "Shape after the padding: (3632, 100)\n"
          ]
        }
      ]
    },
    {
      "cell_type": "code",
      "metadata": {
        "id": "-3HyUZXTc5oW"
      },
      "source": [
        "X_test_sequences = tokenizer.texts_to_sequences(X_test)\n",
        "X_test_padded = pad_sequences(X_test_sequences,padding=\"post\",maxlen=max_lenght)"
      ],
      "execution_count": 263,
      "outputs": []
    },
    {
      "cell_type": "code",
      "metadata": {
        "colab": {
          "base_uri": "https://localhost:8080/"
        },
        "id": "P_wM1akrc6M6",
        "outputId": "035bb6fb-60e1-4b3d-890c-cd43b4810926"
      },
      "source": [
        "print(\"Original Version:\",X_test[0])\n",
        "print(\"\\n---------------------------------\\n\")\n",
        "print(\"Tokenized version:\",X_test_sequences[0])  # change words with number that corresponding to word word_index\n",
        "print(\"\\n---------------------------------\\n\")\n",
        "print(\"Padded version\",X_test_padded[0]) \n",
        "print(\"\\n---------------------------------\\n\")\n",
        "print(\"Shape after the padding:\",X_test_padded.shape)"
      ],
      "execution_count": 264,
      "outputs": [
        {
          "output_type": "stream",
          "name": "stdout",
          "text": [
            "Original Version: hollanda türkiye nin büyümesini kıskanıyoruz hollanda başbakanı mark rutte türkiye nin hollanda nın önemli ticaret yatırım ortaklarından birisi olduğunu belirterek son yıl içinde türkiye ekonomisi büyük bir hızla büyüdü büyüme bizi kıskandırıyor dedi türkiye nin yumuşak inişi başardığını aktaran rutte türkiye halen yüzde e yakın bir büyüme kaydedebiliyor dedi iki ülkenin yıllık toplam ticaret hacminin yıllık milyar doların üzerinde olduğunu anlatan rutte cumhurbaşkanı abdullah gül başbakan recep tayyip erdoğan görüşmeler yaptık görüşmeler sadece politik meselelerden ibaret değildi aynı zamanda iki ülke arasındaki ticari ekonomik ilişkileri artırabileceğimizi görüştük konuştu rutte kredi derecelendirme kuruluşu fitch in türkiye hakkında yaptığı not artırımı dolayısıyla başbakan erdoğan ı tebrik ettiğini belirterek not artırımı türkiye güzel bir haber türkiye artık istikrarlı bir ortam sağlıyor konuştu milyar dolar başbakan yardımcısı ali babacan yılın türkiye hollanda nın ikili ilişkisinin yılı olması sebebiyle önemli olduğunu belirterek geçen yılın sonu itibariyle toplam ticaret hacminin milyar dolara ulaştığını kaydetti rakamın potansiyelin altında olduğunu vurgulayan babacan hollanda dan gelen doğrudan yatırımın yıl sonu itibariyle milyar doları geçmesinin beklendiğini ifade etti toplam milyondan fazla hollandalı turistin türkiye yi ziyaret ettiği bilgisini veren babacan krizin başladığı yılları öncesinde kamu finansman kontrolü sosyal güvenlik sağlık hizmetleri diğer alanlarda tedbirler alındığını anımsattı\n",
            "\n",
            "---------------------------------\n",
            "\n",
            "Tokenized version: [773, 2, 3, 6420, 773, 756, 3311, 3398, 2, 3, 773, 11, 24, 572, 357, 12371, 1692, 7, 117, 23, 26, 58, 2, 3082, 12, 1, 959, 6019, 1020, 775, 47044, 9, 2, 3, 2437, 16643, 13033, 1287, 3398, 2, 1012, 10, 28, 182, 1, 1020, 76307, 9, 43, 323, 365, 220, 572, 23249, 365, 73, 4446, 100, 7, 271, 3398, 321, 497, 371, 46, 317, 445, 49, 1620, 1208, 1620, 56, 3595, 6834, 4270, 60, 295, 43, 175, 329, 940, 288, 1761, 89650, 13453, 45, 3398, 331, 2605, 2167, 1229, 8, 2, 129, 53, 932, 5968, 517, 46, 49, 141, 3066, 360, 117, 932, 5968, 2, 315, 1, 647, 2, 149, 5920, 1, 3534, 1562, 45, 73, 138, 46, 173, 240, 1530, 176, 2, 773, 11, 1959, 33787, 252, 115, 2095, 24, 7, 117, 67, 176, 892, 1045, 220, 572, 23249, 73, 599, 3306, 99, 4490, 35424, 225, 7, 422, 1530, 773, 59, 78, 905, 15959, 26, 892, 1045, 73, 2722, 25715, 10969, 31, 30, 220, 3539, 55, 4931, 28113, 2, 170, 462, 246, 2703, 209, 1530, 3590, 1643, 2037, 1063, 373, 4718, 2705, 154, 186, 95, 1757, 74, 1997, 6037, 2374, 5871]\n",
            "\n",
            "---------------------------------\n",
            "\n",
            "Padded version [   53   932  5968   517    46    49   141  3066   360   117   932  5968\n",
            "     2   315     1   647     2   149  5920     1  3534  1562    45    73\n",
            "   138    46   173   240  1530   176     2   773    11  1959 33787   252\n",
            "   115  2095    24     7   117    67   176   892  1045   220   572 23249\n",
            "    73   599  3306    99  4490 35424   225     7   422  1530   773    59\n",
            "    78   905 15959    26   892  1045    73  2722 25715 10969    31    30\n",
            "   220  3539    55  4931 28113     2   170   462   246  2703   209  1530\n",
            "  3590  1643  2037  1063   373  4718  2705   154   186    95  1757    74\n",
            "  1997  6037  2374  5871]\n",
            "\n",
            "---------------------------------\n",
            "\n",
            "Shape after the padding: (908, 100)\n"
          ]
        }
      ]
    },
    {
      "cell_type": "code",
      "metadata": {
        "id": "NHLT0TRldreK"
      },
      "source": [
        "y_train_label=np.asarray(y_train).reshape(-1,1)\n",
        "y_test_label=np.asarray(y_test).reshape(-1,1)"
      ],
      "execution_count": 265,
      "outputs": []
    },
    {
      "cell_type": "code",
      "metadata": {
        "colab": {
          "base_uri": "https://localhost:8080/"
        },
        "id": "fdS6JUYxhffg",
        "outputId": "5e90f294-322c-4db0-9c7f-aa20cd732536"
      },
      "source": [
        "import tensorflow as tf\n",
        "\n",
        "vocab_size = len(tokenizer.word_index)+1\n",
        "embedding_dim=16\n",
        "\n",
        "model_lstm2 = tf.keras.models.Sequential([\n",
        "  tf.keras.layers.Embedding(vocab_size, embedding_dim, input_length=100),\n",
        "  tf.keras.layers.LSTM(128, dropout=0.2, recurrent_dropout=0.2),\n",
        "  tf.keras.layers.Dense(7, activation='softmax')\n",
        "])\n",
        "\n",
        "model_lstm2.compile(loss='sparse_categorical_crossentropy',\n",
        "              optimizer='adam',\n",
        "              metrics=['accuracy'])\n",
        "model_lstm2.summary()"
      ],
      "execution_count": 295,
      "outputs": [
        {
          "output_type": "stream",
          "name": "stdout",
          "text": [
            "WARNING:tensorflow:Layer lstm_12 will not use cuDNN kernels since it doesn't meet the criteria. It will use a generic GPU kernel as fallback when running on GPU.\n",
            "Model: \"sequential_12\"\n",
            "_________________________________________________________________\n",
            "Layer (type)                 Output Shape              Param #   \n",
            "=================================================================\n",
            "embedding_12 (Embedding)     (None, 100, 16)           1516512   \n",
            "_________________________________________________________________\n",
            "lstm_12 (LSTM)               (None, 128)               74240     \n",
            "_________________________________________________________________\n",
            "dense_19 (Dense)             (None, 7)                 903       \n",
            "=================================================================\n",
            "Total params: 1,591,655\n",
            "Trainable params: 1,591,655\n",
            "Non-trainable params: 0\n",
            "_________________________________________________________________\n"
          ]
        }
      ]
    },
    {
      "cell_type": "code",
      "metadata": {
        "colab": {
          "base_uri": "https://localhost:8080/"
        },
        "id": "hMq3SIJMhsoF",
        "outputId": "d6773f1a-2150-4e04-bc78-c23888a0e483"
      },
      "source": [
        "num_epochs = 10\n",
        "BATCH_SIZE=64\n",
        "history=model_lstm2.fit(X_train_padded,y_train_label,batch_size=BATCH_SIZE ,epochs=num_epochs, validation_data=(X_test_padded,y_test_label))"
      ],
      "execution_count": 296,
      "outputs": [
        {
          "output_type": "stream",
          "name": "stdout",
          "text": [
            "Epoch 1/10\n",
            "57/57 [==============================] - 20s 319ms/step - loss: 1.9283 - accuracy: 0.2015 - val_loss: 1.9110 - val_accuracy: 0.2687\n",
            "Epoch 2/10\n",
            "57/57 [==============================] - 18s 313ms/step - loss: 1.7826 - accuracy: 0.3285 - val_loss: 1.6676 - val_accuracy: 0.2996\n",
            "Epoch 3/10\n",
            "57/57 [==============================] - 18s 314ms/step - loss: 1.4290 - accuracy: 0.3756 - val_loss: 1.4837 - val_accuracy: 0.3656\n",
            "Epoch 4/10\n",
            "57/57 [==============================] - 18s 315ms/step - loss: 1.1923 - accuracy: 0.5490 - val_loss: 1.3047 - val_accuracy: 0.5341\n",
            "Epoch 5/10\n",
            "57/57 [==============================] - 18s 313ms/step - loss: 0.9136 - accuracy: 0.6977 - val_loss: 1.8307 - val_accuracy: 0.4174\n",
            "Epoch 6/10\n",
            "57/57 [==============================] - 18s 314ms/step - loss: 0.7788 - accuracy: 0.7415 - val_loss: 1.2861 - val_accuracy: 0.5319\n",
            "Epoch 7/10\n",
            "57/57 [==============================] - 18s 314ms/step - loss: 0.5625 - accuracy: 0.8373 - val_loss: 1.2099 - val_accuracy: 0.5991\n",
            "Epoch 8/10\n",
            "57/57 [==============================] - 18s 317ms/step - loss: 0.3723 - accuracy: 0.8849 - val_loss: 1.0711 - val_accuracy: 0.6641\n",
            "Epoch 9/10\n",
            "57/57 [==============================] - 18s 316ms/step - loss: 0.3310 - accuracy: 0.8968 - val_loss: 1.2977 - val_accuracy: 0.6222\n",
            "Epoch 10/10\n",
            "57/57 [==============================] - 18s 315ms/step - loss: 0.2071 - accuracy: 0.9342 - val_loss: 1.2852 - val_accuracy: 0.5782\n"
          ]
        }
      ]
    },
    {
      "cell_type": "code",
      "metadata": {
        "colab": {
          "base_uri": "https://localhost:8080/",
          "height": 281
        },
        "id": "9hYemGFtikZI",
        "outputId": "14f41fa7-fe6c-4283-8590-41dc32d325a7"
      },
      "source": [
        "# model_lstm\n",
        "import matplotlib.pyplot as plt\n",
        "\n",
        "plt.plot(history.history[\"accuracy\"],color=\"green\")\n",
        "plt.plot(history.history[\"loss\"],color=\"red\")\n",
        "plt.title(\"Train accuracy and Train loss\")\n",
        "plt.legend([\"Accuracy\",\"Loss\"])\n",
        "plt.grid()\n"
      ],
      "execution_count": 299,
      "outputs": [
        {
          "output_type": "display_data",
          "data": {
            "image/png": "[encoded data removed]",
            "text/plain": [
              "<Figure size 432x288 with 1 Axes>"
            ]
          },
          "metadata": {
            "needs_background": "light"
          }
        }
      ]
    },
    {
      "cell_type": "code",
      "metadata": {
        "colab": {
          "base_uri": "https://localhost:8080/",
          "height": 281
        },
        "id": "1hIZShEpizp6",
        "outputId": "2498b6cc-d292-4a0b-d449-3246511deb4b"
      },
      "source": [
        "# model_lstm\n",
        "plt.plot(history.history[\"val_accuracy\"],color=\"blue\")\n",
        "plt.plot(history.history[\"val_loss\"],color=\"orange\")\n",
        "plt.title(\"Test accuracy and Test loss\")\n",
        "plt.legend([\"Val_accuracy\",\"Val_loss\"])\n",
        "plt.grid()"
      ],
      "execution_count": 300,
      "outputs": [
        {
          "output_type": "display_data",
          "data": {
            "image/png": "[encoded data removed]",
            "text/plain": [
              "<Figure size 432x288 with 1 Axes>"
            ]
          },
          "metadata": {
            "needs_background": "light"
          }
        }
      ]
    },
    {
      "cell_type": "code",
      "metadata": {
        "colab": {
          "base_uri": "https://localhost:8080/"
        },
        "id": "AhLiWH2Hc7dl",
        "outputId": "9a4ba487-6f23-42b4-db89-14a9eb3d8134"
      },
      "source": [
        "import tensorflow as tf\n",
        "\n",
        "vocab_size = len(tokenizer.word_index)+1\n",
        "embedding_dim=16\n",
        "\n",
        "model_lstm2 = tf.keras.Sequential([\n",
        "    \n",
        "    tf.keras.layers.Embedding(vocab_size, embedding_dim, input_length=100),\n",
        "    \n",
        "    tf.keras.layers.Bidirectional(tf.keras.layers.LSTM(64)),\n",
        "    tf.keras.layers.Dropout(0.3),\n",
        "    tf.keras.layers.BatchNormalization(),\n",
        "    \n",
        "    tf.keras.layers.Flatten(),\n",
        "    \n",
        "    tf.keras.layers.Dense(64, activation='relu'),\n",
        "    tf.keras.layers.BatchNormalization(),\n",
        "    tf.keras.layers.Dropout(0.2),\n",
        "    \n",
        "    tf.keras.layers.Dense(7, activation='softmax')\n",
        "])\n",
        "\n",
        "adam= tf.keras.optimizers.Adam(lr=0.01) \n",
        "\n",
        "model_lstm2.compile(loss='sparse_categorical_crossentropy',optimizer=adam,metrics=['accuracy'])\n",
        "model_lstm2.summary()"
      ],
      "execution_count": 270,
      "outputs": [
        {
          "output_type": "stream",
          "name": "stdout",
          "text": [
            "Model: \"sequential_9\"\n",
            "_________________________________________________________________\n",
            "Layer (type)                 Output Shape              Param #   \n",
            "=================================================================\n",
            "embedding_9 (Embedding)      (None, 100, 16)           1516512   \n",
            "_________________________________________________________________\n",
            "bidirectional_2 (Bidirection (None, 128)               41472     \n",
            "_________________________________________________________________\n",
            "dropout_8 (Dropout)          (None, 128)               0         \n",
            "_________________________________________________________________\n",
            "batch_normalization_8 (Batch (None, 128)               512       \n",
            "_________________________________________________________________\n",
            "flatten_4 (Flatten)          (None, 128)               0         \n",
            "_________________________________________________________________\n",
            "dense_13 (Dense)             (None, 64)                8256      \n",
            "_________________________________________________________________\n",
            "batch_normalization_9 (Batch (None, 64)                256       \n",
            "_________________________________________________________________\n",
            "dropout_9 (Dropout)          (None, 64)                0         \n",
            "_________________________________________________________________\n",
            "dense_14 (Dense)             (None, 7)                 455       \n",
            "=================================================================\n",
            "Total params: 1,567,463\n",
            "Trainable params: 1,567,079\n",
            "Non-trainable params: 384\n",
            "_________________________________________________________________\n"
          ]
        }
      ]
    },
    {
      "cell_type": "code",
      "metadata": {
        "colab": {
          "base_uri": "https://localhost:8080/"
        },
        "id": "nxGtvHBIdb9c",
        "outputId": "e25d9c94-c69a-406b-d1b2-673c385a533f"
      },
      "source": [
        "num_epochs = 10\n",
        "BATCH_SIZE=64\n",
        "history2=model_lstm2.fit(X_train_padded,y_train_label,batch_size=BATCH_SIZE ,epochs=num_epochs, validation_data=(X_test_padded,y_test_label))"
      ],
      "execution_count": 271,
      "outputs": [
        {
          "output_type": "stream",
          "name": "stdout",
          "text": [
            "Epoch 1/10\n",
            "57/57 [==============================] - 4s 26ms/step - loss: 2.1133 - accuracy: 0.1842 - val_loss: 1.9426 - val_accuracy: 0.1377\n",
            "Epoch 2/10\n",
            "57/57 [==============================] - 1s 12ms/step - loss: 1.1578 - accuracy: 0.5625 - val_loss: 1.8110 - val_accuracy: 0.2390\n",
            "Epoch 3/10\n",
            "57/57 [==============================] - 1s 12ms/step - loss: 0.3663 - accuracy: 0.8816 - val_loss: 1.3814 - val_accuracy: 0.5374\n",
            "Epoch 4/10\n",
            "57/57 [==============================] - 1s 12ms/step - loss: 0.1052 - accuracy: 0.9747 - val_loss: 0.8758 - val_accuracy: 0.7026\n",
            "Epoch 5/10\n",
            "57/57 [==============================] - 1s 12ms/step - loss: 0.0450 - accuracy: 0.9920 - val_loss: 0.8822 - val_accuracy: 0.7070\n",
            "Epoch 6/10\n",
            "57/57 [==============================] - 1s 13ms/step - loss: 0.0332 - accuracy: 0.9909 - val_loss: 0.8317 - val_accuracy: 0.7258\n",
            "Epoch 7/10\n",
            "57/57 [==============================] - 1s 12ms/step - loss: 0.0232 - accuracy: 0.9950 - val_loss: 0.9833 - val_accuracy: 0.7126\n",
            "Epoch 8/10\n",
            "57/57 [==============================] - 1s 12ms/step - loss: 0.0181 - accuracy: 0.9959 - val_loss: 1.0270 - val_accuracy: 0.7159\n",
            "Epoch 9/10\n",
            "57/57 [==============================] - 1s 12ms/step - loss: 0.0190 - accuracy: 0.9959 - val_loss: 1.1790 - val_accuracy: 0.7048\n",
            "Epoch 10/10\n",
            "57/57 [==============================] - 1s 12ms/step - loss: 0.0329 - accuracy: 0.9909 - val_loss: 1.2270 - val_accuracy: 0.7104\n"
          ]
        }
      ]
    },
    {
      "cell_type": "code",
      "metadata": {
        "colab": {
          "base_uri": "https://localhost:8080/",
          "height": 281
        },
        "id": "34mMIHzBeEM0",
        "outputId": "bc272255-c833-4f29-c267-e8832c8eab3a"
      },
      "source": [
        "# model_lstm2\n",
        "import matplotlib.pyplot as plt\n",
        "\n",
        "plt.plot(history2.history[\"accuracy\"],color=\"green\")\n",
        "plt.plot(history2.history[\"loss\"],color=\"red\")\n",
        "plt.title(\"Train accuracy and Train loss\")\n",
        "plt.legend([\"Accuracy\",\"Loss\"])\n",
        "plt.grid()"
      ],
      "execution_count": 275,
      "outputs": [
        {
          "output_type": "display_data",
          "data": {
            "image/png": "[encoded data removed]",
            "text/plain": [
              "<Figure size 432x288 with 1 Axes>"
            ]
          },
          "metadata": {
            "needs_background": "light"
          }
        }
      ]
    },
    {
      "cell_type": "code",
      "metadata": {
        "colab": {
          "base_uri": "https://localhost:8080/",
          "height": 281
        },
        "id": "bqRam20eioWf",
        "outputId": "ae7592df-873f-4bcd-9b4f-eb5c6e2b0802"
      },
      "source": [
        "# model_lstm2\n",
        "plt.plot(history2.history[\"val_accuracy\"],color=\"blue\")\n",
        "plt.plot(history2.history[\"val_loss\"],color=\"orange\")\n",
        "plt.title(\"Test accuracy and Test loss\")\n",
        "plt.legend([\"Val_accuracy\",\"Val_loss\"])\n",
        "plt.grid()"
      ],
      "execution_count": 274,
      "outputs": [
        {
          "output_type": "display_data",
          "data": {
            "image/png": "[encoded data removed]",
            "text/plain": [
              "<Figure size 432x288 with 1 Axes>"
            ]
          },
          "metadata": {
            "needs_background": "light"
          }
        }
      ]
    },
    {
      "cell_type": "code",
      "metadata": {
        "colab": {
          "base_uri": "https://localhost:8080/",
          "height": 682
        },
        "id": "vruDNnNFkKGY",
        "outputId": "7c62b5a2-8590-452f-a07c-7f31b0a361b2"
      },
      "source": [
        "print(\"Accuracy of the model on Training Data is - \" , model_lstm3.evaluate(X_train_padded,y_train_label)[1]*100 , \"%\")\n",
        "print(\"Accuracy of the model on Testing Data is - \" , model_lstm3.evaluate(X_test_padded,y_test_label)[1]*100 , \"%\")\n",
        "\n",
        "pred = np.argmax(model_lstm2.predict(X_test_padded),axis=1)\n",
        "cm = confusion_matrix(y_test,pred)\n",
        "plt.figure(figsize=(10,10))\n",
        "sns.heatmap(cm,annot=True,linecolor=\"white\",fmt='')\n",
        "# overfitted on training data"
      ],
      "execution_count": 285,
      "outputs": [
        {
          "output_type": "stream",
          "name": "stdout",
          "text": [
            "114/114 [==============================] - 1s 5ms/step - loss: 0.0178 - accuracy: 0.9956\n",
            "Accuracy of the model on Training Data is -  99.55947399139404 %\n",
            "29/29 [==============================] - 0s 4ms/step - loss: 1.4535 - accuracy: 0.6399\n",
            "Accuracy of the model on Testing Data is -  63.98678421974182 %\n"
          ]
        },
        {
          "output_type": "execute_result",
          "data": {
            "text/plain": [
              "<matplotlib.axes._subplots.AxesSubplot at 0x7f4d83947290>"
            ]
          },
          "metadata": {},
          "execution_count": 285
        },
        {
          "output_type": "display_data",
          "data": {
            "image/png": "[encoded data removed]",
            "text/plain": [
              "<Figure size 720x720 with 2 Axes>"
            ]
          },
          "metadata": {
            "needs_background": "light"
          }
        }
      ]
    },
    {
      "cell_type": "markdown",
      "metadata": {
        "id": "eJYYS9oLlRCQ"
      },
      "source": [
        "## Deep learning - BERTurkish\n"
      ]
    },
    {
      "cell_type": "code",
      "metadata": {
        "id": "e7Bdz4okS3Yd"
      },
      "source": [
        "from simpletransformers.classification import ClassificationModel"
      ],
      "execution_count": 287,
      "outputs": []
    },
    {
      "cell_type": "code",
      "metadata": {
        "id": "EeReiqY2S7Qd"
      },
      "source": [
        "#for bert text column should be string and label column should be int\n",
        "train[\"text\"]=train[\"text\"].apply(lambda r: str(r))\n",
        "train['labels']=train['labels'].astype(int)"
      ],
      "execution_count": 288,
      "outputs": []
    },
    {
      "cell_type": "code",
      "metadata": {
        "colab": {
          "base_uri": "https://localhost:8080/",
          "height": 255,
          "referenced_widgets": [
            "ad886459895e487d92b286f77b281198",
            "b219fcba70cc40a9bc252de45b68a89c",
            "a4388df4fb074cdca15cfbd56a67d7a8",
            "c2a087e6f9d34de0a785c2fa8686227b",
            "a8bcaad471984653a7dcd00a3706ac07",
            "923bef1c91ff4e4e9476f1a48a3d075c",
            "d5e69f2a8e0545d7b5b2c2f9d463c570",
            "6206c78339be4cd699f2a76478e67359",
            "0040fac355be4b45a59e511eea64bce8",
            "0858235d450d4debb1c9511674ed70b9",
            "6533d7ec668044bd911e0b8c867c7458",
            "ef0e20c2af6a444d8cbb64db3bcc3bb0",
            "df25beb4af554be7af7440a5b1da31bc",
            "4fcc2931e1b2467085140257dfdb0840",
            "428eb5aab45e45b8afb823cc137b8e63",
            "97f9f72bbeaa41eeb0e6181a69f26f0e",
            "f40004c25ec84d90a096dad0933b5134",
            "1ccd649a68a34d208ae0e8897c3e4089",
            "8a6808b609db42bc87b6da63b9f29366",
            "9814cc1cbeb74dd9a5983a4a43bf2174",
            "88a2b0f3565c4a61887a82971a94c0d3",
            "9c93878becd44f7294718b19f5f70f95",
            "dde7dc418d844c37984cd4624abf12d4",
            "edc3a40dfd854dbf8957a71c2e29c6a5",
            "57702afb88f84aae857325c108ebd672",
            "0e16b3a77ac34a41b1a23034c43b1259",
            "1b18cdcd27a94511a71f2bd2e6a5745b",
            "884da55aabc644cfae42956901ac91de",
            "a9118dfd87674479b22e145da69901b7",
            "c0fa59435c7d4a76844ddb75d911b9b7",
            "5d7aca4ef08844a3b59b3266645cf984",
            "4d1b0e3149a6419a87b7de5b1b0fc761",
            "bd03f8095f084bfd8a8cecbadf253a94",
            "b5d304407b1a47c8a099410382549c94",
            "d911012b90694df6a49133ec8f41ed0d",
            "4d7a277022dd464bb954c71474f97b11",
            "fd61b306de144553944a7fcffdd943eb",
            "6693577f4bf04be9a7f58a1406a93364",
            "12aad23672ef4bb2917689fd45531490",
            "8bdebe4122a14d59b58cc6ce9d41bbd4",
            "7b6b6a5b1e19490d9ca89677abd97e9e",
            "097a95c498d84b86a24ee5f00327808d",
            "95df894f591848bba51bc302c2d5900a",
            "f194487c34ab4ffeb57de799c2e4abb6"
          ]
        },
        "id": "eLuN64eqTCJM",
        "outputId": "fa4e2905-f879-4230-8b22-5dc7cf7e64b8"
      },
      "source": [
        "#create model with turkish bert - transfer learning\n",
        "model = ClassificationModel('bert', 'dbmdz/bert-base-turkish-uncased', num_labels=7,use_cuda=False,\n",
        "                            args={'reprocess_input_data': True, \n",
        "                                  'overwrite_output_dir': True, \n",
        "                                  'num_train_epochs': 3, \n",
        "                                  \"train_batch_size\": 64 , \n",
        "                                  \"fp16\":False,\n",
        "                                  \"output_dir\": \"bert_model\"})"
      ],
      "execution_count": 289,
      "outputs": [
        {
          "output_type": "display_data",
          "data": {
            "application/vnd.jupyter.widget-view+json": {
              "model_id": "ad886459895e487d92b286f77b281198",
              "version_minor": 0,
              "version_major": 2
            },
            "text/plain": [
              "Downloading:   0%|          | 0.00/385 [00:00<?, ?B/s]"
            ]
          },
          "metadata": {}
        },
        {
          "output_type": "display_data",
          "data": {
            "application/vnd.jupyter.widget-view+json": {
              "model_id": "ef0e20c2af6a444d8cbb64db3bcc3bb0",
              "version_minor": 0,
              "version_major": 2
            },
            "text/plain": [
              "Downloading:   0%|          | 0.00/445M [00:00<?, ?B/s]"
            ]
          },
          "metadata": {}
        },
        {
          "output_type": "stream",
          "name": "stderr",
          "text": [
            "Some weights of the model checkpoint at dbmdz/bert-base-turkish-uncased were not used when initializing BertForSequenceClassification: ['cls.predictions.decoder.weight', 'cls.seq_relationship.bias', 'cls.predictions.transform.LayerNorm.weight', 'cls.predictions.bias', 'cls.predictions.transform.LayerNorm.bias', 'cls.predictions.transform.dense.bias', 'cls.seq_relationship.weight', 'cls.predictions.transform.dense.weight', 'cls.predictions.decoder.bias']\n",
            "- This IS expected if you are initializing BertForSequenceClassification from the checkpoint of a model trained on another task or with another architecture (e.g. initializing a BertForSequenceClassification model from a BertForPreTraining model).\n",
            "- This IS NOT expected if you are initializing BertForSequenceClassification from the checkpoint of a model that you expect to be exactly identical (initializing a BertForSequenceClassification model from a BertForSequenceClassification model).\n",
            "Some weights of BertForSequenceClassification were not initialized from the model checkpoint at dbmdz/bert-base-turkish-uncased and are newly initialized: ['classifier.weight', 'classifier.bias']\n",
            "You should probably TRAIN this model on a down-stream task to be able to use it for predictions and inference.\n"
          ]
        },
        {
          "output_type": "display_data",
          "data": {
            "application/vnd.jupyter.widget-view+json": {
              "model_id": "dde7dc418d844c37984cd4624abf12d4",
              "version_minor": 0,
              "version_major": 2
            },
            "text/plain": [
              "Downloading:   0%|          | 0.00/263k [00:00<?, ?B/s]"
            ]
          },
          "metadata": {}
        },
        {
          "output_type": "display_data",
          "data": {
            "application/vnd.jupyter.widget-view+json": {
              "model_id": "b5d304407b1a47c8a099410382549c94",
              "version_minor": 0,
              "version_major": 2
            },
            "text/plain": [
              "Downloading:   0%|          | 0.00/59.0 [00:00<?, ?B/s]"
            ]
          },
          "metadata": {}
        }
      ]
    },
    {
      "cell_type": "code",
      "metadata": {
        "colab": {
          "base_uri": "https://localhost:8080/",
          "height": 195,
          "referenced_widgets": [
            "f13cc960006a4a5fa7205948d629f7b5",
            "ce96ce413ae14c47a57bad29f860a3f4",
            "7d10b7dc352249838a68d83aa8a54d7f",
            "e81fec30c79d451e8d0cc2d9d7129cf8",
            "2361e2262c414029807cfc14759fd1a2",
            "19d672f60ced46c8aaf77a995e9556ff",
            "17964e19c16542029a1c0bc083d9dcdb",
            "ce3c1a411a954b93925c559840c3c2f0",
            "183cc1c4b2594cc183d4ec224ca9db8a",
            "2f8056c1027f426c8e2a2324825ebcef",
            "dc0f386d277045ce8f98f19b58ed024b",
            "90e8f7e2cec74b4d81eff20562f6a6d7",
            "e7ccc70bc93c41a98de26c677a1f3050",
            "8a71e4b80032449d899e6ec25736756a",
            "ab6525d9a4354402adadbbff0524281d",
            "8b961d8bf76349ef9b5878a9de468f4b",
            "c8d1906ab8e949eb9542a5879ecdbf85",
            "448fbc15d316450984ae1eb9881151de",
            "5531409b630f4bb4b3b2cbf8251a366c",
            "61799b5078a041b59fd341afd10fdaca",
            "9b3db29d07534ba9b2cf652e69533021",
            "ca5653117a2f4b8f9133fa1a99e71986",
            "4bbe03aaf71140529e3f81570aa24a29",
            "de81dbeb16c240e4806537d74bc6b392",
            "2c976612dda74a1c9496e76af6029eeb",
            "0fd84e3bd7d5405fa1668364ee6871b3",
            "21e87f5bf69b443dafba22d3404bce5e",
            "0436a2afec184078ab7f2f071b3241df",
            "af8556c26838441abaeec588b261c9ab",
            "b4b06a2b12ed4563871e8d17baf401d4",
            "672318c2cd4f4fa89993db9477fc0dfe",
            "34ab61bc2dd143b3b125d956bc93f3fb",
            "16388420ee8845fc9c4a007f66c2f941",
            "1578bbf38c4c4d3d85266bddf87e1403",
            "e7a0341ec6764023afac357e0eebcae3",
            "115601d2815b4150b66995194cee9791",
            "35d1b71008394b70b49be4ac1690c284",
            "862b635031d74779a7ea7567685ccd33",
            "5dcf3580af0f4b63bd50038d449391ba",
            "cb1d324597494f79be94f3ec5d857806",
            "1196c74fe3f546d2aa09c9ba8340a8d4",
            "dac3e79c1bfe424fa2f1ae5551bed4f5",
            "9aa6f0591200422ba2a7ba330d78318b",
            "ea32b487efdf46a38862bf4f9a1b9cee",
            "92c0d95143734c79a1675350087ab649",
            "7594a851b0a54fdbb81eec3a121f1254",
            "7855d3db88f0423e830d0fa3ff8f1861",
            "10de60b67d944713a50384fb26763fbd",
            "eb9e3b247d394ccd96d573d5f642ec7d",
            "90431eb33a214c109b485f9a3b700c39",
            "95d89115f7544355ab50b698473dff8f",
            "269a0003112a4f31b481a6de87c39dec",
            "43b040b7269345328f3e34264493169e",
            "91fdcc846b134d9bb0f97bcab94ea484",
            "1a5bb3e01ecb4194b7c9022ad72995bd"
          ]
        },
        "id": "IfiptixETxxQ",
        "outputId": "4ae45733-f1cd-4299-dad2-843afa750c8f"
      },
      "source": [
        "#train model\n",
        "model.train_model(train)"
      ],
      "execution_count": 290,
      "outputs": [
        {
          "data": {
            "application/vnd.jupyter.widget-view+json": {
              "model_id": "f13cc960006a4a5fa7205948d629f7b5",
              "version_major": 2,
              "version_minor": 0
            },
            "text/plain": [
              "  0%|          | 0/3632 [00:00<?, ?it/s]"
            ]
          },
          "metadata": {},
          "output_type": "display_data"
        },
        {
          "data": {
            "application/vnd.jupyter.widget-view+json": {
              "model_id": "90e8f7e2cec74b4d81eff20562f6a6d7",
              "version_major": 2,
              "version_minor": 0
            },
            "text/plain": [
              "Epoch:   0%|          | 0/3 [00:00<?, ?it/s]"
            ]
          },
          "metadata": {},
          "output_type": "display_data"
        },
        {
          "data": {
            "application/vnd.jupyter.widget-view+json": {
              "model_id": "4bbe03aaf71140529e3f81570aa24a29",
              "version_major": 2,
              "version_minor": 0
            },
            "text/plain": [
              "Running Epoch 0 of 3:   0%|          | 0/57 [00:00<?, ?it/s]"
            ]
          },
          "metadata": {},
          "output_type": "display_data"
        },
        {
          "data": {
            "application/vnd.jupyter.widget-view+json": {
              "model_id": "1578bbf38c4c4d3d85266bddf87e1403",
              "version_major": 2,
              "version_minor": 0
            },
            "text/plain": [
              "Running Epoch 1 of 3:   0%|          | 0/57 [00:00<?, ?it/s]"
            ]
          },
          "metadata": {},
          "output_type": "display_data"
        },
        {
          "data": {
            "application/vnd.jupyter.widget-view+json": {
              "model_id": "92c0d95143734c79a1675350087ab649",
              "version_major": 2,
              "version_minor": 0
            },
            "text/plain": [
              "Running Epoch 2 of 3:   0%|          | 0/57 [00:00<?, ?it/s]"
            ]
          },
          "metadata": {},
          "output_type": "display_data"
        },
        {
          "output_type": "execute_result",
          "data": {
            "text/plain": [
              "(171, 0.42494775568358384)"
            ]
          },
          "metadata": {},
          "execution_count": 290
        }
      ]
    },
    {
      "cell_type": "code",
      "metadata": {
        "colab": {
          "base_uri": "https://localhost:8080/",
          "height": 81,
          "referenced_widgets": [
            "bbd973f903df47ed92b3f9f6368568d9",
            "ae478cf821f54be8a26b41eab3cb0324",
            "075f35e1932345a9821214284ec38aa5",
            "09580763d7d14c79a50582165e65c018",
            "21133c2d424b425aa1e78771a028d49f",
            "7f30062560e947f18cb3bbe5bbc7ae8f",
            "33e0c6ab66a24536b71b1dbcb2bf4761",
            "1bef7361ac9743e4b327e401efa24da8",
            "76d8bb97456942668dd6168487510de1",
            "b96cc612e7fa4c47ad578999cee2c3f5",
            "1f2afda63c1b48f69670adff71b4f1ea",
            "11eed1cfd94947e3abbbe02691a75ccf",
            "7f9451d08d634fe5977783732af6050f",
            "6cfcc8058d1946819b92d726b4ddf6b7",
            "f58c0994375e45ed8b4b4544d0120039",
            "b6819d5a29b84eb6bef40e5379ed7d2b",
            "4de32a5155164f1d96286af1d31d07ea",
            "ab046fda10b349a79dcc8221b38ac194",
            "6d3baa65bee641379e9b15079890d4d0",
            "8955a0374ff548feb301724d8f4a088f",
            "b66cb5a865564c139d2ab6168cab3f68",
            "2435b84cf023430ba2555d92ff5e999e"
          ]
        },
        "id": "ILjMQf5aTzvd",
        "outputId": "13d7e028-082b-4ef1-d1f9-b4a97fb902b8"
      },
      "source": [
        "result, model_outputs, wrong_predictions = model.eval_model(test)"
      ],
      "execution_count": 291,
      "outputs": [
        {
          "output_type": "display_data",
          "data": {
            "application/vnd.jupyter.widget-view+json": {
              "model_id": "bbd973f903df47ed92b3f9f6368568d9",
              "version_minor": 0,
              "version_major": 2
            },
            "text/plain": [
              "  0%|          | 0/908 [00:00<?, ?it/s]"
            ]
          },
          "metadata": {}
        },
        {
          "output_type": "display_data",
          "data": {
            "application/vnd.jupyter.widget-view+json": {
              "model_id": "11eed1cfd94947e3abbbe02691a75ccf",
              "version_minor": 0,
              "version_major": 2
            },
            "text/plain": [
              "Running Evaluation:   0%|          | 0/114 [00:00<?, ?it/s]"
            ]
          },
          "metadata": {}
        }
      ]
    },
    {
      "cell_type": "code",
      "metadata": {
        "id": "WlYSxe6_T6xM"
      },
      "source": [
        "from sklearn import metrics\n",
        "print(metrics.classification_report(actuals, predictions, digits=3))"
      ],
      "execution_count": null,
      "outputs": []
    },
    {
      "cell_type": "code",
      "metadata": {
        "colab": {
          "base_uri": "https://localhost:8080/"
        },
        "id": "rWvZfYg7kfmZ",
        "outputId": "6ab25758-391e-4ca5-d292-48d4a873b150"
      },
      "source": [
        "from sklearn.metrics import accuracy_score\n",
        "predictions = model_outputs.argmax(axis=1)\n",
        "actuals = test.labels.values\n",
        "print(metrics.classification_report(actuals, predictions, digits=3))\n",
        "accuracy_score(actuals, predictions)"
      ],
      "execution_count": 293,
      "outputs": [
        {
          "output_type": "stream",
          "name": "stdout",
          "text": [
            "              precision    recall  f1-score   support\n",
            "\n",
            "           0      0.913     0.907     0.910       150\n",
            "           1      0.934     0.865     0.898       148\n",
            "           2      0.841     0.835     0.838       127\n",
            "           3      0.922     0.964     0.943       111\n",
            "           4      0.940     0.948     0.944       116\n",
            "           5      0.977     0.992     0.984       128\n",
            "           6      0.895     0.930     0.912       128\n",
            "\n",
            "    accuracy                          0.917       908\n",
            "   macro avg      0.918     0.920     0.918       908\n",
            "weighted avg      0.917     0.917     0.917       908\n",
            "\n"
          ]
        },
        {
          "output_type": "execute_result",
          "data": {
            "text/plain": [
              "0.9174008810572687"
            ]
          },
          "metadata": {},
          "execution_count": 293
        }
      ]
    }
  ]
}