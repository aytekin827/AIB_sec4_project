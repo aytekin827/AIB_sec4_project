{
  "cells": [
    {
      "attachments": {},
      "cell_type": "markdown",
      "metadata": {
        "id": "libohEwYx7HY"
      },
      "source": [
        "### 필요 라이브러리 설치 및 불러오기\n",
        "\n",
        "\n"
      ]
    },
    {
      "cell_type": "code",
      "execution_count": 1,
      "metadata": {
        "id": "e7v4bsq-QPKo"
      },
      "outputs": [
        {
          "name": "stderr",
          "output_type": "stream",
          "text": [
            "[nltk_data] Downloading package stopwords to\n",
            "[nltk_data]     C:\\Users\\Aytekin\\AppData\\Roaming\\nltk_data...\n",
            "[nltk_data]   Package stopwords is already up-to-date!\n",
            "[nltk_data] Downloading package punkt to\n",
            "[nltk_data]     C:\\Users\\Aytekin\\AppData\\Roaming\\nltk_data...\n",
            "[nltk_data]   Package punkt is already up-to-date!\n",
            "[nltk_data] Downloading package wordnet to\n",
            "[nltk_data]     C:\\Users\\Aytekin\\AppData\\Roaming\\nltk_data...\n",
            "[nltk_data]   Package wordnet is already up-to-date!\n",
            "[nltk_data] Downloading package omw-1.4 to\n",
            "[nltk_data]     C:\\Users\\Aytekin\\AppData\\Roaming\\nltk_data...\n",
            "[nltk_data]   Package omw-1.4 is already up-to-date!\n"
          ]
        }
      ],
      "source": [
        "import numpy as np # linear algebra\n",
        "import pandas as pd # data processing, CSV file I/O (e.g. pd.read_csv)\n",
        "import matplotlib.pyplot as plt\n",
        "import seaborn as sns\n",
        "from nltk import word_tokenize,sent_tokenize\n",
        "import re # regular expression libary.\n",
        "import nltk # Natural Language toolkit\n",
        "from sklearn import preprocessing\n",
        "from sklearn.model_selection import train_test_split\n",
        "from sklearn.metrics import confusion_matrix, f1_score, classification_report\n",
        "import sklearn.metrics \n",
        "import string\n",
        "from nltk.corpus import stopwords\n",
        "nltk.download(\"stopwords\")\n",
        "nltk.download('punkt')\n",
        "nltk.download('wordnet')\n",
        "nltk.download('omw-1.4')\n",
        "import warnings\n",
        "from sklearn.feature_extraction.text import CountVectorizer, TfidfVectorizer\n",
        "warnings.filterwarnings(action='ignore')\n",
        "from wordcloud import WordCloud\n",
        "from collections import Counter"
      ]
    },
    {
      "cell_type": "markdown",
      "metadata": {
        "id": "HBboaEFYyKrW"
      },
      "source": [
        "# EDA"
      ]
    },
    {
      "cell_type": "code",
      "execution_count": 2,
      "metadata": {
        "colab": {
          "base_uri": "https://localhost:8080/",
          "height": 0
        },
        "id": "0cKVw2lfPmaB",
        "outputId": "26af9bb7-5475-4410-e23d-32866b2bd5fe"
      },
      "outputs": [
        {
          "name": "stdout",
          "output_type": "stream",
          "text": [
            "(4900, 2)\n"
          ]
        },
        {
          "data": {
            "text/html": [
              "<div>\n",
              "<style scoped>\n",
              "    .dataframe tbody tr th:only-of-type {\n",
              "        vertical-align: middle;\n",
              "    }\n",
              "\n",
              "    .dataframe tbody tr th {\n",
              "        vertical-align: top;\n",
              "    }\n",
              "\n",
              "    .dataframe thead th {\n",
              "        text-align: right;\n",
              "    }\n",
              "</style>\n",
              "<table border=\"1\" class=\"dataframe\">\n",
              "  <thead>\n",
              "    <tr style=\"text-align: right;\">\n",
              "      <th></th>\n",
              "      <th>category</th>\n",
              "      <th>text</th>\n",
              "    </tr>\n",
              "  </thead>\n",
              "  <tbody>\n",
              "    <tr>\n",
              "      <th>0</th>\n",
              "      <td>siyaset</td>\n",
              "      <td>3 milyon ile ön seçim vaadi mhp nin 10 olağan...</td>\n",
              "    </tr>\n",
              "    <tr>\n",
              "      <th>1</th>\n",
              "      <td>siyaset</td>\n",
              "      <td>mesut_yılmaz yüce_divan da ceza alabilirdi pr...</td>\n",
              "    </tr>\n",
              "    <tr>\n",
              "      <th>2</th>\n",
              "      <td>siyaset</td>\n",
              "      <td>disko lar kaldırılıyor başbakan_yardımcısı ar...</td>\n",
              "    </tr>\n",
              "    <tr>\n",
              "      <th>3</th>\n",
              "      <td>siyaset</td>\n",
              "      <td>sarıgül anayasa_mahkemesi ne gidiyor mustafa_...</td>\n",
              "    </tr>\n",
              "    <tr>\n",
              "      <th>4</th>\n",
              "      <td>siyaset</td>\n",
              "      <td>erdoğan idamın bir haklılık sebebi var demek ...</td>\n",
              "    </tr>\n",
              "  </tbody>\n",
              "</table>\n",
              "</div>"
            ],
            "text/plain": [
              "   category                                               text\n",
              "0  siyaset    3 milyon ile ön seçim vaadi mhp nin 10 olağan...\n",
              "1  siyaset    mesut_yılmaz yüce_divan da ceza alabilirdi pr...\n",
              "2  siyaset    disko lar kaldırılıyor başbakan_yardımcısı ar...\n",
              "3  siyaset    sarıgül anayasa_mahkemesi ne gidiyor mustafa_...\n",
              "4  siyaset    erdoğan idamın bir haklılık sebebi var demek ..."
            ]
          },
          "execution_count": 2,
          "metadata": {},
          "output_type": "execute_result"
        }
      ],
      "source": [
        "df = pd.read_csv('data/7allV03.csv',encoding='utf-8')\n",
        "print(df.shape)\n",
        "df.head()"
      ]
    },
    {
      "cell_type": "code",
      "execution_count": 7,
      "metadata": {
        "colab": {
          "base_uri": "https://localhost:8080/"
        },
        "id": "COdm85UYPzTu",
        "outputId": "b75b94a4-c4b7-48ba-9b90-0b56800e7bfb"
      },
      "outputs": [
        {
          "data": {
            "text/plain": [
              "category    0\n",
              "text        0\n",
              "dtype: int64"
            ]
          },
          "execution_count": 7,
          "metadata": {},
          "output_type": "execute_result"
        }
      ],
      "source": [
        "# 결측치 제거 -> 결측치 없음\n",
        "df.isna().sum()"
      ]
    },
    {
      "cell_type": "code",
      "execution_count": 3,
      "metadata": {
        "colab": {
          "base_uri": "https://localhost:8080/"
        },
        "id": "5WSu134F0BN0",
        "outputId": "729fc06a-415d-42b5-87c1-7de82934efd2"
      },
      "outputs": [
        {
          "name": "stdout",
          "output_type": "stream",
          "text": [
            "360\n"
          ]
        },
        {
          "data": {
            "text/plain": [
              "(4540, 2)"
            ]
          },
          "execution_count": 3,
          "metadata": {},
          "output_type": "execute_result"
        }
      ],
      "source": [
        "# 중복값 제거\n",
        "print(df.duplicated().sum())\n",
        "df = df.drop_duplicates()\n",
        "df.shape"
      ]
    },
    {
      "cell_type": "code",
      "execution_count": 9,
      "metadata": {
        "colab": {
          "base_uri": "https://localhost:8080/",
          "height": 0
        },
        "id": "aiaM_E4MyPlf",
        "outputId": "60f5588b-4221-47e3-aa02-090ebe1ecb0e"
      },
      "outputs": [
        {
          "data": {
            "image/png": "[encoded data removed]",
            "text/plain": [
              "<Figure size 432x288 with 1 Axes>"
            ]
          },
          "metadata": {
            "needs_background": "light"
          },
          "output_type": "display_data"
        },
        {
          "name": "stdout",
          "output_type": "stream",
          "text": [
            "총 레이블 수 7\n",
            "총 데이터 수 4540\n"
          ]
        }
      ],
      "source": [
        "sns.countplot(\"category\",data=df)\n",
        "plt.title('# of labels for each category')\n",
        "plt.show() # balanced label\n",
        "s = df['category'].nunique() # number of labels\n",
        "n = df.shape[0]\n",
        "print(f'총 레이블 수 {s}')\n",
        "print(f'총 데이터 수 {n}')"
      ]
    },
    {
      "cell_type": "code",
      "execution_count": 10,
      "metadata": {
        "colab": {
          "base_uri": "https://localhost:8080/"
        },
        "id": "ck2Vp4H7mFyf",
        "outputId": "9b94acf0-5c94-4547-a73e-551d2b8ddd6d"
      },
      "outputs": [
        {
          "name": "stdout",
          "output_type": "stream",
          "text": [
            "길이 평균 : 1980.8420704845814\n",
            "길이 최대 : 19383\n",
            "길이 최소 : 72\n"
          ]
        }
      ],
      "source": [
        "df['length'] = [len(review) for review in df['text']]\n",
        "print('길이 평균 : {}'.format(np.mean(df['length'])))\n",
        "print('길이 최대 : {}'.format(np.max(df['length'])))\n",
        "print('길이 최소 : {}'.format(np.min(df['length'])))"
      ]
    },
    {
      "cell_type": "markdown",
      "metadata": {
        "id": "baMTJWZ4Qfz8"
      },
      "source": [
        "# Prerocessing"
      ]
    },
    {
      "cell_type": "code",
      "execution_count": 11,
      "metadata": {
        "id": "xAtzhOdt2oyz"
      },
      "outputs": [],
      "source": [
        "text_list=[]\n",
        "\n",
        "for text in df.text:\n",
        "    text = text.lower()  #Büyük harften -Küçük harfe çevirme\n",
        "    text = re.sub(\"[^abcçdefgğhıijklmnoöprsştuüvyz]\",\" \",text)\n",
        "    text=nltk.word_tokenize(text) # splits the words that are in the sentence from each other.\n",
        "    text =[word for word in text if not word in set(stopwords.words(\"turkish\"))] # remove stopword \n",
        "    text=\" \".join(text)\n",
        "    text_list.append(text) # store sentences in list"
      ]
    },
    {
      "cell_type": "code",
      "execution_count": 12,
      "metadata": {
        "colab": {
          "base_uri": "https://localhost:8080/",
          "height": 0
        },
        "id": "zyMq08JE4faZ",
        "outputId": "6c8dc2ea-ce93-491b-beb1-3055a25f0f6d"
      },
      "outputs": [
        {
          "data": {
            "image/png": "[encoded data removed]",
            "text/plain": [
              "<Figure size 864x720 with 1 Axes>"
            ]
          },
          "metadata": {
            "needs_background": "light"
          },
          "output_type": "display_data"
        }
      ],
      "source": [
        "c = Counter(' '.join(text_list).split())\n",
        "\n",
        "wc = WordCloud(background_color=\"black\",width=1024,height=768).generate_from_frequencies(c)\n",
        "plt.figure(figsize=(12,10))\n",
        "plt.axis('off')\n",
        "plt.imshow(wc, interpolation='nearest')\n",
        "plt.show()"
      ]
    },
    {
      "cell_type": "code",
      "execution_count": 13,
      "metadata": {
        "colab": {
          "base_uri": "https://localhost:8080/",
          "height": 0
        },
        "id": "iPs-B9qT58Ht",
        "outputId": "39eea6c8-484e-4a10-d6ed-d9cfcee20a59"
      },
      "outputs": [
        {
          "data": {
            "text/html": [
              "\n",
              "  <div id=\"df-a0fdb570-4e29-4ce1-9204-78a3a5d651a9\">\n",
              "    <div class=\"colab-df-container\">\n",
              "      <div>\n",
              "<style scoped>\n",
              "    .dataframe tbody tr th:only-of-type {\n",
              "        vertical-align: middle;\n",
              "    }\n",
              "\n",
              "    .dataframe tbody tr th {\n",
              "        vertical-align: top;\n",
              "    }\n",
              "\n",
              "    .dataframe thead th {\n",
              "        text-align: right;\n",
              "    }\n",
              "</style>\n",
              "<table border=\"1\" class=\"dataframe\">\n",
              "  <thead>\n",
              "    <tr style=\"text-align: right;\">\n",
              "      <th></th>\n",
              "      <th>category</th>\n",
              "      <th>text</th>\n",
              "      <th>length</th>\n",
              "      <th>cleaned_text</th>\n",
              "    </tr>\n",
              "  </thead>\n",
              "  <tbody>\n",
              "    <tr>\n",
              "      <th>0</th>\n",
              "      <td>siyaset</td>\n",
              "      <td>3 milyon ile ön seçim vaadi mhp nin 10 olağan...</td>\n",
              "      <td>6676</td>\n",
              "      <td>milyon ön seçim vaadi mhp nin olağan büyük kur...</td>\n",
              "    </tr>\n",
              "    <tr>\n",
              "      <th>1</th>\n",
              "      <td>siyaset</td>\n",
              "      <td>mesut_yılmaz yüce_divan da ceza alabilirdi pr...</td>\n",
              "      <td>3313</td>\n",
              "      <td>mesut yılmaz yüce divan ceza alabilirdi prof d...</td>\n",
              "    </tr>\n",
              "    <tr>\n",
              "      <th>2</th>\n",
              "      <td>siyaset</td>\n",
              "      <td>disko lar kaldırılıyor başbakan_yardımcısı ar...</td>\n",
              "      <td>5434</td>\n",
              "      <td>disko lar kaldırılıyor başbakan yardımcısı arı...</td>\n",
              "    </tr>\n",
              "    <tr>\n",
              "      <th>3</th>\n",
              "      <td>siyaset</td>\n",
              "      <td>sarıgül anayasa_mahkemesi ne gidiyor mustafa_...</td>\n",
              "      <td>658</td>\n",
              "      <td>sarıgül anayasa mahkemesi gidiyor mustafa sarı...</td>\n",
              "    </tr>\n",
              "    <tr>\n",
              "      <th>4</th>\n",
              "      <td>siyaset</td>\n",
              "      <td>erdoğan idamın bir haklılık sebebi var demek ...</td>\n",
              "      <td>1575</td>\n",
              "      <td>erdoğan idamın bir haklılık sebebi var demek y...</td>\n",
              "    </tr>\n",
              "  </tbody>\n",
              "</table>\n",
              "</div>\n",
              "      <button class=\"colab-df-convert\" onclick=\"convertToInteractive('df-a0fdb570-4e29-4ce1-9204-78a3a5d651a9')\"\n",
              "              title=\"Convert this dataframe to an interactive table.\"\n",
              "              style=\"display:none;\">\n",
              "        \n",
              "  <svg xmlns=\"http://www.w3.org/2000/svg\" height=\"24px\"viewBox=\"0 0 24 24\"\n",
              "       width=\"24px\">\n",
              "    <path d=\"M0 0h24v24H0V0z\" fill=\"none\"/>\n",
              "    <path d=\"M18.56 5.44l.94 2.06.94-2.06 2.06-.94-2.06-.94-.94-2.06-.94 2.06-2.06.94zm-11 1L8.5 8.5l.94-2.06 2.06-.94-2.06-.94L8.5 2.5l-.94 2.06-2.06.94zm10 10l.94 2.06.94-2.06 2.06-.94-2.06-.94-.94-2.06-.94 2.06-2.06.94z\"/><path d=\"M17.41 7.96l-1.37-1.37c-.4-.4-.92-.59-1.43-.59-.52 0-1.04.2-1.43.59L10.3 9.45l-7.72 7.72c-.78.78-.78 2.05 0 2.83L4 21.41c.39.39.9.59 1.41.59.51 0 1.02-.2 1.41-.59l7.78-7.78 2.81-2.81c.8-.78.8-2.07 0-2.86zM5.41 20L4 18.59l7.72-7.72 1.47 1.35L5.41 20z\"/>\n",
              "  </svg>\n",
              "      </button>\n",
              "      \n",
              "  <style>\n",
              "    .colab-df-container {\n",
              "      display:flex;\n",
              "      flex-wrap:wrap;\n",
              "      gap: 12px;\n",
              "    }\n",
              "\n",
              "    .colab-df-convert {\n",
              "      background-color: #E8F0FE;\n",
              "      border: none;\n",
              "      border-radius: 50%;\n",
              "      cursor: pointer;\n",
              "      display: none;\n",
              "      fill: #1967D2;\n",
              "      height: 32px;\n",
              "      padding: 0 0 0 0;\n",
              "      width: 32px;\n",
              "    }\n",
              "\n",
              "    .colab-df-convert:hover {\n",
              "      background-color: #E2EBFA;\n",
              "      box-shadow: 0px 1px 2px rgba(60, 64, 67, 0.3), 0px 1px 3px 1px rgba(60, 64, 67, 0.15);\n",
              "      fill: #174EA6;\n",
              "    }\n",
              "\n",
              "    [theme=dark] .colab-df-convert {\n",
              "      background-color: #3B4455;\n",
              "      fill: #D2E3FC;\n",
              "    }\n",
              "\n",
              "    [theme=dark] .colab-df-convert:hover {\n",
              "      background-color: #434B5C;\n",
              "      box-shadow: 0px 1px 3px 1px rgba(0, 0, 0, 0.15);\n",
              "      filter: drop-shadow(0px 1px 2px rgba(0, 0, 0, 0.3));\n",
              "      fill: #FFFFFF;\n",
              "    }\n",
              "  </style>\n",
              "\n",
              "      <script>\n",
              "        const buttonEl =\n",
              "          document.querySelector('#df-a0fdb570-4e29-4ce1-9204-78a3a5d651a9 button.colab-df-convert');\n",
              "        buttonEl.style.display =\n",
              "          google.colab.kernel.accessAllowed ? 'block' : 'none';\n",
              "\n",
              "        async function convertToInteractive(key) {\n",
              "          const element = document.querySelector('#df-a0fdb570-4e29-4ce1-9204-78a3a5d651a9');\n",
              "          const dataTable =\n",
              "            await google.colab.kernel.invokeFunction('convertToInteractive',\n",
              "                                                     [key], {});\n",
              "          if (!dataTable) return;\n",
              "\n",
              "          const docLinkHtml = 'Like what you see? Visit the ' +\n",
              "            '<a target=\"_blank\" href=https://colab.research.google.com/notebooks/data_table.ipynb>data table notebook</a>'\n",
              "            + ' to learn more about interactive tables.';\n",
              "          element.innerHTML = '';\n",
              "          dataTable['output_type'] = 'display_data';\n",
              "          await google.colab.output.renderOutput(dataTable, element);\n",
              "          const docLink = document.createElement('div');\n",
              "          docLink.innerHTML = docLinkHtml;\n",
              "          element.appendChild(docLink);\n",
              "        }\n",
              "      </script>\n",
              "    </div>\n",
              "  </div>\n",
              "  "
            ],
            "text/plain": [
              "   category                                               text  length  \\\n",
              "0  siyaset    3 milyon ile ön seçim vaadi mhp nin 10 olağan...    6676   \n",
              "1  siyaset    mesut_yılmaz yüce_divan da ceza alabilirdi pr...    3313   \n",
              "2  siyaset    disko lar kaldırılıyor başbakan_yardımcısı ar...    5434   \n",
              "3  siyaset    sarıgül anayasa_mahkemesi ne gidiyor mustafa_...     658   \n",
              "4  siyaset    erdoğan idamın bir haklılık sebebi var demek ...    1575   \n",
              "\n",
              "                                        cleaned_text  \n",
              "0  milyon ön seçim vaadi mhp nin olağan büyük kur...  \n",
              "1  mesut yılmaz yüce divan ceza alabilirdi prof d...  \n",
              "2  disko lar kaldırılıyor başbakan yardımcısı arı...  \n",
              "3  sarıgül anayasa mahkemesi gidiyor mustafa sarı...  \n",
              "4  erdoğan idamın bir haklılık sebebi var demek y...  "
            ]
          },
          "execution_count": 13,
          "metadata": {},
          "output_type": "execute_result"
        }
      ],
      "source": [
        "df['cleaned_text'] = text_list\n",
        "df.head()"
      ]
    },
    {
      "cell_type": "code",
      "execution_count": 6,
      "metadata": {
        "colab": {
          "base_uri": "https://localhost:8080/",
          "height": 0
        },
        "id": "aq2JYQ2h8hdM",
        "outputId": "a38cd89d-f0a5-4020-c920-7e1b19a6d6e1"
      },
      "outputs": [
        {
          "data": {
            "text/html": [
              "<div>\n",
              "<style scoped>\n",
              "    .dataframe tbody tr th:only-of-type {\n",
              "        vertical-align: middle;\n",
              "    }\n",
              "\n",
              "    .dataframe tbody tr th {\n",
              "        vertical-align: top;\n",
              "    }\n",
              "\n",
              "    .dataframe thead th {\n",
              "        text-align: right;\n",
              "    }\n",
              "</style>\n",
              "<table border=\"1\" class=\"dataframe\">\n",
              "  <thead>\n",
              "    <tr style=\"text-align: right;\">\n",
              "      <th></th>\n",
              "      <th>category</th>\n",
              "      <th>text</th>\n",
              "      <th>label</th>\n",
              "    </tr>\n",
              "  </thead>\n",
              "  <tbody>\n",
              "    <tr>\n",
              "      <th>0</th>\n",
              "      <td>siyaset</td>\n",
              "      <td>3 milyon ile ön seçim vaadi mhp nin 10 olağan...</td>\n",
              "      <td>4</td>\n",
              "    </tr>\n",
              "    <tr>\n",
              "      <th>1</th>\n",
              "      <td>siyaset</td>\n",
              "      <td>mesut_yılmaz yüce_divan da ceza alabilirdi pr...</td>\n",
              "      <td>4</td>\n",
              "    </tr>\n",
              "    <tr>\n",
              "      <th>2</th>\n",
              "      <td>siyaset</td>\n",
              "      <td>disko lar kaldırılıyor başbakan_yardımcısı ar...</td>\n",
              "      <td>4</td>\n",
              "    </tr>\n",
              "    <tr>\n",
              "      <th>3</th>\n",
              "      <td>siyaset</td>\n",
              "      <td>sarıgül anayasa_mahkemesi ne gidiyor mustafa_...</td>\n",
              "      <td>4</td>\n",
              "    </tr>\n",
              "    <tr>\n",
              "      <th>4</th>\n",
              "      <td>siyaset</td>\n",
              "      <td>erdoğan idamın bir haklılık sebebi var demek ...</td>\n",
              "      <td>4</td>\n",
              "    </tr>\n",
              "  </tbody>\n",
              "</table>\n",
              "</div>"
            ],
            "text/plain": [
              "   category                                               text  label\n",
              "0  siyaset    3 milyon ile ön seçim vaadi mhp nin 10 olağan...      4\n",
              "1  siyaset    mesut_yılmaz yüce_divan da ceza alabilirdi pr...      4\n",
              "2  siyaset    disko lar kaldırılıyor başbakan_yardımcısı ar...      4\n",
              "3  siyaset    sarıgül anayasa_mahkemesi ne gidiyor mustafa_...      4\n",
              "4  siyaset    erdoğan idamın bir haklılık sebebi var demek ...      4"
            ]
          },
          "execution_count": 6,
          "metadata": {},
          "output_type": "execute_result"
        }
      ],
      "source": [
        "from sklearn import preprocessing\n",
        "\n",
        "le = preprocessing.LabelEncoder()\n",
        "le.fit(df.category)\n",
        "labels = le.transform(df.category)\n",
        "df['label'] = labels\n",
        "df.head()"
      ]
    },
    {
      "cell_type": "code",
      "execution_count": 7,
      "metadata": {
        "colab": {
          "base_uri": "https://localhost:8080/"
        },
        "id": "V_n0o3_eEhJg",
        "outputId": "6f12dc87-0117-4c0b-e954-f2aa3300a09f"
      },
      "outputs": [
        {
          "name": "stdout",
          "output_type": "stream",
          "text": [
            "(3632, 3)\n",
            "(908, 3)\n"
          ]
        }
      ],
      "source": [
        "# data split for train and test\n",
        "\n",
        "train, test = train_test_split(df, test_size=0.2, random_state=42)\n",
        "train.reset_index(drop=True, inplace=True)\n",
        "test.reset_index(drop=True, inplace=True)\n",
        "\n",
        "print(train.shape)\n",
        "print(test.shape)"
      ]
    },
    {
      "cell_type": "code",
      "execution_count": 16,
      "metadata": {
        "colab": {
          "base_uri": "https://localhost:8080/",
          "height": 0
        },
        "id": "PLH3p4KeEiF7",
        "outputId": "b00312bc-2bc1-4db6-c73d-c30bdd003275"
      },
      "outputs": [
        {
          "data": {
            "text/html": [
              "\n",
              "  <div id=\"df-f38e1ea4-1008-4dfd-80bc-188d8c034bb2\">\n",
              "    <div class=\"colab-df-container\">\n",
              "      <div>\n",
              "<style scoped>\n",
              "    .dataframe tbody tr th:only-of-type {\n",
              "        vertical-align: middle;\n",
              "    }\n",
              "\n",
              "    .dataframe tbody tr th {\n",
              "        vertical-align: top;\n",
              "    }\n",
              "\n",
              "    .dataframe thead th {\n",
              "        text-align: right;\n",
              "    }\n",
              "</style>\n",
              "<table border=\"1\" class=\"dataframe\">\n",
              "  <thead>\n",
              "    <tr style=\"text-align: right;\">\n",
              "      <th></th>\n",
              "      <th>category</th>\n",
              "      <th>text</th>\n",
              "      <th>length</th>\n",
              "      <th>cleaned_text</th>\n",
              "      <th>label</th>\n",
              "    </tr>\n",
              "  </thead>\n",
              "  <tbody>\n",
              "    <tr>\n",
              "      <th>0</th>\n",
              "      <td>kultur</td>\n",
              "      <td>7 yaşındaki mercan a büyük ödül almanya nın e...</td>\n",
              "      <td>2202</td>\n",
              "      <td>yaşındaki mercan a büyük ödül almanya nın önem...</td>\n",
              "      <td>2</td>\n",
              "    </tr>\n",
              "    <tr>\n",
              "      <th>1</th>\n",
              "      <td>teknoloji</td>\n",
              "      <td>facebook kullanıcıları dikkat ! facebook un y...</td>\n",
              "      <td>1403</td>\n",
              "      <td>facebook kullanıcıları dikkat facebook un yeni...</td>\n",
              "      <td>6</td>\n",
              "    </tr>\n",
              "    <tr>\n",
              "      <th>2</th>\n",
              "      <td>saglik</td>\n",
              "      <td>organ bağışı vasiyeti herkesin cebinde olacak...</td>\n",
              "      <td>4639</td>\n",
              "      <td>organ bağışı vasiyeti herkesin cebinde olacak ...</td>\n",
              "      <td>3</td>\n",
              "    </tr>\n",
              "    <tr>\n",
              "      <th>3</th>\n",
              "      <td>ekonomi</td>\n",
              "      <td>çeyrek altın kaç lira istanbul_kapalıçarşı da...</td>\n",
              "      <td>559</td>\n",
              "      <td>çeyrek altın kaç lira istanbul kapalıçarşı aya...</td>\n",
              "      <td>1</td>\n",
              "    </tr>\n",
              "    <tr>\n",
              "      <th>4</th>\n",
              "      <td>ekonomi</td>\n",
              "      <td>borsa güne yükselişle başladı istanbul_menkul...</td>\n",
              "      <td>652</td>\n",
              "      <td>borsa güne yükselişle başladı istanbul menkul ...</td>\n",
              "      <td>1</td>\n",
              "    </tr>\n",
              "  </tbody>\n",
              "</table>\n",
              "</div>\n",
              "      <button class=\"colab-df-convert\" onclick=\"convertToInteractive('df-f38e1ea4-1008-4dfd-80bc-188d8c034bb2')\"\n",
              "              title=\"Convert this dataframe to an interactive table.\"\n",
              "              style=\"display:none;\">\n",
              "        \n",
              "  <svg xmlns=\"http://www.w3.org/2000/svg\" height=\"24px\"viewBox=\"0 0 24 24\"\n",
              "       width=\"24px\">\n",
              "    <path d=\"M0 0h24v24H0V0z\" fill=\"none\"/>\n",
              "    <path d=\"M18.56 5.44l.94 2.06.94-2.06 2.06-.94-2.06-.94-.94-2.06-.94 2.06-2.06.94zm-11 1L8.5 8.5l.94-2.06 2.06-.94-2.06-.94L8.5 2.5l-.94 2.06-2.06.94zm10 10l.94 2.06.94-2.06 2.06-.94-2.06-.94-.94-2.06-.94 2.06-2.06.94z\"/><path d=\"M17.41 7.96l-1.37-1.37c-.4-.4-.92-.59-1.43-.59-.52 0-1.04.2-1.43.59L10.3 9.45l-7.72 7.72c-.78.78-.78 2.05 0 2.83L4 21.41c.39.39.9.59 1.41.59.51 0 1.02-.2 1.41-.59l7.78-7.78 2.81-2.81c.8-.78.8-2.07 0-2.86zM5.41 20L4 18.59l7.72-7.72 1.47 1.35L5.41 20z\"/>\n",
              "  </svg>\n",
              "      </button>\n",
              "      \n",
              "  <style>\n",
              "    .colab-df-container {\n",
              "      display:flex;\n",
              "      flex-wrap:wrap;\n",
              "      gap: 12px;\n",
              "    }\n",
              "\n",
              "    .colab-df-convert {\n",
              "      background-color: #E8F0FE;\n",
              "      border: none;\n",
              "      border-radius: 50%;\n",
              "      cursor: pointer;\n",
              "      display: none;\n",
              "      fill: #1967D2;\n",
              "      height: 32px;\n",
              "      padding: 0 0 0 0;\n",
              "      width: 32px;\n",
              "    }\n",
              "\n",
              "    .colab-df-convert:hover {\n",
              "      background-color: #E2EBFA;\n",
              "      box-shadow: 0px 1px 2px rgba(60, 64, 67, 0.3), 0px 1px 3px 1px rgba(60, 64, 67, 0.15);\n",
              "      fill: #174EA6;\n",
              "    }\n",
              "\n",
              "    [theme=dark] .colab-df-convert {\n",
              "      background-color: #3B4455;\n",
              "      fill: #D2E3FC;\n",
              "    }\n",
              "\n",
              "    [theme=dark] .colab-df-convert:hover {\n",
              "      background-color: #434B5C;\n",
              "      box-shadow: 0px 1px 3px 1px rgba(0, 0, 0, 0.15);\n",
              "      filter: drop-shadow(0px 1px 2px rgba(0, 0, 0, 0.3));\n",
              "      fill: #FFFFFF;\n",
              "    }\n",
              "  </style>\n",
              "\n",
              "      <script>\n",
              "        const buttonEl =\n",
              "          document.querySelector('#df-f38e1ea4-1008-4dfd-80bc-188d8c034bb2 button.colab-df-convert');\n",
              "        buttonEl.style.display =\n",
              "          google.colab.kernel.accessAllowed ? 'block' : 'none';\n",
              "\n",
              "        async function convertToInteractive(key) {\n",
              "          const element = document.querySelector('#df-f38e1ea4-1008-4dfd-80bc-188d8c034bb2');\n",
              "          const dataTable =\n",
              "            await google.colab.kernel.invokeFunction('convertToInteractive',\n",
              "                                                     [key], {});\n",
              "          if (!dataTable) return;\n",
              "\n",
              "          const docLinkHtml = 'Like what you see? Visit the ' +\n",
              "            '<a target=\"_blank\" href=https://colab.research.google.com/notebooks/data_table.ipynb>data table notebook</a>'\n",
              "            + ' to learn more about interactive tables.';\n",
              "          element.innerHTML = '';\n",
              "          dataTable['output_type'] = 'display_data';\n",
              "          await google.colab.output.renderOutput(dataTable, element);\n",
              "          const docLink = document.createElement('div');\n",
              "          docLink.innerHTML = docLinkHtml;\n",
              "          element.appendChild(docLink);\n",
              "        }\n",
              "      </script>\n",
              "    </div>\n",
              "  </div>\n",
              "  "
            ],
            "text/plain": [
              "     category                                               text  length  \\\n",
              "0     kultur    7 yaşındaki mercan a büyük ödül almanya nın e...    2202   \n",
              "1  teknoloji    facebook kullanıcıları dikkat ! facebook un y...    1403   \n",
              "2     saglik    organ bağışı vasiyeti herkesin cebinde olacak...    4639   \n",
              "3    ekonomi    çeyrek altın kaç lira istanbul_kapalıçarşı da...     559   \n",
              "4    ekonomi    borsa güne yükselişle başladı istanbul_menkul...     652   \n",
              "\n",
              "                                        cleaned_text  label  \n",
              "0  yaşındaki mercan a büyük ödül almanya nın önem...      2  \n",
              "1  facebook kullanıcıları dikkat facebook un yeni...      6  \n",
              "2  organ bağışı vasiyeti herkesin cebinde olacak ...      3  \n",
              "3  çeyrek altın kaç lira istanbul kapalıçarşı aya...      1  \n",
              "4  borsa güne yükselişle başladı istanbul menkul ...      1  "
            ]
          },
          "execution_count": 16,
          "metadata": {},
          "output_type": "execute_result"
        }
      ],
      "source": [
        "train.head()"
      ]
    },
    {
      "cell_type": "code",
      "execution_count": 17,
      "metadata": {
        "colab": {
          "base_uri": "https://localhost:8080/",
          "height": 0
        },
        "id": "FNxfpFSbEihx",
        "outputId": "01e20881-a906-4b72-80f3-06068b81ed24"
      },
      "outputs": [
        {
          "data": {
            "text/html": [
              "\n",
              "  <div id=\"df-75150510-eca6-4f11-8a16-d9692e741e5f\">\n",
              "    <div class=\"colab-df-container\">\n",
              "      <div>\n",
              "<style scoped>\n",
              "    .dataframe tbody tr th:only-of-type {\n",
              "        vertical-align: middle;\n",
              "    }\n",
              "\n",
              "    .dataframe tbody tr th {\n",
              "        vertical-align: top;\n",
              "    }\n",
              "\n",
              "    .dataframe thead th {\n",
              "        text-align: right;\n",
              "    }\n",
              "</style>\n",
              "<table border=\"1\" class=\"dataframe\">\n",
              "  <thead>\n",
              "    <tr style=\"text-align: right;\">\n",
              "      <th></th>\n",
              "      <th>category</th>\n",
              "      <th>text</th>\n",
              "      <th>length</th>\n",
              "      <th>cleaned_text</th>\n",
              "      <th>label</th>\n",
              "    </tr>\n",
              "  </thead>\n",
              "  <tbody>\n",
              "    <tr>\n",
              "      <th>0</th>\n",
              "      <td>ekonomi</td>\n",
              "      <td>hollanda türkiye  nin büyümesini kıskanıyoru...</td>\n",
              "      <td>1694</td>\n",
              "      <td>hollanda türkiye nin büyümesini kıskanıyoruz h...</td>\n",
              "      <td>1</td>\n",
              "    </tr>\n",
              "    <tr>\n",
              "      <th>1</th>\n",
              "      <td>ekonomi</td>\n",
              "      <td>komşu türk turist çekmek için camileri bile o...</td>\n",
              "      <td>2007</td>\n",
              "      <td>komşu türk turist çekmek camileri bile onaraca...</td>\n",
              "      <td>1</td>\n",
              "    </tr>\n",
              "    <tr>\n",
              "      <th>2</th>\n",
              "      <td>kultur</td>\n",
              "      <td>ünlü eser sakıncalı bulundu izmir il milli_eğ...</td>\n",
              "      <td>1048</td>\n",
              "      <td>ünlü eser sakıncalı bulundu izmir il milli eği...</td>\n",
              "      <td>2</td>\n",
              "    </tr>\n",
              "    <tr>\n",
              "      <th>3</th>\n",
              "      <td>spor</td>\n",
              "      <td>ronaldo ile kıyaslanmaktan sıkılmış ! dünyanı...</td>\n",
              "      <td>1141</td>\n",
              "      <td>ronaldo kıyaslanmaktan sıkılmış dünyanın iyi i...</td>\n",
              "      <td>5</td>\n",
              "    </tr>\n",
              "    <tr>\n",
              "      <th>4</th>\n",
              "      <td>dunya</td>\n",
              "      <td>meksika da deprem meksika nın güneyinde şidde...</td>\n",
              "      <td>284</td>\n",
              "      <td>meksika deprem meksika nın güneyinde şiddetli ...</td>\n",
              "      <td>0</td>\n",
              "    </tr>\n",
              "  </tbody>\n",
              "</table>\n",
              "</div>\n",
              "      <button class=\"colab-df-convert\" onclick=\"convertToInteractive('df-75150510-eca6-4f11-8a16-d9692e741e5f')\"\n",
              "              title=\"Convert this dataframe to an interactive table.\"\n",
              "              style=\"display:none;\">\n",
              "        \n",
              "  <svg xmlns=\"http://www.w3.org/2000/svg\" height=\"24px\"viewBox=\"0 0 24 24\"\n",
              "       width=\"24px\">\n",
              "    <path d=\"M0 0h24v24H0V0z\" fill=\"none\"/>\n",
              "    <path d=\"M18.56 5.44l.94 2.06.94-2.06 2.06-.94-2.06-.94-.94-2.06-.94 2.06-2.06.94zm-11 1L8.5 8.5l.94-2.06 2.06-.94-2.06-.94L8.5 2.5l-.94 2.06-2.06.94zm10 10l.94 2.06.94-2.06 2.06-.94-2.06-.94-.94-2.06-.94 2.06-2.06.94z\"/><path d=\"M17.41 7.96l-1.37-1.37c-.4-.4-.92-.59-1.43-.59-.52 0-1.04.2-1.43.59L10.3 9.45l-7.72 7.72c-.78.78-.78 2.05 0 2.83L4 21.41c.39.39.9.59 1.41.59.51 0 1.02-.2 1.41-.59l7.78-7.78 2.81-2.81c.8-.78.8-2.07 0-2.86zM5.41 20L4 18.59l7.72-7.72 1.47 1.35L5.41 20z\"/>\n",
              "  </svg>\n",
              "      </button>\n",
              "      \n",
              "  <style>\n",
              "    .colab-df-container {\n",
              "      display:flex;\n",
              "      flex-wrap:wrap;\n",
              "      gap: 12px;\n",
              "    }\n",
              "\n",
              "    .colab-df-convert {\n",
              "      background-color: #E8F0FE;\n",
              "      border: none;\n",
              "      border-radius: 50%;\n",
              "      cursor: pointer;\n",
              "      display: none;\n",
              "      fill: #1967D2;\n",
              "      height: 32px;\n",
              "      padding: 0 0 0 0;\n",
              "      width: 32px;\n",
              "    }\n",
              "\n",
              "    .colab-df-convert:hover {\n",
              "      background-color: #E2EBFA;\n",
              "      box-shadow: 0px 1px 2px rgba(60, 64, 67, 0.3), 0px 1px 3px 1px rgba(60, 64, 67, 0.15);\n",
              "      fill: #174EA6;\n",
              "    }\n",
              "\n",
              "    [theme=dark] .colab-df-convert {\n",
              "      background-color: #3B4455;\n",
              "      fill: #D2E3FC;\n",
              "    }\n",
              "\n",
              "    [theme=dark] .colab-df-convert:hover {\n",
              "      background-color: #434B5C;\n",
              "      box-shadow: 0px 1px 3px 1px rgba(0, 0, 0, 0.15);\n",
              "      filter: drop-shadow(0px 1px 2px rgba(0, 0, 0, 0.3));\n",
              "      fill: #FFFFFF;\n",
              "    }\n",
              "  </style>\n",
              "\n",
              "      <script>\n",
              "        const buttonEl =\n",
              "          document.querySelector('#df-75150510-eca6-4f11-8a16-d9692e741e5f button.colab-df-convert');\n",
              "        buttonEl.style.display =\n",
              "          google.colab.kernel.accessAllowed ? 'block' : 'none';\n",
              "\n",
              "        async function convertToInteractive(key) {\n",
              "          const element = document.querySelector('#df-75150510-eca6-4f11-8a16-d9692e741e5f');\n",
              "          const dataTable =\n",
              "            await google.colab.kernel.invokeFunction('convertToInteractive',\n",
              "                                                     [key], {});\n",
              "          if (!dataTable) return;\n",
              "\n",
              "          const docLinkHtml = 'Like what you see? Visit the ' +\n",
              "            '<a target=\"_blank\" href=https://colab.research.google.com/notebooks/data_table.ipynb>data table notebook</a>'\n",
              "            + ' to learn more about interactive tables.';\n",
              "          element.innerHTML = '';\n",
              "          dataTable['output_type'] = 'display_data';\n",
              "          await google.colab.output.renderOutput(dataTable, element);\n",
              "          const docLink = document.createElement('div');\n",
              "          docLink.innerHTML = docLinkHtml;\n",
              "          element.appendChild(docLink);\n",
              "        }\n",
              "      </script>\n",
              "    </div>\n",
              "  </div>\n",
              "  "
            ],
            "text/plain": [
              "   category                                               text  length  \\\n",
              "0  ekonomi    hollanda türkiye  nin büyümesini kıskanıyoru...    1694   \n",
              "1  ekonomi    komşu türk turist çekmek için camileri bile o...    2007   \n",
              "2   kultur    ünlü eser sakıncalı bulundu izmir il milli_eğ...    1048   \n",
              "3     spor    ronaldo ile kıyaslanmaktan sıkılmış ! dünyanı...    1141   \n",
              "4    dunya    meksika da deprem meksika nın güneyinde şidde...     284   \n",
              "\n",
              "                                        cleaned_text  label  \n",
              "0  hollanda türkiye nin büyümesini kıskanıyoruz h...      1  \n",
              "1  komşu türk turist çekmek camileri bile onaraca...      1  \n",
              "2  ünlü eser sakıncalı bulundu izmir il milli eği...      2  \n",
              "3  ronaldo kıyaslanmaktan sıkılmış dünyanın iyi i...      5  \n",
              "4  meksika deprem meksika nın güneyinde şiddetli ...      0  "
            ]
          },
          "execution_count": 17,
          "metadata": {},
          "output_type": "execute_result"
        }
      ],
      "source": [
        "test.head()"
      ]
    },
    {
      "cell_type": "markdown",
      "metadata": {
        "id": "IcErxwmnuVyO"
      },
      "source": [
        "# modeling & evalutaion"
      ]
    },
    {
      "cell_type": "markdown",
      "metadata": {
        "id": "SWbbakslW8wE"
      },
      "source": [
        "## 1. ML - RandomForest\n",
        "\n",
        "    CounterVectorizer vs TfidfVectorizer\n"
      ]
    },
    {
      "cell_type": "code",
      "execution_count": 153,
      "metadata": {
        "id": "9ZoHi7c4Tk_O"
      },
      "outputs": [],
      "source": [
        "from sklearn.pipeline import Pipeline\n",
        "from sklearn.ensemble import RandomForestClassifier\n",
        "\n",
        "MAX_FEATURES = 500\n",
        "\n",
        "pipeline1 = Pipeline([\n",
        "    ('vect', CountVectorizer()),\n",
        "    ('clf',RandomForestClassifier(random_state=42))\n",
        "])\n",
        "pipeline2 = Pipeline([\n",
        "    ('vect', CountVectorizer(max_features=MAX_FEATURES)),\n",
        "    ('clf',RandomForestClassifier(random_state=42))\n",
        "])\n",
        "pipeline3 = Pipeline([\n",
        "    ('vect', TfidfVectorizer()),\n",
        "    ('clf',RandomForestClassifier(random_state=42))\n",
        "])\n",
        "pipeline4 = Pipeline([\n",
        "    ('vect', TfidfVectorizer(max_features=MAX_FEATURES)),\n",
        "    ('clf',RandomForestClassifier(random_state=42))\n",
        "])\n",
        "\n",
        "pipelines = [pipeline1, pipeline2, pipeline3, pipeline4]\n",
        "\n",
        "for pipeline in pipelines:\n",
        "    pipeline.fit(train['cleaned_text'],train['label'])"
      ]
    },
    {
      "cell_type": "code",
      "execution_count": 159,
      "metadata": {
        "colab": {
          "base_uri": "https://localhost:8080/"
        },
        "id": "FFzSwWpHW17c",
        "outputId": "df75036e-822c-4dc3-f483-c2d7a2a8d325"
      },
      "outputs": [
        {
          "name": "stdout",
          "output_type": "stream",
          "text": [
            "Pipeline(steps=[('vect', CountVectorizer()),\n",
            "                ('clf', RandomForestClassifier(random_state=42))])\n",
            "f1_score : 0.8516704119698174\n",
            "acc_score : 0.8513215859030837\n",
            "****************************************************************************************** \n",
            "\n",
            "Pipeline(steps=[('vect', CountVectorizer(max_features=500)),\n",
            "                ('clf', RandomForestClassifier(random_state=42))])\n",
            "f1_score : 0.7729539271219579\n",
            "acc_score : 0.7720264317180616\n",
            "****************************************************************************************** \n",
            "\n",
            "Pipeline(steps=[('vect', TfidfVectorizer()),\n",
            "                ('clf', RandomForestClassifier(random_state=42))])\n",
            "f1_score : 0.8446461603468288\n",
            "acc_score : 0.8447136563876652\n",
            "****************************************************************************************** \n",
            "\n",
            "Pipeline(steps=[('vect', TfidfVectorizer(max_features=500)),\n",
            "                ('clf', RandomForestClassifier(random_state=42))])\n",
            "f1_score : 0.780308287423666\n",
            "acc_score : 0.7786343612334802\n",
            "****************************************************************************************** \n",
            "\n"
          ]
        }
      ],
      "source": [
        "from sklearn.metrics import accuracy_score, f1_score\n",
        "\n",
        "for pipeline in pipelines:\n",
        "    y_preds = pipeline.predict(test['text'])\n",
        "    f1_score_ = f1_score(test['label'],y_preds, average='weighted')\n",
        "    accuracy_score_ = accuracy_score(test['label'],y_preds)\n",
        "    print(pipeline)\n",
        "    print(f'f1_score : {f1_score_}')\n",
        "    print(f'acc_score : {accuracy_score_}')\n",
        "    print('***'*30, '\\n')"
      ]
    },
    {
      "cell_type": "code",
      "execution_count": 160,
      "metadata": {
        "colab": {
          "base_uri": "https://localhost:8080/"
        },
        "id": "_ZWOyW5IbHz5",
        "outputId": "22fd5d74-e630-478a-d8cd-a88731d129f9"
      },
      "outputs": [
        {
          "name": "stdout",
          "output_type": "stream",
          "text": [
            "best model\n",
            "Pipeline(steps=[('vect', TfidfVectorizer(max_features=500)),\n",
            "                ('clf', RandomForestClassifier(random_state=42))])\n",
            "\n",
            "f1_score : 0.8516704119698174\n",
            "f1_score : 0.8513215859030837\n"
          ]
        }
      ],
      "source": [
        "print('best model')\n",
        "y_preds = pipeline1.predict(test['text'])\n",
        "f1_score_ = f1_score(test['label'],y_preds, average='weighted')\n",
        "accuracy_score_ = accuracy_score(test['label'],y_preds)\n",
        "print(pipeline)\n",
        "print()\n",
        "print(f'f1_score : {f1_score_}')\n",
        "print(f'f1_score : {accuracy_score_}')"
      ]
    },
    {
      "cell_type": "code",
      "execution_count": 161,
      "metadata": {
        "colab": {
          "base_uri": "https://localhost:8080/",
          "height": 0
        },
        "id": "UIuSDxNQTKXf",
        "outputId": "89661756-d53a-4de6-8f7d-17f073307a8b"
      },
      "outputs": [
        {
          "data": {
            "image/png": "[encoded data removed]",
            "text/plain": [
              "<Figure size 720x720 with 2 Axes>"
            ]
          },
          "metadata": {
            "needs_background": "light"
          },
          "output_type": "display_data"
        }
      ],
      "source": [
        "y_pred=pipeline1.predict(test['text'])\n",
        "\n",
        "# confusion matrix\n",
        "plt.figure(figsize=(10,10))\n",
        "cm=confusion_matrix(test['label'],y_preds)\n",
        "plt.title('confusion matrix')\n",
        "sns.heatmap(cm,annot=True,fmt='d') \n",
        "plt.xticks(np.arange(0,7),le.classes_, size=15, rotation=45)\n",
        "plt.yticks(np.arange(0,7),le.classes_, size=15, rotation=45)\n",
        "plt.xlabel('real')\n",
        "plt.ylabel('predict')\n",
        "plt.show()"
      ]
    },
    {
      "cell_type": "code",
      "execution_count": 196,
      "metadata": {
        "colab": {
          "base_uri": "https://localhost:8080/"
        },
        "id": "GGcCT_dUdfoT",
        "outputId": "0252ebd8-2ce7-4707-c35c-f496604dfbb6"
      },
      "outputs": [
        {
          "name": "stdout",
          "output_type": "stream",
          "text": [
            "[CV 4/5] END clf__max_depth=10, clf__max_features=20, clf__n_estimators=50;, score=0.723 total time=   1.7s\n",
            "[CV 5/5] END clf__max_depth=10, clf__max_features=20, clf__n_estimators=50;, score=0.741 total time=   1.7s\n",
            "[CV 1/5] END clf__max_depth=10, clf__max_features=20, clf__n_estimators=100;, score=0.724 total time=   2.2s\n",
            "[CV 2/5] END clf__max_depth=10, clf__max_features=20, clf__n_estimators=100;, score=0.741 total time=   2.0s\n",
            "[CV 3/5] END clf__max_depth=10, clf__max_features=20, clf__n_estimators=100;, score=0.729 total time=   2.0s\n",
            "[CV 4/5] END clf__max_depth=10, clf__max_features=20, clf__n_estimators=100;, score=0.752 total time=   2.0s\n",
            "[CV 5/5] END clf__max_depth=10, clf__max_features=20, clf__n_estimators=100;, score=0.752 total time=   2.0s\n",
            "[CV 1/5] END clf__max_depth=10, clf__max_features=20, clf__n_estimators=500;, score=0.743 total time=   5.3s\n",
            "[CV 2/5] END clf__max_depth=10, clf__max_features=20, clf__n_estimators=500;, score=0.750 total time=   5.2s\n",
            "[CV 3/5] END clf__max_depth=10, clf__max_features=20, clf__n_estimators=500;, score=0.749 total time=   5.0s\n",
            "[CV 4/5] END clf__max_depth=10, clf__max_features=20, clf__n_estimators=500;, score=0.758 total time=   5.2s\n",
            "[CV 5/5] END clf__max_depth=10, clf__max_features=20, clf__n_estimators=500;, score=0.771 total time=   5.5s\n",
            "[CV 1/5] END clf__max_depth=15, clf__max_features=8, clf__n_estimators=50;, score=0.747 total time=   1.7s\n",
            "[CV 2/5] END clf__max_depth=15, clf__max_features=8, clf__n_estimators=50;, score=0.774 total time=   1.6s\n",
            "[CV 3/5] END clf__max_depth=15, clf__max_features=8, clf__n_estimators=50;, score=0.762 total time=   1.7s\n",
            "[CV 4/5] END clf__max_depth=15, clf__max_features=8, clf__n_estimators=50;, score=0.778 total time=   1.9s\n",
            "[CV 5/5] END clf__max_depth=15, clf__max_features=8, clf__n_estimators=50;, score=0.782 total time=   2.4s\n",
            "[CV 1/5] END clf__max_depth=15, clf__max_features=8, clf__n_estimators=100;, score=0.766 total time=   2.2s\n",
            "[CV 2/5] END clf__max_depth=15, clf__max_features=8, clf__n_estimators=100;, score=0.792 total time=   2.7s\n",
            "[CV 3/5] END clf__max_depth=15, clf__max_features=8, clf__n_estimators=100;, score=0.785 total time=   2.0s\n",
            "[CV 4/5] END clf__max_depth=15, clf__max_features=8, clf__n_estimators=100;, score=0.775 total time=   1.9s\n",
            "[CV 5/5] END clf__max_depth=15, clf__max_features=8, clf__n_estimators=100;, score=0.793 total time=   1.9s\n",
            "[CV 1/5] END clf__max_depth=15, clf__max_features=8, clf__n_estimators=500;, score=0.777 total time=   4.6s\n",
            "[CV 2/5] END clf__max_depth=15, clf__max_features=8, clf__n_estimators=500;, score=0.801 total time=   4.7s\n",
            "[CV 3/5] END clf__max_depth=15, clf__max_features=8, clf__n_estimators=500;, score=0.800 total time=   4.7s\n",
            "[CV 4/5] END clf__max_depth=15, clf__max_features=8, clf__n_estimators=500;, score=0.807 total time=   4.9s\n",
            "[CV 5/5] END clf__max_depth=15, clf__max_features=8, clf__n_estimators=500;, score=0.825 total time=   4.8s\n",
            "[CV 1/5] END clf__max_depth=15, clf__max_features=10, clf__n_estimators=50;, score=0.748 total time=   1.6s\n",
            "[CV 2/5] END clf__max_depth=15, clf__max_features=10, clf__n_estimators=50;, score=0.768 total time=   1.6s\n",
            "[CV 3/5] END clf__max_depth=15, clf__max_features=10, clf__n_estimators=50;, score=0.769 total time=   1.6s\n",
            "[CV 4/5] END clf__max_depth=15, clf__max_features=10, clf__n_estimators=50;, score=0.796 total time=   1.6s\n",
            "[CV 5/5] END clf__max_depth=15, clf__max_features=10, clf__n_estimators=50;, score=0.780 total time=   1.6s\n",
            "[CV 1/5] END clf__max_depth=15, clf__max_features=10, clf__n_estimators=100;, score=0.769 total time=   2.0s\n",
            "[CV 2/5] END clf__max_depth=15, clf__max_features=10, clf__n_estimators=100;, score=0.774 total time=   2.0s\n",
            "[CV 3/5] END clf__max_depth=15, clf__max_features=10, clf__n_estimators=100;, score=0.773 total time=   2.1s\n",
            "[CV 4/5] END clf__max_depth=15, clf__max_features=10, clf__n_estimators=100;, score=0.789 total time=   1.9s\n",
            "[CV 5/5] END clf__max_depth=15, clf__max_features=10, clf__n_estimators=100;, score=0.788 total time=   1.9s\n",
            "[CV 1/5] END clf__max_depth=15, clf__max_features=10, clf__n_estimators=500;, score=0.762 total time=   4.9s\n",
            "[CV 2/5] END clf__max_depth=15, clf__max_features=10, clf__n_estimators=500;, score=0.788 total time=   5.2s\n",
            "[CV 3/5] END clf__max_depth=15, clf__max_features=10, clf__n_estimators=500;, score=0.802 total time=   6.6s\n",
            "[CV 4/5] END clf__max_depth=15, clf__max_features=10, clf__n_estimators=500;, score=0.798 total time=   4.9s\n",
            "[CV 5/5] END clf__max_depth=15, clf__max_features=10, clf__n_estimators=500;, score=0.810 total time=   5.0s\n",
            "[CV 1/5] END clf__max_depth=15, clf__max_features=15, clf__n_estimators=50;, score=0.750 total time=   1.7s\n",
            "[CV 2/5] END clf__max_depth=15, clf__max_features=15, clf__n_estimators=50;, score=0.754 total time=   1.7s\n",
            "[CV 3/5] END clf__max_depth=15, clf__max_features=15, clf__n_estimators=50;, score=0.770 total time=   1.7s\n",
            "[CV 4/5] END clf__max_depth=15, clf__max_features=15, clf__n_estimators=50;, score=0.766 total time=   1.7s\n",
            "[CV 5/5] END clf__max_depth=15, clf__max_features=15, clf__n_estimators=50;, score=0.780 total time=   1.7s\n",
            "[CV 1/5] END clf__max_depth=15, clf__max_features=15, clf__n_estimators=100;, score=0.761 total time=   2.2s\n",
            "[CV 2/5] END clf__max_depth=15, clf__max_features=15, clf__n_estimators=100;, score=0.770 total time=   2.2s\n",
            "[CV 3/5] END clf__max_depth=15, clf__max_features=15, clf__n_estimators=100;, score=0.766 total time=   2.3s\n",
            "[CV 4/5] END clf__max_depth=15, clf__max_features=15, clf__n_estimators=100;, score=0.789 total time=   2.1s\n",
            "[CV 5/5] END clf__max_depth=15, clf__max_features=15, clf__n_estimators=100;, score=0.785 total time=   2.2s\n",
            "[CV 1/5] END clf__max_depth=15, clf__max_features=15, clf__n_estimators=500;, score=0.768 total time=   5.9s\n",
            "[CV 2/5] END clf__max_depth=15, clf__max_features=15, clf__n_estimators=500;, score=0.783 total time=   6.0s\n",
            "[CV 3/5] END clf__max_depth=15, clf__max_features=15, clf__n_estimators=500;, score=0.788 total time=   5.9s\n",
            "[CV 4/5] END clf__max_depth=15, clf__max_features=15, clf__n_estimators=500;, score=0.782 total time=   6.0s\n",
            "[CV 5/5] END clf__max_depth=15, clf__max_features=15, clf__n_estimators=500;, score=0.796 total time=   6.0s\n",
            "[CV 1/5] END clf__max_depth=15, clf__max_features=20, clf__n_estimators=50;, score=0.757 total time=   1.7s\n",
            "[CV 2/5] END clf__max_depth=15, clf__max_features=20, clf__n_estimators=50;, score=0.751 total time=   1.7s\n",
            "[CV 3/5] END clf__max_depth=15, clf__max_features=20, clf__n_estimators=50;, score=0.742 total time=   1.8s\n",
            "[CV 4/5] END clf__max_depth=15, clf__max_features=20, clf__n_estimators=50;, score=0.767 total time=   1.8s\n",
            "[CV 5/5] END clf__max_depth=15, clf__max_features=20, clf__n_estimators=50;, score=0.773 total time=   1.9s\n",
            "[CV 1/5] END clf__max_depth=15, clf__max_features=20, clf__n_estimators=100;, score=0.755 total time=   2.5s\n",
            "[CV 2/5] END clf__max_depth=15, clf__max_features=20, clf__n_estimators=100;, score=0.751 total time=   2.4s\n",
            "[CV 3/5] END clf__max_depth=15, clf__max_features=20, clf__n_estimators=100;, score=0.760 total time=   2.4s\n",
            "[CV 4/5] END clf__max_depth=15, clf__max_features=20, clf__n_estimators=100;, score=0.770 total time=   2.4s\n",
            "[CV 5/5] END clf__max_depth=15, clf__max_features=20, clf__n_estimators=100;, score=0.775 total time=   2.4s\n",
            "[CV 1/5] END clf__max_depth=15, clf__max_features=20, clf__n_estimators=500;, score=0.755 total time=   7.2s\n",
            "[CV 2/5] END clf__max_depth=15, clf__max_features=20, clf__n_estimators=500;, score=0.773 total time=   6.8s\n",
            "[CV 3/5] END clf__max_depth=15, clf__max_features=20, clf__n_estimators=500;, score=0.767 total time=   6.9s\n",
            "[CV 4/5] END clf__max_depth=15, clf__max_features=20, clf__n_estimators=500;, score=0.778 total time=   6.6s\n",
            "[CV 5/5] END clf__max_depth=15, clf__max_features=20, clf__n_estimators=500;, score=0.788 total time=   6.8s\n",
            "[CV 1/5] END clf__max_depth=20, clf__max_features=8, clf__n_estimators=50;, score=0.761 total time=   1.8s\n",
            "[CV 2/5] END clf__max_depth=20, clf__max_features=8, clf__n_estimators=50;, score=0.796 total time=   1.6s\n",
            "[CV 3/5] END clf__max_depth=20, clf__max_features=8, clf__n_estimators=50;, score=0.780 total time=   1.6s\n",
            "[CV 4/5] END clf__max_depth=20, clf__max_features=8, clf__n_estimators=50;, score=0.780 total time=   1.6s\n",
            "[CV 5/5] END clf__max_depth=20, clf__max_features=8, clf__n_estimators=50;, score=0.800 total time=   1.6s\n",
            "[CV 1/5] END clf__max_depth=20, clf__max_features=8, clf__n_estimators=100;, score=0.779 total time=   2.0s\n",
            "[CV 2/5] END clf__max_depth=20, clf__max_features=8, clf__n_estimators=100;, score=0.805 total time=   2.2s\n",
            "[CV 3/5] END clf__max_depth=20, clf__max_features=8, clf__n_estimators=100;, score=0.802 total time=   3.7s\n",
            "[CV 4/5] END clf__max_depth=20, clf__max_features=8, clf__n_estimators=100;, score=0.792 total time=   2.5s\n",
            "[CV 5/5] END clf__max_depth=20, clf__max_features=8, clf__n_estimators=100;, score=0.810 total time=   2.3s\n",
            "[CV 1/5] END clf__max_depth=20, clf__max_features=8, clf__n_estimators=500;, score=0.788 total time=   5.8s\n",
            "[CV 2/5] END clf__max_depth=20, clf__max_features=8, clf__n_estimators=500;, score=0.814 total time=   5.7s\n",
            "[CV 3/5] END clf__max_depth=20, clf__max_features=8, clf__n_estimators=500;, score=0.814 total time=   6.1s\n",
            "[CV 4/5] END clf__max_depth=20, clf__max_features=8, clf__n_estimators=500;, score=0.821 total time=   5.9s\n",
            "[CV 5/5] END clf__max_depth=20, clf__max_features=8, clf__n_estimators=500;, score=0.814 total time=   7.2s\n",
            "[CV 1/5] END clf__max_depth=20, clf__max_features=10, clf__n_estimators=50;, score=0.758 total time=   2.0s\n",
            "[CV 2/5] END clf__max_depth=20, clf__max_features=10, clf__n_estimators=50;, score=0.779 total time=   1.8s\n",
            "[CV 3/5] END clf__max_depth=20, clf__max_features=10, clf__n_estimators=50;, score=0.788 total time=   1.8s\n",
            "[CV 4/5] END clf__max_depth=20, clf__max_features=10, clf__n_estimators=50;, score=0.791 total time=   2.4s\n",
            "[CV 5/5] END clf__max_depth=20, clf__max_features=10, clf__n_estimators=50;, score=0.789 total time=   1.8s\n",
            "[CV 1/5] END clf__max_depth=20, clf__max_features=10, clf__n_estimators=100;, score=0.757 total time=   2.3s\n",
            "[CV 2/5] END clf__max_depth=20, clf__max_features=10, clf__n_estimators=100;, score=0.801 total time=   2.4s\n",
            "[CV 3/5] END clf__max_depth=20, clf__max_features=10, clf__n_estimators=100;, score=0.796 total time=   2.1s\n",
            "[CV 4/5] END clf__max_depth=20, clf__max_features=10, clf__n_estimators=100;, score=0.787 total time=   2.2s\n",
            "[CV 5/5] END clf__max_depth=20, clf__max_features=10, clf__n_estimators=100;, score=0.798 total time=   2.2s\n",
            "[CV 1/5] END clf__max_depth=20, clf__max_features=10, clf__n_estimators=500;, score=0.774 total time=   6.1s\n",
            "[CV 2/5] END clf__max_depth=20, clf__max_features=10, clf__n_estimators=500;, score=0.795 total time=   6.3s\n",
            "[CV 3/5] END clf__max_depth=20, clf__max_features=10, clf__n_estimators=500;, score=0.810 total time=   6.2s\n",
            "[CV 4/5] END clf__max_depth=20, clf__max_features=10, clf__n_estimators=500;, score=0.806 total time=   6.3s\n",
            "[CV 5/5] END clf__max_depth=20, clf__max_features=10, clf__n_estimators=500;, score=0.818 total time=   6.1s\n",
            "[CV 1/5] END clf__max_depth=20, clf__max_features=15, clf__n_estimators=50;, score=0.740 total time=   1.9s\n",
            "[CV 2/5] END clf__max_depth=20, clf__max_features=15, clf__n_estimators=50;, score=0.774 total time=   1.9s\n",
            "[CV 3/5] END clf__max_depth=20, clf__max_features=15, clf__n_estimators=50;, score=0.785 total time=   2.0s\n",
            "[CV 4/5] END clf__max_depth=20, clf__max_features=15, clf__n_estimators=50;, score=0.781 total time=   2.1s\n",
            "[CV 5/5] END clf__max_depth=20, clf__max_features=15, clf__n_estimators=50;, score=0.777 total time=   1.8s\n",
            "[CV 1/5] END clf__max_depth=20, clf__max_features=15, clf__n_estimators=100;, score=0.758 total time=   2.5s\n",
            "[CV 2/5] END clf__max_depth=20, clf__max_features=15, clf__n_estimators=100;, score=0.773 total time=   2.4s\n",
            "[CV 3/5] END clf__max_depth=20, clf__max_features=15, clf__n_estimators=100;, score=0.780 total time=   2.4s\n",
            "[CV 4/5] END clf__max_depth=20, clf__max_features=15, clf__n_estimators=100;, score=0.793 total time=   2.5s\n",
            "[CV 5/5] END clf__max_depth=20, clf__max_features=15, clf__n_estimators=100;, score=0.784 total time=   2.6s\n",
            "[CV 1/5] END clf__max_depth=20, clf__max_features=15, clf__n_estimators=500;, score=0.772 total time=   7.2s\n",
            "[CV 2/5] END clf__max_depth=20, clf__max_features=15, clf__n_estimators=500;, score=0.788 total time=   7.5s\n",
            "[CV 3/5] END clf__max_depth=20, clf__max_features=15, clf__n_estimators=500;, score=0.802 total time=   7.4s\n",
            "[CV 4/5] END clf__max_depth=20, clf__max_features=15, clf__n_estimators=500;, score=0.792 total time=   7.4s\n",
            "[CV 5/5] END clf__max_depth=20, clf__max_features=15, clf__n_estimators=500;, score=0.811 total time=   7.3s\n",
            "[CV 1/5] END clf__max_depth=20, clf__max_features=20, clf__n_estimators=50;, score=0.774 total time=   1.9s\n",
            "[CV 2/5] END clf__max_depth=20, clf__max_features=20, clf__n_estimators=50;, score=0.748 total time=   2.0s\n",
            "[CV 3/5] END clf__max_depth=20, clf__max_features=20, clf__n_estimators=50;, score=0.775 total time=   2.0s\n",
            "[CV 4/5] END clf__max_depth=20, clf__max_features=20, clf__n_estimators=50;, score=0.756 total time=   2.0s\n",
            "[CV 5/5] END clf__max_depth=20, clf__max_features=20, clf__n_estimators=50;, score=0.770 total time=   2.1s\n",
            "[CV 1/5] END clf__max_depth=20, clf__max_features=20, clf__n_estimators=100;, score=0.776 total time=   2.7s\n",
            "[CV 2/5] END clf__max_depth=20, clf__max_features=20, clf__n_estimators=100;, score=0.772 total time=   2.7s\n",
            "[CV 3/5] END clf__max_depth=20, clf__max_features=20, clf__n_estimators=100;, score=0.777 total time=   2.7s\n",
            "[CV 4/5] END clf__max_depth=20, clf__max_features=20, clf__n_estimators=100;, score=0.781 total time=   2.8s\n",
            "[CV 5/5] END clf__max_depth=20, clf__max_features=20, clf__n_estimators=100;, score=0.785 total time=   2.8s\n",
            "[CV 1/5] END clf__max_depth=20, clf__max_features=20, clf__n_estimators=500;, score=0.765 total time=   8.4s\n",
            "[CV 2/5] END clf__max_depth=20, clf__max_features=20, clf__n_estimators=500;, score=0.774 total time=   8.9s\n",
            "[CV 3/5] END clf__max_depth=20, clf__max_features=20, clf__n_estimators=500;, score=0.789 total time=   8.4s\n",
            "[CV 4/5] END clf__max_depth=20, clf__max_features=20, clf__n_estimators=500;, score=0.788 total time=   8.5s\n",
            "[CV 5/5] END clf__max_depth=20, clf__max_features=20, clf__n_estimators=500;, score=0.795 total time=   8.4s\n"
          ]
        },
        {
          "data": {
            "text/plain": [
              "RandomizedSearchCV(cv=5,\n",
              "                   estimator=Pipeline(steps=[('vect',\n",
              "                                              TfidfVectorizer(max_features=500)),\n",
              "                                             ('clf',\n",
              "                                              RandomForestClassifier(random_state=42))]),\n",
              "                   n_iter=1000,\n",
              "                   param_distributions={'clf__max_depth': [8, 10, 15, 20],\n",
              "                                        'clf__max_features': [8, 10, 15, 20],\n",
              "                                        'clf__n_estimators': [50, 100, 500]},\n",
              "                   random_state=42, verbose=3)"
            ]
          },
          "execution_count": 196,
          "metadata": {},
          "output_type": "execute_result"
        }
      ],
      "source": [
        "# model fine tuning\n",
        "from sklearn.model_selection import RandomizedSearchCV\n",
        "\n",
        "pipe = Pipeline([\n",
        "    ('vect',CountVectorizer()),\n",
        "    ('clf',RandomForestClassifier())\n",
        "])\n",
        "\n",
        "params={'clf__n_estimators':[50,100,500],\n",
        "        \"clf__max_depth\":[8,10,15,20],\n",
        "        \"clf__max_features\":[8,10,15,20],\n",
        "        }\n",
        "\n",
        "clf1 = RandomizedSearchCV(\n",
        "    pipeline,\n",
        "    param_distributions = params,\n",
        "    n_iter = 1000,\n",
        "    cv = 5,\n",
        "    verbose=3,\n",
        "    random_state=42\n",
        ")\n",
        "\n",
        "clf1.fit(train['cleaned_text'],train['label'])"
      ]
    },
    {
      "cell_type": "code",
      "execution_count": 197,
      "metadata": {
        "colab": {
          "base_uri": "https://localhost:8080/"
        },
        "id": "OT2PV0tCXl4a",
        "outputId": "8511895e-207c-4387-a9ad-c2036e4be4d4"
      },
      "outputs": [
        {
          "name": "stdout",
          "output_type": "stream",
          "text": [
            "최적 하이퍼파라미터:  {'clf__n_estimators': 500, 'clf__max_features': 8, 'clf__max_depth': 20}\n",
            "검증 정확도: 0.8103023482290708\n"
          ]
        }
      ],
      "source": [
        "print('최적 하이퍼파라미터: ', clf1.best_params_)\n",
        "print('검증 정확도:', clf1.best_score_)"
      ]
    },
    {
      "cell_type": "markdown",
      "metadata": {
        "id": "a2xPG7K91JeA"
      },
      "source": [
        "## 2. Fasttext\n",
        "\n",
        "\n",
        "\n",
        "    facebook에서 만든 word embedding알고리즘  \n",
        "    \n",
        "    classifier 모델은 어떤 걸 쓰는지?  \n",
        "    즉 embedding 방법과 clf방법을 숙지해놓아야 함."
      ]
    },
    {
      "cell_type": "code",
      "execution_count": 24,
      "metadata": {
        "id": "cIZODnPMRnyJ"
      },
      "outputs": [],
      "source": [
        "#Data prepare for fasttext format for train\n",
        "train[\"label_format\"]=0\n",
        "for i in range(len(train)):\n",
        "    train.label_format[i]=\"__label__\"+str(train.category[i])+\" \"+str(train.cleaned_text[i])\n",
        "\n",
        "#Data prepare for fasttext format for test\n",
        "test[\"label_format\"]=0\n",
        "for i in range(len(test)):\n",
        "    test.label_format[i]=\"__label__\"+str(test.category[i])+\" \"+str(test.cleaned_text[i])"
      ]
    },
    {
      "cell_type": "markdown",
      "metadata": {
        "id": "XFE6qvF3EsYi"
      },
      "source": [
        "fasttext에서는 라벨값을 ' __ label __ [카테고리명]' 이런 식으로 인식한다\n",
        "\n",
        "라이브러리 요구사항에 맞게 전처리를 해주어야 함."
      ]
    },
    {
      "cell_type": "code",
      "execution_count": 25,
      "metadata": {
        "colab": {
          "base_uri": "https://localhost:8080/",
          "height": 0
        },
        "id": "rZxMOcdIRq3b",
        "outputId": "901ad92e-af25-430e-e722-f35d4fcd3733"
      },
      "outputs": [
        {
          "data": {
            "text/html": [
              "\n",
              "  <div id=\"df-16044d8d-0f18-498b-8ced-fe3177e00128\">\n",
              "    <div class=\"colab-df-container\">\n",
              "      <div>\n",
              "<style scoped>\n",
              "    .dataframe tbody tr th:only-of-type {\n",
              "        vertical-align: middle;\n",
              "    }\n",
              "\n",
              "    .dataframe tbody tr th {\n",
              "        vertical-align: top;\n",
              "    }\n",
              "\n",
              "    .dataframe thead th {\n",
              "        text-align: right;\n",
              "    }\n",
              "</style>\n",
              "<table border=\"1\" class=\"dataframe\">\n",
              "  <thead>\n",
              "    <tr style=\"text-align: right;\">\n",
              "      <th></th>\n",
              "      <th>category</th>\n",
              "      <th>text</th>\n",
              "      <th>cleaned_text</th>\n",
              "      <th>label</th>\n",
              "      <th>label_format</th>\n",
              "    </tr>\n",
              "  </thead>\n",
              "  <tbody>\n",
              "    <tr>\n",
              "      <th>0</th>\n",
              "      <td>kultur</td>\n",
              "      <td>7 yaşındaki mercan a büyük ödül almanya nın e...</td>\n",
              "      <td>yaşındaki mercan a büyük ödül almanya nın önem...</td>\n",
              "      <td>2</td>\n",
              "      <td>__label__kultur  yaşındaki mercan a büyük ödül...</td>\n",
              "    </tr>\n",
              "    <tr>\n",
              "      <th>1</th>\n",
              "      <td>teknoloji</td>\n",
              "      <td>facebook kullanıcıları dikkat ! facebook un y...</td>\n",
              "      <td>facebook kullanıcıları dikkat facebook un yeni...</td>\n",
              "      <td>6</td>\n",
              "      <td>__label__teknoloji  facebook kullanıcıları dik...</td>\n",
              "    </tr>\n",
              "    <tr>\n",
              "      <th>2</th>\n",
              "      <td>saglik</td>\n",
              "      <td>organ bağışı vasiyeti herkesin cebinde olacak...</td>\n",
              "      <td>organ bağışı vasiyeti herkesin cebinde olacak ...</td>\n",
              "      <td>3</td>\n",
              "      <td>__label__saglik  organ bağışı vasiyeti herkesi...</td>\n",
              "    </tr>\n",
              "    <tr>\n",
              "      <th>3</th>\n",
              "      <td>ekonomi</td>\n",
              "      <td>çeyrek altın kaç lira istanbul_kapalıçarşı da...</td>\n",
              "      <td>çeyrek altın kaç lira istanbul kapalıçarşı aya...</td>\n",
              "      <td>1</td>\n",
              "      <td>__label__ekonomi  çeyrek altın kaç lira istanb...</td>\n",
              "    </tr>\n",
              "    <tr>\n",
              "      <th>4</th>\n",
              "      <td>ekonomi</td>\n",
              "      <td>borsa güne yükselişle başladı istanbul_menkul...</td>\n",
              "      <td>borsa güne yükselişle başladı istanbul menkul ...</td>\n",
              "      <td>1</td>\n",
              "      <td>__label__ekonomi  borsa güne yükselişle başlad...</td>\n",
              "    </tr>\n",
              "  </tbody>\n",
              "</table>\n",
              "</div>\n",
              "      <button class=\"colab-df-convert\" onclick=\"convertToInteractive('df-16044d8d-0f18-498b-8ced-fe3177e00128')\"\n",
              "              title=\"Convert this dataframe to an interactive table.\"\n",
              "              style=\"display:none;\">\n",
              "        \n",
              "  <svg xmlns=\"http://www.w3.org/2000/svg\" height=\"24px\"viewBox=\"0 0 24 24\"\n",
              "       width=\"24px\">\n",
              "    <path d=\"M0 0h24v24H0V0z\" fill=\"none\"/>\n",
              "    <path d=\"M18.56 5.44l.94 2.06.94-2.06 2.06-.94-2.06-.94-.94-2.06-.94 2.06-2.06.94zm-11 1L8.5 8.5l.94-2.06 2.06-.94-2.06-.94L8.5 2.5l-.94 2.06-2.06.94zm10 10l.94 2.06.94-2.06 2.06-.94-2.06-.94-.94-2.06-.94 2.06-2.06.94z\"/><path d=\"M17.41 7.96l-1.37-1.37c-.4-.4-.92-.59-1.43-.59-.52 0-1.04.2-1.43.59L10.3 9.45l-7.72 7.72c-.78.78-.78 2.05 0 2.83L4 21.41c.39.39.9.59 1.41.59.51 0 1.02-.2 1.41-.59l7.78-7.78 2.81-2.81c.8-.78.8-2.07 0-2.86zM5.41 20L4 18.59l7.72-7.72 1.47 1.35L5.41 20z\"/>\n",
              "  </svg>\n",
              "      </button>\n",
              "      \n",
              "  <style>\n",
              "    .colab-df-container {\n",
              "      display:flex;\n",
              "      flex-wrap:wrap;\n",
              "      gap: 12px;\n",
              "    }\n",
              "\n",
              "    .colab-df-convert {\n",
              "      background-color: #E8F0FE;\n",
              "      border: none;\n",
              "      border-radius: 50%;\n",
              "      cursor: pointer;\n",
              "      display: none;\n",
              "      fill: #1967D2;\n",
              "      height: 32px;\n",
              "      padding: 0 0 0 0;\n",
              "      width: 32px;\n",
              "    }\n",
              "\n",
              "    .colab-df-convert:hover {\n",
              "      background-color: #E2EBFA;\n",
              "      box-shadow: 0px 1px 2px rgba(60, 64, 67, 0.3), 0px 1px 3px 1px rgba(60, 64, 67, 0.15);\n",
              "      fill: #174EA6;\n",
              "    }\n",
              "\n",
              "    [theme=dark] .colab-df-convert {\n",
              "      background-color: #3B4455;\n",
              "      fill: #D2E3FC;\n",
              "    }\n",
              "\n",
              "    [theme=dark] .colab-df-convert:hover {\n",
              "      background-color: #434B5C;\n",
              "      box-shadow: 0px 1px 3px 1px rgba(0, 0, 0, 0.15);\n",
              "      filter: drop-shadow(0px 1px 2px rgba(0, 0, 0, 0.3));\n",
              "      fill: #FFFFFF;\n",
              "    }\n",
              "  </style>\n",
              "\n",
              "      <script>\n",
              "        const buttonEl =\n",
              "          document.querySelector('#df-16044d8d-0f18-498b-8ced-fe3177e00128 button.colab-df-convert');\n",
              "        buttonEl.style.display =\n",
              "          google.colab.kernel.accessAllowed ? 'block' : 'none';\n",
              "\n",
              "        async function convertToInteractive(key) {\n",
              "          const element = document.querySelector('#df-16044d8d-0f18-498b-8ced-fe3177e00128');\n",
              "          const dataTable =\n",
              "            await google.colab.kernel.invokeFunction('convertToInteractive',\n",
              "                                                     [key], {});\n",
              "          if (!dataTable) return;\n",
              "\n",
              "          const docLinkHtml = 'Like what you see? Visit the ' +\n",
              "            '<a target=\"_blank\" href=https://colab.research.google.com/notebooks/data_table.ipynb>data table notebook</a>'\n",
              "            + ' to learn more about interactive tables.';\n",
              "          element.innerHTML = '';\n",
              "          dataTable['output_type'] = 'display_data';\n",
              "          await google.colab.output.renderOutput(dataTable, element);\n",
              "          const docLink = document.createElement('div');\n",
              "          docLink.innerHTML = docLinkHtml;\n",
              "          element.appendChild(docLink);\n",
              "        }\n",
              "      </script>\n",
              "    </div>\n",
              "  </div>\n",
              "  "
            ],
            "text/plain": [
              "     category                                               text  \\\n",
              "0     kultur    7 yaşındaki mercan a büyük ödül almanya nın e...   \n",
              "1  teknoloji    facebook kullanıcıları dikkat ! facebook un y...   \n",
              "2     saglik    organ bağışı vasiyeti herkesin cebinde olacak...   \n",
              "3    ekonomi    çeyrek altın kaç lira istanbul_kapalıçarşı da...   \n",
              "4    ekonomi    borsa güne yükselişle başladı istanbul_menkul...   \n",
              "\n",
              "                                        cleaned_text  label  \\\n",
              "0  yaşındaki mercan a büyük ödül almanya nın önem...      2   \n",
              "1  facebook kullanıcıları dikkat facebook un yeni...      6   \n",
              "2  organ bağışı vasiyeti herkesin cebinde olacak ...      3   \n",
              "3  çeyrek altın kaç lira istanbul kapalıçarşı aya...      1   \n",
              "4  borsa güne yükselişle başladı istanbul menkul ...      1   \n",
              "\n",
              "                                        label_format  \n",
              "0  __label__kultur  yaşındaki mercan a büyük ödül...  \n",
              "1  __label__teknoloji  facebook kullanıcıları dik...  \n",
              "2  __label__saglik  organ bağışı vasiyeti herkesi...  \n",
              "3  __label__ekonomi  çeyrek altın kaç lira istanb...  \n",
              "4  __label__ekonomi  borsa güne yükselişle başlad...  "
            ]
          },
          "execution_count": 25,
          "metadata": {},
          "output_type": "execute_result"
        }
      ],
      "source": [
        "train.head()"
      ]
    },
    {
      "cell_type": "code",
      "execution_count": 26,
      "metadata": {
        "colab": {
          "base_uri": "https://localhost:8080/",
          "height": 0
        },
        "id": "xdY-Mvn31Tux",
        "outputId": "c84058a4-a49b-481c-f870-b05c1edd62c6"
      },
      "outputs": [
        {
          "data": {
            "text/html": [
              "\n",
              "  <div id=\"df-c41b301f-5aef-405a-bf70-c752339bca43\">\n",
              "    <div class=\"colab-df-container\">\n",
              "      <div>\n",
              "<style scoped>\n",
              "    .dataframe tbody tr th:only-of-type {\n",
              "        vertical-align: middle;\n",
              "    }\n",
              "\n",
              "    .dataframe tbody tr th {\n",
              "        vertical-align: top;\n",
              "    }\n",
              "\n",
              "    .dataframe thead th {\n",
              "        text-align: right;\n",
              "    }\n",
              "</style>\n",
              "<table border=\"1\" class=\"dataframe\">\n",
              "  <thead>\n",
              "    <tr style=\"text-align: right;\">\n",
              "      <th></th>\n",
              "      <th>category</th>\n",
              "      <th>text</th>\n",
              "      <th>cleaned_text</th>\n",
              "      <th>label</th>\n",
              "      <th>label_format</th>\n",
              "    </tr>\n",
              "  </thead>\n",
              "  <tbody>\n",
              "    <tr>\n",
              "      <th>0</th>\n",
              "      <td>ekonomi</td>\n",
              "      <td>hollanda türkiye  nin büyümesini kıskanıyoru...</td>\n",
              "      <td>hollanda türkiye nin büyümesini kıskanıyoruz h...</td>\n",
              "      <td>1</td>\n",
              "      <td>__label__ekonomi  hollanda türkiye nin büyümes...</td>\n",
              "    </tr>\n",
              "    <tr>\n",
              "      <th>1</th>\n",
              "      <td>ekonomi</td>\n",
              "      <td>komşu türk turist çekmek için camileri bile o...</td>\n",
              "      <td>komşu türk turist çekmek camileri bile onaraca...</td>\n",
              "      <td>1</td>\n",
              "      <td>__label__ekonomi  komşu türk turist çekmek cam...</td>\n",
              "    </tr>\n",
              "    <tr>\n",
              "      <th>2</th>\n",
              "      <td>kultur</td>\n",
              "      <td>ünlü eser sakıncalı bulundu izmir il milli_eğ...</td>\n",
              "      <td>ünlü eser sakıncalı bulundu izmir il milli eği...</td>\n",
              "      <td>2</td>\n",
              "      <td>__label__kultur  ünlü eser sakıncalı bulundu i...</td>\n",
              "    </tr>\n",
              "    <tr>\n",
              "      <th>3</th>\n",
              "      <td>spor</td>\n",
              "      <td>ronaldo ile kıyaslanmaktan sıkılmış ! dünyanı...</td>\n",
              "      <td>ronaldo kıyaslanmaktan sıkılmış dünyanın iyi i...</td>\n",
              "      <td>5</td>\n",
              "      <td>__label__spor  ronaldo kıyaslanmaktan sıkılmış...</td>\n",
              "    </tr>\n",
              "    <tr>\n",
              "      <th>4</th>\n",
              "      <td>dunya</td>\n",
              "      <td>meksika da deprem meksika nın güneyinde şidde...</td>\n",
              "      <td>meksika deprem meksika nın güneyinde şiddetli ...</td>\n",
              "      <td>0</td>\n",
              "      <td>__label__dunya  meksika deprem meksika nın gün...</td>\n",
              "    </tr>\n",
              "  </tbody>\n",
              "</table>\n",
              "</div>\n",
              "      <button class=\"colab-df-convert\" onclick=\"convertToInteractive('df-c41b301f-5aef-405a-bf70-c752339bca43')\"\n",
              "              title=\"Convert this dataframe to an interactive table.\"\n",
              "              style=\"display:none;\">\n",
              "        \n",
              "  <svg xmlns=\"http://www.w3.org/2000/svg\" height=\"24px\"viewBox=\"0 0 24 24\"\n",
              "       width=\"24px\">\n",
              "    <path d=\"M0 0h24v24H0V0z\" fill=\"none\"/>\n",
              "    <path d=\"M18.56 5.44l.94 2.06.94-2.06 2.06-.94-2.06-.94-.94-2.06-.94 2.06-2.06.94zm-11 1L8.5 8.5l.94-2.06 2.06-.94-2.06-.94L8.5 2.5l-.94 2.06-2.06.94zm10 10l.94 2.06.94-2.06 2.06-.94-2.06-.94-.94-2.06-.94 2.06-2.06.94z\"/><path d=\"M17.41 7.96l-1.37-1.37c-.4-.4-.92-.59-1.43-.59-.52 0-1.04.2-1.43.59L10.3 9.45l-7.72 7.72c-.78.78-.78 2.05 0 2.83L4 21.41c.39.39.9.59 1.41.59.51 0 1.02-.2 1.41-.59l7.78-7.78 2.81-2.81c.8-.78.8-2.07 0-2.86zM5.41 20L4 18.59l7.72-7.72 1.47 1.35L5.41 20z\"/>\n",
              "  </svg>\n",
              "      </button>\n",
              "      \n",
              "  <style>\n",
              "    .colab-df-container {\n",
              "      display:flex;\n",
              "      flex-wrap:wrap;\n",
              "      gap: 12px;\n",
              "    }\n",
              "\n",
              "    .colab-df-convert {\n",
              "      background-color: #E8F0FE;\n",
              "      border: none;\n",
              "      border-radius: 50%;\n",
              "      cursor: pointer;\n",
              "      display: none;\n",
              "      fill: #1967D2;\n",
              "      height: 32px;\n",
              "      padding: 0 0 0 0;\n",
              "      width: 32px;\n",
              "    }\n",
              "\n",
              "    .colab-df-convert:hover {\n",
              "      background-color: #E2EBFA;\n",
              "      box-shadow: 0px 1px 2px rgba(60, 64, 67, 0.3), 0px 1px 3px 1px rgba(60, 64, 67, 0.15);\n",
              "      fill: #174EA6;\n",
              "    }\n",
              "\n",
              "    [theme=dark] .colab-df-convert {\n",
              "      background-color: #3B4455;\n",
              "      fill: #D2E3FC;\n",
              "    }\n",
              "\n",
              "    [theme=dark] .colab-df-convert:hover {\n",
              "      background-color: #434B5C;\n",
              "      box-shadow: 0px 1px 3px 1px rgba(0, 0, 0, 0.15);\n",
              "      filter: drop-shadow(0px 1px 2px rgba(0, 0, 0, 0.3));\n",
              "      fill: #FFFFFF;\n",
              "    }\n",
              "  </style>\n",
              "\n",
              "      <script>\n",
              "        const buttonEl =\n",
              "          document.querySelector('#df-c41b301f-5aef-405a-bf70-c752339bca43 button.colab-df-convert');\n",
              "        buttonEl.style.display =\n",
              "          google.colab.kernel.accessAllowed ? 'block' : 'none';\n",
              "\n",
              "        async function convertToInteractive(key) {\n",
              "          const element = document.querySelector('#df-c41b301f-5aef-405a-bf70-c752339bca43');\n",
              "          const dataTable =\n",
              "            await google.colab.kernel.invokeFunction('convertToInteractive',\n",
              "                                                     [key], {});\n",
              "          if (!dataTable) return;\n",
              "\n",
              "          const docLinkHtml = 'Like what you see? Visit the ' +\n",
              "            '<a target=\"_blank\" href=https://colab.research.google.com/notebooks/data_table.ipynb>data table notebook</a>'\n",
              "            + ' to learn more about interactive tables.';\n",
              "          element.innerHTML = '';\n",
              "          dataTable['output_type'] = 'display_data';\n",
              "          await google.colab.output.renderOutput(dataTable, element);\n",
              "          const docLink = document.createElement('div');\n",
              "          docLink.innerHTML = docLinkHtml;\n",
              "          element.appendChild(docLink);\n",
              "        }\n",
              "      </script>\n",
              "    </div>\n",
              "  </div>\n",
              "  "
            ],
            "text/plain": [
              "   category                                               text  \\\n",
              "0  ekonomi    hollanda türkiye  nin büyümesini kıskanıyoru...   \n",
              "1  ekonomi    komşu türk turist çekmek için camileri bile o...   \n",
              "2   kultur    ünlü eser sakıncalı bulundu izmir il milli_eğ...   \n",
              "3     spor    ronaldo ile kıyaslanmaktan sıkılmış ! dünyanı...   \n",
              "4    dunya    meksika da deprem meksika nın güneyinde şidde...   \n",
              "\n",
              "                                        cleaned_text  label  \\\n",
              "0  hollanda türkiye nin büyümesini kıskanıyoruz h...      1   \n",
              "1  komşu türk turist çekmek camileri bile onaraca...      1   \n",
              "2  ünlü eser sakıncalı bulundu izmir il milli eği...      2   \n",
              "3  ronaldo kıyaslanmaktan sıkılmış dünyanın iyi i...      5   \n",
              "4  meksika deprem meksika nın güneyinde şiddetli ...      0   \n",
              "\n",
              "                                        label_format  \n",
              "0  __label__ekonomi  hollanda türkiye nin büyümes...  \n",
              "1  __label__ekonomi  komşu türk turist çekmek cam...  \n",
              "2  __label__kultur  ünlü eser sakıncalı bulundu i...  \n",
              "3  __label__spor  ronaldo kıyaslanmaktan sıkılmış...  \n",
              "4  __label__dunya  meksika deprem meksika nın gün...  "
            ]
          },
          "execution_count": 26,
          "metadata": {},
          "output_type": "execute_result"
        }
      ],
      "source": [
        "test.head()"
      ]
    },
    {
      "cell_type": "code",
      "execution_count": 28,
      "metadata": {
        "id": "KceJgWSrR3YW"
      },
      "outputs": [],
      "source": [
        "train['label_format'].to_csv('fasttext_train.txt',index=None,header=None)\n",
        "test['label_format'].to_csv('fasttext_test.txt',index=None,header=None)"
      ]
    },
    {
      "cell_type": "code",
      "execution_count": 29,
      "metadata": {
        "id": "l7GcccnESDrk"
      },
      "outputs": [],
      "source": [
        "import fasttext\n",
        "#train classifier model\n",
        "model_fasttext = fasttext.train_supervised('fasttext_train.txt',\n",
        "                                           epoch=50,\n",
        "                                           lr=0.05,\n",
        "                                           label_prefix='__label__',\n",
        "                                           dim=1000)"
      ]
    },
    {
      "cell_type": "code",
      "execution_count": 31,
      "metadata": {
        "id": "WdAdFPvNFrf6"
      },
      "outputs": [],
      "source": [
        "model_fasttext.save_model(\"clf_model_turkish.bin\")"
      ]
    },
    {
      "cell_type": "markdown",
      "metadata": {
        "id": "IPAVaSl4GHGN"
      },
      "source": [
        "학습된 모델 점수 및 성능확인"
      ]
    },
    {
      "cell_type": "code",
      "execution_count": 35,
      "metadata": {
        "colab": {
          "base_uri": "https://localhost:8080/"
        },
        "id": "DP0J-_i6GL0A",
        "outputId": "d1a4919c-ff51-496d-be9c-602890a307dd"
      },
      "outputs": [
        {
          "name": "stdout",
          "output_type": "stream",
          "text": [
            "ekonomi \n",
            "hollanda türkiye nin büyümesini kıskanıyoruz hollanda başbakanı mark rutte türkiye nin hollanda nın önemli ticaret yatırım ortaklarından birisi olduğunu belirterek son yıl içinde türkiye ekonomisi büyük bir hızla büyüdü büyüme bizi kıskandırıyor dedi türkiye nin yumuşak inişi başardığını aktaran rutte türkiye halen yüzde e yakın bir büyüme kaydedebiliyor dedi iki ülkenin yıllık toplam ticaret hacminin yıllık milyar doların üzerinde olduğunu anlatan rutte cumhurbaşkanı abdullah gül başbakan recep tayyip erdoğan görüşmeler yaptık görüşmeler sadece politik meselelerden ibaret değildi aynı zamanda iki ülke arasındaki ticari ekonomik ilişkileri artırabileceğimizi görüştük konuştu rutte kredi derecelendirme kuruluşu fitch in türkiye hakkında yaptığı not artırımı dolayısıyla başbakan erdoğan ı tebrik ettiğini belirterek not artırımı türkiye güzel bir haber türkiye artık istikrarlı bir ortam sağlıyor konuştu milyar dolar başbakan yardımcısı ali babacan yılın türkiye hollanda nın ikili ilişkisinin yılı olması sebebiyle önemli olduğunu belirterek geçen yılın sonu itibariyle toplam ticaret hacminin milyar dolara ulaştığını kaydetti rakamın potansiyelin altında olduğunu vurgulayan babacan hollanda dan gelen doğrudan yatırımın yıl sonu itibariyle milyar doları geçmesinin beklendiğini ifade etti toplam milyondan fazla hollandalı turistin türkiye yi ziyaret ettiği bilgisini veren babacan krizin başladığı yılları öncesinde kamu finansman kontrolü sosyal güvenlik sağlık hizmetleri diğer alanlarda tedbirler alındığını anımsattı\n"
          ]
        }
      ],
      "source": [
        "print(test['category'][0])\n",
        "print(test['cleaned_text'][0])"
      ]
    },
    {
      "cell_type": "code",
      "execution_count": 36,
      "metadata": {
        "colab": {
          "base_uri": "https://localhost:8080/"
        },
        "id": "fIg5cQMkF0RF",
        "outputId": "27b7b1ae-e9f5-4dbf-bc3d-b75de024769e"
      },
      "outputs": [
        {
          "name": "stdout",
          "output_type": "stream",
          "text": [
            "ekonomi \n",
            "hollanda türkiye nin büyümesini kıskanıyoruz hollanda başbakanı mark rutte türkiye nin hollanda nın önemli ticaret yatırım ortaklarından birisi olduğunu belirterek son yıl içinde türkiye ekonomisi büyük bir hızla büyüdü büyüme bizi kıskandırıyor dedi türkiye nin yumuşak inişi başardığını aktaran rutte türkiye halen yüzde e yakın bir büyüme kaydedebiliyor dedi iki ülkenin yıllık toplam ticaret hacminin yıllık milyar doların üzerinde olduğunu anlatan rutte cumhurbaşkanı abdullah gül başbakan recep tayyip erdoğan görüşmeler yaptık görüşmeler sadece politik meselelerden ibaret değildi aynı zamanda iki ülke arasındaki ticari ekonomik ilişkileri artırabileceğimizi görüştük konuştu rutte kredi derecelendirme kuruluşu fitch in türkiye hakkında yaptığı not artırımı dolayısıyla başbakan erdoğan ı tebrik ettiğini belirterek not artırımı türkiye güzel bir haber türkiye artık istikrarlı bir ortam sağlıyor konuştu milyar dolar başbakan yardımcısı ali babacan yılın türkiye hollanda nın ikili ilişkisinin yılı olması sebebiyle önemli olduğunu belirterek geçen yılın sonu itibariyle toplam ticaret hacminin milyar dolara ulaştığını kaydetti rakamın potansiyelin altında olduğunu vurgulayan babacan hollanda dan gelen doğrudan yatırımın yıl sonu itibariyle milyar doları geçmesinin beklendiğini ifade etti toplam milyondan fazla hollandalı turistin türkiye yi ziyaret ettiği bilgisini veren babacan krizin başladığı yılları öncesinde kamu finansman kontrolü sosyal güvenlik sağlık hizmetleri diğer alanlarda tedbirler alındığını anımsattı\n",
            "(('__label__ekonomi',), array([0.92702574]))\n"
          ]
        }
      ],
      "source": [
        "print(test['category'][0])\n",
        "print(test['cleaned_text'][0])\n",
        "print(model_fasttext.predict(test['cleaned_text'][0]))"
      ]
    },
    {
      "cell_type": "code",
      "execution_count": 47,
      "metadata": {
        "colab": {
          "base_uri": "https://localhost:8080/"
        },
        "id": "JiPiXmAEleXB",
        "outputId": "b0d734a3-9a46-44a1-faf2-2d86c01217f6"
      },
      "outputs": [
        {
          "name": "stdout",
          "output_type": "stream",
          "text": [
            "train Precision at 1 : 0.9509911894273128, recall at 1 : 0.9509911894273128:\n",
            "test Precision at 1 : 0.8777533039647577, recall at 1 : 0.8777533039647577:\n"
          ]
        }
      ],
      "source": [
        "# test score\n",
        "train_score = model_fasttext.test('fasttext_train.txt')\n",
        "test_score = model_fasttext.test('fasttext_test.txt')\n",
        "\n",
        "print(\"train Precision at 1 : {}, recall at 1 : {}:\".format(train_score[1], train_score[2]))\n",
        "print(\"test Precision at 1 : {}, recall at 1 : {}:\".format(test_score[1], test_score[2]))"
      ]
    },
    {
      "cell_type": "code",
      "execution_count": null,
      "metadata": {
        "id": "tegX9C5DQM9b"
      },
      "outputs": [],
      "source": [
        "y_test = test['label']\n",
        "\n",
        "y_pred_label = []\n",
        "for text in test['cleaned_text']:\n",
        "    text = model_fasttext.predict(text)[0][0][9:] + ' '\n",
        "    y_pred_label.append(text)\n",
        "    y_pred = le.transform(y_pred_label)"
      ]
    },
    {
      "cell_type": "code",
      "execution_count": 98,
      "metadata": {
        "colab": {
          "base_uri": "https://localhost:8080/"
        },
        "id": "LiH3L7yRRA_B",
        "outputId": "cc25c7f0-bfd4-467b-f81c-49e8336de728"
      },
      "outputs": [
        {
          "name": "stdout",
          "output_type": "stream",
          "text": [
            "              precision    recall  f1-score   support\n",
            "\n",
            "           0     0.8759    0.8108    0.8421       148\n",
            "           1     0.8106    0.8425    0.8263       127\n",
            "           2     0.7953    0.9099    0.8487       111\n",
            "           3     0.9000    0.9310    0.9153       116\n",
            "           4     0.8947    0.9067    0.9007       150\n",
            "           5     1.0000    0.8906    0.9421       128\n",
            "           6     0.8810    0.8672    0.8740       128\n",
            "\n",
            "    accuracy                         0.8778       908\n",
            "   macro avg     0.8796    0.8798    0.8785       908\n",
            "weighted avg     0.8813    0.8778    0.8783       908\n",
            "\n"
          ]
        }
      ],
      "source": [
        "print(sklearn.metrics.classification_report(y_test, y_pred, digits=4))"
      ]
    },
    {
      "cell_type": "code",
      "execution_count": 85,
      "metadata": {
        "colab": {
          "base_uri": "https://localhost:8080/",
          "height": 0
        },
        "id": "XBwsBDKa600e",
        "outputId": "073704f9-8108-4906-b66d-131855233b37"
      },
      "outputs": [
        {
          "data": {
            "image/png": "[encoded data removed]",
            "text/plain": [
              "<Figure size 720x720 with 2 Axes>"
            ]
          },
          "metadata": {
            "needs_background": "light"
          },
          "output_type": "display_data"
        }
      ],
      "source": [
        "# confusion matrix\n",
        "plt.figure(figsize=(10,10))\n",
        "cm=confusion_matrix(y_test,y_pred)\n",
        "plt.title('confusion matrix')\n",
        "sns.heatmap(cm,annot=True,fmt='d') \n",
        "plt.xticks(np.arange(0,7),le.classes_, size=15, rotation=45)\n",
        "plt.yticks(np.arange(0,7),le.classes_, size=15, rotation=45)\n",
        "plt.xlabel('real')\n",
        "plt.ylabel('predict')\n",
        "plt.show()"
      ]
    },
    {
      "cell_type": "markdown",
      "metadata": {
        "id": "2n136U3XcUcs"
      },
      "source": [
        "## LSTM"
      ]
    },
    {
      "cell_type": "code",
      "execution_count": 231,
      "metadata": {
        "colab": {
          "base_uri": "https://localhost:8080/"
        },
        "id": "zfo7GdEtcewO",
        "outputId": "93d608ce-f754-41d7-fa9e-fb6b016dba99"
      },
      "outputs": [
        {
          "name": "stdout",
          "output_type": "stream",
          "text": [
            "3632\n",
            "3632\n",
            "908\n",
            "908\n"
          ]
        }
      ],
      "source": [
        "X_train, X_test, y_train, y_test = train_test_split(df['cleaned_text'], df['label'], test_size=0.2, random_state=42,shuffle=True)\n",
        "print(len(X_train)) # 3920 sentences\n",
        "print(len(y_train)) #3920 Labels\n",
        "print(len(X_test))  # 980 sentences\n",
        "print(len(y_test)) # 980 labels"
      ]
    },
    {
      "cell_type": "code",
      "execution_count": 200,
      "metadata": {
        "colab": {
          "base_uri": "https://localhost:8080/"
        },
        "id": "rmTDt9h6c3qV",
        "outputId": "e4e3500f-29ed-4cac-d9ff-185fac209960"
      },
      "outputs": [
        {
          "name": "stdout",
          "output_type": "stream",
          "text": [
            "94781\n"
          ]
        }
      ],
      "source": [
        "from tensorflow.keras.preprocessing.text import Tokenizer\n",
        "from tensorflow.keras.preprocessing.sequence import pad_sequences \n",
        "\n",
        "max_lenght=100\n",
        "\n",
        "tokenizer = Tokenizer() \n",
        "tokenizer.fit_on_texts(X_train)\n",
        "\n",
        "word_index = tokenizer.word_index # creating word dict for words in training\n",
        "\n",
        "sequences = tokenizer.texts_to_sequences(X_train)  # replacing words with the number corresponding to them in the dictionary(word_index)\n",
        "\n",
        "X_train_padded = pad_sequences(sequences, padding='post',maxlen=max_lenght) # padding words\n",
        "\n",
        "print(len(word_index)) # I have 94836 words in my dictionary"
      ]
    },
    {
      "cell_type": "code",
      "execution_count": 235,
      "metadata": {
        "colab": {
          "base_uri": "https://localhost:8080/"
        },
        "id": "Cv8D7OErc4z0",
        "outputId": "c157d693-08fc-4242-f5ec-2b4088d0474a"
      },
      "outputs": [
        {
          "name": "stdout",
          "output_type": "stream",
          "text": [
            "Original Version: yaşındaki mercan a büyük ödül almanya nın önemli medya ödülü olarak kabul edilen bambi ödülleri düsseldorf kentinde düzenlenen törenle yılki sahiplerini buldu hubert burda media yayın kuruluşu tarafından düzenlenen törende christian zübert in dreiviertelmond filminde hayat adlı türk kızını canlandıran yaşındaki mercan fatma türkoğlu yetenek bambi ödülüne layık görüldü minik mercan sahneye gelerek anneme okuluma öğretmenlerime bana bugün burada olmama izin verdikleri teşekkür ediyorum dedi mercan fatma türkoğlu ödülünü kendi yaşıtı olan kendisi oyunculuk yapan nina eichinger den aldı geceden kareler foto galeri yeni başlayanlar türkçe adlı film ulusal film kategorisinde bambi ödülü alırken uyum dalındaki ödülü berlin sokak ortasında arap kökenli gençler tarafından dövülen haham daniel alter aldı yeni başlayanlar türkçe adlı filmin başrol oyuncusu adnan maral türkçe yaptığı teşekkür konuşmasında teşekkür ederim dedi alman birinci televizyonu ard tarafından naklen yayınlanan milyona yakın izleyiciyi ekrana kilitleyen törende adnan maral teşekkür ederim burda türkçe burası demektir ben arkadaşlarım burada olduğumuz mutlu sevinçliyiz teşekkürler iyi geceler almanya diyerek konuşmasını tamamladı milenyum dalındaki bambi ödülüne avusturyalı ekstrem sporcu feli baumgartner uluslararası film dalındaki ödüle salma hayek layık görüldü bambi töreninde sunuculuk yapan celine dion eğlence dalında ödüllendirildi yıl üncüsü düzenlenen bambi ödül törenine siyaset spor sanat kültür alanından sayıda kişi katıldı törende çeşitli dallarda ödül alan isimler şöyle uluslararası film yıldızı salma hayek eğlence celine dion yetenek bambi mercan fatma türkoglu film yeni başlayanlar türkçe türkisch für anf nger yaşam boyu onur bambisi joachim fuchsberger milenyum bambi feli baumgartner uluslararası pop one direction sessiz kahraman ruth pfau lepra hastalara yardım ediyor uyum daniel alter kadın oyuncu alina levshin erkek oyuncu ulrich tukur komedi martina hill yılın televizyon filmi der turm pop cro bizim dünyamız steven armstrup kutup ayısı araştırmacısı\n",
            "\n",
            "---------------------------------\n",
            "\n",
            "Tokenized version: [464, 13545, 16, 12, 732, 328, 11, 24, 914, 511, 4, 150, 158, 13546, 1243, 13547, 1674, 214, 4802, 3025, 4486, 1402, 50716, 17008, 11254, 922, 2167, 33, 214, 2383, 7530, 50717, 8, 50718, 3103, 898, 249, 29, 17009, 6407, 464, 13545, 2692, 15152, 6767, 13546, 6116, 1557, 1296, 6117, 13545, 2140, 2626, 22796, 50719, 50720, 583, 121, 243, 15153, 684, 2384, 801, 853, 9, 13545, 2692, 15152, 2249, 76, 35355, 6, 930, 12271, 132, 19475, 50721, 62, 195, 12272, 10387, 3345, 2573, 14, 19476, 637, 249, 180, 560, 180, 2627, 13546, 511, 1917, 2473, 15154, 511, 2141, 2250, 6118, 915, 3716, 2932, 33, 50722, 50723, 3527, 22797, 195, 14, 19476, 637, 249, 1067, 4487, 1254, 2251, 27590, 637, 53, 801, 1313, 801, 4488, 9, 1455, 846, 4349, 2746, 33, 17010, 1215, 2516, 182, 17011, 4350, 50724, 2383, 2251, 27590, 801, 4488, 17008, 637, 3960, 2574, 107, 8495, 243, 2747, 836, 27591, 27592, 36, 22798, 328, 777, 2693, 1701, 35356, 15154, 13546, 6116, 12273, 27593, 2252, 6119, 9023, 135, 180, 15154, 3717, 35357, 35358, 1557, 1296, 13546, 3834, 22799, 132, 35359, 22800, 2079, 3528, 10388, 26, 8496, 214, 13546, 732, 2794, 1403, 193, 477, 259, 22801, 508, 131, 567, 2383, 420, 27594, 732, 80, 1975, 71, 135, 180, 2168, 35357, 35358, 2079, 35359, 22800, 6767, 13546, 13545, 2692, 50725, 180, 14, 19476, 637, 50726, 35360, 35361, 50727, 601, 2142, 1255, 50728, 27595, 50729, 35356, 13546, 6119, 9023, 135, 6408, 4225, 27596, 2694, 6409, 27597, 50730, 50731, 2338, 649, 145, 2473, 3527, 22797, 215, 374, 50732, 50733, 819, 374, 35362, 50734, 4226, 50735, 50736, 176, 869, 607, 9024, 50737, 6408, 17012, 125, 50738, 12274, 50739, 27598, 35363, 50740]\n",
            "\n",
            "---------------------------------\n",
            "\n",
            "Padded version [ 3834 22799   132 35359 22800  2079  3528 10388    26  8496   214 13546\n",
            "   732  2794  1403   193   477   259 22801   508   131   567  2383   420\n",
            " 27594   732    80  1975    71   135   180  2168 35357 35358  2079 35359\n",
            " 22800  6767 13546 13545  2692 50725   180    14 19476   637 50726 35360\n",
            " 35361 50727   601  2142  1255 50728 27595 50729 35356 13546  6119  9023\n",
            "   135  6408  4225 27596  2694  6409 27597 50730 50731  2338   649   145\n",
            "  2473  3527 22797   215   374 50732 50733   819   374 35362 50734  4226\n",
            " 50735 50736   176   869   607  9024 50737  6408 17012   125 50738 12274\n",
            " 50739 27598 35363 50740]\n",
            "\n",
            "---------------------------------\n",
            "\n",
            "Shape after the padding: (3632, 100)\n"
          ]
        }
      ],
      "source": [
        "print(\"Original Version:\",X_train.iloc[0])\n",
        "print(\"\\n---------------------------------\\n\")\n",
        "print(\"Tokenized version:\",sequences[0])  # change words with number that corresponding to word word_index\n",
        "print(\"\\n---------------------------------\\n\")\n",
        "print(\"Padded version\",X_train_padded[0]) \n",
        "print(\"\\n---------------------------------\\n\")\n",
        "print(\"Shape after the padding:\",X_train_padded.shape)"
      ]
    },
    {
      "cell_type": "code",
      "execution_count": null,
      "metadata": {
        "id": "ERPxpR8PqKEY"
      },
      "outputs": [],
      "source": [
        "X_test_sequences = tokenizer.texts_to_sequences(X_train)  # replacing words with the number corresponding to them in the dictionary(word_index)\n",
        "X_test_padded = pad_sequences(X_test_sequences, padding='post',maxlen=max_lenght) # padding words"
      ]
    },
    {
      "cell_type": "code",
      "execution_count": 234,
      "metadata": {
        "colab": {
          "base_uri": "https://localhost:8080/"
        },
        "id": "P_wM1akrc6M6",
        "outputId": "7b63a16f-0207-4cd1-e0fc-d64d8fab992c"
      },
      "outputs": [
        {
          "name": "stdout",
          "output_type": "stream",
          "text": [
            "Original Version: hollanda türkiye nin büyümesini kıskanıyoruz hollanda başbakanı mark rutte türkiye nin hollanda nın önemli ticaret yatırım ortaklarından birisi olduğunu belirterek son yıl içinde türkiye ekonomisi büyük bir hızla büyüdü büyüme bizi kıskandırıyor dedi türkiye nin yumuşak inişi başardığını aktaran rutte türkiye halen yüzde e yakın bir büyüme kaydedebiliyor dedi iki ülkenin yıllık toplam ticaret hacminin yıllık milyar doların üzerinde olduğunu anlatan rutte cumhurbaşkanı abdullah gül başbakan recep tayyip erdoğan görüşmeler yaptık görüşmeler sadece politik meselelerden ibaret değildi aynı zamanda iki ülke arasındaki ticari ekonomik ilişkileri artırabileceğimizi görüştük konuştu rutte kredi derecelendirme kuruluşu fitch in türkiye hakkında yaptığı not artırımı dolayısıyla başbakan erdoğan ı tebrik ettiğini belirterek not artırımı türkiye güzel bir haber türkiye artık istikrarlı bir ortam sağlıyor konuştu milyar dolar başbakan yardımcısı ali babacan yılın türkiye hollanda nın ikili ilişkisinin yılı olması sebebiyle önemli olduğunu belirterek geçen yılın sonu itibariyle toplam ticaret hacminin milyar dolara ulaştığını kaydetti rakamın potansiyelin altında olduğunu vurgulayan babacan hollanda dan gelen doğrudan yatırımın yıl sonu itibariyle milyar doları geçmesinin beklendiğini ifade etti toplam milyondan fazla hollandalı turistin türkiye yi ziyaret ettiği bilgisini veren babacan krizin başladığı yılları öncesinde kamu finansman kontrolü sosyal güvenlik sağlık hizmetleri diğer alanlarda tedbirler alındığını anımsattı\n",
            "\n",
            "---------------------------------\n",
            "\n",
            "Tokenized version: [773, 2, 3, 6420, 773, 756, 3311, 3398, 2, 3, 773, 11, 24, 572, 357, 12371, 1692, 7, 117, 23, 26, 58, 2, 3082, 12, 1, 959, 6019, 1020, 775, 47044, 9, 2, 3, 2437, 16643, 13033, 1287, 3398, 2, 1012, 10, 28, 182, 1, 1020, 76307, 9, 43, 323, 365, 220, 572, 23249, 365, 73, 4446, 100, 7, 271, 3398, 321, 497, 371, 46, 317, 445, 49, 1620, 1208, 1620, 56, 3595, 6834, 4270, 60, 295, 43, 175, 329, 940, 288, 1761, 89650, 13453, 45, 3398, 331, 2605, 2167, 1229, 8, 2, 129, 53, 932, 5968, 517, 46, 49, 141, 3066, 360, 117, 932, 5968, 2, 315, 1, 647, 2, 149, 5920, 1, 3534, 1562, 45, 73, 138, 46, 173, 240, 1530, 176, 2, 773, 11, 1959, 33787, 252, 115, 2095, 24, 7, 117, 67, 176, 892, 1045, 220, 572, 23249, 73, 599, 3306, 99, 4490, 35424, 225, 7, 422, 1530, 773, 59, 78, 905, 15959, 26, 892, 1045, 73, 2722, 25715, 10969, 31, 30, 220, 3539, 55, 4931, 28113, 2, 170, 462, 246, 2703, 209, 1530, 3590, 1643, 2037, 1063, 373, 4718, 2705, 154, 186, 95, 1757, 74, 1997, 6037, 2374, 5871]\n",
            "\n",
            "---------------------------------\n",
            "\n",
            "Padded version [   53   932  5968   517    46    49   141  3066   360   117   932  5968\n",
            "     2   315     1   647     2   149  5920     1  3534  1562    45    73\n",
            "   138    46   173   240  1530   176     2   773    11  1959 33787   252\n",
            "   115  2095    24     7   117    67   176   892  1045   220   572 23249\n",
            "    73   599  3306    99  4490 35424   225     7   422  1530   773    59\n",
            "    78   905 15959    26   892  1045    73  2722 25715 10969    31    30\n",
            "   220  3539    55  4931 28113     2   170   462   246  2703   209  1530\n",
            "  3590  1643  2037  1063   373  4718  2705   154   186    95  1757    74\n",
            "  1997  6037  2374  5871]\n",
            "\n",
            "---------------------------------\n",
            "\n",
            "Shape after the padding: (908, 100)\n"
          ]
        }
      ],
      "source": [
        "print(\"Original Version:\",X_test.iloc[0])\n",
        "print(\"\\n---------------------------------\\n\")\n",
        "print(\"Tokenized version:\",X_test_sequences[0])  # change words with number that corresponding to word word_index\n",
        "print(\"\\n---------------------------------\\n\")\n",
        "print(\"Padded version\",X_test_padded[0]) \n",
        "print(\"\\n---------------------------------\\n\")\n",
        "print(\"Shape after the padding:\",X_test_padded.shape)"
      ]
    },
    {
      "cell_type": "code",
      "execution_count": 236,
      "metadata": {
        "id": "NHLT0TRldreK"
      },
      "outputs": [],
      "source": [
        "y_train_label=np.asarray(y_train).reshape(-1,1)\n",
        "y_test_label=np.asarray(y_test).reshape(-1,1)"
      ]
    },
    {
      "cell_type": "code",
      "execution_count": 237,
      "metadata": {
        "colab": {
          "base_uri": "https://localhost:8080/"
        },
        "id": "fdS6JUYxhffg",
        "outputId": "a4732a9a-6394-463a-942b-632343846483"
      },
      "outputs": [
        {
          "name": "stdout",
          "output_type": "stream",
          "text": [
            "Model: \"sequential\"\n",
            "_________________________________________________________________\n",
            " Layer (type)                Output Shape              Param #   \n",
            "=================================================================\n",
            " embedding (Embedding)       (None, 100, 16)           1516512   \n",
            "                                                                 \n",
            " lstm (LSTM)                 (None, 128)               74240     \n",
            "                                                                 \n",
            " dense (Dense)               (None, 7)                 903       \n",
            "                                                                 \n",
            "=================================================================\n",
            "Total params: 1,591,655\n",
            "Trainable params: 1,591,655\n",
            "Non-trainable params: 0\n",
            "_________________________________________________________________\n"
          ]
        }
      ],
      "source": [
        "import tensorflow as tf\n",
        "\n",
        "vocab_size = len(tokenizer.word_index)+1\n",
        "embedding_dim=16\n",
        "\n",
        "model_lstm2 = tf.keras.models.Sequential([\n",
        "  tf.keras.layers.Embedding(vocab_size, embedding_dim, input_length=100),\n",
        "  tf.keras.layers.LSTM(128, dropout=0.2, recurrent_dropout=0.2),\n",
        "  tf.keras.layers.Dense(7, activation='softmax')\n",
        "])\n",
        "\n",
        "model_lstm2.compile(loss='sparse_categorical_crossentropy',\n",
        "              optimizer='adam',\n",
        "              metrics=['accuracy'])\n",
        "model_lstm2.summary()"
      ]
    },
    {
      "cell_type": "code",
      "execution_count": 238,
      "metadata": {
        "colab": {
          "base_uri": "https://localhost:8080/"
        },
        "id": "hMq3SIJMhsoF",
        "outputId": "e89ca912-4b63-445b-b9fa-db0724318697"
      },
      "outputs": [
        {
          "name": "stdout",
          "output_type": "stream",
          "text": [
            "Epoch 1/10\n",
            "57/57 [==============================] - 17s 231ms/step - loss: 1.9142 - accuracy: 0.1839 - val_loss: 1.8039 - val_accuracy: 0.2489\n",
            "Epoch 2/10\n",
            "57/57 [==============================] - 13s 223ms/step - loss: 1.6040 - accuracy: 0.2932 - val_loss: 1.5153 - val_accuracy: 0.3756\n",
            "Epoch 3/10\n",
            "57/57 [==============================] - 13s 221ms/step - loss: 1.3112 - accuracy: 0.4375 - val_loss: 1.4460 - val_accuracy: 0.4141\n",
            "Epoch 4/10\n",
            "57/57 [==============================] - 11s 197ms/step - loss: 1.0844 - accuracy: 0.5584 - val_loss: 1.3433 - val_accuracy: 0.4813\n",
            "Epoch 5/10\n",
            "57/57 [==============================] - 14s 243ms/step - loss: 0.8457 - accuracy: 0.6688 - val_loss: 1.3603 - val_accuracy: 0.5011\n",
            "Epoch 6/10\n",
            "57/57 [==============================] - 13s 230ms/step - loss: 0.6612 - accuracy: 0.7511 - val_loss: 1.3667 - val_accuracy: 0.5396\n",
            "Epoch 7/10\n",
            "57/57 [==============================] - 12s 204ms/step - loss: 0.6252 - accuracy: 0.7960 - val_loss: 1.2617 - val_accuracy: 0.5859\n",
            "Epoch 8/10\n",
            "57/57 [==============================] - 14s 240ms/step - loss: 0.6488 - accuracy: 0.7888 - val_loss: 1.3364 - val_accuracy: 0.5209\n",
            "Epoch 9/10\n",
            "57/57 [==============================] - 13s 224ms/step - loss: 0.5576 - accuracy: 0.8023 - val_loss: 1.1852 - val_accuracy: 0.5969\n",
            "Epoch 10/10\n",
            "57/57 [==============================] - 12s 213ms/step - loss: 0.3699 - accuracy: 0.8805 - val_loss: 1.3809 - val_accuracy: 0.6233\n"
          ]
        }
      ],
      "source": [
        "num_epochs = 10\n",
        "BATCH_SIZE=64\n",
        "history=model_lstm2.fit(X_train_padded,y_train_label,batch_size=BATCH_SIZE ,epochs=num_epochs, validation_data=(X_test_padded,y_test_label))"
      ]
    },
    {
      "cell_type": "code",
      "execution_count": 239,
      "metadata": {
        "colab": {
          "base_uri": "https://localhost:8080/",
          "height": 0
        },
        "id": "9hYemGFtikZI",
        "outputId": "aaa550ac-7cf8-407b-ba2a-ff14637df121"
      },
      "outputs": [
        {
          "data": {
            "image/png": "[encoded data removed]",
            "text/plain": [
              "<Figure size 432x288 with 1 Axes>"
            ]
          },
          "metadata": {
            "needs_background": "light"
          },
          "output_type": "display_data"
        }
      ],
      "source": [
        "# model_lstm\n",
        "import matplotlib.pyplot as plt\n",
        "\n",
        "plt.plot(history.history[\"accuracy\"],color=\"green\")\n",
        "plt.plot(history.history[\"loss\"],color=\"red\")\n",
        "plt.title(\"Train accuracy and Train loss\")\n",
        "plt.legend([\"Accuracy\",\"Loss\"])\n",
        "plt.grid()"
      ]
    },
    {
      "cell_type": "code",
      "execution_count": 240,
      "metadata": {
        "colab": {
          "base_uri": "https://localhost:8080/",
          "height": 0
        },
        "id": "1hIZShEpizp6",
        "outputId": "e2ff9c19-dc7c-47b6-9eaa-f98496a146da"
      },
      "outputs": [
        {
          "data": {
            "image/png": "[encoded data removed]",
            "text/plain": [
              "<Figure size 432x288 with 1 Axes>"
            ]
          },
          "metadata": {
            "needs_background": "light"
          },
          "output_type": "display_data"
        }
      ],
      "source": [
        "# model_lstm\n",
        "plt.plot(history.history[\"val_accuracy\"],color=\"blue\")\n",
        "plt.plot(history.history[\"val_loss\"],color=\"orange\")\n",
        "plt.title(\"Test accuracy and Test loss\")\n",
        "plt.legend([\"Val_accuracy\",\"Val_loss\"])\n",
        "plt.grid()"
      ]
    },
    {
      "cell_type": "code",
      "execution_count": 241,
      "metadata": {
        "colab": {
          "base_uri": "https://localhost:8080/"
        },
        "id": "AhLiWH2Hc7dl",
        "outputId": "2b7f1107-51b0-4e8b-d720-99cd344eb6d0"
      },
      "outputs": [
        {
          "name": "stdout",
          "output_type": "stream",
          "text": [
            "Model: \"sequential_1\"\n",
            "_________________________________________________________________\n",
            " Layer (type)                Output Shape              Param #   \n",
            "=================================================================\n",
            " embedding_1 (Embedding)     (None, 100, 16)           1516512   \n",
            "                                                                 \n",
            " bidirectional (Bidirectiona  (None, 128)              41472     \n",
            " l)                                                              \n",
            "                                                                 \n",
            " dropout (Dropout)           (None, 128)               0         \n",
            "                                                                 \n",
            " batch_normalization (BatchN  (None, 128)              512       \n",
            " ormalization)                                                   \n",
            "                                                                 \n",
            " flatten (Flatten)           (None, 128)               0         \n",
            "                                                                 \n",
            " dense_1 (Dense)             (None, 64)                8256      \n",
            "                                                                 \n",
            " batch_normalization_1 (Batc  (None, 64)               256       \n",
            " hNormalization)                                                 \n",
            "                                                                 \n",
            " dropout_1 (Dropout)         (None, 64)                0         \n",
            "                                                                 \n",
            " dense_2 (Dense)             (None, 7)                 455       \n",
            "                                                                 \n",
            "=================================================================\n",
            "Total params: 1,567,463\n",
            "Trainable params: 1,567,079\n",
            "Non-trainable params: 384\n",
            "_________________________________________________________________\n"
          ]
        }
      ],
      "source": [
        "import tensorflow as tf\n",
        "\n",
        "vocab_size = len(tokenizer.word_index)+1\n",
        "embedding_dim=16\n",
        "\n",
        "model_lstm2 = tf.keras.Sequential([\n",
        "    \n",
        "    tf.keras.layers.Embedding(vocab_size, embedding_dim, input_length=100),\n",
        "    \n",
        "    tf.keras.layers.Bidirectional(tf.keras.layers.LSTM(64)),\n",
        "    tf.keras.layers.Dropout(0.3),\n",
        "    tf.keras.layers.BatchNormalization(),\n",
        "    \n",
        "    tf.keras.layers.Flatten(),\n",
        "    \n",
        "    tf.keras.layers.Dense(64, activation='relu'),\n",
        "    tf.keras.layers.BatchNormalization(),\n",
        "    tf.keras.layers.Dropout(0.2),\n",
        "    \n",
        "    tf.keras.layers.Dense(7, activation='softmax')\n",
        "])\n",
        "\n",
        "adam= tf.keras.optimizers.Adam(lr=0.01) \n",
        "\n",
        "model_lstm2.compile(loss='sparse_categorical_crossentropy',optimizer=adam,metrics=['accuracy'])\n",
        "model_lstm2.summary()"
      ]
    },
    {
      "cell_type": "code",
      "execution_count": 242,
      "metadata": {
        "colab": {
          "base_uri": "https://localhost:8080/"
        },
        "id": "nxGtvHBIdb9c",
        "outputId": "37bdf823-bd81-4d0c-ae22-d476d944831e"
      },
      "outputs": [
        {
          "name": "stdout",
          "output_type": "stream",
          "text": [
            "Epoch 1/10\n",
            "57/57 [==============================] - 12s 128ms/step - loss: 1.9767 - accuracy: 0.2453 - val_loss: 1.8486 - val_accuracy: 0.2863\n",
            "Epoch 2/10\n",
            "57/57 [==============================] - 6s 100ms/step - loss: 0.9264 - accuracy: 0.6624 - val_loss: 1.2971 - val_accuracy: 0.5771\n",
            "Epoch 3/10\n",
            "57/57 [==============================] - 5s 94ms/step - loss: 0.2882 - accuracy: 0.9083 - val_loss: 1.1889 - val_accuracy: 0.5705\n",
            "Epoch 4/10\n",
            "57/57 [==============================] - 6s 114ms/step - loss: 0.0676 - accuracy: 0.9843 - val_loss: 1.0840 - val_accuracy: 0.6278\n",
            "Epoch 5/10\n",
            "57/57 [==============================] - 6s 105ms/step - loss: 0.0284 - accuracy: 0.9948 - val_loss: 1.0469 - val_accuracy: 0.6619\n",
            "Epoch 6/10\n",
            "57/57 [==============================] - 5s 95ms/step - loss: 0.0181 - accuracy: 0.9961 - val_loss: 1.0016 - val_accuracy: 0.7148\n",
            "Epoch 7/10\n",
            "57/57 [==============================] - 7s 125ms/step - loss: 0.0223 - accuracy: 0.9959 - val_loss: 1.1922 - val_accuracy: 0.6762\n",
            "Epoch 8/10\n",
            "57/57 [==============================] - 6s 105ms/step - loss: 0.0301 - accuracy: 0.9939 - val_loss: 1.1972 - val_accuracy: 0.7093\n",
            "Epoch 9/10\n",
            "57/57 [==============================] - 10s 174ms/step - loss: 0.0277 - accuracy: 0.9926 - val_loss: 1.3775 - val_accuracy: 0.6476\n",
            "Epoch 10/10\n",
            "57/57 [==============================] - 8s 142ms/step - loss: 0.0331 - accuracy: 0.9917 - val_loss: 1.5130 - val_accuracy: 0.6685\n"
          ]
        }
      ],
      "source": [
        "num_epochs = 10\n",
        "BATCH_SIZE=64\n",
        "history2=model_lstm2.fit(X_train_padded,y_train_label,batch_size=BATCH_SIZE ,epochs=num_epochs, validation_data=(X_test_padded,y_test_label))"
      ]
    },
    {
      "cell_type": "code",
      "execution_count": 243,
      "metadata": {
        "colab": {
          "base_uri": "https://localhost:8080/",
          "height": 0
        },
        "id": "34mMIHzBeEM0",
        "outputId": "6d3091c3-557c-4f98-8705-d35704a6fd4d"
      },
      "outputs": [
        {
          "data": {
            "image/png": "[encoded data removed]",
            "text/plain": [
              "<Figure size 432x288 with 1 Axes>"
            ]
          },
          "metadata": {
            "needs_background": "light"
          },
          "output_type": "display_data"
        }
      ],
      "source": [
        "# model_lstm2\n",
        "import matplotlib.pyplot as plt\n",
        "\n",
        "plt.plot(history2.history[\"accuracy\"],color=\"green\")\n",
        "plt.plot(history2.history[\"loss\"],color=\"red\")\n",
        "plt.title(\"Train accuracy and Train loss\")\n",
        "plt.legend([\"Accuracy\",\"Loss\"])\n",
        "plt.grid()"
      ]
    },
    {
      "cell_type": "code",
      "execution_count": 244,
      "metadata": {
        "colab": {
          "base_uri": "https://localhost:8080/",
          "height": 0
        },
        "id": "bqRam20eioWf",
        "outputId": "e5ae0a34-1927-4e73-8d3c-83b27e32ef25"
      },
      "outputs": [
        {
          "data": {
            "image/png": "[encoded data removed]",
            "text/plain": [
              "<Figure size 432x288 with 1 Axes>"
            ]
          },
          "metadata": {
            "needs_background": "light"
          },
          "output_type": "display_data"
        }
      ],
      "source": [
        "# model_lstm2\n",
        "plt.plot(history2.history[\"val_accuracy\"],color=\"blue\")\n",
        "plt.plot(history2.history[\"val_loss\"],color=\"orange\")\n",
        "plt.title(\"Test accuracy and Test loss\")\n",
        "plt.legend([\"Val_accuracy\",\"Val_loss\"])\n",
        "plt.grid()"
      ]
    },
    {
      "cell_type": "code",
      "execution_count": 246,
      "metadata": {
        "colab": {
          "base_uri": "https://localhost:8080/",
          "height": 0
        },
        "id": "vruDNnNFkKGY",
        "outputId": "2c15868a-18ed-43b1-a155-18087a6d2adc"
      },
      "outputs": [
        {
          "name": "stdout",
          "output_type": "stream",
          "text": [
            "114/114 [==============================] - 2s 21ms/step - loss: 0.0654 - accuracy: 0.9846\n",
            "Accuracy of the model on Training Data is -  98.4581470489502 %\n",
            "29/29 [==============================] - 1s 18ms/step - loss: 1.5130 - accuracy: 0.6685\n",
            "Accuracy of the model on Testing Data is -  66.85022115707397 %\n",
            "29/29 [==============================] - 1s 18ms/step\n"
          ]
        },
        {
          "data": {
            "image/png": "[encoded data removed]",
            "text/plain": [
              "<Figure size 720x720 with 2 Axes>"
            ]
          },
          "metadata": {
            "needs_background": "light"
          },
          "output_type": "display_data"
        }
      ],
      "source": [
        "print(\"Accuracy of the model on Training Data is - \" , model_lstm2.evaluate(X_train_padded,y_train_label)[1]*100 , \"%\")\n",
        "print(\"Accuracy of the model on Testing Data is - \" , model_lstm2.evaluate(X_test_padded,y_test_label)[1]*100 , \"%\")\n",
        "\n",
        "pred = np.argmax(model_lstm2.predict(X_test_padded),axis=1)\n",
        "cm = confusion_matrix(y_test,pred)\n",
        "plt.figure(figsize=(10,10))\n",
        "sns.heatmap(cm,annot=True,linecolor=\"white\",fmt='')\n",
        "plt.show()\n",
        "# overfitted on training data"
      ]
    },
    {
      "cell_type": "markdown",
      "metadata": {
        "id": "eJYYS9oLlRCQ"
      },
      "source": [
        "## Deep learning - BERTurkish\n"
      ]
    },
    {
      "cell_type": "code",
      "execution_count": 4,
      "metadata": {
        "id": "e7Bdz4okS3Yd"
      },
      "outputs": [
        {
          "data": {
            "text/plain": [
              "True"
            ]
          },
          "execution_count": 4,
          "metadata": {},
          "output_type": "execute_result"
        }
      ],
      "source": [
        "from simpletransformers.classification import ClassificationModel\n",
        "import torch\n",
        "torch.cuda.is_available()"
      ]
    },
    {
      "cell_type": "code",
      "execution_count": 8,
      "metadata": {
        "id": "EeReiqY2S7Qd"
      },
      "outputs": [],
      "source": [
        "#for bert text column should be string and label column should be int\n",
        "train[\"text\"]=train[\"text\"].apply(lambda r: str(r))\n",
        "train['label']=train['label'].astype(int)"
      ]
    },
    {
      "cell_type": "code",
      "execution_count": 9,
      "metadata": {
        "colab": {
          "base_uri": "https://localhost:8080/",
          "height": 252,
          "referenced_widgets": [
            "471b614cbd5445f8a7b0f73425a72602",
            "9982492f74f6473599ba5da26cdc93c1",
            "aa5165d95eac4012a7d41035e0486e8e",
            "f55729e07ab245f19f50c34fa0ec03f2",
            "80ee7940f0de4d9aa3abe7e7732f76a2",
            "b2c144cfcada4a0fa67ad2e1c431c82e",
            "b6ed46586d16410c9f4ef80baf3ec62a",
            "3e80dd0af5a24eaa929bba4b4bb9cda6",
            "79c1b74c9caa4fe0b241f9179c8c0a07",
            "7378f05a3b8646bbac790677ffbf2f2b",
            "53ead17e3da84230965b30a3bda66e85",
            "550bbfbc6d8241f7ab496408809e4b7d",
            "da479e320d5747e3b2f89b447e32ba1e",
            "3876ad71503b460eac743f0428432c85",
            "8adee05956d5430fbcfd202d2d08c3bb",
            "6673823d209e47439e991153ad2be7ab",
            "cb543ae69aa548f18b166434d892352e",
            "acf318f5d86241f08f1b58de5cad79af",
            "34c4a173339f4990af09d3eabc7d029c",
            "0f7ddb281908487dbc15297611ed31ba",
            "e05191af253d4f63969b24f9f74da246",
            "1ef2cf6bec49440484977f844392a3e8",
            "a250be4bf7364d9e812c7d058d1d0671",
            "c28903db5f814d1aa6df80d4213f518f",
            "fa6add4e149449d1916a76255ab80531",
            "bf539f1a435645ed8993c503cfcf7b38",
            "93e6e33c7a424229a9100ffcc5e545c8",
            "d09f1fd4696c468fb3ad57d33676b2f8",
            "f97f16dda66d47ecb5e9ed938518b8cc",
            "2791c1ec81d3450591e88db951ec2630",
            "6583284ca4b74a9a875f5a25ad3caaa7",
            "15909f35032e48b7b0f9e383a65cce03",
            "201fb867f671487e8b4049c7ed0cb30d",
            "0f4b9b9e2df543bcbe0e53baed84512e",
            "17b17a485c5845e78bfe263cd1a23678",
            "9725a527eaaa40ba8459b5dd7bee9c84",
            "dfedbf921adb4d89b6820957691dde54",
            "987258e872524ec4804b23b6856ed579",
            "743406ff7e4940c18766c10f063403ba",
            "39eef5555f7b4fb2be670214132dced9",
            "a6d39d70ac6042359cf6e39058fbb793",
            "ded02c1a766a4f72b238c739d7a9e7e4",
            "a8251a6e14b94a0ba7e20b7fc39f17e2",
            "d40232387e644b7c93da2a3d1fa8227f"
          ]
        },
        "id": "eLuN64eqTCJM",
        "outputId": "c13fcd94-f9a5-4365-fee5-eb7c30395fec"
      },
      "outputs": [
        {
          "name": "stderr",
          "output_type": "stream",
          "text": [
            "Some weights of the model checkpoint at dbmdz/bert-base-turkish-uncased were not used when initializing BertForSequenceClassification: ['cls.seq_relationship.bias', 'cls.predictions.decoder.bias', 'cls.predictions.transform.dense.weight', 'cls.predictions.decoder.weight', 'cls.seq_relationship.weight', 'cls.predictions.transform.LayerNorm.bias', 'cls.predictions.transform.dense.bias', 'cls.predictions.transform.LayerNorm.weight', 'cls.predictions.bias']\n",
            "- This IS expected if you are initializing BertForSequenceClassification from the checkpoint of a model trained on another task or with another architecture (e.g. initializing a BertForSequenceClassification model from a BertForPreTraining model).\n",
            "- This IS NOT expected if you are initializing BertForSequenceClassification from the checkpoint of a model that you expect to be exactly identical (initializing a BertForSequenceClassification model from a BertForSequenceClassification model).\n",
            "Some weights of BertForSequenceClassification were not initialized from the model checkpoint at dbmdz/bert-base-turkish-uncased and are newly initialized: ['classifier.bias', 'classifier.weight']\n",
            "You should probably TRAIN this model on a down-stream task to be able to use it for predictions and inference.\n"
          ]
        }
      ],
      "source": [
        "#create model with turkish bert - transfer learning\n",
        "model = ClassificationModel('bert', 'dbmdz/bert-base-turkish-uncased', num_labels=7,use_cuda=True,\n",
        "                            args={'reprocess_input_data': True, \n",
        "                                  'overwrite_output_dir': True, \n",
        "                                  'num_train_epochs': 3, \n",
        "                                  \"train_batch_size\": 64 , \n",
        "                                  \"fp16\":False,\n",
        "                                  \"output_dir\": \"bert_model\"})"
      ]
    },
    {
      "cell_type": "code",
      "execution_count": 10,
      "metadata": {
        "colab": {
          "base_uri": "https://localhost:8080/",
          "height": 424
        },
        "id": "GFNs5ftPu0il",
        "outputId": "15221909-6103-458c-c525-33f972852104"
      },
      "outputs": [],
      "source": [
        "train = train[['text','label']]\n",
        "test = test[['text','label']]"
      ]
    },
    {
      "cell_type": "code",
      "execution_count": 11,
      "metadata": {
        "colab": {
          "base_uri": "https://localhost:8080/",
          "height": 465,
          "referenced_widgets": [
            "656a56dddf3649fa931e80ac9741db30",
            "62b2d7652d914405bf614e86a3b685e2",
            "9c7e56fd310a416ebd265a30adda6561",
            "90cdb44304bf4e57ab271d1c3b523235",
            "cb8e4af5e1444616a4dabdc476c92b09",
            "b4942546aa4f49c0a6c13c278aca5a3d",
            "4d197cd0a24045999a58a1e6536d1b2e",
            "b1023e4a354d4735a99297dbf7d285b9",
            "6ef0ce13e8564db0a1795c143534ea0a",
            "21b03eb252034b9d85c80d06bf62fc55",
            "a7c23eec038d4a429c5b1c69ff2f42b8"
          ]
        },
        "id": "IfiptixETxxQ",
        "outputId": "d4e65422-4a5e-4be4-8b1d-6147ea69e496"
      },
      "outputs": [
        {
          "data": {
            "application/vnd.jupyter.widget-view+json": {
              "model_id": "1f97a352859441049c67e5eddc302dfa",
              "version_major": 2,
              "version_minor": 0
            },
            "text/plain": [
              "  0%|          | 0/3632 [00:00<?, ?it/s]"
            ]
          },
          "metadata": {},
          "output_type": "display_data"
        },
        {
          "data": {
            "application/vnd.jupyter.widget-view+json": {
              "model_id": "f1138889b69d4d11aebb666c14ae7627",
              "version_major": 2,
              "version_minor": 0
            },
            "text/plain": [
              "Epoch:   0%|          | 0/3 [00:00<?, ?it/s]"
            ]
          },
          "metadata": {},
          "output_type": "display_data"
        },
        {
          "data": {
            "application/vnd.jupyter.widget-view+json": {
              "model_id": "3b87d3e722be4b75abb710a67a6ac408",
              "version_major": 2,
              "version_minor": 0
            },
            "text/plain": [
              "Running Epoch 0 of 3:   0%|          | 0/57 [00:00<?, ?it/s]"
            ]
          },
          "metadata": {},
          "output_type": "display_data"
        },
        {
          "data": {
            "application/vnd.jupyter.widget-view+json": {
              "model_id": "c4612aaf0d47448d9dd77f551b389062",
              "version_major": 2,
              "version_minor": 0
            },
            "text/plain": [
              "Running Epoch 1 of 3:   0%|          | 0/57 [00:00<?, ?it/s]"
            ]
          },
          "metadata": {},
          "output_type": "display_data"
        },
        {
          "data": {
            "application/vnd.jupyter.widget-view+json": {
              "model_id": "cd24ad1dd5814e4a9f87c324b849ab5b",
              "version_major": 2,
              "version_minor": 0
            },
            "text/plain": [
              "Running Epoch 2 of 3:   0%|          | 0/57 [00:00<?, ?it/s]"
            ]
          },
          "metadata": {},
          "output_type": "display_data"
        },
        {
          "data": {
            "text/plain": [
              "(171, 0.4639796574561917)"
            ]
          },
          "execution_count": 11,
          "metadata": {},
          "output_type": "execute_result"
        }
      ],
      "source": [
        "#train model\n",
        "model.train_model(train)"
      ]
    },
    {
      "cell_type": "code",
      "execution_count": 12,
      "metadata": {
        "id": "ILjMQf5aTzvd"
      },
      "outputs": [
        {
          "data": {
            "application/vnd.jupyter.widget-view+json": {
              "model_id": "08003b691fe340ac9fa8ee3170ef0d18",
              "version_major": 2,
              "version_minor": 0
            },
            "text/plain": [
              "  0%|          | 0/908 [00:00<?, ?it/s]"
            ]
          },
          "metadata": {},
          "output_type": "display_data"
        },
        {
          "data": {
            "application/vnd.jupyter.widget-view+json": {
              "model_id": "d9164a76ea07440795534aa548a93db7",
              "version_major": 2,
              "version_minor": 0
            },
            "text/plain": [
              "Running Evaluation:   0%|          | 0/114 [00:00<?, ?it/s]"
            ]
          },
          "metadata": {},
          "output_type": "display_data"
        }
      ],
      "source": [
        "result, model_outputs, wrong_predictions = model.eval_model(test)"
      ]
    },
    {
      "cell_type": "code",
      "execution_count": 14,
      "metadata": {
        "id": "rWvZfYg7kfmZ"
      },
      "outputs": [
        {
          "name": "stdout",
          "output_type": "stream",
          "text": [
            "              precision    recall  f1-score   support\n",
            "\n",
            "           0      0.936     0.885     0.910       148\n",
            "           1      0.851     0.811     0.831       127\n",
            "           2      0.929     0.937     0.933       111\n",
            "           3      0.947     0.931     0.939       116\n",
            "           4      0.892     0.933     0.912       150\n",
            "           5      0.984     0.992     0.988       128\n",
            "           6      0.896     0.945     0.920       128\n",
            "\n",
            "    accuracy                          0.919       908\n",
            "   macro avg      0.919     0.919     0.919       908\n",
            "weighted avg      0.919     0.919     0.918       908\n",
            "\n"
          ]
        },
        {
          "data": {
            "text/plain": [
              "0.9185022026431718"
            ]
          },
          "execution_count": 14,
          "metadata": {},
          "output_type": "execute_result"
        }
      ],
      "source": [
        "from sklearn.metrics import accuracy_score\n",
        "from sklearn import metrics\n",
        "\n",
        "predictions = model_outputs.argmax(axis=1)\n",
        "actuals = test.label.values\n",
        "print(metrics.classification_report(actuals, predictions, digits=3))\n",
        "accuracy_score(actuals, predictions)"
      ]
    }
  ],
  "metadata": {
    "colab": {
      "machine_shape": "hm",
      "provenance": []
    },
    "gpuClass": "standard",
    "kernelspec": {
      "display_name": "pytorch",
      "language": "python",
      "name": "python3"
    },
    "language_info": {
      "codemirror_mode": {
        "name": "ipython",
        "version": 3
      },
      "file_extension": ".py",
      "mimetype": "text/x-python",
      "name": "python",
      "nbconvert_exporter": "python",
      "pygments_lexer": "ipython3",
      "version": "3.7.13"
    },
    "vscode": {
      "interpreter": {
        "hash": "e3a7200ce2f69919f9a23d5fd34e14ffbf546f5c96c31fe47ae5a6597dcc41e9"
      }
    },
    "widgets": {
      "application/vnd.jupyter.widget-state+json": {
        "0f4b9b9e2df543bcbe0e53baed84512e": {
          "model_module": "@jupyter-widgets/controls",
          "model_module_version": "1.5.0",
          "model_name": "HBoxModel",
          "state": {
            "_dom_classes": [],
            "_model_module": "@jupyter-widgets/controls",
            "_model_module_version": "1.5.0",
            "_model_name": "HBoxModel",
            "_view_count": null,
            "_view_module": "@jupyter-widgets/controls",
            "_view_module_version": "1.5.0",
            "_view_name": "HBoxView",
            "box_style": "",
            "children": [
              "IPY_MODEL_17b17a485c5845e78bfe263cd1a23678",
              "IPY_MODEL_9725a527eaaa40ba8459b5dd7bee9c84",
              "IPY_MODEL_dfedbf921adb4d89b6820957691dde54"
            ],
            "layout": "IPY_MODEL_987258e872524ec4804b23b6856ed579"
          }
        },
        "0f7ddb281908487dbc15297611ed31ba": {
          "model_module": "@jupyter-widgets/controls",
          "model_module_version": "1.5.0",
          "model_name": "ProgressStyleModel",
          "state": {
            "_model_module": "@jupyter-widgets/controls",
            "_model_module_version": "1.5.0",
            "_model_name": "ProgressStyleModel",
            "_view_count": null,
            "_view_module": "@jupyter-widgets/base",
            "_view_module_version": "1.2.0",
            "_view_name": "StyleView",
            "bar_color": null,
            "description_width": ""
          }
        },
        "15909f35032e48b7b0f9e383a65cce03": {
          "model_module": "@jupyter-widgets/base",
          "model_module_version": "1.2.0",
          "model_name": "LayoutModel",
          "state": {
            "_model_module": "@jupyter-widgets/base",
            "_model_module_version": "1.2.0",
            "_model_name": "LayoutModel",
            "_view_count": null,
            "_view_module": "@jupyter-widgets/base",
            "_view_module_version": "1.2.0",
            "_view_name": "LayoutView",
            "align_content": null,
            "align_items": null,
            "align_self": null,
            "border": null,
            "bottom": null,
            "display": null,
            "flex": null,
            "flex_flow": null,
            "grid_area": null,
            "grid_auto_columns": null,
            "grid_auto_flow": null,
            "grid_auto_rows": null,
            "grid_column": null,
            "grid_gap": null,
            "grid_row": null,
            "grid_template_areas": null,
            "grid_template_columns": null,
            "grid_template_rows": null,
            "height": null,
            "justify_content": null,
            "justify_items": null,
            "left": null,
            "margin": null,
            "max_height": null,
            "max_width": null,
            "min_height": null,
            "min_width": null,
            "object_fit": null,
            "object_position": null,
            "order": null,
            "overflow": null,
            "overflow_x": null,
            "overflow_y": null,
            "padding": null,
            "right": null,
            "top": null,
            "visibility": null,
            "width": null
          }
        },
        "17b17a485c5845e78bfe263cd1a23678": {
          "model_module": "@jupyter-widgets/controls",
          "model_module_version": "1.5.0",
          "model_name": "HTMLModel",
          "state": {
            "_dom_classes": [],
            "_model_module": "@jupyter-widgets/controls",
            "_model_module_version": "1.5.0",
            "_model_name": "HTMLModel",
            "_view_count": null,
            "_view_module": "@jupyter-widgets/controls",
            "_view_module_version": "1.5.0",
            "_view_name": "HTMLView",
            "description": "",
            "description_tooltip": null,
            "layout": "IPY_MODEL_743406ff7e4940c18766c10f063403ba",
            "placeholder": "​",
            "style": "IPY_MODEL_39eef5555f7b4fb2be670214132dced9",
            "value": "Downloading (…)solve/main/vocab.txt: 100%"
          }
        },
        "1ef2cf6bec49440484977f844392a3e8": {
          "model_module": "@jupyter-widgets/controls",
          "model_module_version": "1.5.0",
          "model_name": "DescriptionStyleModel",
          "state": {
            "_model_module": "@jupyter-widgets/controls",
            "_model_module_version": "1.5.0",
            "_model_name": "DescriptionStyleModel",
            "_view_count": null,
            "_view_module": "@jupyter-widgets/base",
            "_view_module_version": "1.2.0",
            "_view_name": "StyleView",
            "description_width": ""
          }
        },
        "201fb867f671487e8b4049c7ed0cb30d": {
          "model_module": "@jupyter-widgets/controls",
          "model_module_version": "1.5.0",
          "model_name": "DescriptionStyleModel",
          "state": {
            "_model_module": "@jupyter-widgets/controls",
            "_model_module_version": "1.5.0",
            "_model_name": "DescriptionStyleModel",
            "_view_count": null,
            "_view_module": "@jupyter-widgets/base",
            "_view_module_version": "1.2.0",
            "_view_name": "StyleView",
            "description_width": ""
          }
        },
        "21b03eb252034b9d85c80d06bf62fc55": {
          "model_module": "@jupyter-widgets/base",
          "model_module_version": "1.2.0",
          "model_name": "LayoutModel",
          "state": {
            "_model_module": "@jupyter-widgets/base",
            "_model_module_version": "1.2.0",
            "_model_name": "LayoutModel",
            "_view_count": null,
            "_view_module": "@jupyter-widgets/base",
            "_view_module_version": "1.2.0",
            "_view_name": "LayoutView",
            "align_content": null,
            "align_items": null,
            "align_self": null,
            "border": null,
            "bottom": null,
            "display": null,
            "flex": null,
            "flex_flow": null,
            "grid_area": null,
            "grid_auto_columns": null,
            "grid_auto_flow": null,
            "grid_auto_rows": null,
            "grid_column": null,
            "grid_gap": null,
            "grid_row": null,
            "grid_template_areas": null,
            "grid_template_columns": null,
            "grid_template_rows": null,
            "height": null,
            "justify_content": null,
            "justify_items": null,
            "left": null,
            "margin": null,
            "max_height": null,
            "max_width": null,
            "min_height": null,
            "min_width": null,
            "object_fit": null,
            "object_position": null,
            "order": null,
            "overflow": null,
            "overflow_x": null,
            "overflow_y": null,
            "padding": null,
            "right": null,
            "top": null,
            "visibility": null,
            "width": null
          }
        },
        "2791c1ec81d3450591e88db951ec2630": {
          "model_module": "@jupyter-widgets/base",
          "model_module_version": "1.2.0",
          "model_name": "LayoutModel",
          "state": {
            "_model_module": "@jupyter-widgets/base",
            "_model_module_version": "1.2.0",
            "_model_name": "LayoutModel",
            "_view_count": null,
            "_view_module": "@jupyter-widgets/base",
            "_view_module_version": "1.2.0",
            "_view_name": "LayoutView",
            "align_content": null,
            "align_items": null,
            "align_self": null,
            "border": null,
            "bottom": null,
            "display": null,
            "flex": null,
            "flex_flow": null,
            "grid_area": null,
            "grid_auto_columns": null,
            "grid_auto_flow": null,
            "grid_auto_rows": null,
            "grid_column": null,
            "grid_gap": null,
            "grid_row": null,
            "grid_template_areas": null,
            "grid_template_columns": null,
            "grid_template_rows": null,
            "height": null,
            "justify_content": null,
            "justify_items": null,
            "left": null,
            "margin": null,
            "max_height": null,
            "max_width": null,
            "min_height": null,
            "min_width": null,
            "object_fit": null,
            "object_position": null,
            "order": null,
            "overflow": null,
            "overflow_x": null,
            "overflow_y": null,
            "padding": null,
            "right": null,
            "top": null,
            "visibility": null,
            "width": null
          }
        },
        "34c4a173339f4990af09d3eabc7d029c": {
          "model_module": "@jupyter-widgets/base",
          "model_module_version": "1.2.0",
          "model_name": "LayoutModel",
          "state": {
            "_model_module": "@jupyter-widgets/base",
            "_model_module_version": "1.2.0",
            "_model_name": "LayoutModel",
            "_view_count": null,
            "_view_module": "@jupyter-widgets/base",
            "_view_module_version": "1.2.0",
            "_view_name": "LayoutView",
            "align_content": null,
            "align_items": null,
            "align_self": null,
            "border": null,
            "bottom": null,
            "display": null,
            "flex": null,
            "flex_flow": null,
            "grid_area": null,
            "grid_auto_columns": null,
            "grid_auto_flow": null,
            "grid_auto_rows": null,
            "grid_column": null,
            "grid_gap": null,
            "grid_row": null,
            "grid_template_areas": null,
            "grid_template_columns": null,
            "grid_template_rows": null,
            "height": null,
            "justify_content": null,
            "justify_items": null,
            "left": null,
            "margin": null,
            "max_height": null,
            "max_width": null,
            "min_height": null,
            "min_width": null,
            "object_fit": null,
            "object_position": null,
            "order": null,
            "overflow": null,
            "overflow_x": null,
            "overflow_y": null,
            "padding": null,
            "right": null,
            "top": null,
            "visibility": null,
            "width": null
          }
        },
        "3876ad71503b460eac743f0428432c85": {
          "model_module": "@jupyter-widgets/controls",
          "model_module_version": "1.5.0",
          "model_name": "FloatProgressModel",
          "state": {
            "_dom_classes": [],
            "_model_module": "@jupyter-widgets/controls",
            "_model_module_version": "1.5.0",
            "_model_name": "FloatProgressModel",
            "_view_count": null,
            "_view_module": "@jupyter-widgets/controls",
            "_view_module_version": "1.5.0",
            "_view_name": "ProgressView",
            "bar_style": "success",
            "description": "",
            "description_tooltip": null,
            "layout": "IPY_MODEL_34c4a173339f4990af09d3eabc7d029c",
            "max": 445018749,
            "min": 0,
            "orientation": "horizontal",
            "style": "IPY_MODEL_0f7ddb281908487dbc15297611ed31ba",
            "value": 445018749
          }
        },
        "39eef5555f7b4fb2be670214132dced9": {
          "model_module": "@jupyter-widgets/controls",
          "model_module_version": "1.5.0",
          "model_name": "DescriptionStyleModel",
          "state": {
            "_model_module": "@jupyter-widgets/controls",
            "_model_module_version": "1.5.0",
            "_model_name": "DescriptionStyleModel",
            "_view_count": null,
            "_view_module": "@jupyter-widgets/base",
            "_view_module_version": "1.2.0",
            "_view_name": "StyleView",
            "description_width": ""
          }
        },
        "3e80dd0af5a24eaa929bba4b4bb9cda6": {
          "model_module": "@jupyter-widgets/base",
          "model_module_version": "1.2.0",
          "model_name": "LayoutModel",
          "state": {
            "_model_module": "@jupyter-widgets/base",
            "_model_module_version": "1.2.0",
            "_model_name": "LayoutModel",
            "_view_count": null,
            "_view_module": "@jupyter-widgets/base",
            "_view_module_version": "1.2.0",
            "_view_name": "LayoutView",
            "align_content": null,
            "align_items": null,
            "align_self": null,
            "border": null,
            "bottom": null,
            "display": null,
            "flex": null,
            "flex_flow": null,
            "grid_area": null,
            "grid_auto_columns": null,
            "grid_auto_flow": null,
            "grid_auto_rows": null,
            "grid_column": null,
            "grid_gap": null,
            "grid_row": null,
            "grid_template_areas": null,
            "grid_template_columns": null,
            "grid_template_rows": null,
            "height": null,
            "justify_content": null,
            "justify_items": null,
            "left": null,
            "margin": null,
            "max_height": null,
            "max_width": null,
            "min_height": null,
            "min_width": null,
            "object_fit": null,
            "object_position": null,
            "order": null,
            "overflow": null,
            "overflow_x": null,
            "overflow_y": null,
            "padding": null,
            "right": null,
            "top": null,
            "visibility": null,
            "width": null
          }
        },
        "471b614cbd5445f8a7b0f73425a72602": {
          "model_module": "@jupyter-widgets/controls",
          "model_module_version": "1.5.0",
          "model_name": "HBoxModel",
          "state": {
            "_dom_classes": [],
            "_model_module": "@jupyter-widgets/controls",
            "_model_module_version": "1.5.0",
            "_model_name": "HBoxModel",
            "_view_count": null,
            "_view_module": "@jupyter-widgets/controls",
            "_view_module_version": "1.5.0",
            "_view_name": "HBoxView",
            "box_style": "",
            "children": [
              "IPY_MODEL_9982492f74f6473599ba5da26cdc93c1",
              "IPY_MODEL_aa5165d95eac4012a7d41035e0486e8e",
              "IPY_MODEL_f55729e07ab245f19f50c34fa0ec03f2"
            ],
            "layout": "IPY_MODEL_80ee7940f0de4d9aa3abe7e7732f76a2"
          }
        },
        "4d197cd0a24045999a58a1e6536d1b2e": {
          "model_module": "@jupyter-widgets/controls",
          "model_module_version": "1.5.0",
          "model_name": "DescriptionStyleModel",
          "state": {
            "_model_module": "@jupyter-widgets/controls",
            "_model_module_version": "1.5.0",
            "_model_name": "DescriptionStyleModel",
            "_view_count": null,
            "_view_module": "@jupyter-widgets/base",
            "_view_module_version": "1.2.0",
            "_view_name": "StyleView",
            "description_width": ""
          }
        },
        "53ead17e3da84230965b30a3bda66e85": {
          "model_module": "@jupyter-widgets/controls",
          "model_module_version": "1.5.0",
          "model_name": "DescriptionStyleModel",
          "state": {
            "_model_module": "@jupyter-widgets/controls",
            "_model_module_version": "1.5.0",
            "_model_name": "DescriptionStyleModel",
            "_view_count": null,
            "_view_module": "@jupyter-widgets/base",
            "_view_module_version": "1.2.0",
            "_view_name": "StyleView",
            "description_width": ""
          }
        },
        "550bbfbc6d8241f7ab496408809e4b7d": {
          "model_module": "@jupyter-widgets/controls",
          "model_module_version": "1.5.0",
          "model_name": "HBoxModel",
          "state": {
            "_dom_classes": [],
            "_model_module": "@jupyter-widgets/controls",
            "_model_module_version": "1.5.0",
            "_model_name": "HBoxModel",
            "_view_count": null,
            "_view_module": "@jupyter-widgets/controls",
            "_view_module_version": "1.5.0",
            "_view_name": "HBoxView",
            "box_style": "",
            "children": [
              "IPY_MODEL_da479e320d5747e3b2f89b447e32ba1e",
              "IPY_MODEL_3876ad71503b460eac743f0428432c85",
              "IPY_MODEL_8adee05956d5430fbcfd202d2d08c3bb"
            ],
            "layout": "IPY_MODEL_6673823d209e47439e991153ad2be7ab"
          }
        },
        "62b2d7652d914405bf614e86a3b685e2": {
          "model_module": "@jupyter-widgets/controls",
          "model_module_version": "1.5.0",
          "model_name": "HTMLModel",
          "state": {
            "_dom_classes": [],
            "_model_module": "@jupyter-widgets/controls",
            "_model_module_version": "1.5.0",
            "_model_name": "HTMLModel",
            "_view_count": null,
            "_view_module": "@jupyter-widgets/controls",
            "_view_module_version": "1.5.0",
            "_view_name": "HTMLView",
            "description": "",
            "description_tooltip": null,
            "layout": "IPY_MODEL_b4942546aa4f49c0a6c13c278aca5a3d",
            "placeholder": "​",
            "style": "IPY_MODEL_4d197cd0a24045999a58a1e6536d1b2e",
            "value": "  0%"
          }
        },
        "656a56dddf3649fa931e80ac9741db30": {
          "model_module": "@jupyter-widgets/controls",
          "model_module_version": "1.5.0",
          "model_name": "HBoxModel",
          "state": {
            "_dom_classes": [],
            "_model_module": "@jupyter-widgets/controls",
            "_model_module_version": "1.5.0",
            "_model_name": "HBoxModel",
            "_view_count": null,
            "_view_module": "@jupyter-widgets/controls",
            "_view_module_version": "1.5.0",
            "_view_name": "HBoxView",
            "box_style": "",
            "children": [
              "IPY_MODEL_62b2d7652d914405bf614e86a3b685e2",
              "IPY_MODEL_9c7e56fd310a416ebd265a30adda6561",
              "IPY_MODEL_90cdb44304bf4e57ab271d1c3b523235"
            ],
            "layout": "IPY_MODEL_cb8e4af5e1444616a4dabdc476c92b09"
          }
        },
        "6583284ca4b74a9a875f5a25ad3caaa7": {
          "model_module": "@jupyter-widgets/controls",
          "model_module_version": "1.5.0",
          "model_name": "ProgressStyleModel",
          "state": {
            "_model_module": "@jupyter-widgets/controls",
            "_model_module_version": "1.5.0",
            "_model_name": "ProgressStyleModel",
            "_view_count": null,
            "_view_module": "@jupyter-widgets/base",
            "_view_module_version": "1.2.0",
            "_view_name": "StyleView",
            "bar_color": null,
            "description_width": ""
          }
        },
        "6673823d209e47439e991153ad2be7ab": {
          "model_module": "@jupyter-widgets/base",
          "model_module_version": "1.2.0",
          "model_name": "LayoutModel",
          "state": {
            "_model_module": "@jupyter-widgets/base",
            "_model_module_version": "1.2.0",
            "_model_name": "LayoutModel",
            "_view_count": null,
            "_view_module": "@jupyter-widgets/base",
            "_view_module_version": "1.2.0",
            "_view_name": "LayoutView",
            "align_content": null,
            "align_items": null,
            "align_self": null,
            "border": null,
            "bottom": null,
            "display": null,
            "flex": null,
            "flex_flow": null,
            "grid_area": null,
            "grid_auto_columns": null,
            "grid_auto_flow": null,
            "grid_auto_rows": null,
            "grid_column": null,
            "grid_gap": null,
            "grid_row": null,
            "grid_template_areas": null,
            "grid_template_columns": null,
            "grid_template_rows": null,
            "height": null,
            "justify_content": null,
            "justify_items": null,
            "left": null,
            "margin": null,
            "max_height": null,
            "max_width": null,
            "min_height": null,
            "min_width": null,
            "object_fit": null,
            "object_position": null,
            "order": null,
            "overflow": null,
            "overflow_x": null,
            "overflow_y": null,
            "padding": null,
            "right": null,
            "top": null,
            "visibility": null,
            "width": null
          }
        },
        "6ef0ce13e8564db0a1795c143534ea0a": {
          "model_module": "@jupyter-widgets/controls",
          "model_module_version": "1.5.0",
          "model_name": "ProgressStyleModel",
          "state": {
            "_model_module": "@jupyter-widgets/controls",
            "_model_module_version": "1.5.0",
            "_model_name": "ProgressStyleModel",
            "_view_count": null,
            "_view_module": "@jupyter-widgets/base",
            "_view_module_version": "1.2.0",
            "_view_name": "StyleView",
            "bar_color": null,
            "description_width": ""
          }
        },
        "7378f05a3b8646bbac790677ffbf2f2b": {
          "model_module": "@jupyter-widgets/base",
          "model_module_version": "1.2.0",
          "model_name": "LayoutModel",
          "state": {
            "_model_module": "@jupyter-widgets/base",
            "_model_module_version": "1.2.0",
            "_model_name": "LayoutModel",
            "_view_count": null,
            "_view_module": "@jupyter-widgets/base",
            "_view_module_version": "1.2.0",
            "_view_name": "LayoutView",
            "align_content": null,
            "align_items": null,
            "align_self": null,
            "border": null,
            "bottom": null,
            "display": null,
            "flex": null,
            "flex_flow": null,
            "grid_area": null,
            "grid_auto_columns": null,
            "grid_auto_flow": null,
            "grid_auto_rows": null,
            "grid_column": null,
            "grid_gap": null,
            "grid_row": null,
            "grid_template_areas": null,
            "grid_template_columns": null,
            "grid_template_rows": null,
            "height": null,
            "justify_content": null,
            "justify_items": null,
            "left": null,
            "margin": null,
            "max_height": null,
            "max_width": null,
            "min_height": null,
            "min_width": null,
            "object_fit": null,
            "object_position": null,
            "order": null,
            "overflow": null,
            "overflow_x": null,
            "overflow_y": null,
            "padding": null,
            "right": null,
            "top": null,
            "visibility": null,
            "width": null
          }
        },
        "743406ff7e4940c18766c10f063403ba": {
          "model_module": "@jupyter-widgets/base",
          "model_module_version": "1.2.0",
          "model_name": "LayoutModel",
          "state": {
            "_model_module": "@jupyter-widgets/base",
            "_model_module_version": "1.2.0",
            "_model_name": "LayoutModel",
            "_view_count": null,
            "_view_module": "@jupyter-widgets/base",
            "_view_module_version": "1.2.0",
            "_view_name": "LayoutView",
            "align_content": null,
            "align_items": null,
            "align_self": null,
            "border": null,
            "bottom": null,
            "display": null,
            "flex": null,
            "flex_flow": null,
            "grid_area": null,
            "grid_auto_columns": null,
            "grid_auto_flow": null,
            "grid_auto_rows": null,
            "grid_column": null,
            "grid_gap": null,
            "grid_row": null,
            "grid_template_areas": null,
            "grid_template_columns": null,
            "grid_template_rows": null,
            "height": null,
            "justify_content": null,
            "justify_items": null,
            "left": null,
            "margin": null,
            "max_height": null,
            "max_width": null,
            "min_height": null,
            "min_width": null,
            "object_fit": null,
            "object_position": null,
            "order": null,
            "overflow": null,
            "overflow_x": null,
            "overflow_y": null,
            "padding": null,
            "right": null,
            "top": null,
            "visibility": null,
            "width": null
          }
        },
        "79c1b74c9caa4fe0b241f9179c8c0a07": {
          "model_module": "@jupyter-widgets/controls",
          "model_module_version": "1.5.0",
          "model_name": "ProgressStyleModel",
          "state": {
            "_model_module": "@jupyter-widgets/controls",
            "_model_module_version": "1.5.0",
            "_model_name": "ProgressStyleModel",
            "_view_count": null,
            "_view_module": "@jupyter-widgets/base",
            "_view_module_version": "1.2.0",
            "_view_name": "StyleView",
            "bar_color": null,
            "description_width": ""
          }
        },
        "80ee7940f0de4d9aa3abe7e7732f76a2": {
          "model_module": "@jupyter-widgets/base",
          "model_module_version": "1.2.0",
          "model_name": "LayoutModel",
          "state": {
            "_model_module": "@jupyter-widgets/base",
            "_model_module_version": "1.2.0",
            "_model_name": "LayoutModel",
            "_view_count": null,
            "_view_module": "@jupyter-widgets/base",
            "_view_module_version": "1.2.0",
            "_view_name": "LayoutView",
            "align_content": null,
            "align_items": null,
            "align_self": null,
            "border": null,
            "bottom": null,
            "display": null,
            "flex": null,
            "flex_flow": null,
            "grid_area": null,
            "grid_auto_columns": null,
            "grid_auto_flow": null,
            "grid_auto_rows": null,
            "grid_column": null,
            "grid_gap": null,
            "grid_row": null,
            "grid_template_areas": null,
            "grid_template_columns": null,
            "grid_template_rows": null,
            "height": null,
            "justify_content": null,
            "justify_items": null,
            "left": null,
            "margin": null,
            "max_height": null,
            "max_width": null,
            "min_height": null,
            "min_width": null,
            "object_fit": null,
            "object_position": null,
            "order": null,
            "overflow": null,
            "overflow_x": null,
            "overflow_y": null,
            "padding": null,
            "right": null,
            "top": null,
            "visibility": null,
            "width": null
          }
        },
        "8adee05956d5430fbcfd202d2d08c3bb": {
          "model_module": "@jupyter-widgets/controls",
          "model_module_version": "1.5.0",
          "model_name": "HTMLModel",
          "state": {
            "_dom_classes": [],
            "_model_module": "@jupyter-widgets/controls",
            "_model_module_version": "1.5.0",
            "_model_name": "HTMLModel",
            "_view_count": null,
            "_view_module": "@jupyter-widgets/controls",
            "_view_module_version": "1.5.0",
            "_view_name": "HTMLView",
            "description": "",
            "description_tooltip": null,
            "layout": "IPY_MODEL_e05191af253d4f63969b24f9f74da246",
            "placeholder": "​",
            "style": "IPY_MODEL_1ef2cf6bec49440484977f844392a3e8",
            "value": " 445M/445M [00:21&lt;00:00, 22.4MB/s]"
          }
        },
        "90cdb44304bf4e57ab271d1c3b523235": {
          "model_module": "@jupyter-widgets/controls",
          "model_module_version": "1.5.0",
          "model_name": "HTMLModel",
          "state": {
            "_dom_classes": [],
            "_model_module": "@jupyter-widgets/controls",
            "_model_module_version": "1.5.0",
            "_model_name": "HTMLModel",
            "_view_count": null,
            "_view_module": "@jupyter-widgets/controls",
            "_view_module_version": "1.5.0",
            "_view_name": "HTMLView",
            "description": "",
            "description_tooltip": null,
            "layout": "IPY_MODEL_21b03eb252034b9d85c80d06bf62fc55",
            "placeholder": "​",
            "style": "IPY_MODEL_a7c23eec038d4a429c5b1c69ff2f42b8",
            "value": " 0/3632 [01:37&lt;?, ?it/s]"
          }
        },
        "93e6e33c7a424229a9100ffcc5e545c8": {
          "model_module": "@jupyter-widgets/base",
          "model_module_version": "1.2.0",
          "model_name": "LayoutModel",
          "state": {
            "_model_module": "@jupyter-widgets/base",
            "_model_module_version": "1.2.0",
            "_model_name": "LayoutModel",
            "_view_count": null,
            "_view_module": "@jupyter-widgets/base",
            "_view_module_version": "1.2.0",
            "_view_name": "LayoutView",
            "align_content": null,
            "align_items": null,
            "align_self": null,
            "border": null,
            "bottom": null,
            "display": null,
            "flex": null,
            "flex_flow": null,
            "grid_area": null,
            "grid_auto_columns": null,
            "grid_auto_flow": null,
            "grid_auto_rows": null,
            "grid_column": null,
            "grid_gap": null,
            "grid_row": null,
            "grid_template_areas": null,
            "grid_template_columns": null,
            "grid_template_rows": null,
            "height": null,
            "justify_content": null,
            "justify_items": null,
            "left": null,
            "margin": null,
            "max_height": null,
            "max_width": null,
            "min_height": null,
            "min_width": null,
            "object_fit": null,
            "object_position": null,
            "order": null,
            "overflow": null,
            "overflow_x": null,
            "overflow_y": null,
            "padding": null,
            "right": null,
            "top": null,
            "visibility": null,
            "width": null
          }
        },
        "9725a527eaaa40ba8459b5dd7bee9c84": {
          "model_module": "@jupyter-widgets/controls",
          "model_module_version": "1.5.0",
          "model_name": "FloatProgressModel",
          "state": {
            "_dom_classes": [],
            "_model_module": "@jupyter-widgets/controls",
            "_model_module_version": "1.5.0",
            "_model_name": "FloatProgressModel",
            "_view_count": null,
            "_view_module": "@jupyter-widgets/controls",
            "_view_module_version": "1.5.0",
            "_view_name": "ProgressView",
            "bar_style": "success",
            "description": "",
            "description_tooltip": null,
            "layout": "IPY_MODEL_a6d39d70ac6042359cf6e39058fbb793",
            "max": 262620,
            "min": 0,
            "orientation": "horizontal",
            "style": "IPY_MODEL_ded02c1a766a4f72b238c739d7a9e7e4",
            "value": 262620
          }
        },
        "987258e872524ec4804b23b6856ed579": {
          "model_module": "@jupyter-widgets/base",
          "model_module_version": "1.2.0",
          "model_name": "LayoutModel",
          "state": {
            "_model_module": "@jupyter-widgets/base",
            "_model_module_version": "1.2.0",
            "_model_name": "LayoutModel",
            "_view_count": null,
            "_view_module": "@jupyter-widgets/base",
            "_view_module_version": "1.2.0",
            "_view_name": "LayoutView",
            "align_content": null,
            "align_items": null,
            "align_self": null,
            "border": null,
            "bottom": null,
            "display": null,
            "flex": null,
            "flex_flow": null,
            "grid_area": null,
            "grid_auto_columns": null,
            "grid_auto_flow": null,
            "grid_auto_rows": null,
            "grid_column": null,
            "grid_gap": null,
            "grid_row": null,
            "grid_template_areas": null,
            "grid_template_columns": null,
            "grid_template_rows": null,
            "height": null,
            "justify_content": null,
            "justify_items": null,
            "left": null,
            "margin": null,
            "max_height": null,
            "max_width": null,
            "min_height": null,
            "min_width": null,
            "object_fit": null,
            "object_position": null,
            "order": null,
            "overflow": null,
            "overflow_x": null,
            "overflow_y": null,
            "padding": null,
            "right": null,
            "top": null,
            "visibility": null,
            "width": null
          }
        },
        "9982492f74f6473599ba5da26cdc93c1": {
          "model_module": "@jupyter-widgets/controls",
          "model_module_version": "1.5.0",
          "model_name": "HTMLModel",
          "state": {
            "_dom_classes": [],
            "_model_module": "@jupyter-widgets/controls",
            "_model_module_version": "1.5.0",
            "_model_name": "HTMLModel",
            "_view_count": null,
            "_view_module": "@jupyter-widgets/controls",
            "_view_module_version": "1.5.0",
            "_view_name": "HTMLView",
            "description": "",
            "description_tooltip": null,
            "layout": "IPY_MODEL_b2c144cfcada4a0fa67ad2e1c431c82e",
            "placeholder": "​",
            "style": "IPY_MODEL_b6ed46586d16410c9f4ef80baf3ec62a",
            "value": "Downloading (…)lve/main/config.json: 100%"
          }
        },
        "9c7e56fd310a416ebd265a30adda6561": {
          "model_module": "@jupyter-widgets/controls",
          "model_module_version": "1.5.0",
          "model_name": "FloatProgressModel",
          "state": {
            "_dom_classes": [],
            "_model_module": "@jupyter-widgets/controls",
            "_model_module_version": "1.5.0",
            "_model_name": "FloatProgressModel",
            "_view_count": null,
            "_view_module": "@jupyter-widgets/controls",
            "_view_module_version": "1.5.0",
            "_view_name": "ProgressView",
            "bar_style": "danger",
            "description": "",
            "description_tooltip": null,
            "layout": "IPY_MODEL_b1023e4a354d4735a99297dbf7d285b9",
            "max": 3632,
            "min": 0,
            "orientation": "horizontal",
            "style": "IPY_MODEL_6ef0ce13e8564db0a1795c143534ea0a",
            "value": 0
          }
        },
        "a250be4bf7364d9e812c7d058d1d0671": {
          "model_module": "@jupyter-widgets/controls",
          "model_module_version": "1.5.0",
          "model_name": "HBoxModel",
          "state": {
            "_dom_classes": [],
            "_model_module": "@jupyter-widgets/controls",
            "_model_module_version": "1.5.0",
            "_model_name": "HBoxModel",
            "_view_count": null,
            "_view_module": "@jupyter-widgets/controls",
            "_view_module_version": "1.5.0",
            "_view_name": "HBoxView",
            "box_style": "",
            "children": [
              "IPY_MODEL_c28903db5f814d1aa6df80d4213f518f",
              "IPY_MODEL_fa6add4e149449d1916a76255ab80531",
              "IPY_MODEL_bf539f1a435645ed8993c503cfcf7b38"
            ],
            "layout": "IPY_MODEL_93e6e33c7a424229a9100ffcc5e545c8"
          }
        },
        "a6d39d70ac6042359cf6e39058fbb793": {
          "model_module": "@jupyter-widgets/base",
          "model_module_version": "1.2.0",
          "model_name": "LayoutModel",
          "state": {
            "_model_module": "@jupyter-widgets/base",
            "_model_module_version": "1.2.0",
            "_model_name": "LayoutModel",
            "_view_count": null,
            "_view_module": "@jupyter-widgets/base",
            "_view_module_version": "1.2.0",
            "_view_name": "LayoutView",
            "align_content": null,
            "align_items": null,
            "align_self": null,
            "border": null,
            "bottom": null,
            "display": null,
            "flex": null,
            "flex_flow": null,
            "grid_area": null,
            "grid_auto_columns": null,
            "grid_auto_flow": null,
            "grid_auto_rows": null,
            "grid_column": null,
            "grid_gap": null,
            "grid_row": null,
            "grid_template_areas": null,
            "grid_template_columns": null,
            "grid_template_rows": null,
            "height": null,
            "justify_content": null,
            "justify_items": null,
            "left": null,
            "margin": null,
            "max_height": null,
            "max_width": null,
            "min_height": null,
            "min_width": null,
            "object_fit": null,
            "object_position": null,
            "order": null,
            "overflow": null,
            "overflow_x": null,
            "overflow_y": null,
            "padding": null,
            "right": null,
            "top": null,
            "visibility": null,
            "width": null
          }
        },
        "a7c23eec038d4a429c5b1c69ff2f42b8": {
          "model_module": "@jupyter-widgets/controls",
          "model_module_version": "1.5.0",
          "model_name": "DescriptionStyleModel",
          "state": {
            "_model_module": "@jupyter-widgets/controls",
            "_model_module_version": "1.5.0",
            "_model_name": "DescriptionStyleModel",
            "_view_count": null,
            "_view_module": "@jupyter-widgets/base",
            "_view_module_version": "1.2.0",
            "_view_name": "StyleView",
            "description_width": ""
          }
        },
        "a8251a6e14b94a0ba7e20b7fc39f17e2": {
          "model_module": "@jupyter-widgets/base",
          "model_module_version": "1.2.0",
          "model_name": "LayoutModel",
          "state": {
            "_model_module": "@jupyter-widgets/base",
            "_model_module_version": "1.2.0",
            "_model_name": "LayoutModel",
            "_view_count": null,
            "_view_module": "@jupyter-widgets/base",
            "_view_module_version": "1.2.0",
            "_view_name": "LayoutView",
            "align_content": null,
            "align_items": null,
            "align_self": null,
            "border": null,
            "bottom": null,
            "display": null,
            "flex": null,
            "flex_flow": null,
            "grid_area": null,
            "grid_auto_columns": null,
            "grid_auto_flow": null,
            "grid_auto_rows": null,
            "grid_column": null,
            "grid_gap": null,
            "grid_row": null,
            "grid_template_areas": null,
            "grid_template_columns": null,
            "grid_template_rows": null,
            "height": null,
            "justify_content": null,
            "justify_items": null,
            "left": null,
            "margin": null,
            "max_height": null,
            "max_width": null,
            "min_height": null,
            "min_width": null,
            "object_fit": null,
            "object_position": null,
            "order": null,
            "overflow": null,
            "overflow_x": null,
            "overflow_y": null,
            "padding": null,
            "right": null,
            "top": null,
            "visibility": null,
            "width": null
          }
        },
        "aa5165d95eac4012a7d41035e0486e8e": {
          "model_module": "@jupyter-widgets/controls",
          "model_module_version": "1.5.0",
          "model_name": "FloatProgressModel",
          "state": {
            "_dom_classes": [],
            "_model_module": "@jupyter-widgets/controls",
            "_model_module_version": "1.5.0",
            "_model_name": "FloatProgressModel",
            "_view_count": null,
            "_view_module": "@jupyter-widgets/controls",
            "_view_module_version": "1.5.0",
            "_view_name": "ProgressView",
            "bar_style": "success",
            "description": "",
            "description_tooltip": null,
            "layout": "IPY_MODEL_3e80dd0af5a24eaa929bba4b4bb9cda6",
            "max": 385,
            "min": 0,
            "orientation": "horizontal",
            "style": "IPY_MODEL_79c1b74c9caa4fe0b241f9179c8c0a07",
            "value": 385
          }
        },
        "acf318f5d86241f08f1b58de5cad79af": {
          "model_module": "@jupyter-widgets/controls",
          "model_module_version": "1.5.0",
          "model_name": "DescriptionStyleModel",
          "state": {
            "_model_module": "@jupyter-widgets/controls",
            "_model_module_version": "1.5.0",
            "_model_name": "DescriptionStyleModel",
            "_view_count": null,
            "_view_module": "@jupyter-widgets/base",
            "_view_module_version": "1.2.0",
            "_view_name": "StyleView",
            "description_width": ""
          }
        },
        "b1023e4a354d4735a99297dbf7d285b9": {
          "model_module": "@jupyter-widgets/base",
          "model_module_version": "1.2.0",
          "model_name": "LayoutModel",
          "state": {
            "_model_module": "@jupyter-widgets/base",
            "_model_module_version": "1.2.0",
            "_model_name": "LayoutModel",
            "_view_count": null,
            "_view_module": "@jupyter-widgets/base",
            "_view_module_version": "1.2.0",
            "_view_name": "LayoutView",
            "align_content": null,
            "align_items": null,
            "align_self": null,
            "border": null,
            "bottom": null,
            "display": null,
            "flex": null,
            "flex_flow": null,
            "grid_area": null,
            "grid_auto_columns": null,
            "grid_auto_flow": null,
            "grid_auto_rows": null,
            "grid_column": null,
            "grid_gap": null,
            "grid_row": null,
            "grid_template_areas": null,
            "grid_template_columns": null,
            "grid_template_rows": null,
            "height": null,
            "justify_content": null,
            "justify_items": null,
            "left": null,
            "margin": null,
            "max_height": null,
            "max_width": null,
            "min_height": null,
            "min_width": null,
            "object_fit": null,
            "object_position": null,
            "order": null,
            "overflow": null,
            "overflow_x": null,
            "overflow_y": null,
            "padding": null,
            "right": null,
            "top": null,
            "visibility": null,
            "width": null
          }
        },
        "b2c144cfcada4a0fa67ad2e1c431c82e": {
          "model_module": "@jupyter-widgets/base",
          "model_module_version": "1.2.0",
          "model_name": "LayoutModel",
          "state": {
            "_model_module": "@jupyter-widgets/base",
            "_model_module_version": "1.2.0",
            "_model_name": "LayoutModel",
            "_view_count": null,
            "_view_module": "@jupyter-widgets/base",
            "_view_module_version": "1.2.0",
            "_view_name": "LayoutView",
            "align_content": null,
            "align_items": null,
            "align_self": null,
            "border": null,
            "bottom": null,
            "display": null,
            "flex": null,
            "flex_flow": null,
            "grid_area": null,
            "grid_auto_columns": null,
            "grid_auto_flow": null,
            "grid_auto_rows": null,
            "grid_column": null,
            "grid_gap": null,
            "grid_row": null,
            "grid_template_areas": null,
            "grid_template_columns": null,
            "grid_template_rows": null,
            "height": null,
            "justify_content": null,
            "justify_items": null,
            "left": null,
            "margin": null,
            "max_height": null,
            "max_width": null,
            "min_height": null,
            "min_width": null,
            "object_fit": null,
            "object_position": null,
            "order": null,
            "overflow": null,
            "overflow_x": null,
            "overflow_y": null,
            "padding": null,
            "right": null,
            "top": null,
            "visibility": null,
            "width": null
          }
        },
        "b4942546aa4f49c0a6c13c278aca5a3d": {
          "model_module": "@jupyter-widgets/base",
          "model_module_version": "1.2.0",
          "model_name": "LayoutModel",
          "state": {
            "_model_module": "@jupyter-widgets/base",
            "_model_module_version": "1.2.0",
            "_model_name": "LayoutModel",
            "_view_count": null,
            "_view_module": "@jupyter-widgets/base",
            "_view_module_version": "1.2.0",
            "_view_name": "LayoutView",
            "align_content": null,
            "align_items": null,
            "align_self": null,
            "border": null,
            "bottom": null,
            "display": null,
            "flex": null,
            "flex_flow": null,
            "grid_area": null,
            "grid_auto_columns": null,
            "grid_auto_flow": null,
            "grid_auto_rows": null,
            "grid_column": null,
            "grid_gap": null,
            "grid_row": null,
            "grid_template_areas": null,
            "grid_template_columns": null,
            "grid_template_rows": null,
            "height": null,
            "justify_content": null,
            "justify_items": null,
            "left": null,
            "margin": null,
            "max_height": null,
            "max_width": null,
            "min_height": null,
            "min_width": null,
            "object_fit": null,
            "object_position": null,
            "order": null,
            "overflow": null,
            "overflow_x": null,
            "overflow_y": null,
            "padding": null,
            "right": null,
            "top": null,
            "visibility": null,
            "width": null
          }
        },
        "b6ed46586d16410c9f4ef80baf3ec62a": {
          "model_module": "@jupyter-widgets/controls",
          "model_module_version": "1.5.0",
          "model_name": "DescriptionStyleModel",
          "state": {
            "_model_module": "@jupyter-widgets/controls",
            "_model_module_version": "1.5.0",
            "_model_name": "DescriptionStyleModel",
            "_view_count": null,
            "_view_module": "@jupyter-widgets/base",
            "_view_module_version": "1.2.0",
            "_view_name": "StyleView",
            "description_width": ""
          }
        },
        "bf539f1a435645ed8993c503cfcf7b38": {
          "model_module": "@jupyter-widgets/controls",
          "model_module_version": "1.5.0",
          "model_name": "HTMLModel",
          "state": {
            "_dom_classes": [],
            "_model_module": "@jupyter-widgets/controls",
            "_model_module_version": "1.5.0",
            "_model_name": "HTMLModel",
            "_view_count": null,
            "_view_module": "@jupyter-widgets/controls",
            "_view_module_version": "1.5.0",
            "_view_name": "HTMLView",
            "description": "",
            "description_tooltip": null,
            "layout": "IPY_MODEL_15909f35032e48b7b0f9e383a65cce03",
            "placeholder": "​",
            "style": "IPY_MODEL_201fb867f671487e8b4049c7ed0cb30d",
            "value": " 59.0/59.0 [00:00&lt;00:00, 3.69kB/s]"
          }
        },
        "c28903db5f814d1aa6df80d4213f518f": {
          "model_module": "@jupyter-widgets/controls",
          "model_module_version": "1.5.0",
          "model_name": "HTMLModel",
          "state": {
            "_dom_classes": [],
            "_model_module": "@jupyter-widgets/controls",
            "_model_module_version": "1.5.0",
            "_model_name": "HTMLModel",
            "_view_count": null,
            "_view_module": "@jupyter-widgets/controls",
            "_view_module_version": "1.5.0",
            "_view_name": "HTMLView",
            "description": "",
            "description_tooltip": null,
            "layout": "IPY_MODEL_d09f1fd4696c468fb3ad57d33676b2f8",
            "placeholder": "​",
            "style": "IPY_MODEL_f97f16dda66d47ecb5e9ed938518b8cc",
            "value": "Downloading (…)okenizer_config.json: 100%"
          }
        },
        "cb543ae69aa548f18b166434d892352e": {
          "model_module": "@jupyter-widgets/base",
          "model_module_version": "1.2.0",
          "model_name": "LayoutModel",
          "state": {
            "_model_module": "@jupyter-widgets/base",
            "_model_module_version": "1.2.0",
            "_model_name": "LayoutModel",
            "_view_count": null,
            "_view_module": "@jupyter-widgets/base",
            "_view_module_version": "1.2.0",
            "_view_name": "LayoutView",
            "align_content": null,
            "align_items": null,
            "align_self": null,
            "border": null,
            "bottom": null,
            "display": null,
            "flex": null,
            "flex_flow": null,
            "grid_area": null,
            "grid_auto_columns": null,
            "grid_auto_flow": null,
            "grid_auto_rows": null,
            "grid_column": null,
            "grid_gap": null,
            "grid_row": null,
            "grid_template_areas": null,
            "grid_template_columns": null,
            "grid_template_rows": null,
            "height": null,
            "justify_content": null,
            "justify_items": null,
            "left": null,
            "margin": null,
            "max_height": null,
            "max_width": null,
            "min_height": null,
            "min_width": null,
            "object_fit": null,
            "object_position": null,
            "order": null,
            "overflow": null,
            "overflow_x": null,
            "overflow_y": null,
            "padding": null,
            "right": null,
            "top": null,
            "visibility": null,
            "width": null
          }
        },
        "cb8e4af5e1444616a4dabdc476c92b09": {
          "model_module": "@jupyter-widgets/base",
          "model_module_version": "1.2.0",
          "model_name": "LayoutModel",
          "state": {
            "_model_module": "@jupyter-widgets/base",
            "_model_module_version": "1.2.0",
            "_model_name": "LayoutModel",
            "_view_count": null,
            "_view_module": "@jupyter-widgets/base",
            "_view_module_version": "1.2.0",
            "_view_name": "LayoutView",
            "align_content": null,
            "align_items": null,
            "align_self": null,
            "border": null,
            "bottom": null,
            "display": null,
            "flex": null,
            "flex_flow": null,
            "grid_area": null,
            "grid_auto_columns": null,
            "grid_auto_flow": null,
            "grid_auto_rows": null,
            "grid_column": null,
            "grid_gap": null,
            "grid_row": null,
            "grid_template_areas": null,
            "grid_template_columns": null,
            "grid_template_rows": null,
            "height": null,
            "justify_content": null,
            "justify_items": null,
            "left": null,
            "margin": null,
            "max_height": null,
            "max_width": null,
            "min_height": null,
            "min_width": null,
            "object_fit": null,
            "object_position": null,
            "order": null,
            "overflow": null,
            "overflow_x": null,
            "overflow_y": null,
            "padding": null,
            "right": null,
            "top": null,
            "visibility": null,
            "width": null
          }
        },
        "d09f1fd4696c468fb3ad57d33676b2f8": {
          "model_module": "@jupyter-widgets/base",
          "model_module_version": "1.2.0",
          "model_name": "LayoutModel",
          "state": {
            "_model_module": "@jupyter-widgets/base",
            "_model_module_version": "1.2.0",
            "_model_name": "LayoutModel",
            "_view_count": null,
            "_view_module": "@jupyter-widgets/base",
            "_view_module_version": "1.2.0",
            "_view_name": "LayoutView",
            "align_content": null,
            "align_items": null,
            "align_self": null,
            "border": null,
            "bottom": null,
            "display": null,
            "flex": null,
            "flex_flow": null,
            "grid_area": null,
            "grid_auto_columns": null,
            "grid_auto_flow": null,
            "grid_auto_rows": null,
            "grid_column": null,
            "grid_gap": null,
            "grid_row": null,
            "grid_template_areas": null,
            "grid_template_columns": null,
            "grid_template_rows": null,
            "height": null,
            "justify_content": null,
            "justify_items": null,
            "left": null,
            "margin": null,
            "max_height": null,
            "max_width": null,
            "min_height": null,
            "min_width": null,
            "object_fit": null,
            "object_position": null,
            "order": null,
            "overflow": null,
            "overflow_x": null,
            "overflow_y": null,
            "padding": null,
            "right": null,
            "top": null,
            "visibility": null,
            "width": null
          }
        },
        "d40232387e644b7c93da2a3d1fa8227f": {
          "model_module": "@jupyter-widgets/controls",
          "model_module_version": "1.5.0",
          "model_name": "DescriptionStyleModel",
          "state": {
            "_model_module": "@jupyter-widgets/controls",
            "_model_module_version": "1.5.0",
            "_model_name": "DescriptionStyleModel",
            "_view_count": null,
            "_view_module": "@jupyter-widgets/base",
            "_view_module_version": "1.2.0",
            "_view_name": "StyleView",
            "description_width": ""
          }
        },
        "da479e320d5747e3b2f89b447e32ba1e": {
          "model_module": "@jupyter-widgets/controls",
          "model_module_version": "1.5.0",
          "model_name": "HTMLModel",
          "state": {
            "_dom_classes": [],
            "_model_module": "@jupyter-widgets/controls",
            "_model_module_version": "1.5.0",
            "_model_name": "HTMLModel",
            "_view_count": null,
            "_view_module": "@jupyter-widgets/controls",
            "_view_module_version": "1.5.0",
            "_view_name": "HTMLView",
            "description": "",
            "description_tooltip": null,
            "layout": "IPY_MODEL_cb543ae69aa548f18b166434d892352e",
            "placeholder": "​",
            "style": "IPY_MODEL_acf318f5d86241f08f1b58de5cad79af",
            "value": "Downloading (…)&quot;pytorch_model.bin&quot;;: 100%"
          }
        },
        "ded02c1a766a4f72b238c739d7a9e7e4": {
          "model_module": "@jupyter-widgets/controls",
          "model_module_version": "1.5.0",
          "model_name": "ProgressStyleModel",
          "state": {
            "_model_module": "@jupyter-widgets/controls",
            "_model_module_version": "1.5.0",
            "_model_name": "ProgressStyleModel",
            "_view_count": null,
            "_view_module": "@jupyter-widgets/base",
            "_view_module_version": "1.2.0",
            "_view_name": "StyleView",
            "bar_color": null,
            "description_width": ""
          }
        },
        "dfedbf921adb4d89b6820957691dde54": {
          "model_module": "@jupyter-widgets/controls",
          "model_module_version": "1.5.0",
          "model_name": "HTMLModel",
          "state": {
            "_dom_classes": [],
            "_model_module": "@jupyter-widgets/controls",
            "_model_module_version": "1.5.0",
            "_model_name": "HTMLModel",
            "_view_count": null,
            "_view_module": "@jupyter-widgets/controls",
            "_view_module_version": "1.5.0",
            "_view_name": "HTMLView",
            "description": "",
            "description_tooltip": null,
            "layout": "IPY_MODEL_a8251a6e14b94a0ba7e20b7fc39f17e2",
            "placeholder": "​",
            "style": "IPY_MODEL_d40232387e644b7c93da2a3d1fa8227f",
            "value": " 263k/263k [00:00&lt;00:00, 358kB/s]"
          }
        },
        "e05191af253d4f63969b24f9f74da246": {
          "model_module": "@jupyter-widgets/base",
          "model_module_version": "1.2.0",
          "model_name": "LayoutModel",
          "state": {
            "_model_module": "@jupyter-widgets/base",
            "_model_module_version": "1.2.0",
            "_model_name": "LayoutModel",
            "_view_count": null,
            "_view_module": "@jupyter-widgets/base",
            "_view_module_version": "1.2.0",
            "_view_name": "LayoutView",
            "align_content": null,
            "align_items": null,
            "align_self": null,
            "border": null,
            "bottom": null,
            "display": null,
            "flex": null,
            "flex_flow": null,
            "grid_area": null,
            "grid_auto_columns": null,
            "grid_auto_flow": null,
            "grid_auto_rows": null,
            "grid_column": null,
            "grid_gap": null,
            "grid_row": null,
            "grid_template_areas": null,
            "grid_template_columns": null,
            "grid_template_rows": null,
            "height": null,
            "justify_content": null,
            "justify_items": null,
            "left": null,
            "margin": null,
            "max_height": null,
            "max_width": null,
            "min_height": null,
            "min_width": null,
            "object_fit": null,
            "object_position": null,
            "order": null,
            "overflow": null,
            "overflow_x": null,
            "overflow_y": null,
            "padding": null,
            "right": null,
            "top": null,
            "visibility": null,
            "width": null
          }
        },
        "f55729e07ab245f19f50c34fa0ec03f2": {
          "model_module": "@jupyter-widgets/controls",
          "model_module_version": "1.5.0",
          "model_name": "HTMLModel",
          "state": {
            "_dom_classes": [],
            "_model_module": "@jupyter-widgets/controls",
            "_model_module_version": "1.5.0",
            "_model_name": "HTMLModel",
            "_view_count": null,
            "_view_module": "@jupyter-widgets/controls",
            "_view_module_version": "1.5.0",
            "_view_name": "HTMLView",
            "description": "",
            "description_tooltip": null,
            "layout": "IPY_MODEL_7378f05a3b8646bbac790677ffbf2f2b",
            "placeholder": "​",
            "style": "IPY_MODEL_53ead17e3da84230965b30a3bda66e85",
            "value": " 385/385 [00:00&lt;00:00, 18.4kB/s]"
          }
        },
        "f97f16dda66d47ecb5e9ed938518b8cc": {
          "model_module": "@jupyter-widgets/controls",
          "model_module_version": "1.5.0",
          "model_name": "DescriptionStyleModel",
          "state": {
            "_model_module": "@jupyter-widgets/controls",
            "_model_module_version": "1.5.0",
            "_model_name": "DescriptionStyleModel",
            "_view_count": null,
            "_view_module": "@jupyter-widgets/base",
            "_view_module_version": "1.2.0",
            "_view_name": "StyleView",
            "description_width": ""
          }
        },
        "fa6add4e149449d1916a76255ab80531": {
          "model_module": "@jupyter-widgets/controls",
          "model_module_version": "1.5.0",
          "model_name": "FloatProgressModel",
          "state": {
            "_dom_classes": [],
            "_model_module": "@jupyter-widgets/controls",
            "_model_module_version": "1.5.0",
            "_model_name": "FloatProgressModel",
            "_view_count": null,
            "_view_module": "@jupyter-widgets/controls",
            "_view_module_version": "1.5.0",
            "_view_name": "ProgressView",
            "bar_style": "success",
            "description": "",
            "description_tooltip": null,
            "layout": "IPY_MODEL_2791c1ec81d3450591e88db951ec2630",
            "max": 59,
            "min": 0,
            "orientation": "horizontal",
            "style": "IPY_MODEL_6583284ca4b74a9a875f5a25ad3caaa7",
            "value": 59
          }
        }
      }
    }
  },
  "nbformat": 4,
  "nbformat_minor": 0
}
